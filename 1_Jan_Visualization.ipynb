{
  "nbformat": 4,
  "nbformat_minor": 0,
  "metadata": {
    "accelerator": "TPU",
    "colab": {
      "name": "1_Jan_Visualization.ipynb",
      "provenance": [],
      "collapsed_sections": [],
      "include_colab_link": true
    },
    "kernelspec": {
      "display_name": "Python 3",
      "language": "python",
      "name": "python3"
    },
    "language_info": {
      "codemirror_mode": {
        "name": "ipython",
        "version": 3
      },
      "file_extension": ".py",
      "mimetype": "text/x-python",
      "name": "python",
      "nbconvert_exporter": "python",
      "pygments_lexer": "ipython3",
      "version": "3.6.10"
    }
  },
  "cells": [
    {
      "cell_type": "markdown",
      "metadata": {
        "id": "view-in-github",
        "colab_type": "text"
      },
      "source": [
        "<a href=\"https://colab.research.google.com/github/guptapawan227/Capstone_AIML/blob/Pawan/1_Jan_Visualization.ipynb\" target=\"_parent\"><img src=\"https://colab.research.google.com/assets/colab-badge.svg\" alt=\"Open In Colab\"/></a>"
      ]
    },
    {
      "cell_type": "markdown",
      "metadata": {
        "id": "XycWjq1YtXnI"
      },
      "source": [
        "Mounting Google Drive"
      ]
    },
    {
      "cell_type": "code",
      "metadata": {
        "colab": {
          "base_uri": "https://localhost:8080/"
        },
        "id": "-_AZpolni4uT",
        "outputId": "a5c8da61-300e-4adf-cd9c-89e3c6dca343"
      },
      "source": [
        "from google.colab import drive\n",
        "drive.mount('/content/drive/')"
      ],
      "execution_count": 2,
      "outputs": [
        {
          "output_type": "stream",
          "text": [
            "Mounted at /content/drive/\n"
          ],
          "name": "stdout"
        }
      ]
    },
    {
      "cell_type": "code",
      "metadata": {
        "colab": {
          "base_uri": "https://localhost:8080/"
        },
        "id": "IX79JvNILSQK",
        "outputId": "f324e59e-a61a-46f7-eb59-55ee90b4e39d"
      },
      "source": [
        "!pip3 install ftfy"
      ],
      "execution_count": 6,
      "outputs": [
        {
          "output_type": "stream",
          "text": [
            "Collecting ftfy\n",
            "\u001b[?25l  Downloading https://files.pythonhosted.org/packages/ff/e2/3b51c53dffb1e52d9210ebc01f1fb9f2f6eba9b3201fa971fd3946643c71/ftfy-5.8.tar.gz (64kB)\n",
            "\r\u001b[K     |█████▏                          | 10kB 14.8MB/s eta 0:00:01\r\u001b[K     |██████████▎                     | 20kB 20.6MB/s eta 0:00:01\r\u001b[K     |███████████████▍                | 30kB 11.2MB/s eta 0:00:01\r\u001b[K     |████████████████████▌           | 40kB 9.7MB/s eta 0:00:01\r\u001b[K     |█████████████████████████▋      | 51kB 5.1MB/s eta 0:00:01\r\u001b[K     |██████████████████████████████▊ | 61kB 4.9MB/s eta 0:00:01\r\u001b[K     |████████████████████████████████| 71kB 3.4MB/s \n",
            "\u001b[?25hRequirement already satisfied: wcwidth in /usr/local/lib/python3.6/dist-packages (from ftfy) (0.2.5)\n",
            "Building wheels for collected packages: ftfy\n",
            "  Building wheel for ftfy (setup.py) ... \u001b[?25l\u001b[?25hdone\n",
            "  Created wheel for ftfy: filename=ftfy-5.8-cp36-none-any.whl size=45613 sha256=57d8d36d4e6f9d8a0bae021bf69458ad68928408efad6954a6e358ced6a81d6f\n",
            "  Stored in directory: /root/.cache/pip/wheels/ba/c0/ef/f28c4da5ac84a4e06ac256ca9182fc34fa57fefffdbc68425b\n",
            "Successfully built ftfy\n",
            "Installing collected packages: ftfy\n",
            "Successfully installed ftfy-5.8\n"
          ],
          "name": "stdout"
        }
      ]
    },
    {
      "cell_type": "markdown",
      "metadata": {
        "id": "IeHuMI62tbyY"
      },
      "source": [
        "Importing Libraries"
      ]
    },
    {
      "cell_type": "code",
      "metadata": {
        "colab": {
          "base_uri": "https://localhost:8080/"
        },
        "id": "01_3Wr6nw-ee",
        "outputId": "273c36e9-b7d7-49fd-a4e2-4006b1d1f58a"
      },
      "source": [
        "# Using TensorFlow 1.x only in colab as found a issue with 2.3 version used by colab while working with DNN model fit. Did not observe any issue with Tensor flow 2.1 version on local jupyter enviornment.\n",
        "%tensorflow_version 1.x"
      ],
      "execution_count": 4,
      "outputs": [
        {
          "output_type": "stream",
          "text": [
            "TensorFlow 1.x selected.\n"
          ],
          "name": "stdout"
        }
      ]
    },
    {
      "cell_type": "code",
      "metadata": {
        "id": "GDYfqgy9q1p_"
      },
      "source": [
        "import pandas as pd \n",
        "import numpy as np \n",
        "import seaborn as sns\n",
        "import matplotlib.pyplot as plt\n",
        "import time, os, sys, itertools, re \n",
        "from PIL import Image\n",
        "import warnings, pickle, string\n",
        "from dateutil import parser\n",
        "%matplotlib inline\n",
        "\n",
        "# Data Visualization\n",
        "import cufflinks as cf\n",
        "import plotly as py\n",
        "import plotly.graph_objs as go\n",
        "from plotly.offline import download_plotlyjs,init_notebook_mode,plot,iplot\n",
        "import ftfy\n",
        "from ftfy import fix_text, badness\n",
        "from sklearn import tree\n",
        "# Traditional Modeling\n",
        "from sklearn.linear_model import LogisticRegression\n",
        "from sklearn.naive_bayes import MultinomialNB\n",
        "from sklearn.neighbors import KNeighborsClassifier\n",
        "from sklearn.pipeline import Pipeline\n",
        "from sklearn.feature_extraction.text import CountVectorizer, TfidfVectorizer, TfidfTransformer\n",
        "from sklearn.svm import SVC, LinearSVC\n",
        "from sklearn.tree import DecisionTreeClassifier\n",
        "from sklearn.ensemble import RandomForestClassifier\n",
        "\n",
        "# Sequential Modeling\n",
        "import keras.backend as K\n",
        "from keras.models import Sequential, Model\n",
        "from keras.layers.merge import Concatenate\n",
        "from keras.layers import Input, Dropout, Flatten, Dense, Embedding, LSTM, GRU\n",
        "from keras.layers import BatchNormalization, TimeDistributed, Conv1D, MaxPooling1D\n",
        "from keras.constraints import max_norm, unit_norm\n",
        "from keras.preprocessing.text import Tokenizer, text_to_word_sequence\n",
        "from keras.preprocessing.sequence import pad_sequences\n",
        "from keras.callbacks import EarlyStopping, ModelCheckpoint\n",
        "\n",
        "\n",
        "# Tools & Evaluation metrics\n",
        "from sklearn.metrics import confusion_matrix, classification_report, auc\n",
        "from sklearn.metrics import roc_curve, accuracy_score, precision_recall_curve\n",
        "from sklearn.feature_extraction.text import CountVectorizer\n",
        "from sklearn.model_selection import train_test_split"
      ],
      "execution_count": 109,
      "outputs": []
    },
    {
      "cell_type": "markdown",
      "metadata": {
        "id": "qjfS1VF6teuM"
      },
      "source": [
        "Reading the data from excel "
      ]
    },
    {
      "cell_type": "markdown",
      "metadata": {
        "id": "zBwzB1oFYRiQ"
      },
      "source": [
        "## Language Translation"
      ]
    },
    {
      "cell_type": "markdown",
      "metadata": {
        "id": "n795kT7hYjSo"
      },
      "source": [
        "#### Load the consolidated final translated pickle file which contains the language translations. The Process used for language translation is commented below"
      ]
    },
    {
      "cell_type": "code",
      "metadata": {
        "colab": {
          "base_uri": "https://localhost:8080/"
        },
        "id": "GR5NR19Ml_RX",
        "outputId": "df118c54-8ffe-48df-967c-05bf169ccb47"
      },
      "source": [
        "!pip install langdetect"
      ],
      "execution_count": 8,
      "outputs": [
        {
          "output_type": "stream",
          "text": [
            "Collecting langdetect\n",
            "\u001b[?25l  Downloading https://files.pythonhosted.org/packages/56/a3/8407c1e62d5980188b4acc45ef3d94b933d14a2ebc9ef3505f22cf772570/langdetect-1.0.8.tar.gz (981kB)\n",
            "\u001b[K     |████████████████████████████████| 983kB 3.9MB/s \n",
            "\u001b[?25hRequirement already satisfied: six in /usr/local/lib/python3.6/dist-packages (from langdetect) (1.15.0)\n",
            "Building wheels for collected packages: langdetect\n",
            "  Building wheel for langdetect (setup.py) ... \u001b[?25l\u001b[?25hdone\n",
            "  Created wheel for langdetect: filename=langdetect-1.0.8-cp36-none-any.whl size=993194 sha256=e28d19fb43ecba83ca7b4acc53f8ae74904666424399a92ffb6a39ec304d2410\n",
            "  Stored in directory: /root/.cache/pip/wheels/8d/b3/aa/6d99de9f3841d7d3d40a60ea06e6d669e8e5012e6c8b947a57\n",
            "Successfully built langdetect\n",
            "Installing collected packages: langdetect\n",
            "Successfully installed langdetect-1.0.8\n"
          ],
          "name": "stdout"
        }
      ]
    },
    {
      "cell_type": "markdown",
      "metadata": {
        "id": "WTZyoprphuPp"
      },
      "source": [
        "## Data Augmentation"
      ]
    },
    {
      "cell_type": "code",
      "metadata": {
        "id": "eJHVM5Fql_Rn"
      },
      "source": [
        "# Load the consolidated final translated pickle file \n",
        "#with open('/content/drive/MyDrive/Capstone_AIML_Pawan/Final_Augmented_data.pkl','rb') as f:\n",
        "with open('/content/drive/MyDrive/Capstone_AIML_Pawan/Interim_Augmented_data.pkl','rb') as f:\n",
        "    clean_data_result = pickle.load(f)"
      ],
      "execution_count": 9,
      "outputs": []
    },
    {
      "cell_type": "code",
      "metadata": {
        "id": "gtY9iC0el_Rn",
        "colab": {
          "base_uri": "https://localhost:8080/",
          "height": 419
        },
        "outputId": "17436ac9-9e48-46c1-b7a6-9530c1d6e99a"
      },
      "source": [
        "clean_data_result"
      ],
      "execution_count": 10,
      "outputs": [
        {
          "output_type": "execute_result",
          "data": {
            "text/html": [
              "<div>\n",
              "<style scoped>\n",
              "    .dataframe tbody tr th:only-of-type {\n",
              "        vertical-align: middle;\n",
              "    }\n",
              "\n",
              "    .dataframe tbody tr th {\n",
              "        vertical-align: top;\n",
              "    }\n",
              "\n",
              "    .dataframe thead th {\n",
              "        text-align: right;\n",
              "    }\n",
              "</style>\n",
              "<table border=\"1\" class=\"dataframe\">\n",
              "  <thead>\n",
              "    <tr style=\"text-align: right;\">\n",
              "      <th></th>\n",
              "      <th>Caller</th>\n",
              "      <th>Assignment group</th>\n",
              "      <th>language</th>\n",
              "      <th>Final_Text</th>\n",
              "    </tr>\n",
              "  </thead>\n",
              "  <tbody>\n",
              "    <tr>\n",
              "      <th>0</th>\n",
              "      <td>vrfpyjwi nzhvgqiw</td>\n",
              "      <td>GRP_24</td>\n",
              "      <td>de</td>\n",
              "      <td>hello however ' s happened again The PC has sa...</td>\n",
              "    </tr>\n",
              "    <tr>\n",
              "      <th>0</th>\n",
              "      <td>vrfpyjwi nzhvgqiw</td>\n",
              "      <td>GRP_24</td>\n",
              "      <td>de</td>\n",
              "      <td>Hello Ben Tige right Number Block Keyboard R L...</td>\n",
              "    </tr>\n",
              "    <tr>\n",
              "      <th>0</th>\n",
              "      <td>vrfpyjwi nzhvgqiw</td>\n",
              "      <td>GRP_24</td>\n",
              "      <td>de</td>\n",
              "      <td>Fyi by Axesnghb Cyzuomxa Sent Thursday 20 Ughz...</td>\n",
              "    </tr>\n",
              "    <tr>\n",
              "      <th>0</th>\n",
              "      <td>vrfpyjwi nzhvgqiw</td>\n",
              "      <td>GRP_24</td>\n",
              "      <td>de</td>\n",
              "      <td>After this IE browser opened the CRM it, even ...</td>\n",
              "    </tr>\n",
              "    <tr>\n",
              "      <th>1</th>\n",
              "      <td>lpnzjimy mwtvondq</td>\n",
              "      <td>GRP_25</td>\n",
              "      <td>de</td>\n",
              "      <td>Currents are change entered first following EU...</td>\n",
              "    </tr>\n",
              "    <tr>\n",
              "      <th>...</th>\n",
              "      <td>...</td>\n",
              "      <td>...</td>\n",
              "      <td>...</td>\n",
              "      <td>...</td>\n",
              "    </tr>\n",
              "    <tr>\n",
              "      <th>44</th>\n",
              "      <td>wgmqlnzh vpebwoat</td>\n",
              "      <td>GRP_30</td>\n",
              "      <td>zh-cn</td>\n",
              "      <td>The display does not appear in the morning. Di...</td>\n",
              "    </tr>\n",
              "    <tr>\n",
              "      <th>45</th>\n",
              "      <td>rtjwbuev gfpwdetq</td>\n",
              "      <td>GRP_31</td>\n",
              "      <td>zh-cn</td>\n",
              "      <td>The prtsid _- file cannot be printed to the pr...</td>\n",
              "    </tr>\n",
              "    <tr>\n",
              "      <th>46</th>\n",
              "      <td>fupikdoa gjkytoeh</td>\n",
              "      <td>GRP_48</td>\n",
              "      <td>zh-cn</td>\n",
              "      <td>The online delivery unit provided by the custo...</td>\n",
              "    </tr>\n",
              "    <tr>\n",
              "      <th>47</th>\n",
              "      <td>kyagjxdh dmtjpbnz</td>\n",
              "      <td>GRP_30</td>\n",
              "      <td>zh-cn</td>\n",
              "      <td>Show \"Data from the employee, please notify th...</td>\n",
              "    </tr>\n",
              "    <tr>\n",
              "      <th>48</th>\n",
              "      <td>xqyjztnm onfusvlz</td>\n",
              "      <td>GRP_30</td>\n",
              "      <td>zh-cn</td>\n",
              "      <td>To small congratulations, the computer does no...</td>\n",
              "    </tr>\n",
              "  </tbody>\n",
              "</table>\n",
              "<p>27993 rows × 4 columns</p>\n",
              "</div>"
            ],
            "text/plain": [
              "               Caller  ...                                         Final_Text\n",
              "0   vrfpyjwi nzhvgqiw  ...  hello however ' s happened again The PC has sa...\n",
              "0   vrfpyjwi nzhvgqiw  ...  Hello Ben Tige right Number Block Keyboard R L...\n",
              "0   vrfpyjwi nzhvgqiw  ...  Fyi by Axesnghb Cyzuomxa Sent Thursday 20 Ughz...\n",
              "0   vrfpyjwi nzhvgqiw  ...  After this IE browser opened the CRM it, even ...\n",
              "1   lpnzjimy mwtvondq  ...  Currents are change entered first following EU...\n",
              "..                ...  ...                                                ...\n",
              "44  wgmqlnzh vpebwoat  ...  The display does not appear in the morning. Di...\n",
              "45  rtjwbuev gfpwdetq  ...  The prtsid _- file cannot be printed to the pr...\n",
              "46  fupikdoa gjkytoeh  ...  The online delivery unit provided by the custo...\n",
              "47  kyagjxdh dmtjpbnz  ...  Show \"Data from the employee, please notify th...\n",
              "48  xqyjztnm onfusvlz  ...  To small congratulations, the computer does no...\n",
              "\n",
              "[27993 rows x 4 columns]"
            ]
          },
          "metadata": {
            "tags": []
          },
          "execution_count": 10
        }
      ]
    },
    {
      "cell_type": "markdown",
      "metadata": {
        "id": "UzxDdWyMBsjT"
      },
      "source": [
        "## Stop words removal and Lemmatise text"
      ]
    },
    {
      "cell_type": "code",
      "metadata": {
        "id": "vSfE-xBvrFaY",
        "colab": {
          "base_uri": "https://localhost:8080/"
        },
        "outputId": "12f257bf-2464-4d27-c09e-f29dade02166"
      },
      "source": [
        "clean_data_result.isnull().sum()"
      ],
      "execution_count": 11,
      "outputs": [
        {
          "output_type": "execute_result",
          "data": {
            "text/plain": [
              "Caller              0\n",
              "Assignment group    0\n",
              "language            0\n",
              "Final_Text          0\n",
              "dtype: int64"
            ]
          },
          "metadata": {
            "tags": []
          },
          "execution_count": 11
        }
      ]
    },
    {
      "cell_type": "code",
      "metadata": {
        "id": "45rNIDGvBsjU",
        "colab": {
          "base_uri": "https://localhost:8080/"
        },
        "outputId": "e01e101d-b505-4684-d819-816a25fb17a3"
      },
      "source": [
        "import re\n",
        "import string\n",
        "import nltk\n",
        "nltk.download('stopwords')\n",
        "nltk.download('punkt')\n",
        "from nltk.tokenize import word_tokenize\n",
        "from nltk.corpus import stopwords\n",
        "from nltk.stem import WordNetLemmatizer\n",
        "\n",
        "stop_words = set(stopwords.words('english')) \n",
        "\n",
        "processed_all_documents = list()\n",
        "\n",
        "for desc in clean_data_result['Final_Text']:\n",
        "    word_tokens = word_tokenize(desc) \n",
        "    \n",
        "    filtered_sentence = [] \n",
        "\n",
        "    # Removing Stopwords\n",
        "    for w in word_tokens: \n",
        "        if w not in stop_words: \n",
        "            filtered_sentence.append(w) \n",
        "\n",
        "    words = ' '.join(filtered_sentence)\n",
        "    processed_all_documents.append(words)  "
      ],
      "execution_count": 12,
      "outputs": [
        {
          "output_type": "stream",
          "text": [
            "[nltk_data] Downloading package stopwords to /root/nltk_data...\n",
            "[nltk_data]   Unzipping corpora/stopwords.zip.\n",
            "[nltk_data] Downloading package punkt to /root/nltk_data...\n",
            "[nltk_data]   Unzipping tokenizers/punkt.zip.\n"
          ],
          "name": "stdout"
        }
      ]
    },
    {
      "cell_type": "code",
      "metadata": {
        "id": "9Dh0hMMrrFaZ"
      },
      "source": [
        "clean_data_result['Final_Text'] = processed_all_documents"
      ],
      "execution_count": 13,
      "outputs": []
    },
    {
      "cell_type": "code",
      "metadata": {
        "id": "xn4waA6MBsjU",
        "colab": {
          "base_uri": "https://localhost:8080/",
          "height": 1000
        },
        "outputId": "523f56e7-4a7f-476f-f9b1-4a093d1424ac"
      },
      "source": [
        "clean_data_result.head(50)"
      ],
      "execution_count": 14,
      "outputs": [
        {
          "output_type": "execute_result",
          "data": {
            "text/html": [
              "<div>\n",
              "<style scoped>\n",
              "    .dataframe tbody tr th:only-of-type {\n",
              "        vertical-align: middle;\n",
              "    }\n",
              "\n",
              "    .dataframe tbody tr th {\n",
              "        vertical-align: top;\n",
              "    }\n",
              "\n",
              "    .dataframe thead th {\n",
              "        text-align: right;\n",
              "    }\n",
              "</style>\n",
              "<table border=\"1\" class=\"dataframe\">\n",
              "  <thead>\n",
              "    <tr style=\"text-align: right;\">\n",
              "      <th></th>\n",
              "      <th>Caller</th>\n",
              "      <th>Assignment group</th>\n",
              "      <th>language</th>\n",
              "      <th>Final_Text</th>\n",
              "    </tr>\n",
              "  </thead>\n",
              "  <tbody>\n",
              "    <tr>\n",
              "      <th>0</th>\n",
              "      <td>vrfpyjwi nzhvgqiw</td>\n",
              "      <td>GRP_24</td>\n",
              "      <td>de</td>\n",
              "      <td>hello however ' happened The PC saw titled rep...</td>\n",
              "    </tr>\n",
              "    <tr>\n",
              "      <th>0</th>\n",
              "      <td>vrfpyjwi nzhvgqiw</td>\n",
              "      <td>GRP_24</td>\n",
              "      <td>de</td>\n",
              "      <td>Hello Ben Tige right Number Block Keyboard R L...</td>\n",
              "    </tr>\n",
              "    <tr>\n",
              "      <th>0</th>\n",
              "      <td>vrfpyjwi nzhvgqiw</td>\n",
              "      <td>GRP_24</td>\n",
              "      <td>de</td>\n",
              "      <td>Fyi Axesnghb Cyzuomxa Sent Thursday 20 Ughzilf...</td>\n",
              "    </tr>\n",
              "    <tr>\n",
              "      <th>0</th>\n",
              "      <td>vrfpyjwi nzhvgqiw</td>\n",
              "      <td>GRP_24</td>\n",
              "      <td>de</td>\n",
              "      <td>After IE browser opened CRM , even prompted us...</td>\n",
              "    </tr>\n",
              "    <tr>\n",
              "      <th>1</th>\n",
              "      <td>lpnzjimy mwtvondq</td>\n",
              "      <td>GRP_25</td>\n",
              "      <td>de</td>\n",
              "      <td>Currents change entered first following EU Too...</td>\n",
              "    </tr>\n",
              "    <tr>\n",
              "      <th>1</th>\n",
              "      <td>lpnzjimy mwtvondq</td>\n",
              "      <td>GRP_25</td>\n",
              "      <td>de</td>\n",
              "      <td>Change Cable VGA Jionmpsf WnkpZcmv Cable VGA R...</td>\n",
              "    </tr>\n",
              "    <tr>\n",
              "      <th>1</th>\n",
              "      <td>lpnzjimy mwtvondq</td>\n",
              "      <td>GRP_25</td>\n",
              "      <td>de</td>\n",
              "      <td>Message Error could - information Hostname No ...</td>\n",
              "    </tr>\n",
              "    <tr>\n",
              "      <th>1</th>\n",
              "      <td>lpnzjimy mwtvondq</td>\n",
              "      <td>GRP_25</td>\n",
              "      <td>de</td>\n",
              "      <td>When open tokyo sales order , electronic `` Cr...</td>\n",
              "    </tr>\n",
              "    <tr>\n",
              "      <th>2</th>\n",
              "      <td>tbioceqj ukjietwz</td>\n",
              "      <td>GRP_33</td>\n",
              "      <td>de</td>\n",
              "      <td>Automatic data processing supposed ak-47 data ...</td>\n",
              "    </tr>\n",
              "    <tr>\n",
              "      <th>2</th>\n",
              "      <td>tbioceqj ukjietwz</td>\n",
              "      <td>GRP_33</td>\n",
              "      <td>de</td>\n",
              "      <td>Hello requires Ahmet K material stamp makes pr...</td>\n",
              "    </tr>\n",
              "    <tr>\n",
              "      <th>2</th>\n",
              "      <td>tbioceqj ukjietwz</td>\n",
              "      <td>GRP_33</td>\n",
              "      <td>de</td>\n",
              "      <td>No sound phone sound phone</td>\n",
              "    </tr>\n",
              "    <tr>\n",
              "      <th>3</th>\n",
              "      <td>bfqnvezs vwkasnxe</td>\n",
              "      <td>GRP_24</td>\n",
              "      <td>de</td>\n",
              "      <td>Incorrect formatting PDF BfQnvezs VWKasnxe unf...</td>\n",
              "    </tr>\n",
              "    <tr>\n",
              "      <th>3</th>\n",
              "      <td>bfqnvezs vwkasnxe</td>\n",
              "      <td>GRP_24</td>\n",
              "      <td>de</td>\n",
              "      <td>Attendance system ' ready , please deal hello ...</td>\n",
              "    </tr>\n",
              "    <tr>\n",
              "      <th>4</th>\n",
              "      <td>wrcktgbd wzrgyunp</td>\n",
              "      <td>GRP_24</td>\n",
              "      <td>de</td>\n",
              "      <td>Old EQ maybe start wrecktgbd wzrgyunp Old EQ p...</td>\n",
              "    </tr>\n",
              "    <tr>\n",
              "      <th>4</th>\n",
              "      <td>wrcktgbd wzrgyunp</td>\n",
              "      <td>GRP_24</td>\n",
              "      <td>de</td>\n",
              "      <td>At service ISO K nnen EU Tool collected would ...</td>\n",
              "    </tr>\n",
              "    <tr>\n",
              "      <th>4</th>\n",
              "      <td>wrcktgbd wzrgyunp</td>\n",
              "      <td>GRP_24</td>\n",
              "      <td>de</td>\n",
              "      <td>User Forgot makes password , causing account l...</td>\n",
              "    </tr>\n",
              "    <tr>\n",
              "      <th>5</th>\n",
              "      <td>qrmbywzv mnvdcuhj</td>\n",
              "      <td>GRP_28</td>\n",
              "      <td>de</td>\n",
              "      <td>Training room newyork-presbyterian system give...</td>\n",
              "    </tr>\n",
              "    <tr>\n",
              "      <th>5</th>\n",
              "      <td>qrmbywzv mnvdcuhj</td>\n",
              "      <td>GRP_28</td>\n",
              "      <td>de</td>\n",
              "      <td>User account tries , request unlock account lo...</td>\n",
              "    </tr>\n",
              "    <tr>\n",
              "      <th>6</th>\n",
              "      <td>jyoqwxhz clhxsoqy</td>\n",
              "      <td>GRP_1</td>\n",
              "      <td>en</td>\n",
              "      <td>event : critical : HostName_ . 's . com value ...</td>\n",
              "    </tr>\n",
              "    <tr>\n",
              "      <th>6</th>\n",
              "      <td>jyoqwxhz clhxsoqy</td>\n",
              "      <td>GRP_1</td>\n",
              "      <td>en</td>\n",
              "      <td>EU Tool Updating qi quantity EU Tool Update li...</td>\n",
              "    </tr>\n",
              "    <tr>\n",
              "      <th>6</th>\n",
              "      <td>jyoqwxhz clhxsoqy</td>\n",
              "      <td>GRP_1</td>\n",
              "      <td>en</td>\n",
              "      <td>Problems bonus baccalaureate Print EAODCGSW TR...</td>\n",
              "    </tr>\n",
              "    <tr>\n",
              "      <th>6</th>\n",
              "      <td>jyoqwxhz clhxsoqy</td>\n",
              "      <td>GRP_1</td>\n",
              "      <td>en</td>\n",
              "      <td>hello telephone available saw following link b...</td>\n",
              "    </tr>\n",
              "    <tr>\n",
              "      <th>6</th>\n",
              "      <td>jyoqwxhz clhxsoqy</td>\n",
              "      <td>GRP_1</td>\n",
              "      <td>en</td>\n",
              "      <td>The garbage consumer . - / + Batch number - Pr...</td>\n",
              "    </tr>\n",
              "    <tr>\n",
              "      <th>7</th>\n",
              "      <td>qmwhlnev ixtmkwdc</td>\n",
              "      <td>GRP_33</td>\n",
              "      <td>de</td>\n",
              "      <td>hello please anyone thank happens calendar mtq...</td>\n",
              "    </tr>\n",
              "    <tr>\n",
              "      <th>7</th>\n",
              "      <td>qmwhlnev ixtmkwdc</td>\n",
              "      <td>GRP_33</td>\n",
              "      <td>de</td>\n",
              "      <td>tells sure others laboratory allows RFA Analys...</td>\n",
              "    </tr>\n",
              "    <tr>\n",
              "      <th>7</th>\n",
              "      <td>qmwhlnev ixtmkwdc</td>\n",
              "      <td>GRP_33</td>\n",
              "      <td>de</td>\n",
              "      <td>BARCODESCANNER TO EEMW DEFECT Please replace P...</td>\n",
              "    </tr>\n",
              "    <tr>\n",
              "      <th>7</th>\n",
              "      <td>qmwhlnev ixtmkwdc</td>\n",
              "      <td>GRP_33</td>\n",
              "      <td>de</td>\n",
              "      <td>Problems behind shift planning XPugntjv zcaerm...</td>\n",
              "    </tr>\n",
              "    <tr>\n",
              "      <th>7</th>\n",
              "      <td>qmwhlnev ixtmkwdc</td>\n",
              "      <td>GRP_33</td>\n",
              "      <td>de</td>\n",
              "      <td>After user starts , black array , host burst b...</td>\n",
              "    </tr>\n",
              "    <tr>\n",
              "      <th>8</th>\n",
              "      <td>tigwlquj evynjiar</td>\n",
              "      <td>GRP_33</td>\n",
              "      <td>de</td>\n",
              "      <td>Label printer WK longer longer photograph anym...</td>\n",
              "    </tr>\n",
              "    <tr>\n",
              "      <th>8</th>\n",
              "      <td>tigwlquj evynjiar</td>\n",
              "      <td>GRP_33</td>\n",
              "      <td>de</td>\n",
              "      <td>I though access meant security hard drive PC a...</td>\n",
              "    </tr>\n",
              "    <tr>\n",
              "      <th>8</th>\n",
              "      <td>tigwlquj evynjiar</td>\n",
              "      <td>GRP_33</td>\n",
              "      <td>de</td>\n",
              "      <td>Problems packaged department TMQFJard QZHGDOUA...</td>\n",
              "    </tr>\n",
              "    <tr>\n",
              "      <th>8</th>\n",
              "      <td>tigwlquj evynjiar</td>\n",
              "      <td>GRP_33</td>\n",
              "      <td>de</td>\n",
              "      <td>Computer login firewall Forgot , activate fire...</td>\n",
              "    </tr>\n",
              "    <tr>\n",
              "      <th>9</th>\n",
              "      <td>egbziufw syzpgchf</td>\n",
              "      <td>GRP_2</td>\n",
              "      <td>de</td>\n",
              "      <td>Data downloaded The fire present 24-hour hard ...</td>\n",
              "    </tr>\n",
              "    <tr>\n",
              "      <th>9</th>\n",
              "      <td>egbziufw syzpgchf</td>\n",
              "      <td>GRP_2</td>\n",
              "      <td>de</td>\n",
              "      <td>Halo The printer causing stress printing Pleas...</td>\n",
              "    </tr>\n",
              "    <tr>\n",
              "      <th>9</th>\n",
              "      <td>egbziufw syzpgchf</td>\n",
              "      <td>GRP_2</td>\n",
              "      <td>de</td>\n",
              "      <td>Problems specially management HowFanzi SiavgtB...</td>\n",
              "    </tr>\n",
              "    <tr>\n",
              "      <th>9</th>\n",
              "      <td>egbziufw syzpgchf</td>\n",
              "      <td>GRP_2</td>\n",
              "      <td>de</td>\n",
              "      <td>Measuring apparatus Alkoana PDF file symptoms ...</td>\n",
              "    </tr>\n",
              "    <tr>\n",
              "      <th>9</th>\n",
              "      <td>egbziufw syzpgchf</td>\n",
              "      <td>GRP_2</td>\n",
              "      <td>de</td>\n",
              "      <td>HP hot issued data transfer card , data update...</td>\n",
              "    </tr>\n",
              "    <tr>\n",
              "      <th>10</th>\n",
              "      <td>dkinobsv wymgzcrh</td>\n",
              "      <td>GRP_28</td>\n",
              "      <td>de</td>\n",
              "      <td>ERP provided everyone could trains Beamer REOP...</td>\n",
              "    </tr>\n",
              "    <tr>\n",
              "      <th>10</th>\n",
              "      <td>dkinobsv wymgzcrh</td>\n",
              "      <td>GRP_28</td>\n",
              "      <td>de</td>\n",
              "      <td>Please click tabs Write editors submit The sta...</td>\n",
              "    </tr>\n",
              "    <tr>\n",
              "      <th>10</th>\n",
              "      <td>dkinobsv wymgzcrh</td>\n",
              "      <td>GRP_28</td>\n",
              "      <td>de</td>\n",
              "      <td>Computer hard stops nobody , request repair . ...</td>\n",
              "    </tr>\n",
              "    <tr>\n",
              "      <th>11</th>\n",
              "      <td>ukvlnrwb fiyeczmh</td>\n",
              "      <td>GRP_42</td>\n",
              "      <td>de</td>\n",
              "      <td>PC Eemw printer set PC EEMW two ibm stoppage p...</td>\n",
              "    </tr>\n",
              "    <tr>\n",
              "      <th>11</th>\n",
              "      <td>ukvlnrwb fiyeczmh</td>\n",
              "      <td>GRP_42</td>\n",
              "      <td>de</td>\n",
              "      <td>erp team need update report zpd upload time er...</td>\n",
              "    </tr>\n",
              "    <tr>\n",
              "      <th>11</th>\n",
              "      <td>ukvlnrwb fiyeczmh</td>\n",
              "      <td>GRP_42</td>\n",
              "      <td>de</td>\n",
              "      <td>The clicks followed , prompts innovate new sta...</td>\n",
              "    </tr>\n",
              "    <tr>\n",
              "      <th>12</th>\n",
              "      <td>vepxdgot poezmwny</td>\n",
              "      <td>GRP_24</td>\n",
              "      <td>de</td>\n",
              "      <td>Bookband swapping printer nothing vepxdgot poe...</td>\n",
              "    </tr>\n",
              "    <tr>\n",
              "      <th>12</th>\n",
              "      <td>vepxdgot poezmwny</td>\n",
              "      <td>GRP_24</td>\n",
              "      <td>de</td>\n",
              "      <td>EU Tool WS EWEW give instance JIONMPSF WNKPZCM...</td>\n",
              "    </tr>\n",
              "    <tr>\n",
              "      <th>12</th>\n",
              "      <td>vepxdgot poezmwny</td>\n",
              "      <td>GRP_24</td>\n",
              "      <td>de</td>\n",
              "      <td>Printer EM Ms. Zeilmann defective The fake poe...</td>\n",
              "    </tr>\n",
              "    <tr>\n",
              "      <th>12</th>\n",
              "      <td>vepxdgot poezmwny</td>\n",
              "      <td>GRP_24</td>\n",
              "      <td>de</td>\n",
              "      <td>Databases without used yet PC previously rejoi...</td>\n",
              "    </tr>\n",
              "    <tr>\n",
              "      <th>12</th>\n",
              "      <td>vepxdgot poezmwny</td>\n",
              "      <td>GRP_24</td>\n",
              "      <td>de</td>\n",
              "      <td>After ERP system logged , purchasing page alwa...</td>\n",
              "    </tr>\n",
              "    <tr>\n",
              "      <th>13</th>\n",
              "      <td>txkgmwbc qohmgwrp</td>\n",
              "      <td>GRP_33</td>\n",
              "      <td>de</td>\n",
              "      <td>Telephone Gigaset Ex Professional Tel D could ...</td>\n",
              "    </tr>\n",
              "    <tr>\n",
              "      <th>13</th>\n",
              "      <td>txkgmwbc qohmgwrp</td>\n",
              "      <td>GRP_33</td>\n",
              "      <td>de</td>\n",
              "      <td>Hello along fold PDF Files Engineering Tool le...</td>\n",
              "    </tr>\n",
              "  </tbody>\n",
              "</table>\n",
              "</div>"
            ],
            "text/plain": [
              "               Caller  ...                                         Final_Text\n",
              "0   vrfpyjwi nzhvgqiw  ...  hello however ' happened The PC saw titled rep...\n",
              "0   vrfpyjwi nzhvgqiw  ...  Hello Ben Tige right Number Block Keyboard R L...\n",
              "0   vrfpyjwi nzhvgqiw  ...  Fyi Axesnghb Cyzuomxa Sent Thursday 20 Ughzilf...\n",
              "0   vrfpyjwi nzhvgqiw  ...  After IE browser opened CRM , even prompted us...\n",
              "1   lpnzjimy mwtvondq  ...  Currents change entered first following EU Too...\n",
              "1   lpnzjimy mwtvondq  ...  Change Cable VGA Jionmpsf WnkpZcmv Cable VGA R...\n",
              "1   lpnzjimy mwtvondq  ...  Message Error could - information Hostname No ...\n",
              "1   lpnzjimy mwtvondq  ...  When open tokyo sales order , electronic `` Cr...\n",
              "2   tbioceqj ukjietwz  ...  Automatic data processing supposed ak-47 data ...\n",
              "2   tbioceqj ukjietwz  ...  Hello requires Ahmet K material stamp makes pr...\n",
              "2   tbioceqj ukjietwz  ...                         No sound phone sound phone\n",
              "3   bfqnvezs vwkasnxe  ...  Incorrect formatting PDF BfQnvezs VWKasnxe unf...\n",
              "3   bfqnvezs vwkasnxe  ...  Attendance system ' ready , please deal hello ...\n",
              "4   wrcktgbd wzrgyunp  ...  Old EQ maybe start wrecktgbd wzrgyunp Old EQ p...\n",
              "4   wrcktgbd wzrgyunp  ...  At service ISO K nnen EU Tool collected would ...\n",
              "4   wrcktgbd wzrgyunp  ...  User Forgot makes password , causing account l...\n",
              "5   qrmbywzv mnvdcuhj  ...  Training room newyork-presbyterian system give...\n",
              "5   qrmbywzv mnvdcuhj  ...  User account tries , request unlock account lo...\n",
              "6   jyoqwxhz clhxsoqy  ...  event : critical : HostName_ . 's . com value ...\n",
              "6   jyoqwxhz clhxsoqy  ...  EU Tool Updating qi quantity EU Tool Update li...\n",
              "6   jyoqwxhz clhxsoqy  ...  Problems bonus baccalaureate Print EAODCGSW TR...\n",
              "6   jyoqwxhz clhxsoqy  ...  hello telephone available saw following link b...\n",
              "6   jyoqwxhz clhxsoqy  ...  The garbage consumer . - / + Batch number - Pr...\n",
              "7   qmwhlnev ixtmkwdc  ...  hello please anyone thank happens calendar mtq...\n",
              "7   qmwhlnev ixtmkwdc  ...  tells sure others laboratory allows RFA Analys...\n",
              "7   qmwhlnev ixtmkwdc  ...  BARCODESCANNER TO EEMW DEFECT Please replace P...\n",
              "7   qmwhlnev ixtmkwdc  ...  Problems behind shift planning XPugntjv zcaerm...\n",
              "7   qmwhlnev ixtmkwdc  ...  After user starts , black array , host burst b...\n",
              "8   tigwlquj evynjiar  ...  Label printer WK longer longer photograph anym...\n",
              "8   tigwlquj evynjiar  ...  I though access meant security hard drive PC a...\n",
              "8   tigwlquj evynjiar  ...  Problems packaged department TMQFJard QZHGDOUA...\n",
              "8   tigwlquj evynjiar  ...  Computer login firewall Forgot , activate fire...\n",
              "9   egbziufw syzpgchf  ...  Data downloaded The fire present 24-hour hard ...\n",
              "9   egbziufw syzpgchf  ...  Halo The printer causing stress printing Pleas...\n",
              "9   egbziufw syzpgchf  ...  Problems specially management HowFanzi SiavgtB...\n",
              "9   egbziufw syzpgchf  ...  Measuring apparatus Alkoana PDF file symptoms ...\n",
              "9   egbziufw syzpgchf  ...  HP hot issued data transfer card , data update...\n",
              "10  dkinobsv wymgzcrh  ...  ERP provided everyone could trains Beamer REOP...\n",
              "10  dkinobsv wymgzcrh  ...  Please click tabs Write editors submit The sta...\n",
              "10  dkinobsv wymgzcrh  ...  Computer hard stops nobody , request repair . ...\n",
              "11  ukvlnrwb fiyeczmh  ...  PC Eemw printer set PC EEMW two ibm stoppage p...\n",
              "11  ukvlnrwb fiyeczmh  ...  erp team need update report zpd upload time er...\n",
              "11  ukvlnrwb fiyeczmh  ...  The clicks followed , prompts innovate new sta...\n",
              "12  vepxdgot poezmwny  ...  Bookband swapping printer nothing vepxdgot poe...\n",
              "12  vepxdgot poezmwny  ...  EU Tool WS EWEW give instance JIONMPSF WNKPZCM...\n",
              "12  vepxdgot poezmwny  ...  Printer EM Ms. Zeilmann defective The fake poe...\n",
              "12  vepxdgot poezmwny  ...  Databases without used yet PC previously rejoi...\n",
              "12  vepxdgot poezmwny  ...  After ERP system logged , purchasing page alwa...\n",
              "13  txkgmwbc qohmgwrp  ...  Telephone Gigaset Ex Professional Tel D could ...\n",
              "13  txkgmwbc qohmgwrp  ...  Hello along fold PDF Files Engineering Tool le...\n",
              "\n",
              "[50 rows x 4 columns]"
            ]
          },
          "metadata": {
            "tags": []
          },
          "execution_count": 14
        }
      ]
    },
    {
      "cell_type": "code",
      "metadata": {
        "id": "UZ7s9d10EWG8",
        "colab": {
          "base_uri": "https://localhost:8080/",
          "height": 419
        },
        "outputId": "57e8876f-e548-4c7d-cea9-37d372c8f734"
      },
      "source": [
        "clean_data_result.dropna()"
      ],
      "execution_count": 16,
      "outputs": [
        {
          "output_type": "execute_result",
          "data": {
            "text/html": [
              "<div>\n",
              "<style scoped>\n",
              "    .dataframe tbody tr th:only-of-type {\n",
              "        vertical-align: middle;\n",
              "    }\n",
              "\n",
              "    .dataframe tbody tr th {\n",
              "        vertical-align: top;\n",
              "    }\n",
              "\n",
              "    .dataframe thead th {\n",
              "        text-align: right;\n",
              "    }\n",
              "</style>\n",
              "<table border=\"1\" class=\"dataframe\">\n",
              "  <thead>\n",
              "    <tr style=\"text-align: right;\">\n",
              "      <th></th>\n",
              "      <th>Caller</th>\n",
              "      <th>Assignment group</th>\n",
              "      <th>language</th>\n",
              "      <th>Final_Text</th>\n",
              "    </tr>\n",
              "  </thead>\n",
              "  <tbody>\n",
              "    <tr>\n",
              "      <th>0</th>\n",
              "      <td>vrfpyjwi nzhvgqiw</td>\n",
              "      <td>GRP_24</td>\n",
              "      <td>de</td>\n",
              "      <td>hello however ' happened The PC saw titled rep...</td>\n",
              "    </tr>\n",
              "    <tr>\n",
              "      <th>0</th>\n",
              "      <td>vrfpyjwi nzhvgqiw</td>\n",
              "      <td>GRP_24</td>\n",
              "      <td>de</td>\n",
              "      <td>Hello Ben Tige right Number Block Keyboard R L...</td>\n",
              "    </tr>\n",
              "    <tr>\n",
              "      <th>0</th>\n",
              "      <td>vrfpyjwi nzhvgqiw</td>\n",
              "      <td>GRP_24</td>\n",
              "      <td>de</td>\n",
              "      <td>Fyi Axesnghb Cyzuomxa Sent Thursday 20 Ughzilf...</td>\n",
              "    </tr>\n",
              "    <tr>\n",
              "      <th>0</th>\n",
              "      <td>vrfpyjwi nzhvgqiw</td>\n",
              "      <td>GRP_24</td>\n",
              "      <td>de</td>\n",
              "      <td>After IE browser opened CRM , even prompted us...</td>\n",
              "    </tr>\n",
              "    <tr>\n",
              "      <th>1</th>\n",
              "      <td>lpnzjimy mwtvondq</td>\n",
              "      <td>GRP_25</td>\n",
              "      <td>de</td>\n",
              "      <td>Currents change entered first following EU Too...</td>\n",
              "    </tr>\n",
              "    <tr>\n",
              "      <th>...</th>\n",
              "      <td>...</td>\n",
              "      <td>...</td>\n",
              "      <td>...</td>\n",
              "      <td>...</td>\n",
              "    </tr>\n",
              "    <tr>\n",
              "      <th>44</th>\n",
              "      <td>wgmqlnzh vpebwoat</td>\n",
              "      <td>GRP_30</td>\n",
              "      <td>zh-cn</td>\n",
              "      <td>The display appear morning . Display light</td>\n",
              "    </tr>\n",
              "    <tr>\n",
              "      <th>45</th>\n",
              "      <td>rtjwbuev gfpwdetq</td>\n",
              "      <td>GRP_31</td>\n",
              "      <td>zh-cn</td>\n",
              "      <td>The prtsid _- file printed printer , prompting...</td>\n",
              "    </tr>\n",
              "    <tr>\n",
              "      <th>46</th>\n",
              "      <td>fupikdoa gjkytoeh</td>\n",
              "      <td>GRP_48</td>\n",
              "      <td>zh-cn</td>\n",
              "      <td>The online delivery unit provided customer ca ...</td>\n",
              "    </tr>\n",
              "    <tr>\n",
              "      <th>47</th>\n",
              "      <td>kyagjxdh dmtjpbnz</td>\n",
              "      <td>GRP_30</td>\n",
              "      <td>zh-cn</td>\n",
              "      <td>Show `` Data employee , please notify system a...</td>\n",
              "    </tr>\n",
              "    <tr>\n",
              "      <th>48</th>\n",
              "      <td>xqyjztnm onfusvlz</td>\n",
              "      <td>GRP_30</td>\n",
              "      <td>zh-cn</td>\n",
              "      <td>To small congratulations , computer open compu...</td>\n",
              "    </tr>\n",
              "  </tbody>\n",
              "</table>\n",
              "<p>27993 rows × 4 columns</p>\n",
              "</div>"
            ],
            "text/plain": [
              "               Caller  ...                                         Final_Text\n",
              "0   vrfpyjwi nzhvgqiw  ...  hello however ' happened The PC saw titled rep...\n",
              "0   vrfpyjwi nzhvgqiw  ...  Hello Ben Tige right Number Block Keyboard R L...\n",
              "0   vrfpyjwi nzhvgqiw  ...  Fyi Axesnghb Cyzuomxa Sent Thursday 20 Ughzilf...\n",
              "0   vrfpyjwi nzhvgqiw  ...  After IE browser opened CRM , even prompted us...\n",
              "1   lpnzjimy mwtvondq  ...  Currents change entered first following EU Too...\n",
              "..                ...  ...                                                ...\n",
              "44  wgmqlnzh vpebwoat  ...         The display appear morning . Display light\n",
              "45  rtjwbuev gfpwdetq  ...  The prtsid _- file printed printer , prompting...\n",
              "46  fupikdoa gjkytoeh  ...  The online delivery unit provided customer ca ...\n",
              "47  kyagjxdh dmtjpbnz  ...  Show `` Data employee , please notify system a...\n",
              "48  xqyjztnm onfusvlz  ...  To small congratulations , computer open compu...\n",
              "\n",
              "[27993 rows x 4 columns]"
            ]
          },
          "metadata": {
            "tags": []
          },
          "execution_count": 16
        }
      ]
    },
    {
      "cell_type": "code",
      "metadata": {
        "id": "T8YU9JQqEWG8",
        "colab": {
          "base_uri": "https://localhost:8080/"
        },
        "outputId": "75881316-dbec-47e8-fa11-e5816caabd73"
      },
      "source": [
        "clean_data_result.isnull().sum()"
      ],
      "execution_count": 17,
      "outputs": [
        {
          "output_type": "execute_result",
          "data": {
            "text/plain": [
              "Caller              0\n",
              "Assignment group    0\n",
              "language            0\n",
              "Final_Text          0\n",
              "dtype: int64"
            ]
          },
          "metadata": {
            "tags": []
          },
          "execution_count": 17
        }
      ]
    },
    {
      "cell_type": "code",
      "metadata": {
        "id": "EWJN-ekLBsjU",
        "scrolled": true,
        "colab": {
          "base_uri": "https://localhost:8080/"
        },
        "outputId": "20e8a788-3e89-4b50-a7e5-74e05f239a38"
      },
      "source": [
        "#Lemmatisation using spacy library\n",
        "!pip install spacy"
      ],
      "execution_count": 18,
      "outputs": [
        {
          "output_type": "stream",
          "text": [
            "Requirement already satisfied: spacy in /usr/local/lib/python3.6/dist-packages (2.2.4)\n",
            "Requirement already satisfied: catalogue<1.1.0,>=0.0.7 in /usr/local/lib/python3.6/dist-packages (from spacy) (1.0.0)\n",
            "Requirement already satisfied: murmurhash<1.1.0,>=0.28.0 in /usr/local/lib/python3.6/dist-packages (from spacy) (1.0.5)\n",
            "Requirement already satisfied: thinc==7.4.0 in /usr/local/lib/python3.6/dist-packages (from spacy) (7.4.0)\n",
            "Requirement already satisfied: blis<0.5.0,>=0.4.0 in /usr/local/lib/python3.6/dist-packages (from spacy) (0.4.1)\n",
            "Requirement already satisfied: wasabi<1.1.0,>=0.4.0 in /usr/local/lib/python3.6/dist-packages (from spacy) (0.8.0)\n",
            "Requirement already satisfied: numpy>=1.15.0 in /usr/local/lib/python3.6/dist-packages (from spacy) (1.19.4)\n",
            "Requirement already satisfied: requests<3.0.0,>=2.13.0 in /usr/local/lib/python3.6/dist-packages (from spacy) (2.23.0)\n",
            "Requirement already satisfied: srsly<1.1.0,>=1.0.2 in /usr/local/lib/python3.6/dist-packages (from spacy) (1.0.5)\n",
            "Requirement already satisfied: tqdm<5.0.0,>=4.38.0 in /usr/local/lib/python3.6/dist-packages (from spacy) (4.41.1)\n",
            "Requirement already satisfied: preshed<3.1.0,>=3.0.2 in /usr/local/lib/python3.6/dist-packages (from spacy) (3.0.5)\n",
            "Requirement already satisfied: cymem<2.1.0,>=2.0.2 in /usr/local/lib/python3.6/dist-packages (from spacy) (2.0.5)\n",
            "Requirement already satisfied: plac<1.2.0,>=0.9.6 in /usr/local/lib/python3.6/dist-packages (from spacy) (1.1.3)\n",
            "Requirement already satisfied: setuptools in /usr/local/lib/python3.6/dist-packages (from spacy) (51.0.0)\n",
            "Requirement already satisfied: importlib-metadata>=0.20; python_version < \"3.8\" in /usr/local/lib/python3.6/dist-packages (from catalogue<1.1.0,>=0.0.7->spacy) (3.3.0)\n",
            "Requirement already satisfied: urllib3!=1.25.0,!=1.25.1,<1.26,>=1.21.1 in /usr/local/lib/python3.6/dist-packages (from requests<3.0.0,>=2.13.0->spacy) (1.24.3)\n",
            "Requirement already satisfied: chardet<4,>=3.0.2 in /usr/local/lib/python3.6/dist-packages (from requests<3.0.0,>=2.13.0->spacy) (3.0.4)\n",
            "Requirement already satisfied: certifi>=2017.4.17 in /usr/local/lib/python3.6/dist-packages (from requests<3.0.0,>=2.13.0->spacy) (2020.12.5)\n",
            "Requirement already satisfied: idna<3,>=2.5 in /usr/local/lib/python3.6/dist-packages (from requests<3.0.0,>=2.13.0->spacy) (2.10)\n",
            "Requirement already satisfied: zipp>=0.5 in /usr/local/lib/python3.6/dist-packages (from importlib-metadata>=0.20; python_version < \"3.8\"->catalogue<1.1.0,>=0.0.7->spacy) (3.4.0)\n",
            "Requirement already satisfied: typing-extensions>=3.6.4; python_version < \"3.8\" in /usr/local/lib/python3.6/dist-packages (from importlib-metadata>=0.20; python_version < \"3.8\"->catalogue<1.1.0,>=0.0.7->spacy) (3.7.4.3)\n"
          ],
          "name": "stdout"
        }
      ]
    },
    {
      "cell_type": "code",
      "metadata": {
        "id": "WeoMfBEBBsjU",
        "colab": {
          "base_uri": "https://localhost:8080/"
        },
        "outputId": "efe70a75-c06c-465f-c0b3-eb7e78198952"
      },
      "source": [
        "!pip install https://github.com/explosion/spacy-models/releases/download/en_core_web_sm-2.3.1/en_core_web_sm-2.3.1.tar.gz"
      ],
      "execution_count": 19,
      "outputs": [
        {
          "output_type": "stream",
          "text": [
            "Collecting https://github.com/explosion/spacy-models/releases/download/en_core_web_sm-2.3.1/en_core_web_sm-2.3.1.tar.gz\n",
            "\u001b[?25l  Downloading https://github.com/explosion/spacy-models/releases/download/en_core_web_sm-2.3.1/en_core_web_sm-2.3.1.tar.gz (12.0MB)\n",
            "\u001b[K     |████████████████████████████████| 12.1MB 1.2MB/s \n",
            "\u001b[?25hCollecting spacy<2.4.0,>=2.3.0\n",
            "\u001b[?25l  Downloading https://files.pythonhosted.org/packages/e5/bf/ca7bb25edd21f1cf9d498d0023808279672a664a70585e1962617ca2740c/spacy-2.3.5-cp36-cp36m-manylinux2014_x86_64.whl (10.4MB)\n",
            "\u001b[K     |████████████████████████████████| 10.4MB 4.7MB/s \n",
            "\u001b[?25hRequirement already satisfied: requests<3.0.0,>=2.13.0 in /usr/local/lib/python3.6/dist-packages (from spacy<2.4.0,>=2.3.0->en-core-web-sm==2.3.1) (2.23.0)\n",
            "Requirement already satisfied: preshed<3.1.0,>=3.0.2 in /usr/local/lib/python3.6/dist-packages (from spacy<2.4.0,>=2.3.0->en-core-web-sm==2.3.1) (3.0.5)\n",
            "Requirement already satisfied: blis<0.8.0,>=0.4.0 in /usr/local/lib/python3.6/dist-packages (from spacy<2.4.0,>=2.3.0->en-core-web-sm==2.3.1) (0.4.1)\n",
            "Requirement already satisfied: numpy>=1.15.0 in /usr/local/lib/python3.6/dist-packages (from spacy<2.4.0,>=2.3.0->en-core-web-sm==2.3.1) (1.19.4)\n",
            "Requirement already satisfied: tqdm<5.0.0,>=4.38.0 in /usr/local/lib/python3.6/dist-packages (from spacy<2.4.0,>=2.3.0->en-core-web-sm==2.3.1) (4.41.1)\n",
            "Collecting thinc<7.5.0,>=7.4.1\n",
            "\u001b[?25l  Downloading https://files.pythonhosted.org/packages/c0/1a/c3e4ab982214c63d743fad57c45c5e68ee49e4ea4384d27b28595a26ad26/thinc-7.4.5-cp36-cp36m-manylinux2014_x86_64.whl (1.1MB)\n",
            "\u001b[K     |████████████████████████████████| 1.1MB 34.4MB/s \n",
            "\u001b[?25hRequirement already satisfied: catalogue<1.1.0,>=0.0.7 in /usr/local/lib/python3.6/dist-packages (from spacy<2.4.0,>=2.3.0->en-core-web-sm==2.3.1) (1.0.0)\n",
            "Requirement already satisfied: murmurhash<1.1.0,>=0.28.0 in /usr/local/lib/python3.6/dist-packages (from spacy<2.4.0,>=2.3.0->en-core-web-sm==2.3.1) (1.0.5)\n",
            "Requirement already satisfied: srsly<1.1.0,>=1.0.2 in /usr/local/lib/python3.6/dist-packages (from spacy<2.4.0,>=2.3.0->en-core-web-sm==2.3.1) (1.0.5)\n",
            "Requirement already satisfied: setuptools in /usr/local/lib/python3.6/dist-packages (from spacy<2.4.0,>=2.3.0->en-core-web-sm==2.3.1) (51.0.0)\n",
            "Requirement already satisfied: cymem<2.1.0,>=2.0.2 in /usr/local/lib/python3.6/dist-packages (from spacy<2.4.0,>=2.3.0->en-core-web-sm==2.3.1) (2.0.5)\n",
            "Requirement already satisfied: wasabi<1.1.0,>=0.4.0 in /usr/local/lib/python3.6/dist-packages (from spacy<2.4.0,>=2.3.0->en-core-web-sm==2.3.1) (0.8.0)\n",
            "Requirement already satisfied: plac<1.2.0,>=0.9.6 in /usr/local/lib/python3.6/dist-packages (from spacy<2.4.0,>=2.3.0->en-core-web-sm==2.3.1) (1.1.3)\n",
            "Requirement already satisfied: idna<3,>=2.5 in /usr/local/lib/python3.6/dist-packages (from requests<3.0.0,>=2.13.0->spacy<2.4.0,>=2.3.0->en-core-web-sm==2.3.1) (2.10)\n",
            "Requirement already satisfied: chardet<4,>=3.0.2 in /usr/local/lib/python3.6/dist-packages (from requests<3.0.0,>=2.13.0->spacy<2.4.0,>=2.3.0->en-core-web-sm==2.3.1) (3.0.4)\n",
            "Requirement already satisfied: certifi>=2017.4.17 in /usr/local/lib/python3.6/dist-packages (from requests<3.0.0,>=2.13.0->spacy<2.4.0,>=2.3.0->en-core-web-sm==2.3.1) (2020.12.5)\n",
            "Requirement already satisfied: urllib3!=1.25.0,!=1.25.1,<1.26,>=1.21.1 in /usr/local/lib/python3.6/dist-packages (from requests<3.0.0,>=2.13.0->spacy<2.4.0,>=2.3.0->en-core-web-sm==2.3.1) (1.24.3)\n",
            "Requirement already satisfied: importlib-metadata>=0.20; python_version < \"3.8\" in /usr/local/lib/python3.6/dist-packages (from catalogue<1.1.0,>=0.0.7->spacy<2.4.0,>=2.3.0->en-core-web-sm==2.3.1) (3.3.0)\n",
            "Requirement already satisfied: zipp>=0.5 in /usr/local/lib/python3.6/dist-packages (from importlib-metadata>=0.20; python_version < \"3.8\"->catalogue<1.1.0,>=0.0.7->spacy<2.4.0,>=2.3.0->en-core-web-sm==2.3.1) (3.4.0)\n",
            "Requirement already satisfied: typing-extensions>=3.6.4; python_version < \"3.8\" in /usr/local/lib/python3.6/dist-packages (from importlib-metadata>=0.20; python_version < \"3.8\"->catalogue<1.1.0,>=0.0.7->spacy<2.4.0,>=2.3.0->en-core-web-sm==2.3.1) (3.7.4.3)\n",
            "Building wheels for collected packages: en-core-web-sm\n",
            "  Building wheel for en-core-web-sm (setup.py) ... \u001b[?25l\u001b[?25hdone\n",
            "  Created wheel for en-core-web-sm: filename=en_core_web_sm-2.3.1-cp36-none-any.whl size=12047109 sha256=b1d2ddc1f5c0aaadfa37c15d9213923db1f2c6c07d68dd092d1a6881f4b02c55\n",
            "  Stored in directory: /root/.cache/pip/wheels/2b/3f/41/f0b92863355c3ba34bb32b37d8a0c662959da0058202094f46\n",
            "Successfully built en-core-web-sm\n",
            "Installing collected packages: thinc, spacy, en-core-web-sm\n",
            "  Found existing installation: thinc 7.4.0\n",
            "    Uninstalling thinc-7.4.0:\n",
            "      Successfully uninstalled thinc-7.4.0\n",
            "  Found existing installation: spacy 2.2.4\n",
            "    Uninstalling spacy-2.2.4:\n",
            "      Successfully uninstalled spacy-2.2.4\n",
            "  Found existing installation: en-core-web-sm 2.2.5\n",
            "    Uninstalling en-core-web-sm-2.2.5:\n",
            "      Successfully uninstalled en-core-web-sm-2.2.5\n",
            "Successfully installed en-core-web-sm-2.3.1 spacy-2.3.5 thinc-7.4.5\n"
          ],
          "name": "stdout"
        }
      ]
    },
    {
      "cell_type": "code",
      "metadata": {
        "id": "7HWRcbMrrOgn",
        "colab": {
          "base_uri": "https://localhost:8080/"
        },
        "outputId": "7a6af8ff-ec48-40b8-f32f-bd45ecb2276b"
      },
      "source": [
        "!pip3 install spacy"
      ],
      "execution_count": 20,
      "outputs": [
        {
          "output_type": "stream",
          "text": [
            "Requirement already satisfied: spacy in /usr/local/lib/python3.6/dist-packages (2.3.5)\n",
            "Requirement already satisfied: preshed<3.1.0,>=3.0.2 in /usr/local/lib/python3.6/dist-packages (from spacy) (3.0.5)\n",
            "Requirement already satisfied: murmurhash<1.1.0,>=0.28.0 in /usr/local/lib/python3.6/dist-packages (from spacy) (1.0.5)\n",
            "Requirement already satisfied: catalogue<1.1.0,>=0.0.7 in /usr/local/lib/python3.6/dist-packages (from spacy) (1.0.0)\n",
            "Requirement already satisfied: tqdm<5.0.0,>=4.38.0 in /usr/local/lib/python3.6/dist-packages (from spacy) (4.41.1)\n",
            "Requirement already satisfied: numpy>=1.15.0 in /usr/local/lib/python3.6/dist-packages (from spacy) (1.19.4)\n",
            "Requirement already satisfied: setuptools in /usr/local/lib/python3.6/dist-packages (from spacy) (51.0.0)\n",
            "Requirement already satisfied: cymem<2.1.0,>=2.0.2 in /usr/local/lib/python3.6/dist-packages (from spacy) (2.0.5)\n",
            "Requirement already satisfied: srsly<1.1.0,>=1.0.2 in /usr/local/lib/python3.6/dist-packages (from spacy) (1.0.5)\n",
            "Requirement already satisfied: plac<1.2.0,>=0.9.6 in /usr/local/lib/python3.6/dist-packages (from spacy) (1.1.3)\n",
            "Requirement already satisfied: requests<3.0.0,>=2.13.0 in /usr/local/lib/python3.6/dist-packages (from spacy) (2.23.0)\n",
            "Requirement already satisfied: blis<0.8.0,>=0.4.0 in /usr/local/lib/python3.6/dist-packages (from spacy) (0.4.1)\n",
            "Requirement already satisfied: thinc<7.5.0,>=7.4.1 in /usr/local/lib/python3.6/dist-packages (from spacy) (7.4.5)\n",
            "Requirement already satisfied: wasabi<1.1.0,>=0.4.0 in /usr/local/lib/python3.6/dist-packages (from spacy) (0.8.0)\n",
            "Requirement already satisfied: importlib-metadata>=0.20; python_version < \"3.8\" in /usr/local/lib/python3.6/dist-packages (from catalogue<1.1.0,>=0.0.7->spacy) (3.3.0)\n",
            "Requirement already satisfied: urllib3!=1.25.0,!=1.25.1,<1.26,>=1.21.1 in /usr/local/lib/python3.6/dist-packages (from requests<3.0.0,>=2.13.0->spacy) (1.24.3)\n",
            "Requirement already satisfied: idna<3,>=2.5 in /usr/local/lib/python3.6/dist-packages (from requests<3.0.0,>=2.13.0->spacy) (2.10)\n",
            "Requirement already satisfied: certifi>=2017.4.17 in /usr/local/lib/python3.6/dist-packages (from requests<3.0.0,>=2.13.0->spacy) (2020.12.5)\n",
            "Requirement already satisfied: chardet<4,>=3.0.2 in /usr/local/lib/python3.6/dist-packages (from requests<3.0.0,>=2.13.0->spacy) (3.0.4)\n",
            "Requirement already satisfied: typing-extensions>=3.6.4; python_version < \"3.8\" in /usr/local/lib/python3.6/dist-packages (from importlib-metadata>=0.20; python_version < \"3.8\"->catalogue<1.1.0,>=0.0.7->spacy) (3.7.4.3)\n",
            "Requirement already satisfied: zipp>=0.5 in /usr/local/lib/python3.6/dist-packages (from importlib-metadata>=0.20; python_version < \"3.8\"->catalogue<1.1.0,>=0.0.7->spacy) (3.4.0)\n"
          ],
          "name": "stdout"
        }
      ]
    },
    {
      "cell_type": "code",
      "metadata": {
        "id": "UAGj1FplBsjV"
      },
      "source": [
        "# Need to run \"python -m spacy download en\" in anaconda prompt to avoid 'en' not found issue."
      ],
      "execution_count": 21,
      "outputs": []
    },
    {
      "cell_type": "code",
      "metadata": {
        "id": "5Pxl8SyyBsjV"
      },
      "source": [
        "import spacy\n",
        "\n",
        "nlp = spacy.load('en_core_web_sm', disable=['parser', 'ner'])\n",
        "allowed_postags=['NOUN', 'ADJ', 'VERB', 'ADV']\n",
        "def lemmatize_text(text):\n",
        "    doc = nlp(text)\n",
        "    return ' '.join([token.lemma_ for token in doc])\n",
        "\n",
        "clean_data_result['Final_Text'] = clean_data_result['Final_Text'].apply(lemmatize_text)"
      ],
      "execution_count": 22,
      "outputs": []
    },
    {
      "cell_type": "code",
      "metadata": {
        "id": "P0YLyD-iBsjV",
        "colab": {
          "base_uri": "https://localhost:8080/",
          "height": 419
        },
        "outputId": "a126ce5c-9f17-4ca8-d130-b3f3be48a40e"
      },
      "source": [
        "clean_data_result"
      ],
      "execution_count": 23,
      "outputs": [
        {
          "output_type": "execute_result",
          "data": {
            "text/html": [
              "<div>\n",
              "<style scoped>\n",
              "    .dataframe tbody tr th:only-of-type {\n",
              "        vertical-align: middle;\n",
              "    }\n",
              "\n",
              "    .dataframe tbody tr th {\n",
              "        vertical-align: top;\n",
              "    }\n",
              "\n",
              "    .dataframe thead th {\n",
              "        text-align: right;\n",
              "    }\n",
              "</style>\n",
              "<table border=\"1\" class=\"dataframe\">\n",
              "  <thead>\n",
              "    <tr style=\"text-align: right;\">\n",
              "      <th></th>\n",
              "      <th>Caller</th>\n",
              "      <th>Assignment group</th>\n",
              "      <th>language</th>\n",
              "      <th>Final_Text</th>\n",
              "    </tr>\n",
              "  </thead>\n",
              "  <tbody>\n",
              "    <tr>\n",
              "      <th>0</th>\n",
              "      <td>vrfpyjwi nzhvgqiw</td>\n",
              "      <td>GRP_24</td>\n",
              "      <td>de</td>\n",
              "      <td>hello however ' happen the pc see title repeat...</td>\n",
              "    </tr>\n",
              "    <tr>\n",
              "      <th>0</th>\n",
              "      <td>vrfpyjwi nzhvgqiw</td>\n",
              "      <td>GRP_24</td>\n",
              "      <td>de</td>\n",
              "      <td>hello Ben Tige right Number Block Keyboard R L...</td>\n",
              "    </tr>\n",
              "    <tr>\n",
              "      <th>0</th>\n",
              "      <td>vrfpyjwi nzhvgqiw</td>\n",
              "      <td>GRP_24</td>\n",
              "      <td>de</td>\n",
              "      <td>Fyi Axesnghb Cyzuomxa Sent Thursday 20 Ughzilf...</td>\n",
              "    </tr>\n",
              "    <tr>\n",
              "      <th>0</th>\n",
              "      <td>vrfpyjwi nzhvgqiw</td>\n",
              "      <td>GRP_24</td>\n",
              "      <td>de</td>\n",
              "      <td>after IE browser open CRM , even prompt user c...</td>\n",
              "    </tr>\n",
              "    <tr>\n",
              "      <th>1</th>\n",
              "      <td>lpnzjimy mwtvondq</td>\n",
              "      <td>GRP_25</td>\n",
              "      <td>de</td>\n",
              "      <td>current change enter first follow EU Tool Erro...</td>\n",
              "    </tr>\n",
              "    <tr>\n",
              "      <th>...</th>\n",
              "      <td>...</td>\n",
              "      <td>...</td>\n",
              "      <td>...</td>\n",
              "      <td>...</td>\n",
              "    </tr>\n",
              "    <tr>\n",
              "      <th>44</th>\n",
              "      <td>wgmqlnzh vpebwoat</td>\n",
              "      <td>GRP_30</td>\n",
              "      <td>zh-cn</td>\n",
              "      <td>the display appear morning . display light</td>\n",
              "    </tr>\n",
              "    <tr>\n",
              "      <th>45</th>\n",
              "      <td>rtjwbuev gfpwdetq</td>\n",
              "      <td>GRP_31</td>\n",
              "      <td>zh-cn</td>\n",
              "      <td>the prtsid _ - file print printer , prompt pri...</td>\n",
              "    </tr>\n",
              "    <tr>\n",
              "      <th>46</th>\n",
              "      <td>fupikdoa gjkytoeh</td>\n",
              "      <td>GRP_48</td>\n",
              "      <td>zh-cn</td>\n",
              "      <td>the online delivery unit provide customer ca n...</td>\n",
              "    </tr>\n",
              "    <tr>\n",
              "      <th>47</th>\n",
              "      <td>kyagjxdh dmtjpbnz</td>\n",
              "      <td>GRP_30</td>\n",
              "      <td>zh-cn</td>\n",
              "      <td>show ` ` data employee , please notify system ...</td>\n",
              "    </tr>\n",
              "    <tr>\n",
              "      <th>48</th>\n",
              "      <td>xqyjztnm onfusvlz</td>\n",
              "      <td>GRP_30</td>\n",
              "      <td>zh-cn</td>\n",
              "      <td>to small congratulation , computer open comput...</td>\n",
              "    </tr>\n",
              "  </tbody>\n",
              "</table>\n",
              "<p>27993 rows × 4 columns</p>\n",
              "</div>"
            ],
            "text/plain": [
              "               Caller  ...                                         Final_Text\n",
              "0   vrfpyjwi nzhvgqiw  ...  hello however ' happen the pc see title repeat...\n",
              "0   vrfpyjwi nzhvgqiw  ...  hello Ben Tige right Number Block Keyboard R L...\n",
              "0   vrfpyjwi nzhvgqiw  ...  Fyi Axesnghb Cyzuomxa Sent Thursday 20 Ughzilf...\n",
              "0   vrfpyjwi nzhvgqiw  ...  after IE browser open CRM , even prompt user c...\n",
              "1   lpnzjimy mwtvondq  ...  current change enter first follow EU Tool Erro...\n",
              "..                ...  ...                                                ...\n",
              "44  wgmqlnzh vpebwoat  ...         the display appear morning . display light\n",
              "45  rtjwbuev gfpwdetq  ...  the prtsid _ - file print printer , prompt pri...\n",
              "46  fupikdoa gjkytoeh  ...  the online delivery unit provide customer ca n...\n",
              "47  kyagjxdh dmtjpbnz  ...  show ` ` data employee , please notify system ...\n",
              "48  xqyjztnm onfusvlz  ...  to small congratulation , computer open comput...\n",
              "\n",
              "[27993 rows x 4 columns]"
            ]
          },
          "metadata": {
            "tags": []
          },
          "execution_count": 23
        }
      ]
    },
    {
      "cell_type": "code",
      "metadata": {
        "id": "_JVNAQ1Gl_Rs"
      },
      "source": [
        "clean_data_result1 = clean_data_result[clean_data_result['Final_Text'] != '']"
      ],
      "execution_count": 24,
      "outputs": []
    },
    {
      "cell_type": "code",
      "metadata": {
        "id": "8VYbYUmsl_Rs",
        "colab": {
          "base_uri": "https://localhost:8080/",
          "height": 419
        },
        "outputId": "ca749afb-c2ef-4f36-ac2c-bf2bf633516e"
      },
      "source": [
        "clean_data_result1"
      ],
      "execution_count": 25,
      "outputs": [
        {
          "output_type": "execute_result",
          "data": {
            "text/html": [
              "<div>\n",
              "<style scoped>\n",
              "    .dataframe tbody tr th:only-of-type {\n",
              "        vertical-align: middle;\n",
              "    }\n",
              "\n",
              "    .dataframe tbody tr th {\n",
              "        vertical-align: top;\n",
              "    }\n",
              "\n",
              "    .dataframe thead th {\n",
              "        text-align: right;\n",
              "    }\n",
              "</style>\n",
              "<table border=\"1\" class=\"dataframe\">\n",
              "  <thead>\n",
              "    <tr style=\"text-align: right;\">\n",
              "      <th></th>\n",
              "      <th>Caller</th>\n",
              "      <th>Assignment group</th>\n",
              "      <th>language</th>\n",
              "      <th>Final_Text</th>\n",
              "    </tr>\n",
              "  </thead>\n",
              "  <tbody>\n",
              "    <tr>\n",
              "      <th>0</th>\n",
              "      <td>vrfpyjwi nzhvgqiw</td>\n",
              "      <td>GRP_24</td>\n",
              "      <td>de</td>\n",
              "      <td>hello however ' happen the pc see title repeat...</td>\n",
              "    </tr>\n",
              "    <tr>\n",
              "      <th>0</th>\n",
              "      <td>vrfpyjwi nzhvgqiw</td>\n",
              "      <td>GRP_24</td>\n",
              "      <td>de</td>\n",
              "      <td>hello Ben Tige right Number Block Keyboard R L...</td>\n",
              "    </tr>\n",
              "    <tr>\n",
              "      <th>0</th>\n",
              "      <td>vrfpyjwi nzhvgqiw</td>\n",
              "      <td>GRP_24</td>\n",
              "      <td>de</td>\n",
              "      <td>Fyi Axesnghb Cyzuomxa Sent Thursday 20 Ughzilf...</td>\n",
              "    </tr>\n",
              "    <tr>\n",
              "      <th>0</th>\n",
              "      <td>vrfpyjwi nzhvgqiw</td>\n",
              "      <td>GRP_24</td>\n",
              "      <td>de</td>\n",
              "      <td>after IE browser open CRM , even prompt user c...</td>\n",
              "    </tr>\n",
              "    <tr>\n",
              "      <th>1</th>\n",
              "      <td>lpnzjimy mwtvondq</td>\n",
              "      <td>GRP_25</td>\n",
              "      <td>de</td>\n",
              "      <td>current change enter first follow EU Tool Erro...</td>\n",
              "    </tr>\n",
              "    <tr>\n",
              "      <th>...</th>\n",
              "      <td>...</td>\n",
              "      <td>...</td>\n",
              "      <td>...</td>\n",
              "      <td>...</td>\n",
              "    </tr>\n",
              "    <tr>\n",
              "      <th>44</th>\n",
              "      <td>wgmqlnzh vpebwoat</td>\n",
              "      <td>GRP_30</td>\n",
              "      <td>zh-cn</td>\n",
              "      <td>the display appear morning . display light</td>\n",
              "    </tr>\n",
              "    <tr>\n",
              "      <th>45</th>\n",
              "      <td>rtjwbuev gfpwdetq</td>\n",
              "      <td>GRP_31</td>\n",
              "      <td>zh-cn</td>\n",
              "      <td>the prtsid _ - file print printer , prompt pri...</td>\n",
              "    </tr>\n",
              "    <tr>\n",
              "      <th>46</th>\n",
              "      <td>fupikdoa gjkytoeh</td>\n",
              "      <td>GRP_48</td>\n",
              "      <td>zh-cn</td>\n",
              "      <td>the online delivery unit provide customer ca n...</td>\n",
              "    </tr>\n",
              "    <tr>\n",
              "      <th>47</th>\n",
              "      <td>kyagjxdh dmtjpbnz</td>\n",
              "      <td>GRP_30</td>\n",
              "      <td>zh-cn</td>\n",
              "      <td>show ` ` data employee , please notify system ...</td>\n",
              "    </tr>\n",
              "    <tr>\n",
              "      <th>48</th>\n",
              "      <td>xqyjztnm onfusvlz</td>\n",
              "      <td>GRP_30</td>\n",
              "      <td>zh-cn</td>\n",
              "      <td>to small congratulation , computer open comput...</td>\n",
              "    </tr>\n",
              "  </tbody>\n",
              "</table>\n",
              "<p>27992 rows × 4 columns</p>\n",
              "</div>"
            ],
            "text/plain": [
              "               Caller  ...                                         Final_Text\n",
              "0   vrfpyjwi nzhvgqiw  ...  hello however ' happen the pc see title repeat...\n",
              "0   vrfpyjwi nzhvgqiw  ...  hello Ben Tige right Number Block Keyboard R L...\n",
              "0   vrfpyjwi nzhvgqiw  ...  Fyi Axesnghb Cyzuomxa Sent Thursday 20 Ughzilf...\n",
              "0   vrfpyjwi nzhvgqiw  ...  after IE browser open CRM , even prompt user c...\n",
              "1   lpnzjimy mwtvondq  ...  current change enter first follow EU Tool Erro...\n",
              "..                ...  ...                                                ...\n",
              "44  wgmqlnzh vpebwoat  ...         the display appear morning . display light\n",
              "45  rtjwbuev gfpwdetq  ...  the prtsid _ - file print printer , prompt pri...\n",
              "46  fupikdoa gjkytoeh  ...  the online delivery unit provide customer ca n...\n",
              "47  kyagjxdh dmtjpbnz  ...  show ` ` data employee , please notify system ...\n",
              "48  xqyjztnm onfusvlz  ...  to small congratulation , computer open comput...\n",
              "\n",
              "[27992 rows x 4 columns]"
            ]
          },
          "metadata": {
            "tags": []
          },
          "execution_count": 25
        }
      ]
    },
    {
      "cell_type": "code",
      "metadata": {
        "id": "ZEhT90aSl_Rt",
        "colab": {
          "base_uri": "https://localhost:8080/"
        },
        "outputId": "ca7fc010-53c3-49a1-ad96-350c5798ab1e"
      },
      "source": [
        "assignment_group_cnt=clean_data_result1['Assignment group'].value_counts()\n",
        "assignment_group_cnt.describe()"
      ],
      "execution_count": 26,
      "outputs": [
        {
          "output_type": "execute_result",
          "data": {
            "text/plain": [
              "count      55.000000\n",
              "mean      508.945455\n",
              "std       707.062767\n",
              "min        25.000000\n",
              "25%       102.000000\n",
              "50%       211.000000\n",
              "75%       679.000000\n",
              "max      3738.000000\n",
              "Name: Assignment group, dtype: float64"
            ]
          },
          "metadata": {
            "tags": []
          },
          "execution_count": 26
        }
      ]
    },
    {
      "cell_type": "code",
      "metadata": {
        "id": "0w9q5vkAl_Rt",
        "colab": {
          "base_uri": "https://localhost:8080/"
        },
        "outputId": "61fe8af3-2ab1-4f9a-b4a6-0e78f5810820"
      },
      "source": [
        "assignment_group_cnt.tail(24)"
      ],
      "execution_count": 27,
      "outputs": [
        {
          "output_type": "execute_result",
          "data": {
            "text/plain": [
              "GRP_22    186\n",
              "GRP_11    184\n",
              "GRP_21    173\n",
              "GRP_17    150\n",
              "GRP_23    149\n",
              "GRP_47    144\n",
              "GRP_62    143\n",
              "GRP_30    112\n",
              "GRP_60    108\n",
              "GRP_27    108\n",
              "GRP_37     96\n",
              "GRP_44     89\n",
              "GRP_50     77\n",
              "GRP_36     72\n",
              "GRP_39     69\n",
              "GRP_65     66\n",
              "GRP_53     66\n",
              "GRP_48     58\n",
              "GRP_52     49\n",
              "GRP_51     48\n",
              "GRP_59     31\n",
              "GRP_43     30\n",
              "GRP_49     26\n",
              "GRP_46     25\n",
              "Name: Assignment group, dtype: int64"
            ]
          },
          "metadata": {
            "tags": []
          },
          "execution_count": 27
        }
      ]
    },
    {
      "cell_type": "code",
      "metadata": {
        "id": "3yJf4QCZaoah"
      },
      "source": [
        "# Serialize the translated dataset\n",
        "clean_data_result1.to_csv('Final_data.csv', index=False, encoding='utf_8_sig')\n",
        "#with open('/content/Final_data.pkl','wb') as f:\n",
        "with open('Final_data.pkl','wb') as f:\n",
        "    pickle.dump(clean_data_result1, f, pickle.HIGHEST_PROTOCOL)"
      ],
      "execution_count": 28,
      "outputs": []
    },
    {
      "cell_type": "code",
      "metadata": {
        "id": "e-zXZRYDaoah"
      },
      "source": [
        "# Load the translated pickle file \n",
        "#with open('/content/Final_data.pkl','rb') as f:\n",
        "with open('Final_data.pkl','rb') as f:\n",
        "    clean_data = pickle.load(f)"
      ],
      "execution_count": 29,
      "outputs": []
    },
    {
      "cell_type": "markdown",
      "metadata": {
        "id": "QhCUgD6_Bsjn"
      },
      "source": [
        "## Prepping Dataframe for Model Building"
      ]
    },
    {
      "cell_type": "code",
      "metadata": {
        "id": "9ijBA6KgW13C",
        "colab": {
          "base_uri": "https://localhost:8080/",
          "height": 419
        },
        "outputId": "f98f24e6-df84-4298-f913-843121869f13"
      },
      "source": [
        "clean_data"
      ],
      "execution_count": 30,
      "outputs": [
        {
          "output_type": "execute_result",
          "data": {
            "text/html": [
              "<div>\n",
              "<style scoped>\n",
              "    .dataframe tbody tr th:only-of-type {\n",
              "        vertical-align: middle;\n",
              "    }\n",
              "\n",
              "    .dataframe tbody tr th {\n",
              "        vertical-align: top;\n",
              "    }\n",
              "\n",
              "    .dataframe thead th {\n",
              "        text-align: right;\n",
              "    }\n",
              "</style>\n",
              "<table border=\"1\" class=\"dataframe\">\n",
              "  <thead>\n",
              "    <tr style=\"text-align: right;\">\n",
              "      <th></th>\n",
              "      <th>Caller</th>\n",
              "      <th>Assignment group</th>\n",
              "      <th>language</th>\n",
              "      <th>Final_Text</th>\n",
              "    </tr>\n",
              "  </thead>\n",
              "  <tbody>\n",
              "    <tr>\n",
              "      <th>0</th>\n",
              "      <td>vrfpyjwi nzhvgqiw</td>\n",
              "      <td>GRP_24</td>\n",
              "      <td>de</td>\n",
              "      <td>hello however ' happen the pc see title repeat...</td>\n",
              "    </tr>\n",
              "    <tr>\n",
              "      <th>0</th>\n",
              "      <td>vrfpyjwi nzhvgqiw</td>\n",
              "      <td>GRP_24</td>\n",
              "      <td>de</td>\n",
              "      <td>hello Ben Tige right Number Block Keyboard R L...</td>\n",
              "    </tr>\n",
              "    <tr>\n",
              "      <th>0</th>\n",
              "      <td>vrfpyjwi nzhvgqiw</td>\n",
              "      <td>GRP_24</td>\n",
              "      <td>de</td>\n",
              "      <td>Fyi Axesnghb Cyzuomxa Sent Thursday 20 Ughzilf...</td>\n",
              "    </tr>\n",
              "    <tr>\n",
              "      <th>0</th>\n",
              "      <td>vrfpyjwi nzhvgqiw</td>\n",
              "      <td>GRP_24</td>\n",
              "      <td>de</td>\n",
              "      <td>after IE browser open CRM , even prompt user c...</td>\n",
              "    </tr>\n",
              "    <tr>\n",
              "      <th>1</th>\n",
              "      <td>lpnzjimy mwtvondq</td>\n",
              "      <td>GRP_25</td>\n",
              "      <td>de</td>\n",
              "      <td>current change enter first follow EU Tool Erro...</td>\n",
              "    </tr>\n",
              "    <tr>\n",
              "      <th>...</th>\n",
              "      <td>...</td>\n",
              "      <td>...</td>\n",
              "      <td>...</td>\n",
              "      <td>...</td>\n",
              "    </tr>\n",
              "    <tr>\n",
              "      <th>44</th>\n",
              "      <td>wgmqlnzh vpebwoat</td>\n",
              "      <td>GRP_30</td>\n",
              "      <td>zh-cn</td>\n",
              "      <td>the display appear morning . display light</td>\n",
              "    </tr>\n",
              "    <tr>\n",
              "      <th>45</th>\n",
              "      <td>rtjwbuev gfpwdetq</td>\n",
              "      <td>GRP_31</td>\n",
              "      <td>zh-cn</td>\n",
              "      <td>the prtsid _ - file print printer , prompt pri...</td>\n",
              "    </tr>\n",
              "    <tr>\n",
              "      <th>46</th>\n",
              "      <td>fupikdoa gjkytoeh</td>\n",
              "      <td>GRP_48</td>\n",
              "      <td>zh-cn</td>\n",
              "      <td>the online delivery unit provide customer ca n...</td>\n",
              "    </tr>\n",
              "    <tr>\n",
              "      <th>47</th>\n",
              "      <td>kyagjxdh dmtjpbnz</td>\n",
              "      <td>GRP_30</td>\n",
              "      <td>zh-cn</td>\n",
              "      <td>show ` ` data employee , please notify system ...</td>\n",
              "    </tr>\n",
              "    <tr>\n",
              "      <th>48</th>\n",
              "      <td>xqyjztnm onfusvlz</td>\n",
              "      <td>GRP_30</td>\n",
              "      <td>zh-cn</td>\n",
              "      <td>to small congratulation , computer open comput...</td>\n",
              "    </tr>\n",
              "  </tbody>\n",
              "</table>\n",
              "<p>27992 rows × 4 columns</p>\n",
              "</div>"
            ],
            "text/plain": [
              "               Caller  ...                                         Final_Text\n",
              "0   vrfpyjwi nzhvgqiw  ...  hello however ' happen the pc see title repeat...\n",
              "0   vrfpyjwi nzhvgqiw  ...  hello Ben Tige right Number Block Keyboard R L...\n",
              "0   vrfpyjwi nzhvgqiw  ...  Fyi Axesnghb Cyzuomxa Sent Thursday 20 Ughzilf...\n",
              "0   vrfpyjwi nzhvgqiw  ...  after IE browser open CRM , even prompt user c...\n",
              "1   lpnzjimy mwtvondq  ...  current change enter first follow EU Tool Erro...\n",
              "..                ...  ...                                                ...\n",
              "44  wgmqlnzh vpebwoat  ...         the display appear morning . display light\n",
              "45  rtjwbuev gfpwdetq  ...  the prtsid _ - file print printer , prompt pri...\n",
              "46  fupikdoa gjkytoeh  ...  the online delivery unit provide customer ca n...\n",
              "47  kyagjxdh dmtjpbnz  ...  show ` ` data employee , please notify system ...\n",
              "48  xqyjztnm onfusvlz  ...  to small congratulation , computer open comput...\n",
              "\n",
              "[27992 rows x 4 columns]"
            ]
          },
          "metadata": {
            "tags": []
          },
          "execution_count": 30
        }
      ]
    },
    {
      "cell_type": "code",
      "metadata": {
        "id": "FRguKfOkEWHJ",
        "colab": {
          "base_uri": "https://localhost:8080/",
          "height": 103
        },
        "outputId": "3d578d95-c91b-4ff2-d964-9d776fa6a399"
      },
      "source": [
        "'''# Import label encoder \n",
        "from sklearn import preprocessing\n",
        "from sklearn.preprocessing import LabelEncoder\n",
        "from sklearn.preprocessing import OneHotEncoder\n",
        "  \n",
        "# label_encoder object knows how to understand word labels. \n",
        "label_encoder = preprocessing.LabelEncoder() \n",
        "  \n",
        "# Encode labels in column 'species'. \n",
        "clean_data['Assignment group LabelEncoded']= label_encoder.fit_transform(clean_data['Assignment group']) \n",
        "  \n",
        "\n",
        "\n",
        "onehot_encoder = OneHotEncoder()\n",
        "clean_data['Assignment group LabelEncoded'] = clean_data['Assignment group LabelEncoded'].values.reshape(len(clean_data['Assignment group LabelEncoded']), 1)\n",
        "clean_data['Assignment group OneHotEncoded'] = onehot_encoder.fit_transform(clean_data[['Assignment group LabelEncoded']])\n",
        "clean_data['Assignment group OneHotEncoded']'''"
      ],
      "execution_count": 31,
      "outputs": [
        {
          "output_type": "execute_result",
          "data": {
            "application/vnd.google.colaboratory.intrinsic+json": {
              "type": "string"
            },
            "text/plain": [
              "\"# Import label encoder \\nfrom sklearn import preprocessing\\nfrom sklearn.preprocessing import LabelEncoder\\nfrom sklearn.preprocessing import OneHotEncoder\\n  \\n# label_encoder object knows how to understand word labels. \\nlabel_encoder = preprocessing.LabelEncoder() \\n  \\n# Encode labels in column 'species'. \\nclean_data['Assignment group LabelEncoded']= label_encoder.fit_transform(clean_data['Assignment group']) \\n  \\n\\n\\nonehot_encoder = OneHotEncoder()\\nclean_data['Assignment group LabelEncoded'] = clean_data['Assignment group LabelEncoded'].values.reshape(len(clean_data['Assignment group LabelEncoded']), 1)\\nclean_data['Assignment group OneHotEncoded'] = onehot_encoder.fit_transform(clean_data[['Assignment group LabelEncoded']])\\nclean_data['Assignment group OneHotEncoded']\""
            ]
          },
          "metadata": {
            "tags": []
          },
          "execution_count": 31
        }
      ]
    },
    {
      "cell_type": "code",
      "metadata": {
        "id": "E3WLAluVl_Rv",
        "colab": {
          "base_uri": "https://localhost:8080/"
        },
        "outputId": "39889ff3-b8ab-4bc9-a8b1-8a5194459ca5"
      },
      "source": [
        "# Import label encoder \n",
        "from sklearn import preprocessing\n",
        "from sklearn.preprocessing import LabelEncoder\n",
        "  \n",
        "# label_encoder object knows how to understand word labels. \n",
        "label_encoder = preprocessing.LabelEncoder() \n",
        "  \n",
        "# Encode labels in column 'species'. \n",
        "clean_data['Assignment group LabelEncoded']= label_encoder.fit_transform(clean_data['Assignment group']) \n",
        "\n",
        "target_strings = label_encoder.inverse_transform(clean_data['Assignment group LabelEncoded'])\n",
        "target_strings_list = np.unique(target_strings).tolist()\n",
        "clean_data['Assignment group LabelEncoded']"
      ],
      "execution_count": 32,
      "outputs": [
        {
          "output_type": "execute_result",
          "data": {
            "text/plain": [
              "0     17\n",
              "0     17\n",
              "0     17\n",
              "0     17\n",
              "1     18\n",
              "      ..\n",
              "44    24\n",
              "45    25\n",
              "46    40\n",
              "47    24\n",
              "48    24\n",
              "Name: Assignment group LabelEncoded, Length: 27992, dtype: int64"
            ]
          },
          "metadata": {
            "tags": []
          },
          "execution_count": 32
        }
      ]
    },
    {
      "cell_type": "code",
      "metadata": {
        "id": "odyEuJzEl_Rw",
        "colab": {
          "base_uri": "https://localhost:8080/",
          "height": 52
        },
        "outputId": "e72bbc81-0755-4ced-902b-c9f0d22fd04b"
      },
      "source": [
        "'''# Create a target categorical column\n",
        "clean_data['Assignment group LabelEncoded'] = clean_data['Assignment group'].astype('category').cat.codes\n",
        "clean_data.info()'''"
      ],
      "execution_count": 33,
      "outputs": [
        {
          "output_type": "execute_result",
          "data": {
            "application/vnd.google.colaboratory.intrinsic+json": {
              "type": "string"
            },
            "text/plain": [
              "\"# Create a target categorical column\\nclean_data['Assignment group LabelEncoded'] = clean_data['Assignment group'].astype('category').cat.codes\\nclean_data.info()\""
            ]
          },
          "metadata": {
            "tags": []
          },
          "execution_count": 33
        }
      ]
    },
    {
      "cell_type": "code",
      "metadata": {
        "id": "LBnYl6rcl_Rw",
        "colab": {
          "base_uri": "https://localhost:8080/",
          "height": 419
        },
        "outputId": "bb060662-c4f4-4848-e9a3-2dac2116570f"
      },
      "source": [
        "clean_data"
      ],
      "execution_count": 34,
      "outputs": [
        {
          "output_type": "execute_result",
          "data": {
            "text/html": [
              "<div>\n",
              "<style scoped>\n",
              "    .dataframe tbody tr th:only-of-type {\n",
              "        vertical-align: middle;\n",
              "    }\n",
              "\n",
              "    .dataframe tbody tr th {\n",
              "        vertical-align: top;\n",
              "    }\n",
              "\n",
              "    .dataframe thead th {\n",
              "        text-align: right;\n",
              "    }\n",
              "</style>\n",
              "<table border=\"1\" class=\"dataframe\">\n",
              "  <thead>\n",
              "    <tr style=\"text-align: right;\">\n",
              "      <th></th>\n",
              "      <th>Caller</th>\n",
              "      <th>Assignment group</th>\n",
              "      <th>language</th>\n",
              "      <th>Final_Text</th>\n",
              "      <th>Assignment group LabelEncoded</th>\n",
              "    </tr>\n",
              "  </thead>\n",
              "  <tbody>\n",
              "    <tr>\n",
              "      <th>0</th>\n",
              "      <td>vrfpyjwi nzhvgqiw</td>\n",
              "      <td>GRP_24</td>\n",
              "      <td>de</td>\n",
              "      <td>hello however ' happen the pc see title repeat...</td>\n",
              "      <td>17</td>\n",
              "    </tr>\n",
              "    <tr>\n",
              "      <th>0</th>\n",
              "      <td>vrfpyjwi nzhvgqiw</td>\n",
              "      <td>GRP_24</td>\n",
              "      <td>de</td>\n",
              "      <td>hello Ben Tige right Number Block Keyboard R L...</td>\n",
              "      <td>17</td>\n",
              "    </tr>\n",
              "    <tr>\n",
              "      <th>0</th>\n",
              "      <td>vrfpyjwi nzhvgqiw</td>\n",
              "      <td>GRP_24</td>\n",
              "      <td>de</td>\n",
              "      <td>Fyi Axesnghb Cyzuomxa Sent Thursday 20 Ughzilf...</td>\n",
              "      <td>17</td>\n",
              "    </tr>\n",
              "    <tr>\n",
              "      <th>0</th>\n",
              "      <td>vrfpyjwi nzhvgqiw</td>\n",
              "      <td>GRP_24</td>\n",
              "      <td>de</td>\n",
              "      <td>after IE browser open CRM , even prompt user c...</td>\n",
              "      <td>17</td>\n",
              "    </tr>\n",
              "    <tr>\n",
              "      <th>1</th>\n",
              "      <td>lpnzjimy mwtvondq</td>\n",
              "      <td>GRP_25</td>\n",
              "      <td>de</td>\n",
              "      <td>current change enter first follow EU Tool Erro...</td>\n",
              "      <td>18</td>\n",
              "    </tr>\n",
              "    <tr>\n",
              "      <th>...</th>\n",
              "      <td>...</td>\n",
              "      <td>...</td>\n",
              "      <td>...</td>\n",
              "      <td>...</td>\n",
              "      <td>...</td>\n",
              "    </tr>\n",
              "    <tr>\n",
              "      <th>44</th>\n",
              "      <td>wgmqlnzh vpebwoat</td>\n",
              "      <td>GRP_30</td>\n",
              "      <td>zh-cn</td>\n",
              "      <td>the display appear morning . display light</td>\n",
              "      <td>24</td>\n",
              "    </tr>\n",
              "    <tr>\n",
              "      <th>45</th>\n",
              "      <td>rtjwbuev gfpwdetq</td>\n",
              "      <td>GRP_31</td>\n",
              "      <td>zh-cn</td>\n",
              "      <td>the prtsid _ - file print printer , prompt pri...</td>\n",
              "      <td>25</td>\n",
              "    </tr>\n",
              "    <tr>\n",
              "      <th>46</th>\n",
              "      <td>fupikdoa gjkytoeh</td>\n",
              "      <td>GRP_48</td>\n",
              "      <td>zh-cn</td>\n",
              "      <td>the online delivery unit provide customer ca n...</td>\n",
              "      <td>40</td>\n",
              "    </tr>\n",
              "    <tr>\n",
              "      <th>47</th>\n",
              "      <td>kyagjxdh dmtjpbnz</td>\n",
              "      <td>GRP_30</td>\n",
              "      <td>zh-cn</td>\n",
              "      <td>show ` ` data employee , please notify system ...</td>\n",
              "      <td>24</td>\n",
              "    </tr>\n",
              "    <tr>\n",
              "      <th>48</th>\n",
              "      <td>xqyjztnm onfusvlz</td>\n",
              "      <td>GRP_30</td>\n",
              "      <td>zh-cn</td>\n",
              "      <td>to small congratulation , computer open comput...</td>\n",
              "      <td>24</td>\n",
              "    </tr>\n",
              "  </tbody>\n",
              "</table>\n",
              "<p>27992 rows × 5 columns</p>\n",
              "</div>"
            ],
            "text/plain": [
              "               Caller  ... Assignment group LabelEncoded\n",
              "0   vrfpyjwi nzhvgqiw  ...                            17\n",
              "0   vrfpyjwi nzhvgqiw  ...                            17\n",
              "0   vrfpyjwi nzhvgqiw  ...                            17\n",
              "0   vrfpyjwi nzhvgqiw  ...                            17\n",
              "1   lpnzjimy mwtvondq  ...                            18\n",
              "..                ...  ...                           ...\n",
              "44  wgmqlnzh vpebwoat  ...                            24\n",
              "45  rtjwbuev gfpwdetq  ...                            25\n",
              "46  fupikdoa gjkytoeh  ...                            40\n",
              "47  kyagjxdh dmtjpbnz  ...                            24\n",
              "48  xqyjztnm onfusvlz  ...                            24\n",
              "\n",
              "[27992 rows x 5 columns]"
            ]
          },
          "metadata": {
            "tags": []
          },
          "execution_count": 34
        }
      ]
    },
    {
      "cell_type": "code",
      "metadata": {
        "id": "GlFNRnh1l_Rw",
        "colab": {
          "base_uri": "https://localhost:8080/"
        },
        "outputId": "a5459dd8-ec8f-417f-8373-5821d5d0448b"
      },
      "source": [
        "clean_data.isnull().sum()"
      ],
      "execution_count": 35,
      "outputs": [
        {
          "output_type": "execute_result",
          "data": {
            "text/plain": [
              "Caller                           0\n",
              "Assignment group                 0\n",
              "language                         0\n",
              "Final_Text                       0\n",
              "Assignment group LabelEncoded    0\n",
              "dtype: int64"
            ]
          },
          "metadata": {
            "tags": []
          },
          "execution_count": 35
        }
      ]
    },
    {
      "cell_type": "code",
      "metadata": {
        "id": "6jsBDjGIBsjn",
        "colab": {
          "base_uri": "https://localhost:8080/"
        },
        "outputId": "77032d53-9fc9-4a6a-fdb4-8357a03b0485"
      },
      "source": [
        "label_encoded_dict = dict(zip(clean_data['Assignment group'].unique(), clean_data['Assignment group LabelEncoded'].unique()))\n",
        "label_encoded_dict"
      ],
      "execution_count": 36,
      "outputs": [
        {
          "output_type": "execute_result",
          "data": {
            "text/plain": [
              "{'GRP_0': 0,\n",
              " 'GRP_1': 1,\n",
              " 'GRP_10': 2,\n",
              " 'GRP_11': 3,\n",
              " 'GRP_12': 4,\n",
              " 'GRP_13': 5,\n",
              " 'GRP_14': 6,\n",
              " 'GRP_15': 7,\n",
              " 'GRP_16': 8,\n",
              " 'GRP_17': 9,\n",
              " 'GRP_18': 10,\n",
              " 'GRP_19': 11,\n",
              " 'GRP_2': 12,\n",
              " 'GRP_20': 13,\n",
              " 'GRP_21': 14,\n",
              " 'GRP_22': 15,\n",
              " 'GRP_23': 16,\n",
              " 'GRP_24': 17,\n",
              " 'GRP_25': 18,\n",
              " 'GRP_26': 19,\n",
              " 'GRP_27': 20,\n",
              " 'GRP_28': 21,\n",
              " 'GRP_29': 22,\n",
              " 'GRP_3': 23,\n",
              " 'GRP_30': 24,\n",
              " 'GRP_31': 25,\n",
              " 'GRP_33': 26,\n",
              " 'GRP_34': 27,\n",
              " 'GRP_36': 28,\n",
              " 'GRP_37': 29,\n",
              " 'GRP_39': 30,\n",
              " 'GRP_4': 31,\n",
              " 'GRP_40': 32,\n",
              " 'GRP_41': 33,\n",
              " 'GRP_42': 34,\n",
              " 'GRP_43': 35,\n",
              " 'GRP_44': 36,\n",
              " 'GRP_45': 37,\n",
              " 'GRP_46': 38,\n",
              " 'GRP_47': 39,\n",
              " 'GRP_48': 40,\n",
              " 'GRP_49': 41,\n",
              " 'GRP_5': 42,\n",
              " 'GRP_50': 43,\n",
              " 'GRP_51': 44,\n",
              " 'GRP_52': 45,\n",
              " 'GRP_53': 46,\n",
              " 'GRP_59': 47,\n",
              " 'GRP_6': 48,\n",
              " 'GRP_60': 49,\n",
              " 'GRP_62': 50,\n",
              " 'GRP_65': 51,\n",
              " 'GRP_7': 52,\n",
              " 'GRP_8': 53,\n",
              " 'GRP_9': 54}"
            ]
          },
          "metadata": {
            "tags": []
          },
          "execution_count": 36
        }
      ]
    },
    {
      "cell_type": "code",
      "metadata": {
        "id": "UaaV3zyqBsjo",
        "colab": {
          "base_uri": "https://localhost:8080/"
        },
        "outputId": "c56ab7a6-1ee9-49bc-9a01-5189cd7e8f93"
      },
      "source": [
        "# Splitting Train Test \n",
        "from sklearn.model_selection import train_test_split\n",
        "#Y = np.array(clean_data['Assignment group OneHotEncoded'])\n",
        "\n",
        "X_train, X_test, y_train1, y_test1 = train_test_split(clean_data['Final_Text'], clean_data['Assignment group LabelEncoded'], test_size=0.3, random_state = 0, stratify=clean_data['Assignment group LabelEncoded'])\n",
        "print('\\033[1mShape of the training set:\\033[0m', X_train.shape, X_test.shape)\n",
        "print('\\033[1mShape of the test set:\\033[0m', y_train1.shape, y_test1.shape)"
      ],
      "execution_count": 37,
      "outputs": [
        {
          "output_type": "stream",
          "text": [
            "\u001b[1mShape of the training set:\u001b[0m (19594,) (8398,)\n",
            "\u001b[1mShape of the test set:\u001b[0m (19594,) (8398,)\n"
          ],
          "name": "stdout"
        }
      ]
    },
    {
      "cell_type": "code",
      "metadata": {
        "id": "OdB5_mvzQWrN"
      },
      "source": [
        "#Using TFIDF vectors feature extraction\n",
        "Tfidf_vect = TfidfVectorizer(max_features=2500)\n",
        "Tfidf_vect.fit(clean_data.Final_Text.astype(str))\n",
        "X_train_tfidf = Tfidf_vect.transform(X_train)\n",
        "X_test_tfidf = Tfidf_vect.transform(X_test)"
      ],
      "execution_count": 38,
      "outputs": []
    },
    {
      "cell_type": "code",
      "metadata": {
        "id": "n3UGzor_Bsjo",
        "colab": {
          "base_uri": "https://localhost:8080/"
        },
        "outputId": "57cbeb4c-b6fd-486f-ffbe-740524c1e3d4"
      },
      "source": [
        "#using count vectorizer for features extraction\n",
        "from sklearn.feature_extraction.text import CountVectorizer\n",
        "\n",
        "CV = CountVectorizer(max_features=2500)\n",
        "\n",
        "X_BoW = CV.fit_transform(clean_data['Final_Text']).toarray()\n",
        "y = clean_data['Assignment group LabelEncoded']\n",
        "\n",
        "print(\"Shape of Input Feature :\",np.shape(X_BoW))\n",
        "print(\"Shape of Target Feature :\",np.shape(y))"
      ],
      "execution_count": 41,
      "outputs": [
        {
          "output_type": "stream",
          "text": [
            "Shape of Input Feature : (27992, 2500)\n",
            "Shape of Target Feature : (27992,)\n"
          ],
          "name": "stdout"
        }
      ]
    },
    {
      "cell_type": "code",
      "metadata": {
        "id": "bp1F5vXyl_Rx",
        "colab": {
          "base_uri": "https://localhost:8080/"
        },
        "outputId": "c706efa9-72bf-4ea9-9d50-bbcc6bb81c1e"
      },
      "source": [
        "# Splitting Train Test \n",
        "from sklearn.model_selection import train_test_split\n",
        "\n",
        "X_train, X_test, y_train, y_test = train_test_split(X_BoW, y, test_size=0.3, random_state = 0, stratify=y)\n",
        "print('\\033[1mShape of the training set:\\033[0m', X_train.shape, X_test.shape)\n",
        "print('\\033[1mShape of the test set:\\033[0m', y_train.shape, y_test.shape)"
      ],
      "execution_count": 42,
      "outputs": [
        {
          "output_type": "stream",
          "text": [
            "\u001b[1mShape of the training set:\u001b[0m (19594, 2500) (8398, 2500)\n",
            "\u001b[1mShape of the test set:\u001b[0m (19594,) (8398,)\n"
          ],
          "name": "stdout"
        }
      ]
    },
    {
      "cell_type": "code",
      "metadata": {
        "id": "EIni9BjpBsjo"
      },
      "source": [
        "def run_classification(estimator, X_train, X_test, y_train, y_test, arch_name=None, pipelineRequired=True, isDeepModel=False):\n",
        "  \n",
        "    # train the model\n",
        "    clf = estimator\n",
        "\n",
        "    if pipelineRequired :\n",
        "        clf = Pipeline([('tfidf', TfidfTransformer()),\n",
        "                     ('clf', estimator),\n",
        "                     ])\n",
        "      \n",
        "    if isDeepModel :\n",
        "        clf.fit(X_train, y_train, validation_data=(X_test, y_test),epochs=25, batch_size=128,verbose=1,callbacks=call_backs(arch_name))\n",
        "        # predict from the clasiffier\n",
        "        y_pred = clf.predict(X_test)\n",
        "        y_pred = np.argmax(y_pred, axis=1)\n",
        "        y_train_pred = clf.predict(X_train)\n",
        "        y_train_pred = np.argmax(y_train_pred, axis=1)\n",
        "    else :\n",
        "        clf.fit(X_train, y_train)\n",
        "        # predict from the clasiffier\n",
        "        y_pred = clf.predict(X_test)\n",
        "        y_train_pred = clf.predict(X_train)\n",
        "        \n",
        "    \n",
        "    print('Estimator:', clf)\n",
        "    print('='*80)\n",
        "    print('Training accuracy: %.2f%%' % (accuracy_score(y_train,y_train_pred) * 100))\n",
        "    print('Testing accuracy: %.2f%%' % (accuracy_score(y_test, y_pred) * 100))\n",
        "    print('='*80)\n",
        "    print('Confusion matrix:\\n %s' % (confusion_matrix(y_test, clf.predict(X_test))))\n",
        "    print('='*80)\n",
        "    print('Classification report:\\n %s' % (classification_report(y_test, y_pred, target_names=target_strings_list)))\n",
        "      "
      ],
      "execution_count": 113,
      "outputs": []
    },
    {
      "cell_type": "code",
      "metadata": {
        "id": "AsAInvjp2Muz"
      },
      "source": [
        "def run_visualization(estimator, X_train, X_test, y_train, y_test):\r\n",
        "  clf = estimator\r\n",
        "  if LogisticRegression :\r\n",
        "  elif MultinomialNB :\r\n",
        "  elif KNeighborsClassifier :\r\n",
        "  elif LinearSVC :\r\n",
        "  elif DecisionTreeClassifier :\r\n",
        "  elif RandomForestClassifier :\r\n",
        "  elif GradientBoostingClassifier :\r\n",
        "  elif XGBClassifier :\r\n",
        "  elif BaggingClassifier :\r\n",
        "  elif StackingClassifier :\r\n",
        "  else VotingClassifier :  \r\n"
      ],
      "execution_count": null,
      "outputs": []
    },
    {
      "cell_type": "markdown",
      "metadata": {
        "id": "uxlH4wqyBsjo"
      },
      "source": [
        "## Logistic Regression"
      ]
    },
    {
      "cell_type": "code",
      "metadata": {
        "id": "l_RXTWZfBsjp",
        "colab": {
          "base_uri": "https://localhost:8080/"
        },
        "outputId": "3d363094-bb41-49d2-8421-42cd17b180b9"
      },
      "source": [
        "run_classification(LogisticRegression(C=5, penalty='l2', solver='liblinear'), X_train_tfidf, X_test_tfidf, y_train1, y_test1)\r\n"
      ],
      "execution_count": 105,
      "outputs": [
        {
          "output_type": "stream",
          "text": [
            "Estimator: Pipeline(memory=None,\n",
            "         steps=[('tfidf',\n",
            "                 TfidfTransformer(norm='l2', smooth_idf=True,\n",
            "                                  sublinear_tf=False, use_idf=True)),\n",
            "                ('clf',\n",
            "                 LogisticRegression(C=5, class_weight=None, dual=False,\n",
            "                                    fit_intercept=True, intercept_scaling=1,\n",
            "                                    l1_ratio=None, max_iter=100,\n",
            "                                    multi_class='auto', n_jobs=None,\n",
            "                                    penalty='l2', random_state=None,\n",
            "                                    solver='liblinear', tol=0.0001, verbose=0,\n",
            "                                    warm_start=False))],\n",
            "         verbose=False)\n",
            "================================================================================\n",
            "Training accuracy: 86.00%\n",
            "Testing accuracy: 73.11%\n",
            "================================================================================\n",
            "Confusion matrix:\n",
            " [[765   0   2 ...   3   6   4]\n",
            " [  3  27   0 ...   0   6   0]\n",
            " [  2   0 164 ...   0  41  15]\n",
            " ...\n",
            " [ 11   0   1 ...  97   0   0]\n",
            " [ 11   1   7 ...   0 905  85]\n",
            " [ 12   0   2 ...   0 172 170]]\n",
            "================================================================================\n",
            "Classification report:\n",
            "               precision    recall  f1-score   support\n",
            "\n",
            "       GRP_0       0.65      0.80      0.72       955\n",
            "       GRP_1       0.82      0.44      0.57        61\n",
            "      GRP_10       0.87      0.67      0.76       246\n",
            "      GRP_11       0.92      0.82      0.87        55\n",
            "      GRP_12       0.80      0.83      0.82       419\n",
            "      GRP_13       0.84      0.90      0.87       259\n",
            "      GRP_14       0.84      0.79      0.81       208\n",
            "      GRP_15       0.91      0.89      0.90        70\n",
            "      GRP_16       0.88      0.86      0.87       150\n",
            "      GRP_17       0.81      0.67      0.73        45\n",
            "      GRP_18       0.88      0.82      0.85       156\n",
            "      GRP_19       0.71      0.80      0.75       386\n",
            "       GRP_2       0.77      0.77      0.77       362\n",
            "      GRP_20       1.00      0.62      0.76        63\n",
            "      GRP_21       0.92      0.85      0.88        52\n",
            "      GRP_22       0.93      0.75      0.83        56\n",
            "      GRP_23       0.82      0.91      0.86        45\n",
            "      GRP_24       0.73      0.81      0.77       407\n",
            "      GRP_25       0.78      0.84      0.81       199\n",
            "      GRP_26       0.88      0.90      0.89        99\n",
            "      GRP_27       0.94      0.53      0.68        32\n",
            "      GRP_28       0.86      0.75      0.80        76\n",
            "      GRP_29       0.89      0.88      0.89       172\n",
            "       GRP_3       0.72      0.75      0.74       367\n",
            "      GRP_30       0.70      0.21      0.32        34\n",
            "      GRP_31       0.68      0.46      0.55        98\n",
            "      GRP_33       0.58      0.57      0.57       212\n",
            "      GRP_34       0.76      0.50      0.61       109\n",
            "      GRP_36       0.86      0.55      0.67        22\n",
            "      GRP_37       1.00      0.79      0.88        29\n",
            "      GRP_39       0.82      0.67      0.74        21\n",
            "       GRP_4       0.82      0.72      0.77       182\n",
            "      GRP_40       0.93      0.80      0.86        81\n",
            "      GRP_41       0.93      0.92      0.92        72\n",
            "      GRP_42       0.77      0.47      0.58        58\n",
            "      GRP_43       0.78      0.78      0.78         9\n",
            "      GRP_44       1.00      0.78      0.88        27\n",
            "      GRP_45       0.81      0.63      0.71        60\n",
            "      GRP_46       1.00      0.29      0.44         7\n",
            "      GRP_47       0.90      0.60      0.72        43\n",
            "      GRP_48       1.00      0.06      0.11        17\n",
            "      GRP_49       1.00      0.75      0.86         8\n",
            "       GRP_5       0.69      0.46      0.56       231\n",
            "      GRP_50       0.88      0.65      0.75        23\n",
            "      GRP_51       1.00      1.00      1.00        14\n",
            "      GRP_52       1.00      0.87      0.93        15\n",
            "      GRP_53       0.93      0.70      0.80        20\n",
            "      GRP_59       1.00      0.78      0.88         9\n",
            "       GRP_6       0.64      0.49      0.56       312\n",
            "      GRP_60       0.69      0.28      0.40        32\n",
            "      GRP_62       0.96      0.53      0.69        43\n",
            "      GRP_65       0.78      0.70      0.74        20\n",
            "       GRP_7       0.91      0.78      0.84       125\n",
            "       GRP_8       0.63      0.81      0.71      1121\n",
            "       GRP_9       0.48      0.42      0.45       404\n",
            "\n",
            "    accuracy                           0.73      8398\n",
            "   macro avg       0.84      0.68      0.74      8398\n",
            "weighted avg       0.74      0.73      0.73      8398\n",
            "\n"
          ],
          "name": "stdout"
        }
      ]
    },
    {
      "cell_type": "code",
      "metadata": {
        "id": "rMmg4gVll_Ry",
        "colab": {
          "base_uri": "https://localhost:8080/",
          "height": 1000
        },
        "outputId": "33b1e672-ea3d-43fb-ac87-5d63a764cc5a"
      },
      "source": [
        "run_classification(LogisticRegression(C=5, penalty='l2', solver='liblinear'), X_train, X_test, y_train, y_test)"
      ],
      "execution_count": 84,
      "outputs": [
        {
          "output_type": "stream",
          "text": [
            "Estimator: Pipeline(memory=None,\n",
            "         steps=[('tfidf',\n",
            "                 TfidfTransformer(norm='l2', smooth_idf=True,\n",
            "                                  sublinear_tf=False, use_idf=True)),\n",
            "                ('clf',\n",
            "                 LogisticRegression(C=5, class_weight=None, dual=False,\n",
            "                                    fit_intercept=True, intercept_scaling=1,\n",
            "                                    l1_ratio=None, max_iter=100,\n",
            "                                    multi_class='auto', n_jobs=None,\n",
            "                                    penalty='l2', random_state=None,\n",
            "                                    solver='liblinear', tol=0.0001, verbose=0,\n",
            "                                    warm_start=False))],\n",
            "         verbose=False)\n",
            "================================================================================\n",
            "Training accuracy: 85.03%\n",
            "Testing accuracy: 73.04%\n",
            "================================================================================\n",
            "Confusion matrix:\n",
            " [[775   0   2 ...   3   2   4]\n",
            " [  4  25   0 ...   0   6   0]\n",
            " [  2   0 161 ...   0  44  12]\n",
            " ...\n",
            " [ 10   0   1 ...  97   1   0]\n",
            " [  7   1   6 ...   0 918  81]\n",
            " [ 11   0   1 ...   0 182 166]]\n",
            "================================================================================\n",
            "Classification report:\n",
            "               precision    recall  f1-score   support\n",
            "\n",
            "       GRP_0       0.66      0.81      0.73       955\n",
            "       GRP_1       0.86      0.41      0.56        61\n",
            "      GRP_10       0.89      0.65      0.75       246\n",
            "      GRP_11       0.91      0.78      0.84        55\n",
            "      GRP_12       0.79      0.84      0.81       419\n",
            "      GRP_13       0.84      0.88      0.86       259\n",
            "      GRP_14       0.84      0.76      0.80       208\n",
            "      GRP_15       0.93      0.90      0.91        70\n",
            "      GRP_16       0.88      0.85      0.86       150\n",
            "      GRP_17       0.83      0.76      0.79        45\n",
            "      GRP_18       0.88      0.82      0.85       156\n",
            "      GRP_19       0.71      0.78      0.75       386\n",
            "       GRP_2       0.77      0.77      0.77       362\n",
            "      GRP_20       0.95      0.60      0.74        63\n",
            "      GRP_21       0.93      0.81      0.87        52\n",
            "      GRP_22       0.91      0.75      0.82        56\n",
            "      GRP_23       0.84      0.91      0.87        45\n",
            "      GRP_24       0.71      0.80      0.75       407\n",
            "      GRP_25       0.77      0.83      0.80       199\n",
            "      GRP_26       0.83      0.90      0.86        99\n",
            "      GRP_27       0.94      0.47      0.62        32\n",
            "      GRP_28       0.85      0.72      0.78        76\n",
            "      GRP_29       0.87      0.88      0.87       172\n",
            "       GRP_3       0.71      0.74      0.72       367\n",
            "      GRP_30       0.70      0.21      0.32        34\n",
            "      GRP_31       0.66      0.49      0.56        98\n",
            "      GRP_33       0.56      0.56      0.56       212\n",
            "      GRP_34       0.81      0.50      0.62       109\n",
            "      GRP_36       0.76      0.59      0.67        22\n",
            "      GRP_37       1.00      0.86      0.93        29\n",
            "      GRP_39       0.93      0.62      0.74        21\n",
            "       GRP_4       0.80      0.71      0.76       182\n",
            "      GRP_40       0.92      0.83      0.87        81\n",
            "      GRP_41       0.96      0.93      0.94        72\n",
            "      GRP_42       0.85      0.48      0.62        58\n",
            "      GRP_43       1.00      0.78      0.88         9\n",
            "      GRP_44       1.00      0.89      0.94        27\n",
            "      GRP_45       0.84      0.63      0.72        60\n",
            "      GRP_46       1.00      0.43      0.60         7\n",
            "      GRP_47       0.91      0.49      0.64        43\n",
            "      GRP_48       0.50      0.06      0.11        17\n",
            "      GRP_49       1.00      0.62      0.77         8\n",
            "       GRP_5       0.69      0.46      0.55       231\n",
            "      GRP_50       0.88      0.61      0.72        23\n",
            "      GRP_51       1.00      1.00      1.00        14\n",
            "      GRP_52       1.00      0.80      0.89        15\n",
            "      GRP_53       0.93      0.65      0.76        20\n",
            "      GRP_59       1.00      1.00      1.00         9\n",
            "       GRP_6       0.68      0.49      0.57       312\n",
            "      GRP_60       0.75      0.28      0.41        32\n",
            "      GRP_62       1.00      0.58      0.74        43\n",
            "      GRP_65       0.79      0.75      0.77        20\n",
            "       GRP_7       0.89      0.78      0.83       125\n",
            "       GRP_8       0.62      0.82      0.71      1121\n",
            "       GRP_9       0.50      0.41      0.45       404\n",
            "\n",
            "    accuracy                           0.73      8398\n",
            "   macro avg       0.84      0.69      0.74      8398\n",
            "weighted avg       0.74      0.73      0.73      8398\n",
            "\n"
          ],
          "name": "stdout"
        },
        {
          "output_type": "display_data",
          "data": {
            "image/png": "[encoded data removed]",
            "text/plain": [
              "<Figure size 576x576 with 1 Axes>"
            ]
          },
          "metadata": {
            "tags": [],
            "needs_background": "light"
          }
        }
      ]
    },
    {
      "cell_type": "markdown",
      "metadata": {
        "id": "S7r6p2SGBsjp"
      },
      "source": [
        "## Naive Bayes Classifier"
      ]
    },
    {
      "cell_type": "code",
      "metadata": {
        "id": "6hlgbYXyBsjp",
        "colab": {
          "base_uri": "https://localhost:8080/",
          "height": 1000
        },
        "outputId": "3f458d89-dda0-4676-90ef-b9f6ad6165c7"
      },
      "source": [
        "run_classification(MultinomialNB(alpha=0, class_prior=None, fit_prior='True'), X_train_tfidf, X_test_tfidf, y_train1, y_test1)"
      ],
      "execution_count": 85,
      "outputs": [
        {
          "output_type": "stream",
          "text": [
            "/usr/local/lib/python3.6/dist-packages/sklearn/naive_bayes.py:507: UserWarning:\n",
            "\n",
            "alpha too small will result in numeric errors, setting alpha = 1.0e-10\n",
            "\n"
          ],
          "name": "stderr"
        },
        {
          "output_type": "stream",
          "text": [
            "Estimator: Pipeline(memory=None,\n",
            "         steps=[('tfidf',\n",
            "                 TfidfTransformer(norm='l2', smooth_idf=True,\n",
            "                                  sublinear_tf=False, use_idf=True)),\n",
            "                ('clf',\n",
            "                 MultinomialNB(alpha=0, class_prior=None, fit_prior='True'))],\n",
            "         verbose=False)\n",
            "================================================================================\n",
            "Training accuracy: 81.13%\n",
            "Testing accuracy: 60.42%\n",
            "================================================================================\n",
            "Confusion matrix:\n",
            " [[759   0   2 ...   6  13   2]\n",
            " [  4  12   0 ...   0   8   1]\n",
            " [ 11   0 132 ...   0  41  24]\n",
            " ...\n",
            " [ 25   0   2 ...  69   0   1]\n",
            " [  9   1  10 ...   1 794 143]\n",
            " [ 23   0   3 ...   0 138 179]]\n",
            "================================================================================\n",
            "Classification report:\n",
            "               precision    recall  f1-score   support\n",
            "\n",
            "       GRP_0       0.51      0.79      0.62       955\n",
            "       GRP_1       0.60      0.20      0.30        61\n",
            "      GRP_10       0.73      0.54      0.62       246\n",
            "      GRP_11       0.90      0.51      0.65        55\n",
            "      GRP_12       0.56      0.71      0.63       419\n",
            "      GRP_13       0.67      0.85      0.75       259\n",
            "      GRP_14       0.73      0.62      0.67       208\n",
            "      GRP_15       0.91      0.43      0.58        70\n",
            "      GRP_16       0.75      0.59      0.66       150\n",
            "      GRP_17       0.70      0.36      0.47        45\n",
            "      GRP_18       0.70      0.72      0.71       156\n",
            "      GRP_19       0.56      0.63      0.59       386\n",
            "       GRP_2       0.57      0.65      0.61       362\n",
            "      GRP_20       0.97      0.57      0.72        63\n",
            "      GRP_21       0.89      0.63      0.74        52\n",
            "      GRP_22       0.90      0.50      0.64        56\n",
            "      GRP_23       0.90      0.58      0.70        45\n",
            "      GRP_24       0.74      0.71      0.72       407\n",
            "      GRP_25       0.68      0.62      0.65       199\n",
            "      GRP_26       0.81      0.61      0.69        99\n",
            "      GRP_27       0.91      0.31      0.47        32\n",
            "      GRP_28       0.89      0.51      0.65        76\n",
            "      GRP_29       0.76      0.69      0.72       172\n",
            "       GRP_3       0.53      0.59      0.56       367\n",
            "      GRP_30       0.50      0.21      0.29        34\n",
            "      GRP_31       0.66      0.21      0.32        98\n",
            "      GRP_33       0.47      0.48      0.48       212\n",
            "      GRP_34       0.76      0.32      0.45       109\n",
            "      GRP_36       0.90      0.41      0.56        22\n",
            "      GRP_37       0.93      0.45      0.60        29\n",
            "      GRP_39       0.38      0.14      0.21        21\n",
            "       GRP_4       0.67      0.55      0.60       182\n",
            "      GRP_40       0.80      0.46      0.58        81\n",
            "      GRP_41       0.95      0.72      0.82        72\n",
            "      GRP_42       0.70      0.36      0.48        58\n",
            "      GRP_43       1.00      0.33      0.50         9\n",
            "      GRP_44       1.00      0.56      0.71        27\n",
            "      GRP_45       0.88      0.48      0.62        60\n",
            "      GRP_46       1.00      0.14      0.25         7\n",
            "      GRP_47       0.80      0.28      0.41        43\n",
            "      GRP_48       0.25      0.06      0.10        17\n",
            "      GRP_49       1.00      0.50      0.67         8\n",
            "       GRP_5       0.58      0.41      0.48       231\n",
            "      GRP_50       0.64      0.30      0.41        23\n",
            "      GRP_51       1.00      0.71      0.83        14\n",
            "      GRP_52       1.00      0.33      0.50        15\n",
            "      GRP_53       0.75      0.30      0.43        20\n",
            "      GRP_59       1.00      0.67      0.80         9\n",
            "       GRP_6       0.61      0.40      0.49       312\n",
            "      GRP_60       0.64      0.22      0.33        32\n",
            "      GRP_62       0.94      0.40      0.56        43\n",
            "      GRP_65       0.90      0.45      0.60        20\n",
            "       GRP_7       0.79      0.55      0.65       125\n",
            "       GRP_8       0.59      0.71      0.64      1121\n",
            "       GRP_9       0.37      0.44      0.40       404\n",
            "\n",
            "    accuracy                           0.60      8398\n",
            "   macro avg       0.75      0.48      0.56      8398\n",
            "weighted avg       0.63      0.60      0.60      8398\n",
            "\n"
          ],
          "name": "stdout"
        },
        {
          "output_type": "display_data",
          "data": {
            "image/png": "[encoded data removed]",
            "text/plain": [
              "<Figure size 576x576 with 1 Axes>"
            ]
          },
          "metadata": {
            "tags": [],
            "needs_background": "light"
          }
        }
      ]
    },
    {
      "cell_type": "code",
      "metadata": {
        "id": "JarYQspdl_Rz",
        "colab": {
          "base_uri": "https://localhost:8080/"
        },
        "outputId": "3ee70bc9-8e31-4c5b-aee4-568e35a99824"
      },
      "source": [
        "run_classification(MultinomialNB(alpha=0, class_prior=None, fit_prior='True'), X_train, X_test, y_train, y_test)"
      ],
      "execution_count": null,
      "outputs": [
        {
          "output_type": "stream",
          "text": [
            "/usr/local/lib/python3.6/dist-packages/sklearn/naive_bayes.py:507: UserWarning:\n",
            "\n",
            "alpha too small will result in numeric errors, setting alpha = 1.0e-10\n",
            "\n"
          ],
          "name": "stderr"
        },
        {
          "output_type": "stream",
          "text": [
            "Estimator: Pipeline(memory=None,\n",
            "         steps=[('tfidf',\n",
            "                 TfidfTransformer(norm='l2', smooth_idf=True,\n",
            "                                  sublinear_tf=False, use_idf=True)),\n",
            "                ('clf',\n",
            "                 MultinomialNB(alpha=0, class_prior=None, fit_prior='True'))],\n",
            "         verbose=False)\n",
            "================================================================================\n",
            "Training accuracy: 80.57%\n",
            "Testing accuracy: 61.04%\n",
            "================================================================================\n",
            "Confusion matrix:\n",
            " [[783   0   2 ...   6  10   2]\n",
            " [  4  11   0 ...   0   9   1]\n",
            " [ 10   0 130 ...   0  48  18]\n",
            " ...\n",
            " [ 26   0   2 ...  69   0   1]\n",
            " [  8   1   9 ...   1 829 124]\n",
            " [ 24   0   4 ...   0 161 161]]\n",
            "================================================================================\n",
            "Classification report:\n",
            "               precision    recall  f1-score   support\n",
            "\n",
            "       GRP_0       0.50      0.82      0.62       955\n",
            "       GRP_1       0.61      0.18      0.28        61\n",
            "      GRP_10       0.73      0.53      0.61       246\n",
            "      GRP_11       0.88      0.51      0.64        55\n",
            "      GRP_12       0.57      0.71      0.63       419\n",
            "      GRP_13       0.67      0.84      0.74       259\n",
            "      GRP_14       0.76      0.62      0.69       208\n",
            "      GRP_15       0.91      0.44      0.60        70\n",
            "      GRP_16       0.77      0.61      0.68       150\n",
            "      GRP_17       0.65      0.33      0.44        45\n",
            "      GRP_18       0.71      0.72      0.72       156\n",
            "      GRP_19       0.58      0.63      0.60       386\n",
            "       GRP_2       0.57      0.64      0.60       362\n",
            "      GRP_20       0.97      0.56      0.71        63\n",
            "      GRP_21       0.89      0.62      0.73        52\n",
            "      GRP_22       0.90      0.50      0.64        56\n",
            "      GRP_23       0.89      0.53      0.67        45\n",
            "      GRP_24       0.75      0.72      0.74       407\n",
            "      GRP_25       0.70      0.63      0.67       199\n",
            "      GRP_26       0.86      0.62      0.72        99\n",
            "      GRP_27       0.91      0.31      0.47        32\n",
            "      GRP_28       0.90      0.50      0.64        76\n",
            "      GRP_29       0.78      0.71      0.74       172\n",
            "       GRP_3       0.55      0.60      0.57       367\n",
            "      GRP_30       0.50      0.18      0.26        34\n",
            "      GRP_31       0.64      0.21      0.32        98\n",
            "      GRP_33       0.47      0.48      0.48       212\n",
            "      GRP_34       0.72      0.30      0.43       109\n",
            "      GRP_36       0.89      0.36      0.52        22\n",
            "      GRP_37       0.93      0.45      0.60        29\n",
            "      GRP_39       0.50      0.14      0.22        21\n",
            "       GRP_4       0.68      0.58      0.63       182\n",
            "      GRP_40       0.85      0.48      0.61        81\n",
            "      GRP_41       0.98      0.74      0.84        72\n",
            "      GRP_42       0.70      0.36      0.48        58\n",
            "      GRP_43       1.00      0.33      0.50         9\n",
            "      GRP_44       1.00      0.56      0.71        27\n",
            "      GRP_45       0.88      0.50      0.64        60\n",
            "      GRP_46       1.00      0.14      0.25         7\n",
            "      GRP_47       0.92      0.26      0.40        43\n",
            "      GRP_48       0.25      0.06      0.10        17\n",
            "      GRP_49       1.00      0.38      0.55         8\n",
            "       GRP_5       0.60      0.40      0.48       231\n",
            "      GRP_50       0.64      0.30      0.41        23\n",
            "      GRP_51       1.00      0.71      0.83        14\n",
            "      GRP_52       1.00      0.33      0.50        15\n",
            "      GRP_53       0.86      0.30      0.44        20\n",
            "      GRP_59       1.00      0.67      0.80         9\n",
            "       GRP_6       0.67      0.41      0.51       312\n",
            "      GRP_60       0.88      0.22      0.35        32\n",
            "      GRP_62       0.94      0.40      0.56        43\n",
            "      GRP_65       0.90      0.45      0.60        20\n",
            "       GRP_7       0.82      0.55      0.66       125\n",
            "       GRP_8       0.58      0.74      0.65      1121\n",
            "       GRP_9       0.38      0.40      0.39       404\n",
            "\n",
            "    accuracy                           0.61      8398\n",
            "   macro avg       0.77      0.48      0.56      8398\n",
            "weighted avg       0.64      0.61      0.60      8398\n",
            "\n"
          ],
          "name": "stdout"
        }
      ]
    },
    {
      "cell_type": "markdown",
      "metadata": {
        "id": "gs5ztA2kBsjp"
      },
      "source": [
        "## K-nearest Neighbor"
      ]
    },
    {
      "cell_type": "code",
      "metadata": {
        "id": "A4qwMKt7Bsjq",
        "colab": {
          "base_uri": "https://localhost:8080/"
        },
        "outputId": "10d6e844-6ae1-4537-f430-0b94a57c6a35"
      },
      "source": [
        "run_classification(KNeighborsClassifier(algorithm='auto', leaf_size=30, metric='euclidean',\n",
        "                     metric_params=None, n_jobs=None, n_neighbors=2, p=2,\n",
        "                     weights='distance'), X_train_tfidf, X_test_tfidf, y_train1, y_test1)"
      ],
      "execution_count": null,
      "outputs": [
        {
          "output_type": "stream",
          "text": [
            "Estimator: Pipeline(memory=None,\n",
            "         steps=[('tfidf',\n",
            "                 TfidfTransformer(norm='l2', smooth_idf=True,\n",
            "                                  sublinear_tf=False, use_idf=True)),\n",
            "                ('clf',\n",
            "                 KNeighborsClassifier(algorithm='auto', leaf_size=30,\n",
            "                                      metric='euclidean', metric_params=None,\n",
            "                                      n_jobs=None, n_neighbors=2, p=2,\n",
            "                                      weights='distance'))],\n",
            "         verbose=False)\n",
            "================================================================================\n",
            "Training accuracy: 97.30%\n",
            "Testing accuracy: 73.24%\n",
            "================================================================================\n",
            "Confusion matrix:\n",
            " [[597   0   5 ...   6   4   5]\n",
            " [  0  40   0 ...   0   6   0]\n",
            " [  0   0 175 ...   0  23  14]\n",
            " ...\n",
            " [  6   0   0 ...  99   0   0]\n",
            " [  8   4  64 ...   1 738  91]\n",
            " [  1   4  35 ...   0  74 178]]\n",
            "================================================================================\n",
            "Classification report:\n",
            "               precision    recall  f1-score   support\n",
            "\n",
            "       GRP_0       0.79      0.63      0.70       955\n",
            "       GRP_1       0.74      0.66      0.70        61\n",
            "      GRP_10       0.54      0.71      0.62       246\n",
            "      GRP_11       1.00      0.87      0.93        55\n",
            "      GRP_12       0.89      0.83      0.86       419\n",
            "      GRP_13       0.96      0.93      0.94       259\n",
            "      GRP_14       0.91      0.91      0.91       208\n",
            "      GRP_15       0.97      0.89      0.93        70\n",
            "      GRP_16       0.92      0.87      0.90       150\n",
            "      GRP_17       0.86      0.67      0.75        45\n",
            "      GRP_18       0.93      0.87      0.90       156\n",
            "      GRP_19       0.90      0.87      0.88       386\n",
            "       GRP_2       0.91      0.81      0.85       362\n",
            "      GRP_20       0.95      0.87      0.91        63\n",
            "      GRP_21       0.93      0.98      0.95        52\n",
            "      GRP_22       0.96      0.86      0.91        56\n",
            "      GRP_23       0.97      0.78      0.86        45\n",
            "      GRP_24       0.73      0.78      0.76       407\n",
            "      GRP_25       0.85      0.85      0.85       199\n",
            "      GRP_26       0.92      0.92      0.92        99\n",
            "      GRP_27       0.68      0.88      0.77        32\n",
            "      GRP_28       0.83      0.83      0.83        76\n",
            "      GRP_29       0.92      0.90      0.91       172\n",
            "       GRP_3       0.89      0.87      0.88       367\n",
            "      GRP_30       0.04      0.59      0.07        34\n",
            "      GRP_31       0.49      0.53      0.51        98\n",
            "      GRP_33       0.65      0.64      0.64       212\n",
            "      GRP_34       0.71      0.67      0.69       109\n",
            "      GRP_36       0.79      0.68      0.73        22\n",
            "      GRP_37       0.96      0.90      0.93        29\n",
            "      GRP_39       0.84      0.76      0.80        21\n",
            "       GRP_4       0.89      0.84      0.87       182\n",
            "      GRP_40       0.96      0.89      0.92        81\n",
            "      GRP_41       1.00      0.97      0.99        72\n",
            "      GRP_42       0.62      0.50      0.55        58\n",
            "      GRP_43       0.88      0.78      0.82         9\n",
            "      GRP_44       0.96      0.85      0.90        27\n",
            "      GRP_45       0.74      0.72      0.73        60\n",
            "      GRP_46       0.78      1.00      0.88         7\n",
            "      GRP_47       0.65      0.72      0.68        43\n",
            "      GRP_48       0.08      0.06      0.07        17\n",
            "      GRP_49       1.00      0.88      0.93         8\n",
            "       GRP_5       0.58      0.48      0.53       231\n",
            "      GRP_50       0.95      0.78      0.86        23\n",
            "      GRP_51       1.00      1.00      1.00        14\n",
            "      GRP_52       0.82      0.93      0.87        15\n",
            "      GRP_53       0.88      0.75      0.81        20\n",
            "      GRP_59       1.00      1.00      1.00         9\n",
            "       GRP_6       0.59      0.51      0.54       312\n",
            "      GRP_60       0.20      0.44      0.28        32\n",
            "      GRP_62       0.67      0.65      0.66        43\n",
            "      GRP_65       0.86      0.95      0.90        20\n",
            "       GRP_7       0.89      0.79      0.84       125\n",
            "       GRP_8       0.74      0.66      0.70      1121\n",
            "       GRP_9       0.49      0.44      0.46       404\n",
            "\n",
            "    accuracy                           0.73      8398\n",
            "   macro avg       0.79      0.77      0.77      8398\n",
            "weighted avg       0.78      0.73      0.75      8398\n",
            "\n"
          ],
          "name": "stdout"
        }
      ]
    },
    {
      "cell_type": "code",
      "metadata": {
        "id": "I3jiu7Z4l_R0",
        "colab": {
          "base_uri": "https://localhost:8080/"
        },
        "outputId": "9e6aed1d-51b0-4e80-ba9f-502a1abc9629"
      },
      "source": [
        "run_classification(KNeighborsClassifier(algorithm='auto', leaf_size=30, metric='euclidean',\n",
        "                     metric_params=None, n_jobs=None, n_neighbors=2, p=2,\n",
        "                     weights='distance'), X_train, X_test, y_train, y_test)"
      ],
      "execution_count": null,
      "outputs": [
        {
          "output_type": "stream",
          "text": [
            "Estimator: Pipeline(memory=None,\n",
            "         steps=[('tfidf',\n",
            "                 TfidfTransformer(norm='l2', smooth_idf=True,\n",
            "                                  sublinear_tf=False, use_idf=True)),\n",
            "                ('clf',\n",
            "                 KNeighborsClassifier(algorithm='auto', leaf_size=30,\n",
            "                                      metric='euclidean', metric_params=None,\n",
            "                                      n_jobs=None, n_neighbors=2, p=2,\n",
            "                                      weights='distance'))],\n",
            "         verbose=False)\n",
            "================================================================================\n",
            "Training accuracy: 97.30%\n",
            "Testing accuracy: 75.32%\n",
            "================================================================================\n",
            "Confusion matrix:\n",
            " [[601   0   2 ...   5   2   4]\n",
            " [  0  39   0 ...   0   6   0]\n",
            " [  0   0 180 ...   0  23  13]\n",
            " ...\n",
            " [  8   0   0 ... 105   0   0]\n",
            " [  6   4  67 ...   0 744  96]\n",
            " [  1   3  40 ...   0  93 176]]\n",
            "================================================================================\n",
            "Classification report:\n",
            "               precision    recall  f1-score   support\n",
            "\n",
            "       GRP_0       0.82      0.63      0.71       955\n",
            "       GRP_1       0.75      0.64      0.69        61\n",
            "      GRP_10       0.55      0.73      0.63       246\n",
            "      GRP_11       1.00      0.89      0.94        55\n",
            "      GRP_12       0.89      0.87      0.88       419\n",
            "      GRP_13       0.96      0.93      0.95       259\n",
            "      GRP_14       0.93      0.93      0.93       208\n",
            "      GRP_15       0.97      0.96      0.96        70\n",
            "      GRP_16       0.97      0.93      0.95       150\n",
            "      GRP_17       0.79      0.67      0.72        45\n",
            "      GRP_18       0.94      0.91      0.93       156\n",
            "      GRP_19       0.94      0.91      0.93       386\n",
            "       GRP_2       0.91      0.86      0.88       362\n",
            "      GRP_20       0.98      0.90      0.94        63\n",
            "      GRP_21       0.94      0.98      0.96        52\n",
            "      GRP_22       0.96      0.96      0.96        56\n",
            "      GRP_23       0.97      0.84      0.90        45\n",
            "      GRP_24       0.75      0.78      0.77       407\n",
            "      GRP_25       0.88      0.88      0.88       199\n",
            "      GRP_26       0.93      0.94      0.93        99\n",
            "      GRP_27       0.81      0.94      0.87        32\n",
            "      GRP_28       0.83      0.86      0.84        76\n",
            "      GRP_29       0.95      0.91      0.93       172\n",
            "       GRP_3       0.94      0.89      0.91       367\n",
            "      GRP_30       0.04      0.65      0.08        34\n",
            "      GRP_31       0.52      0.57      0.54        98\n",
            "      GRP_33       0.69      0.66      0.67       212\n",
            "      GRP_34       0.75      0.72      0.73       109\n",
            "      GRP_36       0.79      0.68      0.73        22\n",
            "      GRP_37       0.97      0.97      0.97        29\n",
            "      GRP_39       0.84      0.76      0.80        21\n",
            "       GRP_4       0.89      0.89      0.89       182\n",
            "      GRP_40       0.97      0.93      0.95        81\n",
            "      GRP_41       0.99      0.97      0.98        72\n",
            "      GRP_42       0.67      0.53      0.60        58\n",
            "      GRP_43       1.00      0.78      0.88         9\n",
            "      GRP_44       1.00      0.96      0.98        27\n",
            "      GRP_45       0.75      0.77      0.76        60\n",
            "      GRP_46       0.78      1.00      0.88         7\n",
            "      GRP_47       0.65      0.72      0.68        43\n",
            "      GRP_48       0.08      0.06      0.07        17\n",
            "      GRP_49       1.00      0.88      0.93         8\n",
            "       GRP_5       0.62      0.47      0.53       231\n",
            "      GRP_50       0.95      0.78      0.86        23\n",
            "      GRP_51       1.00      1.00      1.00        14\n",
            "      GRP_52       0.82      0.93      0.87        15\n",
            "      GRP_53       0.89      0.80      0.84        20\n",
            "      GRP_59       1.00      1.00      1.00         9\n",
            "       GRP_6       0.60      0.52      0.56       312\n",
            "      GRP_60       0.21      0.47      0.29        32\n",
            "      GRP_62       0.71      0.67      0.69        43\n",
            "      GRP_65       0.71      1.00      0.83        20\n",
            "       GRP_7       0.95      0.84      0.89       125\n",
            "       GRP_8       0.72      0.66      0.69      1121\n",
            "       GRP_9       0.49      0.44      0.46       404\n",
            "\n",
            "    accuracy                           0.75      8398\n",
            "   macro avg       0.81      0.80      0.79      8398\n",
            "weighted avg       0.80      0.75      0.77      8398\n",
            "\n"
          ],
          "name": "stdout"
        }
      ]
    },
    {
      "cell_type": "markdown",
      "metadata": {
        "id": "BDMha2lxBsjq"
      },
      "source": [
        "## Support Vector Machine (SVM)"
      ]
    },
    {
      "cell_type": "code",
      "metadata": {
        "id": "jBc7yY11Bsjq",
        "colab": {
          "base_uri": "https://localhost:8080/"
        },
        "outputId": "5a32b4d6-dfe6-46e6-c0e8-381e2bfd8d77"
      },
      "source": [
        "run_classification(LinearSVC(C=1), X_train_tfidf, X_test_tfidf, y_train1, y_test1)"
      ],
      "execution_count": null,
      "outputs": [
        {
          "output_type": "stream",
          "text": [
            "Estimator: Pipeline(memory=None,\n",
            "         steps=[('tfidf',\n",
            "                 TfidfTransformer(norm='l2', smooth_idf=True,\n",
            "                                  sublinear_tf=False, use_idf=True)),\n",
            "                ('clf',\n",
            "                 LinearSVC(C=1, class_weight=None, dual=True,\n",
            "                           fit_intercept=True, intercept_scaling=1,\n",
            "                           loss='squared_hinge', max_iter=1000,\n",
            "                           multi_class='ovr', penalty='l2', random_state=None,\n",
            "                           tol=0.0001, verbose=0))],\n",
            "         verbose=False)\n",
            "================================================================================\n",
            "Training accuracy: 88.48%\n",
            "Testing accuracy: 73.85%\n",
            "================================================================================\n",
            "Confusion matrix:\n",
            " [[719   1   5 ...   4   8   9]\n",
            " [  0  30   0 ...   0   5   0]\n",
            " [  1   0 166 ...   0  39  17]\n",
            " ...\n",
            " [  8   0   1 ... 101   0   0]\n",
            " [  9   1   9 ...   0 874  91]\n",
            " [  9   0   3 ...   0 164 164]]\n",
            "================================================================================\n",
            "Classification report:\n",
            "               precision    recall  f1-score   support\n",
            "\n",
            "       GRP_0       0.71      0.75      0.73       955\n",
            "       GRP_1       0.75      0.49      0.59        61\n",
            "      GRP_10       0.85      0.67      0.75       246\n",
            "      GRP_11       0.82      0.91      0.86        55\n",
            "      GRP_12       0.82      0.83      0.83       419\n",
            "      GRP_13       0.86      0.91      0.89       259\n",
            "      GRP_14       0.82      0.81      0.81       208\n",
            "      GRP_15       0.94      0.90      0.92        70\n",
            "      GRP_16       0.87      0.90      0.89       150\n",
            "      GRP_17       0.87      0.73      0.80        45\n",
            "      GRP_18       0.87      0.84      0.85       156\n",
            "      GRP_19       0.73      0.79      0.76       386\n",
            "       GRP_2       0.79      0.77      0.78       362\n",
            "      GRP_20       0.94      0.79      0.86        63\n",
            "      GRP_21       0.88      0.94      0.91        52\n",
            "      GRP_22       0.92      0.79      0.85        56\n",
            "      GRP_23       0.85      0.91      0.88        45\n",
            "      GRP_24       0.73      0.81      0.77       407\n",
            "      GRP_25       0.79      0.85      0.82       199\n",
            "      GRP_26       0.90      0.94      0.92        99\n",
            "      GRP_27       0.79      0.59      0.68        32\n",
            "      GRP_28       0.82      0.83      0.82        76\n",
            "      GRP_29       0.86      0.88      0.87       172\n",
            "       GRP_3       0.73      0.74      0.74       367\n",
            "      GRP_30       0.56      0.15      0.23        34\n",
            "      GRP_31       0.62      0.51      0.56        98\n",
            "      GRP_33       0.58      0.57      0.57       212\n",
            "      GRP_34       0.76      0.61      0.67       109\n",
            "      GRP_36       0.76      0.59      0.67        22\n",
            "      GRP_37       0.90      0.93      0.92        29\n",
            "      GRP_39       0.76      0.76      0.76        21\n",
            "       GRP_4       0.79      0.75      0.77       182\n",
            "      GRP_40       0.91      0.85      0.88        81\n",
            "      GRP_41       0.91      0.93      0.92        72\n",
            "      GRP_42       0.76      0.50      0.60        58\n",
            "      GRP_43       0.70      0.78      0.74         9\n",
            "      GRP_44       1.00      0.89      0.94        27\n",
            "      GRP_45       0.79      0.68      0.73        60\n",
            "      GRP_46       1.00      0.71      0.83         7\n",
            "      GRP_47       0.81      0.70      0.75        43\n",
            "      GRP_48       0.33      0.06      0.10        17\n",
            "      GRP_49       1.00      0.88      0.93         8\n",
            "       GRP_5       0.64      0.52      0.57       231\n",
            "      GRP_50       0.83      0.83      0.83        23\n",
            "      GRP_51       1.00      1.00      1.00        14\n",
            "      GRP_52       0.88      1.00      0.94        15\n",
            "      GRP_53       0.93      0.70      0.80        20\n",
            "      GRP_59       1.00      0.78      0.88         9\n",
            "       GRP_6       0.62      0.49      0.55       312\n",
            "      GRP_60       0.74      0.44      0.55        32\n",
            "      GRP_62       0.93      0.58      0.71        43\n",
            "      GRP_65       0.80      1.00      0.89        20\n",
            "       GRP_7       0.88      0.81      0.84       125\n",
            "       GRP_8       0.64      0.78      0.70      1121\n",
            "       GRP_9       0.45      0.41      0.43       404\n",
            "\n",
            "    accuracy                           0.74      8398\n",
            "   macro avg       0.80      0.74      0.76      8398\n",
            "weighted avg       0.74      0.74      0.73      8398\n",
            "\n"
          ],
          "name": "stdout"
        }
      ]
    },
    {
      "cell_type": "code",
      "metadata": {
        "id": "4yQGz1JMl_R1",
        "colab": {
          "base_uri": "https://localhost:8080/"
        },
        "outputId": "8f54ff72-363d-40fe-b8e5-6ed7fcc01043"
      },
      "source": [
        "run_classification(LinearSVC(C=1), X_train, X_test, y_train, y_test)"
      ],
      "execution_count": null,
      "outputs": [
        {
          "output_type": "stream",
          "text": [
            "Estimator: Pipeline(memory=None,\n",
            "         steps=[('tfidf',\n",
            "                 TfidfTransformer(norm='l2', smooth_idf=True,\n",
            "                                  sublinear_tf=False, use_idf=True)),\n",
            "                ('clf',\n",
            "                 LinearSVC(C=1, class_weight=None, dual=True,\n",
            "                           fit_intercept=True, intercept_scaling=1,\n",
            "                           loss='squared_hinge', max_iter=1000,\n",
            "                           multi_class='ovr', penalty='l2', random_state=None,\n",
            "                           tol=0.0001, verbose=0))],\n",
            "         verbose=False)\n",
            "================================================================================\n",
            "Training accuracy: 87.79%\n",
            "Testing accuracy: 74.46%\n",
            "================================================================================\n",
            "Confusion matrix:\n",
            " [[732   0   3 ...   3   3   7]\n",
            " [  0  31   0 ...   0   5   0]\n",
            " [  1   0 165 ...   0  41  15]\n",
            " ...\n",
            " [  8   0   1 ... 102   0   0]\n",
            " [  6   1   7 ...   0 901  84]\n",
            " [  9   0   4 ...   0 175 165]]\n",
            "================================================================================\n",
            "Classification report:\n",
            "               precision    recall  f1-score   support\n",
            "\n",
            "       GRP_0       0.71      0.77      0.73       955\n",
            "       GRP_1       0.82      0.51      0.63        61\n",
            "      GRP_10       0.86      0.67      0.76       246\n",
            "      GRP_11       0.89      0.89      0.89        55\n",
            "      GRP_12       0.83      0.84      0.84       419\n",
            "      GRP_13       0.86      0.89      0.88       259\n",
            "      GRP_14       0.83      0.79      0.81       208\n",
            "      GRP_15       0.94      0.94      0.94        70\n",
            "      GRP_16       0.88      0.92      0.90       150\n",
            "      GRP_17       0.88      0.78      0.82        45\n",
            "      GRP_18       0.87      0.84      0.86       156\n",
            "      GRP_19       0.73      0.79      0.76       386\n",
            "       GRP_2       0.79      0.77      0.78       362\n",
            "      GRP_20       0.96      0.76      0.85        63\n",
            "      GRP_21       0.89      0.90      0.90        52\n",
            "      GRP_22       0.90      0.80      0.85        56\n",
            "      GRP_23       0.86      0.93      0.89        45\n",
            "      GRP_24       0.73      0.81      0.77       407\n",
            "      GRP_25       0.78      0.85      0.82       199\n",
            "      GRP_26       0.88      0.94      0.91        99\n",
            "      GRP_27       0.74      0.62      0.68        32\n",
            "      GRP_28       0.85      0.82      0.83        76\n",
            "      GRP_29       0.87      0.89      0.88       172\n",
            "       GRP_3       0.75      0.75      0.75       367\n",
            "      GRP_30       0.55      0.18      0.27        34\n",
            "      GRP_31       0.65      0.52      0.58        98\n",
            "      GRP_33       0.57      0.56      0.57       212\n",
            "      GRP_34       0.76      0.61      0.68       109\n",
            "      GRP_36       0.70      0.64      0.67        22\n",
            "      GRP_37       0.90      0.90      0.90        29\n",
            "      GRP_39       0.79      0.71      0.75        21\n",
            "       GRP_4       0.80      0.75      0.77       182\n",
            "      GRP_40       0.91      0.84      0.87        81\n",
            "      GRP_41       0.96      0.93      0.94        72\n",
            "      GRP_42       0.81      0.52      0.63        58\n",
            "      GRP_43       0.88      0.78      0.82         9\n",
            "      GRP_44       1.00      0.89      0.94        27\n",
            "      GRP_45       0.84      0.70      0.76        60\n",
            "      GRP_46       1.00      0.71      0.83         7\n",
            "      GRP_47       0.85      0.67      0.75        43\n",
            "      GRP_48       0.33      0.06      0.10        17\n",
            "      GRP_49       1.00      0.88      0.93         8\n",
            "       GRP_5       0.67      0.51      0.58       231\n",
            "      GRP_50       0.91      0.87      0.89        23\n",
            "      GRP_51       1.00      1.00      1.00        14\n",
            "      GRP_52       0.88      1.00      0.94        15\n",
            "      GRP_53       1.00      0.70      0.82        20\n",
            "      GRP_59       1.00      1.00      1.00         9\n",
            "       GRP_6       0.65      0.50      0.57       312\n",
            "      GRP_60       0.78      0.44      0.56        32\n",
            "      GRP_62       0.87      0.63      0.73        43\n",
            "      GRP_65       0.79      0.95      0.86        20\n",
            "       GRP_7       0.89      0.82      0.85       125\n",
            "       GRP_8       0.64      0.80      0.71      1121\n",
            "       GRP_9       0.48      0.41      0.44       404\n",
            "\n",
            "    accuracy                           0.74      8398\n",
            "   macro avg       0.82      0.74      0.77      8398\n",
            "weighted avg       0.75      0.74      0.74      8398\n",
            "\n"
          ],
          "name": "stdout"
        }
      ]
    },
    {
      "cell_type": "markdown",
      "metadata": {
        "id": "mDPisp5SBsjq"
      },
      "source": [
        "## Decision Tree"
      ]
    },
    {
      "cell_type": "code",
      "metadata": {
        "id": "oyvv2qn5Bsjq",
        "colab": {
          "base_uri": "https://localhost:8080/",
          "height": 306
        },
        "outputId": "8a491556-0596-401f-d6c6-37045dad2cf7"
      },
      "source": [
        "run_classification(DecisionTreeClassifier(criterion='gini', min_samples_leaf=2), X_train, X_test, y_train, y_test)"
      ],
      "execution_count": 112,
      "outputs": [
        {
          "output_type": "error",
          "ename": "NotFittedError",
          "evalue": "ignored",
          "traceback": [
            "\u001b[0;31m---------------------------------------------------------------------------\u001b[0m",
            "\u001b[0;31mNotFittedError\u001b[0m                            Traceback (most recent call last)",
            "\u001b[0;32m<ipython-input-112-53273f4522ad>\u001b[0m in \u001b[0;36m<module>\u001b[0;34m()\u001b[0m\n\u001b[0;32m----> 1\u001b[0;31m \u001b[0mrun_classification\u001b[0m\u001b[0;34m(\u001b[0m\u001b[0mDecisionTreeClassifier\u001b[0m\u001b[0;34m(\u001b[0m\u001b[0mcriterion\u001b[0m\u001b[0;34m=\u001b[0m\u001b[0;34m'gini'\u001b[0m\u001b[0;34m,\u001b[0m \u001b[0mmin_samples_leaf\u001b[0m\u001b[0;34m=\u001b[0m\u001b[0;36m2\u001b[0m\u001b[0;34m)\u001b[0m\u001b[0;34m,\u001b[0m \u001b[0mX_train\u001b[0m\u001b[0;34m,\u001b[0m \u001b[0mX_test\u001b[0m\u001b[0;34m,\u001b[0m \u001b[0my_train\u001b[0m\u001b[0;34m,\u001b[0m \u001b[0my_test\u001b[0m\u001b[0;34m)\u001b[0m\u001b[0;34m\u001b[0m\u001b[0;34m\u001b[0m\u001b[0m\n\u001b[0m",
            "\u001b[0;32m<ipython-input-111-f3861ef9ecb6>\u001b[0m in \u001b[0;36mrun_classification\u001b[0;34m(estimator, X_train, X_test, y_train, y_test, arch_name, pipelineRequired, isDeepModel)\u001b[0m\n\u001b[1;32m     23\u001b[0m         \u001b[0;32mif\u001b[0m \u001b[0mDecisionTreeClassifier\u001b[0m \u001b[0;34m:\u001b[0m\u001b[0;34m\u001b[0m\u001b[0;34m\u001b[0m\u001b[0m\n\u001b[1;32m     24\u001b[0m           \u001b[0mclf\u001b[0m\u001b[0;34m.\u001b[0m\u001b[0mfit\u001b[0m\u001b[0;34m(\u001b[0m\u001b[0mX_train\u001b[0m\u001b[0;34m,\u001b[0m \u001b[0my_train\u001b[0m\u001b[0;34m)\u001b[0m\u001b[0;34m\u001b[0m\u001b[0;34m\u001b[0m\u001b[0m\n\u001b[0;32m---> 25\u001b[0;31m           \u001b[0mtext_representation\u001b[0m \u001b[0;34m=\u001b[0m \u001b[0mtree\u001b[0m\u001b[0;34m.\u001b[0m\u001b[0mexport_text\u001b[0m\u001b[0;34m(\u001b[0m\u001b[0mclf\u001b[0m\u001b[0;34m)\u001b[0m\u001b[0;34m\u001b[0m\u001b[0;34m\u001b[0m\u001b[0m\n\u001b[0m\u001b[1;32m     26\u001b[0m           \u001b[0mprint\u001b[0m\u001b[0;34m(\u001b[0m\u001b[0mtext_representation\u001b[0m\u001b[0;34m)\u001b[0m\u001b[0;34m\u001b[0m\u001b[0;34m\u001b[0m\u001b[0m\n\u001b[1;32m     27\u001b[0m           \u001b[0mfig\u001b[0m \u001b[0;34m=\u001b[0m \u001b[0mplt\u001b[0m\u001b[0;34m.\u001b[0m\u001b[0mfigure\u001b[0m\u001b[0;34m(\u001b[0m\u001b[0mfigsize\u001b[0m\u001b[0;34m=\u001b[0m\u001b[0;34m(\u001b[0m\u001b[0;36m25\u001b[0m\u001b[0;34m,\u001b[0m\u001b[0;36m20\u001b[0m\u001b[0;34m)\u001b[0m\u001b[0;34m)\u001b[0m\u001b[0;34m\u001b[0m\u001b[0;34m\u001b[0m\u001b[0m\n",
            "\u001b[0;32m/usr/local/lib/python3.6/dist-packages/sklearn/tree/_export.py\u001b[0m in \u001b[0;36mexport_text\u001b[0;34m(decision_tree, feature_names, max_depth, spacing, decimals, show_weights)\u001b[0m\n\u001b[1;32m    849\u001b[0m     \u001b[0;34m|\u001b[0m   \u001b[0;34m|\u001b[0m   \u001b[0;34m|\u001b[0m\u001b[0;34m-\u001b[0m\u001b[0;34m-\u001b[0m\u001b[0;34m-\u001b[0m \u001b[0;32mclass\u001b[0m\u001b[0;34m:\u001b[0m \u001b[0;36m2\u001b[0m\u001b[0;34m\u001b[0m\u001b[0;34m\u001b[0m\u001b[0m\n\u001b[1;32m    850\u001b[0m     \"\"\"\n\u001b[0;32m--> 851\u001b[0;31m     \u001b[0mcheck_is_fitted\u001b[0m\u001b[0;34m(\u001b[0m\u001b[0mdecision_tree\u001b[0m\u001b[0;34m)\u001b[0m\u001b[0;34m\u001b[0m\u001b[0;34m\u001b[0m\u001b[0m\n\u001b[0m\u001b[1;32m    852\u001b[0m     \u001b[0mtree_\u001b[0m \u001b[0;34m=\u001b[0m \u001b[0mdecision_tree\u001b[0m\u001b[0;34m.\u001b[0m\u001b[0mtree_\u001b[0m\u001b[0;34m\u001b[0m\u001b[0;34m\u001b[0m\u001b[0m\n\u001b[1;32m    853\u001b[0m     \u001b[0;32mif\u001b[0m \u001b[0mis_classifier\u001b[0m\u001b[0;34m(\u001b[0m\u001b[0mdecision_tree\u001b[0m\u001b[0;34m)\u001b[0m\u001b[0;34m:\u001b[0m\u001b[0;34m\u001b[0m\u001b[0;34m\u001b[0m\u001b[0m\n",
            "\u001b[0;32m/usr/local/lib/python3.6/dist-packages/sklearn/utils/validation.py\u001b[0m in \u001b[0;36mcheck_is_fitted\u001b[0;34m(estimator, attributes, msg, all_or_any)\u001b[0m\n\u001b[1;32m    965\u001b[0m \u001b[0;34m\u001b[0m\u001b[0m\n\u001b[1;32m    966\u001b[0m     \u001b[0;32mif\u001b[0m \u001b[0;32mnot\u001b[0m \u001b[0mattrs\u001b[0m\u001b[0;34m:\u001b[0m\u001b[0;34m\u001b[0m\u001b[0;34m\u001b[0m\u001b[0m\n\u001b[0;32m--> 967\u001b[0;31m         \u001b[0;32mraise\u001b[0m \u001b[0mNotFittedError\u001b[0m\u001b[0;34m(\u001b[0m\u001b[0mmsg\u001b[0m \u001b[0;34m%\u001b[0m \u001b[0;34m{\u001b[0m\u001b[0;34m'name'\u001b[0m\u001b[0;34m:\u001b[0m \u001b[0mtype\u001b[0m\u001b[0;34m(\u001b[0m\u001b[0mestimator\u001b[0m\u001b[0;34m)\u001b[0m\u001b[0;34m.\u001b[0m\u001b[0m__name__\u001b[0m\u001b[0;34m}\u001b[0m\u001b[0;34m)\u001b[0m\u001b[0;34m\u001b[0m\u001b[0;34m\u001b[0m\u001b[0m\n\u001b[0m\u001b[1;32m    968\u001b[0m \u001b[0;34m\u001b[0m\u001b[0m\n\u001b[1;32m    969\u001b[0m \u001b[0;34m\u001b[0m\u001b[0m\n",
            "\u001b[0;31mNotFittedError\u001b[0m: This Pipeline instance is not fitted yet. Call 'fit' with appropriate arguments before using this estimator."
          ]
        }
      ]
    },
    {
      "cell_type": "code",
      "metadata": {
        "id": "b9iz2ueil_R2",
        "colab": {
          "base_uri": "https://localhost:8080/"
        },
        "outputId": "bfb32479-9133-4197-c14c-00c83f747ddc"
      },
      "source": [
        "run_classification(DecisionTreeClassifier(criterion='gini', min_samples_leaf=2), X_train_tfidf, X_test_tfidf, y_train1, y_test1)"
      ],
      "execution_count": null,
      "outputs": [
        {
          "output_type": "stream",
          "text": [
            "Estimator: Pipeline(memory=None,\n",
            "         steps=[('tfidf',\n",
            "                 TfidfTransformer(norm='l2', smooth_idf=True,\n",
            "                                  sublinear_tf=False, use_idf=True)),\n",
            "                ('clf',\n",
            "                 DecisionTreeClassifier(ccp_alpha=0.0, class_weight=None,\n",
            "                                        criterion='gini', max_depth=None,\n",
            "                                        max_features=None, max_leaf_nodes=None,\n",
            "                                        min_impurity_decrease=0.0,\n",
            "                                        min_impurity_split=None,\n",
            "                                        min_samples_leaf=2, min_samples_split=2,\n",
            "                                        min_weight_fraction_leaf=0.0,\n",
            "                                        presort='deprecated', random_state=None,\n",
            "                                        splitter='best'))],\n",
            "         verbose=False)\n",
            "================================================================================\n",
            "Training accuracy: 88.19%\n",
            "Testing accuracy: 61.44%\n",
            "================================================================================\n",
            "Confusion matrix:\n",
            " [[644   1   7 ...   3   2   5]\n",
            " [  5  30   0 ...   0   9   0]\n",
            " [  8   3 129 ...   0  36  13]\n",
            " ...\n",
            " [  9   0   0 ...  95   0   0]\n",
            " [ 16  10  39 ...   0 762  76]\n",
            " [ 10   5  22 ...   0 116 138]]\n",
            "================================================================================\n",
            "Classification report:\n",
            "               precision    recall  f1-score   support\n",
            "\n",
            "       GRP_0       0.54      0.67      0.60       955\n",
            "       GRP_1       0.39      0.49      0.44        61\n",
            "      GRP_10       0.49      0.52      0.51       246\n",
            "      GRP_11       0.66      0.69      0.67        55\n",
            "      GRP_12       0.72      0.75      0.74       419\n",
            "      GRP_13       0.64      0.72      0.68       259\n",
            "      GRP_14       0.72      0.65      0.68       208\n",
            "      GRP_15       0.67      0.77      0.72        70\n",
            "      GRP_16       0.70      0.72      0.71       150\n",
            "      GRP_17       0.61      0.62      0.62        45\n",
            "      GRP_18       0.68      0.62      0.65       156\n",
            "      GRP_19       0.67      0.70      0.68       386\n",
            "       GRP_2       0.64      0.66      0.65       362\n",
            "      GRP_20       0.70      0.60      0.65        63\n",
            "      GRP_21       0.61      0.52      0.56        52\n",
            "      GRP_22       0.65      0.70      0.67        56\n",
            "      GRP_23       0.75      0.80      0.77        45\n",
            "      GRP_24       0.57      0.70      0.63       407\n",
            "      GRP_25       0.66      0.67      0.67       199\n",
            "      GRP_26       0.69      0.66      0.67        99\n",
            "      GRP_27       0.71      0.47      0.57        32\n",
            "      GRP_28       0.65      0.54      0.59        76\n",
            "      GRP_29       0.79      0.70      0.74       172\n",
            "       GRP_3       0.64      0.61      0.62       367\n",
            "      GRP_30       0.32      0.18      0.23        34\n",
            "      GRP_31       0.52      0.34      0.41        98\n",
            "      GRP_33       0.55      0.41      0.47       212\n",
            "      GRP_34       0.57      0.41      0.48       109\n",
            "      GRP_36       0.44      0.36      0.40        22\n",
            "      GRP_37       0.59      0.55      0.57        29\n",
            "      GRP_39       0.56      0.24      0.33        21\n",
            "       GRP_4       0.64      0.67      0.65       182\n",
            "      GRP_40       0.81      0.63      0.71        81\n",
            "      GRP_41       0.85      0.72      0.78        72\n",
            "      GRP_42       0.60      0.43      0.50        58\n",
            "      GRP_43       0.60      0.67      0.63         9\n",
            "      GRP_44       0.62      0.74      0.68        27\n",
            "      GRP_45       0.54      0.58      0.56        60\n",
            "      GRP_46       0.80      0.57      0.67         7\n",
            "      GRP_47       0.61      0.44      0.51        43\n",
            "      GRP_48       0.25      0.06      0.10        17\n",
            "      GRP_49       1.00      0.38      0.55         8\n",
            "       GRP_5       0.46      0.44      0.45       231\n",
            "      GRP_50       0.80      0.52      0.63        23\n",
            "      GRP_51       1.00      1.00      1.00        14\n",
            "      GRP_52       0.78      0.47      0.58        15\n",
            "      GRP_53       1.00      0.65      0.79        20\n",
            "      GRP_59       0.90      1.00      0.95         9\n",
            "       GRP_6       0.49      0.43      0.46       312\n",
            "      GRP_60       0.34      0.31      0.33        32\n",
            "      GRP_62       0.52      0.40      0.45        43\n",
            "      GRP_65       0.92      0.60      0.73        20\n",
            "       GRP_7       0.86      0.76      0.81       125\n",
            "       GRP_8       0.65      0.68      0.66      1121\n",
            "       GRP_9       0.49      0.34      0.40       404\n",
            "\n",
            "    accuracy                           0.61      8398\n",
            "   macro avg       0.65      0.57      0.60      8398\n",
            "weighted avg       0.62      0.61      0.61      8398\n",
            "\n"
          ],
          "name": "stdout"
        }
      ]
    },
    {
      "cell_type": "markdown",
      "metadata": {
        "id": "qpJIipnsBsjr"
      },
      "source": [
        "## Random Forest"
      ]
    },
    {
      "cell_type": "code",
      "metadata": {
        "id": "8b28KjuoBsjr",
        "colab": {
          "base_uri": "https://localhost:8080/"
        },
        "outputId": "1951d852-a6a0-498a-8d45-d95e8a09d54f"
      },
      "source": [
        "run_classification(RandomForestClassifier(criterion= 'entropy', n_estimators=100, random_state=0), X_train_tfidf, X_test_tfidf, y_train1, y_test1)"
      ],
      "execution_count": null,
      "outputs": [
        {
          "output_type": "stream",
          "text": [
            "Estimator: Pipeline(memory=None,\n",
            "         steps=[('tfidf',\n",
            "                 TfidfTransformer(norm='l2', smooth_idf=True,\n",
            "                                  sublinear_tf=False, use_idf=True)),\n",
            "                ('clf',\n",
            "                 RandomForestClassifier(bootstrap=True, ccp_alpha=0.0,\n",
            "                                        class_weight=None, criterion='entropy',\n",
            "                                        max_depth=None, max_features='auto',\n",
            "                                        max_leaf_nodes=None, max_samples=None,\n",
            "                                        min_impurity_decrease=0.0,\n",
            "                                        min_impurity_split=None,\n",
            "                                        min_samples_leaf=1, min_samples_split=2,\n",
            "                                        min_weight_fraction_leaf=0.0,\n",
            "                                        n_estimators=100, n_jobs=None,\n",
            "                                        oob_score=False, random_state=0,\n",
            "                                        verbose=0, warm_start=False))],\n",
            "         verbose=False)\n",
            "================================================================================\n",
            "Training accuracy: 97.99%\n",
            "Testing accuracy: 78.03%\n",
            "================================================================================\n",
            "Confusion matrix:\n",
            " [[863   0   0 ...   2   0   1]\n",
            " [  0  37   0 ...   0  13   0]\n",
            " [ 11   0 164 ...   0  47   8]\n",
            " ...\n",
            " [ 15   0   0 ... 102   0   0]\n",
            " [ 15   0   4 ...   0 988  51]\n",
            " [ 17   0   5 ...   0 204 149]]\n",
            "================================================================================\n",
            "Classification report:\n",
            "               precision    recall  f1-score   support\n",
            "\n",
            "       GRP_0       0.64      0.90      0.75       955\n",
            "       GRP_1       0.95      0.61      0.74        61\n",
            "      GRP_10       0.91      0.67      0.77       246\n",
            "      GRP_11       1.00      0.87      0.93        55\n",
            "      GRP_12       0.87      0.86      0.86       419\n",
            "      GRP_13       0.92      0.89      0.91       259\n",
            "      GRP_14       0.95      0.84      0.89       208\n",
            "      GRP_15       1.00      0.93      0.96        70\n",
            "      GRP_16       0.98      0.89      0.93       150\n",
            "      GRP_17       0.92      0.80      0.86        45\n",
            "      GRP_18       0.99      0.90      0.94       156\n",
            "      GRP_19       0.89      0.83      0.86       386\n",
            "       GRP_2       0.88      0.83      0.85       362\n",
            "      GRP_20       0.98      0.87      0.92        63\n",
            "      GRP_21       1.00      0.83      0.91        52\n",
            "      GRP_22       0.98      0.86      0.91        56\n",
            "      GRP_23       0.90      0.84      0.87        45\n",
            "      GRP_24       0.74      0.80      0.77       407\n",
            "      GRP_25       0.89      0.83      0.86       199\n",
            "      GRP_26       0.99      0.87      0.92        99\n",
            "      GRP_27       0.90      0.81      0.85        32\n",
            "      GRP_28       0.95      0.74      0.83        76\n",
            "      GRP_29       0.95      0.88      0.92       172\n",
            "       GRP_3       0.87      0.87      0.87       367\n",
            "      GRP_30       0.31      0.59      0.41        34\n",
            "      GRP_31       0.74      0.62      0.68        98\n",
            "      GRP_33       0.72      0.60      0.66       212\n",
            "      GRP_34       0.82      0.66      0.73       109\n",
            "      GRP_36       0.79      0.68      0.73        22\n",
            "      GRP_37       0.96      0.86      0.91        29\n",
            "      GRP_39       0.80      0.57      0.67        21\n",
            "       GRP_4       0.95      0.77      0.85       182\n",
            "      GRP_40       1.00      0.81      0.90        81\n",
            "      GRP_41       0.99      0.92      0.95        72\n",
            "      GRP_42       0.65      0.53      0.58        58\n",
            "      GRP_43       1.00      0.78      0.88         9\n",
            "      GRP_44       1.00      0.93      0.96        27\n",
            "      GRP_45       0.94      0.77      0.84        60\n",
            "      GRP_46       1.00      0.71      0.83         7\n",
            "      GRP_47       0.87      0.63      0.73        43\n",
            "      GRP_48       0.11      0.06      0.08        17\n",
            "      GRP_49       1.00      0.75      0.86         8\n",
            "       GRP_5       0.80      0.44      0.56       231\n",
            "      GRP_50       1.00      0.78      0.88        23\n",
            "      GRP_51       1.00      0.86      0.92        14\n",
            "      GRP_52       0.93      0.87      0.90        15\n",
            "      GRP_53       0.94      0.80      0.86        20\n",
            "      GRP_59       1.00      1.00      1.00         9\n",
            "       GRP_6       0.77      0.48      0.60       312\n",
            "      GRP_60       0.78      0.44      0.56        32\n",
            "      GRP_62       0.78      0.58      0.67        43\n",
            "      GRP_65       1.00      0.80      0.89        20\n",
            "       GRP_7       0.92      0.82      0.86       125\n",
            "       GRP_8       0.62      0.88      0.73      1121\n",
            "       GRP_9       0.60      0.37      0.46       404\n",
            "\n",
            "    accuracy                           0.78      8398\n",
            "   macro avg       0.87      0.75      0.80      8398\n",
            "weighted avg       0.80      0.78      0.78      8398\n",
            "\n"
          ],
          "name": "stdout"
        }
      ]
    },
    {
      "cell_type": "code",
      "metadata": {
        "id": "Hxfc5lG5l_R8",
        "colab": {
          "base_uri": "https://localhost:8080/"
        },
        "outputId": "f87a5189-0350-4321-a597-3db7ce0d0936"
      },
      "source": [
        "run_classification(RandomForestClassifier(criterion= 'entropy', n_estimators=100, random_state=0), X_train, X_test, y_train, y_test)"
      ],
      "execution_count": null,
      "outputs": [
        {
          "output_type": "stream",
          "text": [
            "Estimator: Pipeline(memory=None,\n",
            "         steps=[('tfidf',\n",
            "                 TfidfTransformer(norm='l2', smooth_idf=True,\n",
            "                                  sublinear_tf=False, use_idf=True)),\n",
            "                ('clf',\n",
            "                 RandomForestClassifier(bootstrap=True, ccp_alpha=0.0,\n",
            "                                        class_weight=None, criterion='entropy',\n",
            "                                        max_depth=None, max_features='auto',\n",
            "                                        max_leaf_nodes=None, max_samples=None,\n",
            "                                        min_impurity_decrease=0.0,\n",
            "                                        min_impurity_split=None,\n",
            "                                        min_samples_leaf=1, min_samples_split=2,\n",
            "                                        min_weight_fraction_leaf=0.0,\n",
            "                                        n_estimators=100, n_jobs=None,\n",
            "                                        oob_score=False, random_state=0,\n",
            "                                        verbose=0, warm_start=False))],\n",
            "         verbose=False)\n",
            "================================================================================\n",
            "Training accuracy: 97.99%\n",
            "Testing accuracy: 77.98%\n",
            "================================================================================\n",
            "Confusion matrix:\n",
            " [[859   0   1 ...   1   0   0]\n",
            " [  0  36   0 ...   0  12   0]\n",
            " [  8   0 161 ...   0  51   4]\n",
            " ...\n",
            " [ 16   0   0 ... 103   0   0]\n",
            " [ 14   0   3 ...   0 991  46]\n",
            " [ 21   0   2 ...   0 205 143]]\n",
            "================================================================================\n",
            "Classification report:\n",
            "               precision    recall  f1-score   support\n",
            "\n",
            "       GRP_0       0.65      0.90      0.75       955\n",
            "       GRP_1       0.95      0.59      0.73        61\n",
            "      GRP_10       0.92      0.65      0.76       246\n",
            "      GRP_11       1.00      0.85      0.92        55\n",
            "      GRP_12       0.85      0.86      0.86       419\n",
            "      GRP_13       0.93      0.88      0.91       259\n",
            "      GRP_14       0.95      0.87      0.90       208\n",
            "      GRP_15       1.00      0.91      0.96        70\n",
            "      GRP_16       0.97      0.89      0.93       150\n",
            "      GRP_17       0.95      0.84      0.89        45\n",
            "      GRP_18       0.97      0.90      0.93       156\n",
            "      GRP_19       0.91      0.85      0.88       386\n",
            "       GRP_2       0.85      0.83      0.84       362\n",
            "      GRP_20       0.98      0.87      0.92        63\n",
            "      GRP_21       1.00      0.81      0.89        52\n",
            "      GRP_22       1.00      0.86      0.92        56\n",
            "      GRP_23       0.95      0.80      0.87        45\n",
            "      GRP_24       0.73      0.80      0.76       407\n",
            "      GRP_25       0.89      0.86      0.87       199\n",
            "      GRP_26       1.00      0.89      0.94        99\n",
            "      GRP_27       0.88      0.72      0.79        32\n",
            "      GRP_28       0.94      0.79      0.86        76\n",
            "      GRP_29       0.98      0.91      0.94       172\n",
            "       GRP_3       0.86      0.85      0.85       367\n",
            "      GRP_30       0.32      0.65      0.43        34\n",
            "      GRP_31       0.77      0.65      0.71        98\n",
            "      GRP_33       0.70      0.56      0.62       212\n",
            "      GRP_34       0.78      0.66      0.72       109\n",
            "      GRP_36       0.88      0.68      0.77        22\n",
            "      GRP_37       1.00      0.93      0.96        29\n",
            "      GRP_39       0.82      0.67      0.74        21\n",
            "       GRP_4       0.94      0.76      0.84       182\n",
            "      GRP_40       0.99      0.83      0.90        81\n",
            "      GRP_41       0.98      0.89      0.93        72\n",
            "      GRP_42       0.67      0.53      0.60        58\n",
            "      GRP_43       1.00      0.67      0.80         9\n",
            "      GRP_44       0.96      0.96      0.96        27\n",
            "      GRP_45       0.93      0.70      0.80        60\n",
            "      GRP_46       1.00      0.71      0.83         7\n",
            "      GRP_47       0.84      0.63      0.72        43\n",
            "      GRP_48       0.11      0.06      0.08        17\n",
            "      GRP_49       1.00      0.75      0.86         8\n",
            "       GRP_5       0.80      0.42      0.55       231\n",
            "      GRP_50       0.93      0.61      0.74        23\n",
            "      GRP_51       1.00      0.86      0.92        14\n",
            "      GRP_52       0.86      0.80      0.83        15\n",
            "      GRP_53       0.94      0.75      0.83        20\n",
            "      GRP_59       1.00      1.00      1.00         9\n",
            "       GRP_6       0.76      0.50      0.60       312\n",
            "      GRP_60       0.76      0.41      0.53        32\n",
            "      GRP_62       0.80      0.65      0.72        43\n",
            "      GRP_65       1.00      0.80      0.89        20\n",
            "       GRP_7       0.92      0.82      0.87       125\n",
            "       GRP_8       0.62      0.88      0.73      1121\n",
            "       GRP_9       0.60      0.35      0.45       404\n",
            "\n",
            "    accuracy                           0.78      8398\n",
            "   macro avg       0.87      0.75      0.80      8398\n",
            "weighted avg       0.80      0.78      0.78      8398\n",
            "\n"
          ],
          "name": "stdout"
        }
      ]
    },
    {
      "cell_type": "markdown",
      "metadata": {
        "id": "AOuKESHfrFai"
      },
      "source": [
        "## GradientBoosting"
      ]
    },
    {
      "cell_type": "code",
      "metadata": {
        "id": "RJr4CJMBBsjr",
        "colab": {
          "base_uri": "https://localhost:8080/"
        },
        "outputId": "1aaf11e8-7b54-4bbd-88a1-d9d61c667e0b"
      },
      "source": [
        "from sklearn.ensemble import GradientBoostingClassifier\n",
        "run_classification(GradientBoostingClassifier(max_depth=15, n_estimators=50, random_state=42), X_train_tfidf, X_test_tfidf, y_train1, y_test1)"
      ],
      "execution_count": null,
      "outputs": [
        {
          "output_type": "stream",
          "text": [
            "Estimator: Pipeline(memory=None,\n",
            "         steps=[('tfidf',\n",
            "                 TfidfTransformer(norm='l2', smooth_idf=True,\n",
            "                                  sublinear_tf=False, use_idf=True)),\n",
            "                ('clf',\n",
            "                 GradientBoostingClassifier(ccp_alpha=0.0,\n",
            "                                            criterion='friedman_mse', init=None,\n",
            "                                            learning_rate=0.1, loss='deviance',\n",
            "                                            max_depth=15, max_features=None,\n",
            "                                            max_leaf_nodes=None,\n",
            "                                            min_impurity_decrease=0.0,\n",
            "                                            min_impurity_split=None,\n",
            "                                            min_samples_leaf=1,\n",
            "                                            min_samples_split=2,\n",
            "                                            min_weight_fraction_leaf=0.0,\n",
            "                                            n_estimators=50,\n",
            "                                            n_iter_no_change=None,\n",
            "                                            presort='deprecated',\n",
            "                                            random_state=42, subsample=1.0,\n",
            "                                            tol=0.0001, validation_fraction=0.1,\n",
            "                                            verbose=0, warm_start=False))],\n",
            "         verbose=False)\n",
            "================================================================================\n",
            "Training accuracy: 97.53%\n",
            "Testing accuracy: 65.83%\n",
            "================================================================================\n",
            "Confusion matrix:\n",
            " [[744   1   1 ...   4   5   5]\n",
            " [  6  29   0 ...   0  11   0]\n",
            " [ 29   0 135 ...   0  34  14]\n",
            " ...\n",
            " [ 19   0   0 ...  99   0   0]\n",
            " [ 35   6  17 ...   1 871  66]\n",
            " [ 30   3   6 ...   0 178 134]]\n",
            "================================================================================\n",
            "Classification report:\n",
            "               precision    recall  f1-score   support\n",
            "\n",
            "       GRP_0       0.39      0.78      0.52       955\n",
            "       GRP_1       0.55      0.48      0.51        61\n",
            "      GRP_10       0.73      0.55      0.63       246\n",
            "      GRP_11       0.78      0.71      0.74        55\n",
            "      GRP_12       0.83      0.79      0.81       419\n",
            "      GRP_13       0.89      0.80      0.84       259\n",
            "      GRP_14       0.88      0.64      0.74       208\n",
            "      GRP_15       0.87      0.69      0.77        70\n",
            "      GRP_16       0.83      0.77      0.80       150\n",
            "      GRP_17       0.76      0.76      0.76        45\n",
            "      GRP_18       0.87      0.72      0.79       156\n",
            "      GRP_19       0.80      0.67      0.73       386\n",
            "       GRP_2       0.85      0.68      0.76       362\n",
            "      GRP_20       0.59      0.41      0.49        63\n",
            "      GRP_21       0.89      0.62      0.73        52\n",
            "      GRP_22       0.82      0.71      0.76        56\n",
            "      GRP_23       0.81      0.84      0.83        45\n",
            "      GRP_24       0.83      0.71      0.77       407\n",
            "      GRP_25       0.78      0.69      0.74       199\n",
            "      GRP_26       0.84      0.71      0.77        99\n",
            "      GRP_27       0.59      0.50      0.54        32\n",
            "      GRP_28       0.70      0.62      0.66        76\n",
            "      GRP_29       0.80      0.78      0.79       172\n",
            "       GRP_3       0.87      0.65      0.74       367\n",
            "      GRP_30       0.33      0.21      0.25        34\n",
            "      GRP_31       0.67      0.52      0.59        98\n",
            "      GRP_33       0.67      0.45      0.54       212\n",
            "      GRP_34       0.64      0.53      0.58       109\n",
            "      GRP_36       0.67      0.45      0.54        22\n",
            "      GRP_37       0.95      0.66      0.78        29\n",
            "      GRP_39       0.67      0.57      0.62        21\n",
            "       GRP_4       0.85      0.64      0.73       182\n",
            "      GRP_40       0.81      0.69      0.75        81\n",
            "      GRP_41       0.86      0.78      0.82        72\n",
            "      GRP_42       0.57      0.43      0.49        58\n",
            "      GRP_43       0.46      0.67      0.55         9\n",
            "      GRP_44       0.95      0.67      0.78        27\n",
            "      GRP_45       0.74      0.42      0.53        60\n",
            "      GRP_46       1.00      0.29      0.44         7\n",
            "      GRP_47       0.71      0.47      0.56        43\n",
            "      GRP_48       0.09      0.06      0.07        17\n",
            "      GRP_49       0.42      0.62      0.50         8\n",
            "       GRP_5       0.66      0.47      0.55       231\n",
            "      GRP_50       0.60      0.52      0.56        23\n",
            "      GRP_51       1.00      0.93      0.96        14\n",
            "      GRP_52       0.67      0.67      0.67        15\n",
            "      GRP_53       0.85      0.55      0.67        20\n",
            "      GRP_59       0.88      0.78      0.82         9\n",
            "       GRP_6       0.63      0.43      0.51       312\n",
            "      GRP_60       0.48      0.31      0.38        32\n",
            "      GRP_62       0.62      0.49      0.55        43\n",
            "      GRP_65       0.72      0.65      0.68        20\n",
            "       GRP_7       0.87      0.79      0.83       125\n",
            "       GRP_8       0.63      0.78      0.70      1121\n",
            "       GRP_9       0.48      0.33      0.39       404\n",
            "\n",
            "    accuracy                           0.66      8398\n",
            "   macro avg       0.72      0.60      0.65      8398\n",
            "weighted avg       0.70      0.66      0.66      8398\n",
            "\n"
          ],
          "name": "stdout"
        }
      ]
    },
    {
      "cell_type": "code",
      "metadata": {
        "id": "-uqEe_Ixl_R9",
        "colab": {
          "base_uri": "https://localhost:8080/"
        },
        "outputId": "8ce68608-9978-49e4-879c-ae605d6e7029"
      },
      "source": [
        "from sklearn.ensemble import GradientBoostingClassifier\n",
        "run_classification(GradientBoostingClassifier(max_depth=15, n_estimators=50, random_state=42), X_train, X_test, y_train, y_test)"
      ],
      "execution_count": null,
      "outputs": [
        {
          "output_type": "stream",
          "text": [
            "Estimator: Pipeline(memory=None,\n",
            "         steps=[('tfidf',\n",
            "                 TfidfTransformer(norm='l2', smooth_idf=True,\n",
            "                                  sublinear_tf=False, use_idf=True)),\n",
            "                ('clf',\n",
            "                 GradientBoostingClassifier(ccp_alpha=0.0,\n",
            "                                            criterion='friedman_mse', init=None,\n",
            "                                            learning_rate=0.1, loss='deviance',\n",
            "                                            max_depth=15, max_features=None,\n",
            "                                            max_leaf_nodes=None,\n",
            "                                            min_impurity_decrease=0.0,\n",
            "                                            min_impurity_split=None,\n",
            "                                            min_samples_leaf=1,\n",
            "                                            min_samples_split=2,\n",
            "                                            min_weight_fraction_leaf=0.0,\n",
            "                                            n_estimators=50,\n",
            "                                            n_iter_no_change=None,\n",
            "                                            presort='deprecated',\n",
            "                                            random_state=42, subsample=1.0,\n",
            "                                            tol=0.0001, validation_fraction=0.1,\n",
            "                                            verbose=0, warm_start=False))],\n",
            "         verbose=False)\n",
            "================================================================================\n",
            "Training accuracy: 97.61%\n",
            "Testing accuracy: 65.86%\n",
            "================================================================================\n",
            "Confusion matrix:\n",
            " [[745   4   0 ...   2   4   5]\n",
            " [ 11  27   0 ...   0  10   1]\n",
            " [ 30   0 138 ...   0  37  12]\n",
            " ...\n",
            " [ 18   0   1 ... 100   0   0]\n",
            " [ 31   5  13 ...   0 864  65]\n",
            " [ 27   2   3 ...   0 165 149]]\n",
            "================================================================================\n",
            "Classification report:\n",
            "               precision    recall  f1-score   support\n",
            "\n",
            "       GRP_0       0.39      0.78      0.52       955\n",
            "       GRP_1       0.52      0.44      0.48        61\n",
            "      GRP_10       0.78      0.56      0.65       246\n",
            "      GRP_11       0.71      0.73      0.72        55\n",
            "      GRP_12       0.81      0.75      0.78       419\n",
            "      GRP_13       0.90      0.77      0.83       259\n",
            "      GRP_14       0.91      0.67      0.77       208\n",
            "      GRP_15       0.81      0.69      0.74        70\n",
            "      GRP_16       0.82      0.77      0.79       150\n",
            "      GRP_17       0.77      0.76      0.76        45\n",
            "      GRP_18       0.92      0.69      0.79       156\n",
            "      GRP_19       0.81      0.70      0.75       386\n",
            "       GRP_2       0.86      0.70      0.77       362\n",
            "      GRP_20       0.63      0.54      0.58        63\n",
            "      GRP_21       0.87      0.63      0.73        52\n",
            "      GRP_22       0.67      0.71      0.69        56\n",
            "      GRP_23       0.88      0.80      0.84        45\n",
            "      GRP_24       0.81      0.68      0.74       407\n",
            "      GRP_25       0.80      0.69      0.74       199\n",
            "      GRP_26       0.92      0.73      0.81        99\n",
            "      GRP_27       0.75      0.56      0.64        32\n",
            "      GRP_28       0.80      0.59      0.68        76\n",
            "      GRP_29       0.77      0.77      0.77       172\n",
            "       GRP_3       0.88      0.68      0.77       367\n",
            "      GRP_30       0.33      0.21      0.25        34\n",
            "      GRP_31       0.54      0.44      0.48        98\n",
            "      GRP_33       0.66      0.43      0.52       212\n",
            "      GRP_34       0.63      0.51      0.57       109\n",
            "      GRP_36       0.77      0.45      0.57        22\n",
            "      GRP_37       0.82      0.62      0.71        29\n",
            "      GRP_39       0.71      0.57      0.63        21\n",
            "       GRP_4       0.81      0.66      0.73       182\n",
            "      GRP_40       0.83      0.70      0.76        81\n",
            "      GRP_41       0.83      0.79      0.81        72\n",
            "      GRP_42       0.50      0.38      0.43        58\n",
            "      GRP_43       0.50      0.67      0.57         9\n",
            "      GRP_44       0.78      0.67      0.72        27\n",
            "      GRP_45       0.67      0.47      0.55        60\n",
            "      GRP_46       1.00      0.43      0.60         7\n",
            "      GRP_47       0.64      0.37      0.47        43\n",
            "      GRP_48       0.11      0.06      0.08        17\n",
            "      GRP_49       0.45      0.62      0.53         8\n",
            "       GRP_5       0.60      0.42      0.50       231\n",
            "      GRP_50       0.67      0.61      0.64        23\n",
            "      GRP_51       1.00      0.93      0.96        14\n",
            "      GRP_52       0.71      0.80      0.75        15\n",
            "      GRP_53       0.81      0.65      0.72        20\n",
            "      GRP_59       1.00      0.89      0.94         9\n",
            "       GRP_6       0.63      0.43      0.51       312\n",
            "      GRP_60       0.30      0.28      0.29        32\n",
            "      GRP_62       0.55      0.56      0.55        43\n",
            "      GRP_65       0.81      0.85      0.83        20\n",
            "       GRP_7       0.86      0.80      0.83       125\n",
            "       GRP_8       0.64      0.77      0.70      1121\n",
            "       GRP_9       0.51      0.37      0.43       404\n",
            "\n",
            "    accuracy                           0.66      8398\n",
            "   macro avg       0.72      0.61      0.65      8398\n",
            "weighted avg       0.70      0.66      0.66      8398\n",
            "\n"
          ],
          "name": "stdout"
        }
      ]
    },
    {
      "cell_type": "markdown",
      "metadata": {
        "id": "j-lWxfbVrFai"
      },
      "source": [
        "## XGBoosting"
      ]
    },
    {
      "cell_type": "code",
      "metadata": {
        "id": "wIYQ2WZJrFai",
        "colab": {
          "base_uri": "https://localhost:8080/"
        },
        "outputId": "fc8a2271-1cd4-409a-87ca-826e0191a964"
      },
      "source": [
        "!pip install xgboost"
      ],
      "execution_count": null,
      "outputs": [
        {
          "output_type": "stream",
          "text": [
            "Requirement already satisfied: xgboost in /usr/local/lib/python3.6/dist-packages (0.90)\n",
            "Requirement already satisfied: scipy in /usr/local/lib/python3.6/dist-packages (from xgboost) (1.4.1)\n",
            "Requirement already satisfied: numpy in /usr/local/lib/python3.6/dist-packages (from xgboost) (1.19.4)\n"
          ],
          "name": "stdout"
        }
      ]
    },
    {
      "cell_type": "code",
      "metadata": {
        "id": "8q7-fcTurFai",
        "colab": {
          "base_uri": "https://localhost:8080/"
        },
        "outputId": "6f301b6f-9b55-47fc-851a-6f84f49547de"
      },
      "source": [
        "from xgboost import XGBClassifier\n",
        "run_classification(XGBClassifier(n_estimators=50, max_depth=15), X_train_tfidf, X_test_tfidf, y_train1, y_test1)"
      ],
      "execution_count": null,
      "outputs": [
        {
          "output_type": "stream",
          "text": [
            "Estimator: Pipeline(memory=None,\n",
            "         steps=[('tfidf',\n",
            "                 TfidfTransformer(norm='l2', smooth_idf=True,\n",
            "                                  sublinear_tf=False, use_idf=True)),\n",
            "                ('clf',\n",
            "                 XGBClassifier(base_score=0.5, booster='gbtree',\n",
            "                               colsample_bylevel=1, colsample_bynode=1,\n",
            "                               colsample_bytree=1, gamma=0, learning_rate=0.1,\n",
            "                               max_delta_step=0, max_depth=15,\n",
            "                               min_child_weight=1, missing=None,\n",
            "                               n_estimators=50, n_jobs=1, nthread=None,\n",
            "                               objective='multi:softprob', random_state=0,\n",
            "                               reg_alpha=0, reg_lambda=1, scale_pos_weight=1,\n",
            "                               seed=None, silent=None, subsample=1,\n",
            "                               verbosity=1))],\n",
            "         verbose=False)\n",
            "================================================================================\n",
            "Training accuracy: 89.37%\n",
            "Testing accuracy: 69.50%\n",
            "================================================================================\n",
            "Confusion matrix:\n",
            " [[755   0   2 ...   2   0   4]\n",
            " [  4  26   0 ...   0  12   0]\n",
            " [ 15   0 145 ...   0  52   7]\n",
            " ...\n",
            " [ 12   0   0 ... 104   2   0]\n",
            " [ 14   1   6 ...   0 949  47]\n",
            " [ 18   0   1 ...   0 213 134]]\n",
            "================================================================================\n",
            "Classification report:\n",
            "               precision    recall  f1-score   support\n",
            "\n",
            "       GRP_0       0.51      0.79      0.62       955\n",
            "       GRP_1       0.76      0.43      0.55        61\n",
            "      GRP_10       0.88      0.59      0.71       246\n",
            "      GRP_11       0.87      0.60      0.71        55\n",
            "      GRP_12       0.79      0.83      0.81       419\n",
            "      GRP_13       0.86      0.84      0.85       259\n",
            "      GRP_14       0.84      0.70      0.77       208\n",
            "      GRP_15       0.86      0.86      0.86        70\n",
            "      GRP_16       0.83      0.84      0.84       150\n",
            "      GRP_17       0.75      0.84      0.79        45\n",
            "      GRP_18       0.86      0.81      0.84       156\n",
            "      GRP_19       0.75      0.69      0.72       386\n",
            "       GRP_2       0.79      0.72      0.75       362\n",
            "      GRP_20       0.95      0.60      0.74        63\n",
            "      GRP_21       0.89      0.77      0.82        52\n",
            "      GRP_22       0.82      0.75      0.79        56\n",
            "      GRP_23       0.78      0.87      0.82        45\n",
            "      GRP_24       0.71      0.71      0.71       407\n",
            "      GRP_25       0.74      0.80      0.77       199\n",
            "      GRP_26       0.89      0.81      0.85        99\n",
            "      GRP_27       0.81      0.53      0.64        32\n",
            "      GRP_28       0.91      0.54      0.68        76\n",
            "      GRP_29       0.84      0.83      0.84       172\n",
            "       GRP_3       0.72      0.69      0.70       367\n",
            "      GRP_30       0.39      0.21      0.27        34\n",
            "      GRP_31       0.66      0.34      0.45        98\n",
            "      GRP_33       0.59      0.52      0.55       212\n",
            "      GRP_34       0.77      0.42      0.54       109\n",
            "      GRP_36       0.73      0.50      0.59        22\n",
            "      GRP_37       1.00      0.79      0.88        29\n",
            "      GRP_39       0.92      0.57      0.71        21\n",
            "       GRP_4       0.87      0.67      0.76       182\n",
            "      GRP_40       0.82      0.72      0.76        81\n",
            "      GRP_41       0.94      0.90      0.92        72\n",
            "      GRP_42       0.66      0.40      0.49        58\n",
            "      GRP_43       0.55      0.67      0.60         9\n",
            "      GRP_44       0.95      0.78      0.86        27\n",
            "      GRP_45       0.91      0.53      0.67        60\n",
            "      GRP_46       0.57      0.57      0.57         7\n",
            "      GRP_47       0.77      0.56      0.65        43\n",
            "      GRP_48       0.29      0.12      0.17        17\n",
            "      GRP_49       0.71      0.62      0.67         8\n",
            "       GRP_5       0.74      0.45      0.56       231\n",
            "      GRP_50       0.86      0.83      0.84        23\n",
            "      GRP_51       1.00      1.00      1.00        14\n",
            "      GRP_52       0.91      0.67      0.77        15\n",
            "      GRP_53       0.93      0.70      0.80        20\n",
            "      GRP_59       0.86      0.67      0.75         9\n",
            "       GRP_6       0.71      0.46      0.56       312\n",
            "      GRP_60       0.69      0.28      0.40        32\n",
            "      GRP_62       0.79      0.51      0.62        43\n",
            "      GRP_65       1.00      0.80      0.89        20\n",
            "       GRP_7       0.85      0.83      0.84       125\n",
            "       GRP_8       0.60      0.85      0.70      1121\n",
            "       GRP_9       0.56      0.33      0.42       404\n",
            "\n",
            "    accuracy                           0.70      8398\n",
            "   macro avg       0.78      0.65      0.70      8398\n",
            "weighted avg       0.72      0.70      0.69      8398\n",
            "\n"
          ],
          "name": "stdout"
        }
      ]
    },
    {
      "cell_type": "markdown",
      "metadata": {
        "id": "1MizYVnZrFai"
      },
      "source": [
        "## Bagging"
      ]
    },
    {
      "cell_type": "code",
      "metadata": {
        "id": "KPuCWrZGrFai",
        "colab": {
          "base_uri": "https://localhost:8080/"
        },
        "outputId": "8e17b075-cb93-4de1-dc33-53f88e8a3286"
      },
      "source": [
        "from sklearn.ensemble import BaggingClassifier\n",
        "run_classification(BaggingClassifier(n_estimators=100, random_state=10), X_train_tfidf, X_test_tfidf, y_train1, y_test1)"
      ],
      "execution_count": null,
      "outputs": [
        {
          "output_type": "stream",
          "text": [
            "Estimator: Pipeline(memory=None,\n",
            "         steps=[('tfidf',\n",
            "                 TfidfTransformer(norm='l2', smooth_idf=True,\n",
            "                                  sublinear_tf=False, use_idf=True)),\n",
            "                ('clf',\n",
            "                 BaggingClassifier(base_estimator=None, bootstrap=True,\n",
            "                                   bootstrap_features=False, max_features=1.0,\n",
            "                                   max_samples=1.0, n_estimators=100,\n",
            "                                   n_jobs=None, oob_score=False,\n",
            "                                   random_state=10, verbose=0,\n",
            "                                   warm_start=False))],\n",
            "         verbose=False)\n",
            "================================================================================\n",
            "Training accuracy: 97.99%\n",
            "Testing accuracy: 72.91%\n",
            "================================================================================\n",
            "Confusion matrix:\n",
            " [[715   0   4 ...   3   2   5]\n",
            " [  3  34   0 ...   0   9   0]\n",
            " [  5   0 159 ...   0  46  10]\n",
            " ...\n",
            " [  9   0   0 ... 101   0   0]\n",
            " [  7   0   7 ...   0 922  63]\n",
            " [  5   0   3 ...   0 188 154]]\n",
            "================================================================================\n",
            "Classification report:\n",
            "               precision    recall  f1-score   support\n",
            "\n",
            "       GRP_0       0.65      0.75      0.70       955\n",
            "       GRP_1       0.89      0.56      0.69        61\n",
            "      GRP_10       0.87      0.65      0.74       246\n",
            "      GRP_11       0.85      0.73      0.78        55\n",
            "      GRP_12       0.81      0.83      0.82       419\n",
            "      GRP_13       0.80      0.86      0.83       259\n",
            "      GRP_14       0.89      0.78      0.83       208\n",
            "      GRP_15       0.90      0.90      0.90        70\n",
            "      GRP_16       0.84      0.88      0.86       150\n",
            "      GRP_17       0.86      0.71      0.78        45\n",
            "      GRP_18       0.88      0.83      0.86       156\n",
            "      GRP_19       0.82      0.78      0.80       386\n",
            "       GRP_2       0.76      0.81      0.78       362\n",
            "      GRP_20       0.98      0.83      0.90        63\n",
            "      GRP_21       0.97      0.65      0.78        52\n",
            "      GRP_22       0.79      0.80      0.80        56\n",
            "      GRP_23       0.85      0.89      0.87        45\n",
            "      GRP_24       0.73      0.77      0.75       407\n",
            "      GRP_25       0.71      0.80      0.75       199\n",
            "      GRP_26       0.86      0.85      0.85        99\n",
            "      GRP_27       0.83      0.78      0.81        32\n",
            "      GRP_28       0.84      0.70      0.76        76\n",
            "      GRP_29       0.83      0.83      0.83       172\n",
            "       GRP_3       0.77      0.80      0.79       367\n",
            "      GRP_30       0.29      0.56      0.38        34\n",
            "      GRP_31       0.68      0.53      0.60        98\n",
            "      GRP_33       0.67      0.62      0.65       212\n",
            "      GRP_34       0.71      0.60      0.65       109\n",
            "      GRP_36       0.57      0.55      0.56        22\n",
            "      GRP_37       0.92      0.79      0.85        29\n",
            "      GRP_39       0.67      0.57      0.62        21\n",
            "       GRP_4       0.77      0.76      0.76       182\n",
            "      GRP_40       0.85      0.81      0.83        81\n",
            "      GRP_41       0.88      0.82      0.85        72\n",
            "      GRP_42       0.65      0.48      0.55        58\n",
            "      GRP_43       0.78      0.78      0.78         9\n",
            "      GRP_44       1.00      0.85      0.92        27\n",
            "      GRP_45       0.85      0.67      0.75        60\n",
            "      GRP_46       1.00      0.57      0.73         7\n",
            "      GRP_47       0.84      0.60      0.70        43\n",
            "      GRP_48       0.22      0.12      0.15        17\n",
            "      GRP_49       1.00      0.62      0.77         8\n",
            "       GRP_5       0.71      0.45      0.55       231\n",
            "      GRP_50       0.89      0.74      0.81        23\n",
            "      GRP_51       1.00      1.00      1.00        14\n",
            "      GRP_52       0.92      0.80      0.86        15\n",
            "      GRP_53       1.00      0.75      0.86        20\n",
            "      GRP_59       0.89      0.89      0.89         9\n",
            "       GRP_6       0.65      0.45      0.53       312\n",
            "      GRP_60       0.57      0.38      0.45        32\n",
            "      GRP_62       0.80      0.56      0.66        43\n",
            "      GRP_65       1.00      0.75      0.86        20\n",
            "       GRP_7       0.88      0.81      0.84       125\n",
            "       GRP_8       0.61      0.82      0.70      1121\n",
            "       GRP_9       0.53      0.38      0.44       404\n",
            "\n",
            "    accuracy                           0.73      8398\n",
            "   macro avg       0.80      0.71      0.74      8398\n",
            "weighted avg       0.74      0.73      0.73      8398\n",
            "\n"
          ],
          "name": "stdout"
        }
      ]
    },
    {
      "cell_type": "markdown",
      "metadata": {
        "id": "nd3PAGHmrFaj"
      },
      "source": [
        "## Stacking"
      ]
    },
    {
      "cell_type": "code",
      "metadata": {
        "id": "mfLNzU90rFaj",
        "colab": {
          "base_uri": "https://localhost:8080/"
        },
        "outputId": "f819f4bd-10ab-4b8a-8949-64be4a576889"
      },
      "source": [
        "from sklearn.preprocessing import StandardScaler\n",
        "from sklearn.pipeline import make_pipeline\n",
        "from sklearn.ensemble import StackingClassifier\n",
        "\n",
        "estimators = [('rf', RandomForestClassifier(n_estimators=100, random_state=42)), ('svr', make_pipeline(StandardScaler(with_mean=False), LinearSVC(random_state=42)))]\n",
        "\n",
        "run_classification(StackingClassifier(estimators=estimators, final_estimator=DecisionTreeClassifier()), X_train_tfidf, X_test_tfidf, y_train1, y_test1)"
      ],
      "execution_count": null,
      "outputs": [
        {
          "output_type": "stream",
          "text": [
            "/usr/local/lib/python3.6/dist-packages/sklearn/svm/_base.py:947: ConvergenceWarning:\n",
            "\n",
            "Liblinear failed to converge, increase the number of iterations.\n",
            "\n",
            "/usr/local/lib/python3.6/dist-packages/sklearn/svm/_base.py:947: ConvergenceWarning:\n",
            "\n",
            "Liblinear failed to converge, increase the number of iterations.\n",
            "\n",
            "/usr/local/lib/python3.6/dist-packages/sklearn/svm/_base.py:947: ConvergenceWarning:\n",
            "\n",
            "Liblinear failed to converge, increase the number of iterations.\n",
            "\n",
            "/usr/local/lib/python3.6/dist-packages/sklearn/svm/_base.py:947: ConvergenceWarning:\n",
            "\n",
            "Liblinear failed to converge, increase the number of iterations.\n",
            "\n",
            "/usr/local/lib/python3.6/dist-packages/sklearn/svm/_base.py:947: ConvergenceWarning:\n",
            "\n",
            "Liblinear failed to converge, increase the number of iterations.\n",
            "\n",
            "/usr/local/lib/python3.6/dist-packages/sklearn/svm/_base.py:947: ConvergenceWarning:\n",
            "\n",
            "Liblinear failed to converge, increase the number of iterations.\n",
            "\n"
          ],
          "name": "stderr"
        },
        {
          "output_type": "stream",
          "text": [
            "Estimator: Pipeline(memory=None,\n",
            "         steps=[('tfidf',\n",
            "                 TfidfTransformer(norm='l2', smooth_idf=True,\n",
            "                                  sublinear_tf=False, use_idf=True)),\n",
            "                ('clf',\n",
            "                 StackingClassifier(cv=None,\n",
            "                                    estimators=[('rf',\n",
            "                                                 RandomForestClassifier(bootstrap=True,\n",
            "                                                                        ccp_alpha=0.0,\n",
            "                                                                        class_weight=None,\n",
            "                                                                        criterion='gini',\n",
            "                                                                        max_depth=None,\n",
            "                                                                        max_features='auto',\n",
            "                                                                        max_leaf_nodes=None,\n",
            "                                                                        max_samples=None,\n",
            "                                                                        min_impurity_decrease=0.0...\n",
            "                                    final_estimator=DecisionTreeClassifier(ccp_alpha=0.0,\n",
            "                                                                           class_weight=None,\n",
            "                                                                           criterion='gini',\n",
            "                                                                           max_depth=None,\n",
            "                                                                           max_features=None,\n",
            "                                                                           max_leaf_nodes=None,\n",
            "                                                                           min_impurity_decrease=0.0,\n",
            "                                                                           min_impurity_split=None,\n",
            "                                                                           min_samples_leaf=1,\n",
            "                                                                           min_samples_split=2,\n",
            "                                                                           min_weight_fraction_leaf=0.0,\n",
            "                                                                           presort='deprecated',\n",
            "                                                                           random_state=None,\n",
            "                                                                           splitter='best'),\n",
            "                                    n_jobs=None, passthrough=False,\n",
            "                                    stack_method='auto', verbose=0))],\n",
            "         verbose=False)\n",
            "================================================================================\n",
            "Training accuracy: 87.77%\n",
            "Testing accuracy: 69.45%\n",
            "================================================================================\n",
            "Confusion matrix:\n",
            " [[661   0   4 ...  13   5   5]\n",
            " [  0  37   0 ...   0   7   1]\n",
            " [  5   0 152 ...   0  38   9]\n",
            " ...\n",
            " [  6   0   0 ... 106   0   0]\n",
            " [  6   6  30 ...   2 710 110]\n",
            " [  9   2  25 ...   1 115 165]]\n",
            "================================================================================\n",
            "Classification report:\n",
            "               precision    recall  f1-score   support\n",
            "\n",
            "       GRP_0       0.66      0.69      0.68       955\n",
            "       GRP_1       0.71      0.61      0.65        61\n",
            "      GRP_10       0.64      0.62      0.63       246\n",
            "      GRP_11       0.82      0.82      0.82        55\n",
            "      GRP_12       0.78      0.76      0.77       419\n",
            "      GRP_13       0.88      0.86      0.87       259\n",
            "      GRP_14       0.75      0.83      0.79       208\n",
            "      GRP_15       0.86      0.90      0.88        70\n",
            "      GRP_16       0.92      0.83      0.87       150\n",
            "      GRP_17       0.81      0.87      0.84        45\n",
            "      GRP_18       0.88      0.88      0.88       156\n",
            "      GRP_19       0.77      0.81      0.79       386\n",
            "       GRP_2       0.81      0.80      0.80       362\n",
            "      GRP_20       0.82      0.84      0.83        63\n",
            "      GRP_21       0.87      0.90      0.89        52\n",
            "      GRP_22       0.86      0.79      0.82        56\n",
            "      GRP_23       0.90      0.80      0.85        45\n",
            "      GRP_24       0.66      0.62      0.64       407\n",
            "      GRP_25       0.75      0.77      0.76       199\n",
            "      GRP_26       0.89      0.91      0.90        99\n",
            "      GRP_27       0.72      0.81      0.76        32\n",
            "      GRP_28       0.78      0.80      0.79        76\n",
            "      GRP_29       0.79      0.86      0.82       172\n",
            "       GRP_3       0.81      0.79      0.80       367\n",
            "      GRP_30       0.38      0.29      0.33        34\n",
            "      GRP_31       0.60      0.50      0.54        98\n",
            "      GRP_33       0.60      0.56      0.58       212\n",
            "      GRP_34       0.58      0.60      0.59       109\n",
            "      GRP_36       0.65      0.68      0.67        22\n",
            "      GRP_37       0.89      0.83      0.86        29\n",
            "      GRP_39       0.50      0.52      0.51        21\n",
            "       GRP_4       0.67      0.81      0.73       182\n",
            "      GRP_40       0.80      0.83      0.81        81\n",
            "      GRP_41       0.96      0.93      0.94        72\n",
            "      GRP_42       0.42      0.40      0.41        58\n",
            "      GRP_43       1.00      0.67      0.80         9\n",
            "      GRP_44       0.92      0.81      0.86        27\n",
            "      GRP_45       0.70      0.65      0.67        60\n",
            "      GRP_46       0.43      0.43      0.43         7\n",
            "      GRP_47       0.55      0.56      0.55        43\n",
            "      GRP_48       0.13      0.41      0.20        17\n",
            "      GRP_49       1.00      0.75      0.86         8\n",
            "       GRP_5       0.49      0.46      0.48       231\n",
            "      GRP_50       0.65      0.57      0.60        23\n",
            "      GRP_51       1.00      0.93      0.96        14\n",
            "      GRP_52       0.92      0.80      0.86        15\n",
            "      GRP_53       0.75      0.75      0.75        20\n",
            "      GRP_59       0.64      0.78      0.70         9\n",
            "       GRP_6       0.49      0.48      0.48       312\n",
            "      GRP_60       0.42      0.41      0.41        32\n",
            "      GRP_62       0.63      0.63      0.63        43\n",
            "      GRP_65       0.71      0.85      0.77        20\n",
            "       GRP_7       0.79      0.85      0.82       125\n",
            "       GRP_8       0.64      0.63      0.64      1121\n",
            "       GRP_9       0.44      0.41      0.42       404\n",
            "\n",
            "    accuracy                           0.69      8398\n",
            "   macro avg       0.72      0.71      0.71      8398\n",
            "weighted avg       0.70      0.69      0.69      8398\n",
            "\n"
          ],
          "name": "stdout"
        }
      ]
    },
    {
      "cell_type": "markdown",
      "metadata": {
        "id": "XCl8T1jNrFaj"
      },
      "source": [
        "## Voting"
      ]
    },
    {
      "cell_type": "code",
      "metadata": {
        "id": "1Q_lE-UerFaj",
        "colab": {
          "base_uri": "https://localhost:8080/"
        },
        "outputId": "a8627432-bb36-48b4-e429-f28c4f7ede9c"
      },
      "source": [
        "from sklearn.ensemble import VotingClassifier\n",
        "\n",
        "\n",
        "estimators = [('rf', RandomForestClassifier(criterion= 'entropy', n_estimators=100, random_state=42)), ('knn', KNeighborsClassifier(algorithm='auto', leaf_size=30, metric='euclidean',\n",
        "                     metric_params=None, n_jobs=None, n_neighbors=2, p=2,\n",
        "                     weights='distance')), ('bg', BaggingClassifier(n_estimators=100, random_state=42)), ('lsvc', LinearSVC(C=1, random_state=42))]\n",
        "\n",
        "run_classification(VotingClassifier(estimators=estimators, voting='hard'), X_train_tfidf, X_test_tfidf, y_train1, y_test1)"
      ],
      "execution_count": null,
      "outputs": [
        {
          "output_type": "stream",
          "text": [
            "Estimator: Pipeline(memory=None,\n",
            "         steps=[('tfidf',\n",
            "                 TfidfTransformer(norm='l2', smooth_idf=True,\n",
            "                                  sublinear_tf=False, use_idf=True)),\n",
            "                ('clf',\n",
            "                 VotingClassifier(estimators=[('rf',\n",
            "                                               RandomForestClassifier(bootstrap=True,\n",
            "                                                                      ccp_alpha=0.0,\n",
            "                                                                      class_weight=None,\n",
            "                                                                      criterion='entropy',\n",
            "                                                                      max_depth=None,\n",
            "                                                                      max_features='auto',\n",
            "                                                                      max_leaf_nodes=None,\n",
            "                                                                      max_samples=None,\n",
            "                                                                      min_impurity_decrease=0.0,\n",
            "                                                                      min_im...\n",
            "                                                                 n_estimators=100,\n",
            "                                                                 n_jobs=None,\n",
            "                                                                 oob_score=False,\n",
            "                                                                 random_state=42,\n",
            "                                                                 verbose=0,\n",
            "                                                                 warm_start=False)),\n",
            "                                              ('lsvc',\n",
            "                                               LinearSVC(C=1, class_weight=None,\n",
            "                                                         dual=True,\n",
            "                                                         fit_intercept=True,\n",
            "                                                         intercept_scaling=1,\n",
            "                                                         loss='squared_hinge',\n",
            "                                                         max_iter=1000,\n",
            "                                                         multi_class='ovr',\n",
            "                                                         penalty='l2',\n",
            "                                                         random_state=42,\n",
            "                                                         tol=0.0001,\n",
            "                                                         verbose=0))],\n",
            "                                  flatten_transform=True, n_jobs=None,\n",
            "                                  voting='hard', weights=None))],\n",
            "         verbose=False)\n",
            "================================================================================\n",
            "Training accuracy: 97.97%\n",
            "Testing accuracy: 79.54%\n",
            "================================================================================\n",
            "Confusion matrix:\n",
            " [[865   0   3 ...   3   0   2]\n",
            " [  0  40   0 ...   0   8   0]\n",
            " [  7   0 172 ...   0  48   4]\n",
            " ...\n",
            " [ 12   0   0 ... 105   0   0]\n",
            " [ 12   0   7 ...   0 943  45]\n",
            " [  9   0   5 ...   0 196 147]]\n",
            "================================================================================\n",
            "Classification report:\n",
            "               precision    recall  f1-score   support\n",
            "\n",
            "       GRP_0       0.69      0.91      0.78       955\n",
            "       GRP_1       0.95      0.66      0.78        61\n",
            "      GRP_10       0.88      0.70      0.78       246\n",
            "      GRP_11       0.98      0.89      0.93        55\n",
            "      GRP_12       0.86      0.89      0.87       419\n",
            "      GRP_13       0.93      0.93      0.93       259\n",
            "      GRP_14       0.93      0.88      0.90       208\n",
            "      GRP_15       0.97      0.93      0.95        70\n",
            "      GRP_16       0.93      0.94      0.94       150\n",
            "      GRP_17       0.95      0.78      0.85        45\n",
            "      GRP_18       0.95      0.90      0.92       156\n",
            "      GRP_19       0.89      0.90      0.89       386\n",
            "       GRP_2       0.89      0.85      0.87       362\n",
            "      GRP_20       0.98      0.90      0.94        63\n",
            "      GRP_21       1.00      0.92      0.96        52\n",
            "      GRP_22       1.00      0.86      0.92        56\n",
            "      GRP_23       0.93      0.84      0.88        45\n",
            "      GRP_24       0.77      0.81      0.79       407\n",
            "      GRP_25       0.87      0.88      0.88       199\n",
            "      GRP_26       0.99      0.92      0.95        99\n",
            "      GRP_27       0.93      0.78      0.85        32\n",
            "      GRP_28       0.91      0.80      0.85        76\n",
            "      GRP_29       0.95      0.93      0.94       172\n",
            "       GRP_3       0.89      0.86      0.88       367\n",
            "      GRP_30       0.27      0.26      0.27        34\n",
            "      GRP_31       0.80      0.60      0.69        98\n",
            "      GRP_33       0.72      0.62      0.66       212\n",
            "      GRP_34       0.87      0.68      0.76       109\n",
            "      GRP_36       0.93      0.64      0.76        22\n",
            "      GRP_37       1.00      0.97      0.98        29\n",
            "      GRP_39       0.93      0.67      0.78        21\n",
            "       GRP_4       0.92      0.80      0.86       182\n",
            "      GRP_40       0.97      0.89      0.93        81\n",
            "      GRP_41       1.00      0.96      0.98        72\n",
            "      GRP_42       0.74      0.55      0.63        58\n",
            "      GRP_43       1.00      0.78      0.88         9\n",
            "      GRP_44       1.00      0.89      0.94        27\n",
            "      GRP_45       0.88      0.73      0.80        60\n",
            "      GRP_46       0.86      0.86      0.86         7\n",
            "      GRP_47       0.85      0.67      0.75        43\n",
            "      GRP_48       0.26      0.47      0.33        17\n",
            "      GRP_49       1.00      0.75      0.86         8\n",
            "       GRP_5       0.72      0.50      0.59       231\n",
            "      GRP_50       0.94      0.74      0.83        23\n",
            "      GRP_51       1.00      1.00      1.00        14\n",
            "      GRP_52       0.93      0.93      0.93        15\n",
            "      GRP_53       1.00      0.75      0.86        20\n",
            "      GRP_59       1.00      1.00      1.00         9\n",
            "       GRP_6       0.69      0.52      0.59       312\n",
            "      GRP_60       0.70      0.44      0.54        32\n",
            "      GRP_62       0.93      0.65      0.77        43\n",
            "      GRP_65       0.95      1.00      0.98        20\n",
            "       GRP_7       0.93      0.84      0.88       125\n",
            "       GRP_8       0.64      0.84      0.73      1121\n",
            "       GRP_9       0.64      0.36      0.46       404\n",
            "\n",
            "    accuracy                           0.80      8398\n",
            "   macro avg       0.87      0.78      0.82      8398\n",
            "weighted avg       0.81      0.80      0.79      8398\n",
            "\n"
          ],
          "name": "stdout"
        }
      ]
    },
    {
      "cell_type": "markdown",
      "metadata": {
        "id": "gVNcUZ1BQWrL"
      },
      "source": [
        "## Deep Neural Networks"
      ]
    },
    {
      "cell_type": "code",
      "metadata": {
        "id": "4RelfajlQWrL"
      },
      "source": [
        "# Load the augmented data from pickle file \n",
        "#with open(''/content/Final_data.pkl','rb') as f:\n",
        "with open('Final_data.pkl','rb') as f:\n",
        "    clean_data_DL = pickle.load(f)"
      ],
      "execution_count": null,
      "outputs": []
    },
    {
      "cell_type": "code",
      "metadata": {
        "id": "15XBDLMRQWrL",
        "colab": {
          "base_uri": "https://localhost:8080/"
        },
        "outputId": "4163ae2a-409d-4ac3-cb7e-5abe11900b03"
      },
      "source": [
        "clean_data_DL.isnull().sum()"
      ],
      "execution_count": null,
      "outputs": [
        {
          "output_type": "execute_result",
          "data": {
            "text/plain": [
              "Caller              0\n",
              "Assignment group    0\n",
              "language            0\n",
              "Final_Text          0\n",
              "dtype: int64"
            ]
          },
          "metadata": {
            "tags": []
          },
          "execution_count": 70
        }
      ]
    },
    {
      "cell_type": "code",
      "metadata": {
        "id": "FxgUQxvhQWrL"
      },
      "source": [
        "clean_data_DL['Final_Text'] = clean_data_DL['Final_Text'].replace(np.nan, '', regex=True)"
      ],
      "execution_count": null,
      "outputs": []
    },
    {
      "cell_type": "code",
      "metadata": {
        "id": "HzJ4VnECQWrM",
        "colab": {
          "base_uri": "https://localhost:8080/"
        },
        "outputId": "ad4cc00d-30af-4e61-c5d1-a95241bc54aa"
      },
      "source": [
        "clean_data_DL.info()"
      ],
      "execution_count": null,
      "outputs": [
        {
          "output_type": "stream",
          "text": [
            "<class 'pandas.core.frame.DataFrame'>\n",
            "Int64Index: 27992 entries, 0 to 48\n",
            "Data columns (total 4 columns):\n",
            " #   Column            Non-Null Count  Dtype \n",
            "---  ------            --------------  ----- \n",
            " 0   Caller            27992 non-null  object\n",
            " 1   Assignment group  27992 non-null  object\n",
            " 2   language          27992 non-null  object\n",
            " 3   Final_Text        27992 non-null  object\n",
            "dtypes: object(4)\n",
            "memory usage: 1.1+ MB\n"
          ],
          "name": "stdout"
        }
      ]
    },
    {
      "cell_type": "code",
      "metadata": {
        "id": "oTiSKPsIr7RX",
        "colab": {
          "base_uri": "https://localhost:8080/"
        },
        "outputId": "0cdbf000-062c-4a18-81fc-9fffa3cabc9e"
      },
      "source": [
        "# Import label encoder \n",
        "from sklearn import preprocessing \n",
        "  \n",
        "# label_encoder object knows how to understand word labels. \n",
        "label_encoder = preprocessing.LabelEncoder() \n",
        "  \n",
        "# Encode labels in column 'species'. \n",
        "clean_data_DL['Assignment group LabelEncoded']= label_encoder.fit_transform(clean_data_DL['Assignment group']) \n",
        "  \n",
        "clean_data_DL['Assignment group LabelEncoded'].unique()"
      ],
      "execution_count": null,
      "outputs": [
        {
          "output_type": "execute_result",
          "data": {
            "text/plain": [
              "array([17, 18, 26, 21,  1, 12, 34, 23,  2, 27, 31,  4, 42, 48, 52, 53, 54,\n",
              "        3,  5,  6,  7,  8,  9, 10, 11, 13, 14, 15, 16, 19, 20, 22, 24, 25,\n",
              "       28, 29, 30, 32, 33, 35, 36, 37, 38, 39, 41, 43, 44, 45, 46, 40, 47,\n",
              "       49, 50, 51,  0])"
            ]
          },
          "metadata": {
            "tags": []
          },
          "execution_count": 73
        }
      ]
    },
    {
      "cell_type": "code",
      "metadata": {
        "id": "hwiIGk4ar7gA",
        "colab": {
          "base_uri": "https://localhost:8080/"
        },
        "outputId": "7e5efe95-aeab-4a1f-f9d3-2a303342400a"
      },
      "source": [
        "label_encoded_dict = dict(zip(clean_data_DL['Assignment group'].unique(), clean_data_DL['Assignment group LabelEncoded'].unique()))\n",
        "len(label_encoded_dict)"
      ],
      "execution_count": null,
      "outputs": [
        {
          "output_type": "execute_result",
          "data": {
            "text/plain": [
              "55"
            ]
          },
          "metadata": {
            "tags": []
          },
          "execution_count": 74
        }
      ]
    },
    {
      "cell_type": "code",
      "metadata": {
        "id": "ibiTTlGLQWrM",
        "colab": {
          "base_uri": "https://localhost:8080/"
        },
        "outputId": "7cf87031-5ead-4a5c-c03b-93b338896a09"
      },
      "source": [
        "# Splitting Train Test \n",
        "from sklearn.model_selection import train_test_split\n",
        "\n",
        "X_train, X_test, y_train, y_test = train_test_split(clean_data_DL['Final_Text'], clean_data_DL['Assignment group LabelEncoded'], test_size=0.3, random_state = 0, stratify=clean_data_DL['Assignment group LabelEncoded'])\n",
        "print('\\033[1mShape of the training set:\\033[0m', X_train.shape, X_test.shape)\n",
        "print('\\033[1mShape of the test set:\\033[0m', y_train.shape, y_test.shape)"
      ],
      "execution_count": null,
      "outputs": [
        {
          "output_type": "stream",
          "text": [
            "\u001b[1mShape of the training set:\u001b[0m (19594,) (8398,)\n",
            "\u001b[1mShape of the test set:\u001b[0m (19594,) (8398,)\n"
          ],
          "name": "stdout"
        }
      ]
    },
    {
      "cell_type": "markdown",
      "metadata": {
        "id": "2GOVYYV9QWrM"
      },
      "source": [
        "### Create checkpoints function"
      ]
    },
    {
      "cell_type": "code",
      "metadata": {
        "id": "3RG6wVQXQWrN"
      },
      "source": [
        "#Path where you want to save the weights, model and checkpoints\n",
        "model_path = \"Weights/\"\n",
        "%mkdir Weights\n",
        "\n",
        "# Define model callbacks\n",
        "def call_backs(name):\n",
        "    early_stopping = EarlyStopping(monitor='val_loss', mode='min', min_delta=0.01, patience=3)\n",
        "    model_checkpoint =  ModelCheckpoint(model_path + name + '_epoch{epoch:02d}_loss{val_loss:.4f}.h5',\n",
        "                                                               monitor='val_loss',\n",
        "                                                               verbose=1,\n",
        "                                                               save_best_only=True,\n",
        "                                                               save_weights_only=False,\n",
        "                                                               mode='min',\n",
        "                                                               period=1)\n",
        "    return [model_checkpoint, early_stopping]"
      ],
      "execution_count": null,
      "outputs": []
    },
    {
      "cell_type": "code",
      "metadata": {
        "id": "lAC5r5UcQWrN"
      },
      "source": [
        "# Function to build Neural Network\n",
        "def Build_Model_DNN_Text(shape, nClasses, dropout=0.3):\n",
        "    \"\"\"\n",
        "    buildModel_DNN_Tex(shape, nClasses,dropout)\n",
        "    Build Deep neural networks Model for text classification\n",
        "    Shape is input feature space\n",
        "    nClasses is number of classes\n",
        "    \"\"\"\n",
        "    model = Sequential()\n",
        "    node = 512 # number of nodes\n",
        "    nLayers = 4 # number of  hidden layer\n",
        "    model.add(Dense(node,input_dim=shape,activation='relu'))\n",
        "    model.add(Dropout(dropout))\n",
        "    for i in range(0,nLayers):\n",
        "        model.add(Dense(node,input_dim=node,activation='relu'))\n",
        "        model.add(Dropout(dropout))\n",
        "        model.add(BatchNormalization())\n",
        "    model.add(Dense(nClasses, activation='softmax'))\n",
        "    model.compile(loss='sparse_categorical_crossentropy',\n",
        "                  optimizer='adam',\n",
        "                  metrics=['accuracy'])\n",
        "    print(model.summary())\n",
        "    return model"
      ],
      "execution_count": null,
      "outputs": []
    },
    {
      "cell_type": "code",
      "metadata": {
        "id": "BeuJUVsVl_SA",
        "colab": {
          "base_uri": "https://localhost:8080/"
        },
        "outputId": "8d0d5c8f-955f-42fc-9c07-c7420c532740"
      },
      "source": [
        "#from tensorflow.keras import Sequential\n",
        "#from tensorflow.keras.layers import Conv2D, Flatten, Dense, Dropout, BatchNormalization\n",
        "\n",
        "Tfidf_vect = TfidfVectorizer(max_features=2500)\n",
        "Tfidf_vect.fit(clean_data_DL.Final_Text.astype(str))\n",
        "X_train_tfidf = Tfidf_vect.transform(X_train)\n",
        "X_test_tfidf = Tfidf_vect.transform(X_test)\n",
        "\n",
        "# Instantiate the network\n",
        "model_DNN = Build_Model_DNN_Text(X_train_tfidf.shape[1], 55)"
      ],
      "execution_count": null,
      "outputs": [
        {
          "output_type": "stream",
          "text": [
            "WARNING:tensorflow:From /tensorflow-1.15.2/python3.6/tensorflow_core/python/ops/resource_variable_ops.py:1630: calling BaseResourceVariable.__init__ (from tensorflow.python.ops.resource_variable_ops) with constraint is deprecated and will be removed in a future version.\n",
            "Instructions for updating:\n",
            "If using Keras pass *_constraint arguments to layers.\n",
            "Model: \"sequential_1\"\n",
            "_________________________________________________________________\n",
            "Layer (type)                 Output Shape              Param #   \n",
            "=================================================================\n",
            "dense_1 (Dense)              (None, 512)               1280512   \n",
            "_________________________________________________________________\n",
            "dropout_1 (Dropout)          (None, 512)               0         \n",
            "_________________________________________________________________\n",
            "dense_2 (Dense)              (None, 512)               262656    \n",
            "_________________________________________________________________\n",
            "dropout_2 (Dropout)          (None, 512)               0         \n",
            "_________________________________________________________________\n",
            "batch_normalization_1 (Batch (None, 512)               2048      \n",
            "_________________________________________________________________\n",
            "dense_3 (Dense)              (None, 512)               262656    \n",
            "_________________________________________________________________\n",
            "dropout_3 (Dropout)          (None, 512)               0         \n",
            "_________________________________________________________________\n",
            "batch_normalization_2 (Batch (None, 512)               2048      \n",
            "_________________________________________________________________\n",
            "dense_4 (Dense)              (None, 512)               262656    \n",
            "_________________________________________________________________\n",
            "dropout_4 (Dropout)          (None, 512)               0         \n",
            "_________________________________________________________________\n",
            "batch_normalization_3 (Batch (None, 512)               2048      \n",
            "_________________________________________________________________\n",
            "dense_5 (Dense)              (None, 512)               262656    \n",
            "_________________________________________________________________\n",
            "dropout_5 (Dropout)          (None, 512)               0         \n",
            "_________________________________________________________________\n",
            "batch_normalization_4 (Batch (None, 512)               2048      \n",
            "_________________________________________________________________\n",
            "dense_6 (Dense)              (None, 55)                28215     \n",
            "=================================================================\n",
            "Total params: 2,367,543\n",
            "Trainable params: 2,363,447\n",
            "Non-trainable params: 4,096\n",
            "_________________________________________________________________\n",
            "None\n"
          ],
          "name": "stdout"
        }
      ]
    },
    {
      "cell_type": "code",
      "metadata": {
        "id": "a6aC4UqOQWrN",
        "colab": {
          "base_uri": "https://localhost:8080/",
          "height": 1000
        },
        "outputId": "a1f17b75-fb74-43ef-e6cd-dd44cc029e30"
      },
      "source": [
        "run_classification(model_DNN, X_train_tfidf, X_test_tfidf, y_train, y_test,pipelineRequired = False,isDeepModel=True, arch_name='DNN')\n",
        "\n",
        "'''model_DNN.fit(X_train_tfidf, y_train,\n",
        "                              validation_data=(X_test_tfidf, y_test),\n",
        "                              callbacks=call_backs(\"NN\"),\n",
        "                              epochs=10,\n",
        "                              batch_size=128,\n",
        "                              verbose=2)\n",
        "predicted = model_DNN.predict(X_test_tfidf)'''"
      ],
      "execution_count": null,
      "outputs": [
        {
          "output_type": "stream",
          "text": [
            "WARNING:tensorflow:From /tensorflow-1.15.2/python3.6/keras/backend/tensorflow_backend.py:422: The name tf.global_variables is deprecated. Please use tf.compat.v1.global_variables instead.\n",
            "\n",
            "Train on 19594 samples, validate on 8398 samples\n",
            "Epoch 1/25\n",
            "19594/19594 [==============================] - 17s 845us/step - loss: 3.1109 - accuracy: 0.2616 - val_loss: 3.2341 - val_accuracy: 0.2890\n",
            "\n",
            "Epoch 00001: val_loss improved from inf to 3.23414, saving model to Weights/DNN_epoch01_loss3.2341.h5\n",
            "Epoch 2/25\n",
            "19594/19594 [==============================] - 15s 756us/step - loss: 1.8515 - accuracy: 0.4968 - val_loss: 2.4888 - val_accuracy: 0.4518\n",
            "\n",
            "Epoch 00002: val_loss improved from 3.23414 to 2.48876, saving model to Weights/DNN_epoch02_loss2.4888.h5\n",
            "Epoch 3/25\n",
            "19594/19594 [==============================] - 14s 690us/step - loss: 1.2843 - accuracy: 0.6379 - val_loss: 1.5121 - val_accuracy: 0.6109\n",
            "\n",
            "Epoch 00003: val_loss improved from 2.48876 to 1.51208, saving model to Weights/DNN_epoch03_loss1.5121.h5\n",
            "Epoch 4/25\n",
            "19594/19594 [==============================] - 11s 581us/step - loss: 0.9204 - accuracy: 0.7276 - val_loss: 0.9892 - val_accuracy: 0.7197\n",
            "\n",
            "Epoch 00004: val_loss improved from 1.51208 to 0.98917, saving model to Weights/DNN_epoch04_loss0.9892.h5\n",
            "Epoch 5/25\n",
            "19594/19594 [==============================] - 11s 578us/step - loss: 0.7286 - accuracy: 0.7812 - val_loss: 0.9151 - val_accuracy: 0.7510\n",
            "\n",
            "Epoch 00005: val_loss improved from 0.98917 to 0.91515, saving model to Weights/DNN_epoch05_loss0.9151.h5\n",
            "Epoch 6/25\n",
            "19594/19594 [==============================] - 12s 599us/step - loss: 0.5838 - accuracy: 0.8215 - val_loss: 0.9368 - val_accuracy: 0.7557\n",
            "\n",
            "Epoch 00006: val_loss did not improve from 0.91515\n",
            "Epoch 7/25\n",
            "19594/19594 [==============================] - 12s 588us/step - loss: 0.5019 - accuracy: 0.8470 - val_loss: 0.9272 - val_accuracy: 0.7586\n",
            "\n",
            "Epoch 00007: val_loss did not improve from 0.91515\n",
            "Epoch 8/25\n",
            "19594/19594 [==============================] - 11s 581us/step - loss: 0.4530 - accuracy: 0.8614 - val_loss: 0.9420 - val_accuracy: 0.7640\n",
            "\n",
            "Epoch 00008: val_loss did not improve from 0.91515\n",
            "Estimator: <keras.engine.sequential.Sequential object at 0x7fc3ad5f4198>\n",
            "================================================================================\n",
            "Training accuracy: 92.48%\n",
            "Testing accuracy: 76.40%\n",
            "================================================================================\n",
            "Confusion matrix:\n",
            " [[746   1   2 ...   2   2   5]\n",
            " [  1  31   1 ...   0   6   0]\n",
            " [  2   0 174 ...   0  42  12]\n",
            " ...\n",
            " [  9   0   1 ... 107   0   0]\n",
            " [  3   0   6 ...   0 913  86]\n",
            " [  6   0   4 ...   0 177 180]]\n",
            "================================================================================\n",
            "Classification report:\n",
            "               precision    recall  f1-score   support\n",
            "\n",
            "       GRP_0       0.74      0.78      0.76       955\n",
            "       GRP_1       0.89      0.51      0.65        61\n",
            "      GRP_10       0.86      0.71      0.78       246\n",
            "      GRP_11       0.96      0.89      0.92        55\n",
            "      GRP_12       0.79      0.86      0.82       419\n",
            "      GRP_13       0.92      0.93      0.92       259\n",
            "      GRP_14       0.88      0.84      0.86       208\n",
            "      GRP_15       0.98      0.89      0.93        70\n",
            "      GRP_16       0.82      0.91      0.86       150\n",
            "      GRP_17       0.87      0.76      0.81        45\n",
            "      GRP_18       0.85      0.85      0.85       156\n",
            "      GRP_19       0.77      0.90      0.83       386\n",
            "       GRP_2       0.89      0.76      0.82       362\n",
            "      GRP_20       0.81      0.81      0.81        63\n",
            "      GRP_21       0.81      0.92      0.86        52\n",
            "      GRP_22       0.87      0.80      0.83        56\n",
            "      GRP_23       0.83      0.84      0.84        45\n",
            "      GRP_24       0.80      0.80      0.80       407\n",
            "      GRP_25       0.77      0.88      0.82       199\n",
            "      GRP_26       0.88      0.92      0.90        99\n",
            "      GRP_27       0.69      0.78      0.74        32\n",
            "      GRP_28       0.88      0.84      0.86        76\n",
            "      GRP_29       0.91      0.89      0.90       172\n",
            "       GRP_3       0.87      0.82      0.84       367\n",
            "      GRP_30       0.50      0.18      0.26        34\n",
            "      GRP_31       0.57      0.55      0.56        98\n",
            "      GRP_33       0.71      0.52      0.60       212\n",
            "      GRP_34       0.71      0.67      0.69       109\n",
            "      GRP_36       0.70      0.64      0.67        22\n",
            "      GRP_37       0.80      0.97      0.88        29\n",
            "      GRP_39       1.00      0.52      0.69        21\n",
            "       GRP_4       0.83      0.81      0.82       182\n",
            "      GRP_40       0.93      0.88      0.90        81\n",
            "      GRP_41       0.96      0.92      0.94        72\n",
            "      GRP_42       0.71      0.52      0.60        58\n",
            "      GRP_43       0.88      0.78      0.82         9\n",
            "      GRP_44       0.95      0.78      0.86        27\n",
            "      GRP_45       0.76      0.70      0.73        60\n",
            "      GRP_46       0.67      0.57      0.62         7\n",
            "      GRP_47       0.90      0.65      0.76        43\n",
            "      GRP_48       0.27      0.41      0.33        17\n",
            "      GRP_49       1.00      0.75      0.86         8\n",
            "       GRP_5       0.55      0.56      0.56       231\n",
            "      GRP_50       0.80      0.52      0.63        23\n",
            "      GRP_51       1.00      1.00      1.00        14\n",
            "      GRP_52       0.94      1.00      0.97        15\n",
            "      GRP_53       1.00      0.80      0.89        20\n",
            "      GRP_59       0.89      0.89      0.89         9\n",
            "       GRP_6       0.72      0.51      0.59       312\n",
            "      GRP_60       1.00      0.34      0.51        32\n",
            "      GRP_62       0.86      0.72      0.78        43\n",
            "      GRP_65       0.76      0.95      0.84        20\n",
            "       GRP_7       0.93      0.86      0.89       125\n",
            "       GRP_8       0.65      0.81      0.72      1121\n",
            "       GRP_9       0.51      0.45      0.48       404\n",
            "\n",
            "    accuracy                           0.76      8398\n",
            "   macro avg       0.81      0.75      0.77      8398\n",
            "weighted avg       0.77      0.76      0.76      8398\n",
            "\n"
          ],
          "name": "stdout"
        },
        {
          "output_type": "execute_result",
          "data": {
            "application/vnd.google.colaboratory.intrinsic+json": {
              "type": "string"
            },
            "text/plain": [
              "'model_DNN.fit(X_train_tfidf, y_train,\\n                              validation_data=(X_test_tfidf, y_test),\\n                              callbacks=call_backs(\"NN\"),\\n                              epochs=10,\\n                              batch_size=128,\\n                              verbose=2)\\npredicted = model_DNN.predict(X_test_tfidf)'"
            ]
          },
          "metadata": {
            "tags": []
          },
          "execution_count": 79
        }
      ]
    },
    {
      "cell_type": "markdown",
      "metadata": {
        "id": "LaCQnFBRQWrO"
      },
      "source": [
        "### Extract Glove Embeddings"
      ]
    },
    {
      "cell_type": "code",
      "metadata": {
        "id": "hMA3MFYUQWrO",
        "colab": {
          "base_uri": "https://localhost:8080/",
          "height": 350
        },
        "outputId": "02be531b-0abc-4c2e-a9c7-15c1ecb5afd4"
      },
      "source": [
        "#download the glove embedding zip file from http://nlp.stanford.edu/data/wordvecs/glove.6B.zip\n",
        "from zipfile import ZipFile\n",
        "# Check if it is already extracted else Open the zipped file as readonly\n",
        "if not os.path.isfile('glove.6B/glove.6B.200d.txt'):\n",
        "    glove_embeddings = 'glove.6B.zip'\n",
        "    #glove_embeddings = '/content/drive/MyDrive/Capstone/glove.6B.zip'\n",
        "    with ZipFile(glove_embeddings, 'r') as archive:\n",
        "        archive.extractall('glove.6B')\n",
        "\n",
        "# List the files under extracted folder\n",
        "os.listdir('glove.6B')"
      ],
      "execution_count": null,
      "outputs": [
        {
          "output_type": "error",
          "ename": "FileNotFoundError",
          "evalue": "ignored",
          "traceback": [
            "\u001b[0;31m---------------------------------------------------------------------------\u001b[0m",
            "\u001b[0;31mFileNotFoundError\u001b[0m                         Traceback (most recent call last)",
            "\u001b[0;32m<ipython-input-80-5235dba3d192>\u001b[0m in \u001b[0;36m<module>\u001b[0;34m()\u001b[0m\n\u001b[1;32m      5\u001b[0m     \u001b[0mglove_embeddings\u001b[0m \u001b[0;34m=\u001b[0m \u001b[0;34m'glove.6B.zip'\u001b[0m\u001b[0;34m\u001b[0m\u001b[0;34m\u001b[0m\u001b[0m\n\u001b[1;32m      6\u001b[0m     \u001b[0;31m#glove_embeddings = '/content/drive/MyDrive/Capstone/glove.6B.zip'\u001b[0m\u001b[0;34m\u001b[0m\u001b[0;34m\u001b[0m\u001b[0;34m\u001b[0m\u001b[0m\n\u001b[0;32m----> 7\u001b[0;31m     \u001b[0;32mwith\u001b[0m \u001b[0mZipFile\u001b[0m\u001b[0;34m(\u001b[0m\u001b[0mglove_embeddings\u001b[0m\u001b[0;34m,\u001b[0m \u001b[0;34m'r'\u001b[0m\u001b[0;34m)\u001b[0m \u001b[0;32mas\u001b[0m \u001b[0marchive\u001b[0m\u001b[0;34m:\u001b[0m\u001b[0;34m\u001b[0m\u001b[0;34m\u001b[0m\u001b[0m\n\u001b[0m\u001b[1;32m      8\u001b[0m         \u001b[0marchive\u001b[0m\u001b[0;34m.\u001b[0m\u001b[0mextractall\u001b[0m\u001b[0;34m(\u001b[0m\u001b[0;34m'glove.6B'\u001b[0m\u001b[0;34m)\u001b[0m\u001b[0;34m\u001b[0m\u001b[0;34m\u001b[0m\u001b[0m\n\u001b[1;32m      9\u001b[0m \u001b[0;34m\u001b[0m\u001b[0m\n",
            "\u001b[0;32m/usr/lib/python3.6/zipfile.py\u001b[0m in \u001b[0;36m__init__\u001b[0;34m(self, file, mode, compression, allowZip64)\u001b[0m\n\u001b[1;32m   1111\u001b[0m             \u001b[0;32mwhile\u001b[0m \u001b[0;32mTrue\u001b[0m\u001b[0;34m:\u001b[0m\u001b[0;34m\u001b[0m\u001b[0;34m\u001b[0m\u001b[0m\n\u001b[1;32m   1112\u001b[0m                 \u001b[0;32mtry\u001b[0m\u001b[0;34m:\u001b[0m\u001b[0;34m\u001b[0m\u001b[0;34m\u001b[0m\u001b[0m\n\u001b[0;32m-> 1113\u001b[0;31m                     \u001b[0mself\u001b[0m\u001b[0;34m.\u001b[0m\u001b[0mfp\u001b[0m \u001b[0;34m=\u001b[0m \u001b[0mio\u001b[0m\u001b[0;34m.\u001b[0m\u001b[0mopen\u001b[0m\u001b[0;34m(\u001b[0m\u001b[0mfile\u001b[0m\u001b[0;34m,\u001b[0m \u001b[0mfilemode\u001b[0m\u001b[0;34m)\u001b[0m\u001b[0;34m\u001b[0m\u001b[0;34m\u001b[0m\u001b[0m\n\u001b[0m\u001b[1;32m   1114\u001b[0m                 \u001b[0;32mexcept\u001b[0m \u001b[0mOSError\u001b[0m\u001b[0;34m:\u001b[0m\u001b[0;34m\u001b[0m\u001b[0;34m\u001b[0m\u001b[0m\n\u001b[1;32m   1115\u001b[0m                     \u001b[0;32mif\u001b[0m \u001b[0mfilemode\u001b[0m \u001b[0;32min\u001b[0m \u001b[0mmodeDict\u001b[0m\u001b[0;34m:\u001b[0m\u001b[0;34m\u001b[0m\u001b[0;34m\u001b[0m\u001b[0m\n",
            "\u001b[0;31mFileNotFoundError\u001b[0m: [Errno 2] No such file or directory: 'glove.6B.zip'"
          ]
        }
      ]
    },
    {
      "cell_type": "markdown",
      "metadata": {
        "id": "r2Xtecr3QWrO"
      },
      "source": [
        "## Convolutional Neural Networks (CNN)"
      ]
    },
    {
      "cell_type": "code",
      "metadata": {
        "id": "ghIAygEfQWrO"
      },
      "source": [
        "gloveFileName = 'glove.6B/glove.6B.200d.txt'\n",
        "#gloveFileName = '/content/glove.6B/glove.6B.200d.txt'\n",
        "MAX_SEQUENCE_LENGTH = 500\n",
        "EMBEDDING_DIM=200\n",
        "MAX_NB_WORDS=75000\n",
        "\n",
        "# Function to generate Embedding\n",
        "def loadData_Tokenizer(X_train, X_test,filename):\n",
        "    np.random.seed(7)\n",
        "    text = np.concatenate((X_train, X_test), axis=0)\n",
        "    text = np.array(text)\n",
        "    tokenizer = Tokenizer(num_words=MAX_NB_WORDS)\n",
        "    tokenizer.fit_on_texts(text)\n",
        "    sequences = tokenizer.texts_to_sequences(text)\n",
        "    word_index = tokenizer.word_index\n",
        "    text = pad_sequences(sequences, maxlen=MAX_SEQUENCE_LENGTH)\n",
        "    print('Found %s unique tokens.' % len(word_index))\n",
        "    indices = np.arange(text.shape[0])\n",
        "    # np.random.shuffle(indices)\n",
        "    text = text[indices]\n",
        "    print(text.shape)\n",
        "    X_train = text[0:len(X_train), ]\n",
        "    X_test = text[len(X_train):, ]\n",
        "    embeddings_index = {}\n",
        "    f = open(filename, encoding=\"utf8\")\n",
        "    for line in f:\n",
        "        values = line.split()\n",
        "        word = values[0]\n",
        "        try:\n",
        "            coefs = np.asarray(values[1:], dtype='float32')\n",
        "        except:\n",
        "            pass\n",
        "        embeddings_index[word] = coefs\n",
        "    f.close()\n",
        "    print('Total %s word vectors.' % len(embeddings_index))\n",
        "    return (X_train, X_test, word_index,embeddings_index)\n",
        "\n",
        "\n",
        "embedding_matrix = []\n",
        "\n",
        "def buildEmbed_matrices(word_index,embedding_dim):\n",
        "    embedding_matrix = np.random.random((len(word_index) + 1, embedding_dim))\n",
        "    for word, i in word_index.items():\n",
        "        embedding_vector = embeddings_index.get(word)\n",
        "        if embedding_vector is not None:\n",
        "            # words not found in embedding index will be all-zeros.\n",
        "            if len(embedding_matrix[i]) !=len(embedding_vector):\n",
        "                print(\"could not broadcast input array from shape\",str(len(embedding_matrix[i])), \"into shape\",str(len(embedding_vector)),\n",
        "                      \" Please make sure your\"\" EMBEDDING_DIM is equal to embedding_vector file ,GloVe,\")\n",
        "                exit(1)\n",
        "            embedding_matrix[i] = embedding_vector\n",
        "    return embedding_matrix"
      ],
      "execution_count": null,
      "outputs": []
    },
    {
      "cell_type": "code",
      "metadata": {
        "id": "DljFFfKxQWrO"
      },
      "source": [
        "# Generate Glove embedded datasets\n",
        "X_train_Glove, X_test_Glove, word_index, embeddings_index = loadData_Tokenizer(X_train,X_test,gloveFileName)\n",
        "embedding_matrix = buildEmbed_matrices(word_index,EMBEDDING_DIM)"
      ],
      "execution_count": null,
      "outputs": []
    },
    {
      "cell_type": "code",
      "metadata": {
        "id": "URiIMsVEQWrO"
      },
      "source": [
        "def Build_Model_CNN_Text(word_index, embeddings_matrix, nclasses,dropout=0.5):\n",
        "    \"\"\"\n",
        "        def buildModel_CNN(word_index, embeddings_index, nclasses, MAX_SEQUENCE_LENGTH=500, EMBEDDING_DIM=50, dropout=0.5):\n",
        "        word_index in word index ,\n",
        "        embeddings_index is embeddings index, look at data_helper.py\n",
        "        nClasses is number of classes,\n",
        "        MAX_SEQUENCE_LENGTH is maximum lenght of text sequences,\n",
        "        EMBEDDING_DIM is an int value for dimention of word embedding look at data_helper.py\n",
        "    \"\"\"\n",
        "    model = Sequential()\n",
        "    embedding_layer = Embedding(len(word_index) + 1,\n",
        "                                EMBEDDING_DIM,\n",
        "                                weights=[embeddings_matrix],\n",
        "                                input_length=MAX_SEQUENCE_LENGTH,\n",
        "                                trainable=True)\n",
        "    # applying a more complex convolutional approach\n",
        "    convs = []\n",
        "    filter_sizes = []\n",
        "    layer = 5\n",
        "    print(\"Filter  \",layer)\n",
        "    for fl in range(0,layer):\n",
        "        filter_sizes.append((fl+2))\n",
        "    node = 128\n",
        "    sequence_input = Input(shape=(MAX_SEQUENCE_LENGTH,), dtype='int32')\n",
        "    embedded_sequences = embedding_layer(sequence_input)\n",
        "    for fsz in filter_sizes:\n",
        "        l_conv = Conv1D(node, kernel_size=fsz, activation='relu')(embedded_sequences)\n",
        "        l_pool = MaxPooling1D(5)(l_conv)\n",
        "        #l_pool = Dropout(0.25)(l_pool)\n",
        "        convs.append(l_pool)\n",
        "    l_merge = Concatenate(axis=1)(convs)\n",
        "    l_cov1 = Conv1D(node, 5, activation='relu')(l_merge)\n",
        "    l_cov1 = Dropout(dropout)(l_cov1)\n",
        "    l_batch1 = BatchNormalization()(l_cov1)\n",
        "    l_pool1 = MaxPooling1D(5)(l_batch1)\n",
        "    l_cov2 = Conv1D(node, 5, activation='relu')(l_pool1)\n",
        "    l_cov2 = Dropout(dropout)(l_cov2)\n",
        "    l_batch2 = BatchNormalization()(l_cov2)\n",
        "    l_pool2 = MaxPooling1D(30)(l_batch2)\n",
        "    l_flat = Flatten()(l_pool2)\n",
        "    l_dense = Dense(1024, activation='relu')(l_flat)\n",
        "    l_dense = Dropout(dropout)(l_dense)\n",
        "    l_dense = Dense(512, activation='relu')(l_dense)\n",
        "    l_dense = Dropout(dropout)(l_dense)\n",
        "    preds = Dense(nclasses, activation='softmax')(l_dense)\n",
        "    model = Model(sequence_input, preds)\n",
        "    model.compile(loss='sparse_categorical_crossentropy',\n",
        "                  optimizer='adam',\n",
        "                  metrics=['accuracy'])\n",
        "    \n",
        "    print(model.summary())\n",
        "    return model"
      ],
      "execution_count": null,
      "outputs": []
    },
    {
      "cell_type": "code",
      "metadata": {
        "id": "fxdeJLw9QWrP"
      },
      "source": [
        "# Train the network and run classification\n",
        "model_CNN = Build_Model_CNN_Text(word_index,embedding_matrix, 55)\n",
        "run_classification(model_CNN, X_train_Glove, X_test_Glove, y_train, y_test,pipelineRequired = False,isDeepModel=True, arch_name='CNN')"
      ],
      "execution_count": null,
      "outputs": []
    },
    {
      "cell_type": "markdown",
      "metadata": {
        "id": "sMu2ONzLQWrP"
      },
      "source": [
        "## Recurrent Neural Networks (RNN) --> Gated Recurrent Unit (GRU)"
      ]
    },
    {
      "cell_type": "code",
      "metadata": {
        "id": "grFaHdizQWrP"
      },
      "source": [
        "def Build_Model_RNN_Text(word_index, embeddings_matrix, nclasses,dropout=0.5):\n",
        "    \"\"\"\n",
        "    def buildModel_RNN(word_index, embeddings_matrix, nclasses,  MAX_SEQUENCE_LENGTH=500, EMBEDDING_DIM=100, dropout=0.5):\n",
        "    word_index in word index ,\n",
        "    embeddings_matrix is embeddings_matrix, look at data_helper.py\n",
        "    nClasses is number of classes,\n",
        "    MAX_SEQUENCE_LENGTH is maximum lenght of text sequences\n",
        "    \"\"\"\n",
        "    model = Sequential()\n",
        "    hidden_layer = 3\n",
        "    gru_node = 32\n",
        "    \n",
        "    model.add(Embedding(len(word_index) + 1,\n",
        "                                EMBEDDING_DIM,\n",
        "                                weights=[embeddings_matrix],\n",
        "                                input_length=MAX_SEQUENCE_LENGTH,\n",
        "                                trainable=True))\n",
        "    print(gru_node)\n",
        "    for i in range(0,hidden_layer):\n",
        "        model.add(GRU(gru_node,return_sequences=True, recurrent_dropout=0.2))\n",
        "        model.add(Dropout(dropout))\n",
        "        model.add(BatchNormalization())\n",
        "    model.add(GRU(gru_node, recurrent_dropout=0.2))\n",
        "    model.add(Dropout(dropout))\n",
        "    model.add(BatchNormalization())\n",
        "    model.add(Dense(256, activation='relu'))\n",
        "    model.add(BatchNormalization())\n",
        "    model.add(Dense(nclasses, activation='softmax'))\n",
        "    model.compile(loss='sparse_categorical_crossentropy',\n",
        "                      optimizer='sgd',\n",
        "                      metrics=['accuracy'])\n",
        "    \n",
        "    print(model.summary())\n",
        "    return model"
      ],
      "execution_count": null,
      "outputs": []
    },
    {
      "cell_type": "code",
      "metadata": {
        "id": "GlNeKO-3QWrP"
      },
      "source": [
        "# Train the network and run classification\n",
        "model_RNN = Build_Model_RNN_Text(word_index,embedding_matrix, 55)\n",
        "run_classification(model_RNN, X_train_Glove, X_test_Glove, y_train, y_test,pipelineRequired = False,isDeepModel=True, arch_name='RNN')"
      ],
      "execution_count": null,
      "outputs": []
    },
    {
      "cell_type": "markdown",
      "metadata": {
        "id": "MVAZo1u8QWrP"
      },
      "source": [
        "## RNN with LSTM networks"
      ]
    },
    {
      "cell_type": "code",
      "metadata": {
        "id": "gtFjAJ4oQWrQ"
      },
      "source": [
        "EMBEDDING_DIM = 200\n",
        "gloveFileName = 'glove.6B/glove.6B.100d.txt'\n",
        "#gloveFileName = '/content/glove.6B/glove.6B.200d.txt'\n",
        "\n",
        "from keras.models import Sequential\n",
        "from keras.layers import Dense, LSTM, TimeDistributed, Activation\n",
        "from keras.layers import Flatten, Permute, merge, Input\n",
        "from keras.layers import Embedding\n",
        "from keras.models import Model\n",
        "from keras.layers import Input, Dense, multiply, concatenate, Dropout\n",
        "from keras.layers import GRU, Bidirectional\n",
        "\n",
        "\n",
        "def Build_Model_LTSM_Text(word_index, embeddings_matrix, nclasses):\n",
        "    kernel_size = 2\n",
        "    filters = 256\n",
        "    pool_size = 2\n",
        "    gru_node = 256\n",
        "    \n",
        "    model = Sequential()\n",
        "    model.add(Embedding(len(word_index) + 1,\n",
        "                                EMBEDDING_DIM,\n",
        "                                weights=[embeddings_matrix],\n",
        "                                input_length=MAX_SEQUENCE_LENGTH,\n",
        "                                trainable=True))\n",
        "    model.add(Dropout(0.25))\n",
        "    model.add(Conv1D(filters, kernel_size, activation='relu'))\n",
        "    model.add(MaxPooling1D(pool_size=pool_size))\n",
        "    model.add(Conv1D(filters, kernel_size, activation='relu'))\n",
        "    model.add(MaxPooling1D(pool_size=pool_size))\n",
        "    model.add(Conv1D(filters, kernel_size, activation='relu'))\n",
        "    model.add(MaxPooling1D(pool_size=pool_size))\n",
        "    model.add(Conv1D(filters, kernel_size, activation='relu'))\n",
        "    model.add(MaxPooling1D(pool_size=pool_size))\n",
        "    model.add(Bidirectional(LSTM(gru_node, return_sequences=True, recurrent_dropout=0.2)))\n",
        "    model.add(Bidirectional(LSTM(gru_node, return_sequences=True, recurrent_dropout=0.2)))\n",
        "    model.add(Bidirectional(LSTM(gru_node, return_sequences=True, recurrent_dropout=0.2)))\n",
        "    model.add(Bidirectional(LSTM(gru_node, recurrent_dropout=0.2)))\n",
        "    model.add(Dense(1024,activation='relu'))\n",
        "    model.add(Dense(nclasses))\n",
        "    model.add(Activation('softmax'))\n",
        "    model.compile(loss='sparse_categorical_crossentropy',\n",
        "                  optimizer='adam',\n",
        "                  metrics=['accuracy'])\n",
        "    \n",
        "    print(model.summary())\n",
        "    return model"
      ],
      "execution_count": null,
      "outputs": []
    },
    {
      "cell_type": "code",
      "metadata": {
        "id": "u0973kvsQWrQ"
      },
      "source": [
        "X_train_Glove,X_test_Glove, word_index,embeddings_index = loadData_Tokenizer(X_train,X_test,gloveFileName)\n",
        "embedding_matrix = buildEmbed_matrices(word_index,EMBEDDING_DIM)\n",
        "\n",
        "model_LTSM = Build_Model_LTSM_Text(word_index,embedding_matrix, 55)\n",
        "run_classification(model_LTSM, X_train_Glove, X_test_Glove, y_train, y_test,pipelineRequired = False,isDeepModel=True, arch_name='LSTM')"
      ],
      "execution_count": null,
      "outputs": []
    }
  ]
}