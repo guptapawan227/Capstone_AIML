{
 "cells": [
  {
   "cell_type": "markdown",
   "metadata": {
    "id": "view-in-github"
   },
   "source": [
    "<a href=\"https://colab.research.google.com/github/guptapawan227/Capstone_AIML/blob/Ashish/Recreated_16thDec.ipynb\" target=\"_parent\"><img src=\"https://colab.research.google.com/assets/colab-badge.svg\" alt=\"Open In Colab\"/></a>"
   ]
  },
  {
   "cell_type": "markdown",
   "metadata": {
    "id": "XycWjq1YtXnI"
   },
   "source": [
    "Mounting Google Drive"
   ]
  },
  {
   "cell_type": "code",
   "execution_count": 38,
   "metadata": {
    "colab": {
     "base_uri": "https://localhost:8080/"
    },
    "id": "-_AZpolni4uT",
    "outputId": "ee082f26-2ad6-461a-996d-0915ab20e679"
   },
   "outputs": [
    {
     "name": "stdout",
     "output_type": "stream",
     "text": [
      "Drive already mounted at /content/drive/; to attempt to forcibly remount, call drive.mount(\"/content/drive/\", force_remount=True).\n"
     ]
    }
   ],
   "source": [
    "from google.colab import drive\n",
    "drive.mount('/content/drive/')"
   ]
  },
  {
   "cell_type": "code",
   "execution_count": 39,
   "metadata": {
    "colab": {
     "base_uri": "https://localhost:8080/"
    },
    "id": "IX79JvNILSQK",
    "outputId": "7e5d948a-9657-4c63-a9ac-68a3b8f461d3"
   },
   "outputs": [
    {
     "name": "stdout",
     "output_type": "stream",
     "text": [
      "Requirement already satisfied: ftfy in /usr/local/lib/python3.6/dist-packages (5.8)\n",
      "Requirement already satisfied: wcwidth in /usr/local/lib/python3.6/dist-packages (from ftfy) (0.2.5)\n"
     ]
    }
   ],
   "source": [
    "!pip3 install ftfy"
   ]
  },
  {
   "cell_type": "markdown",
   "metadata": {
    "id": "IeHuMI62tbyY"
   },
   "source": [
    "Importing Libraries"
   ]
  },
  {
   "cell_type": "code",
   "execution_count": 40,
   "metadata": {
    "id": "01_3Wr6nw-ee"
   },
   "outputs": [],
   "source": [
    "# Using TensorFlow 1.x only in colab as found a issue with 2.3 version used by colab while working with DNN model fit. Did not observe any issue with Tensor flow 2.1 version on local jupyter enviornment.\n",
    "%tensorflow_version 1.x"
   ]
  },
  {
   "cell_type": "code",
   "execution_count": 41,
   "metadata": {
    "id": "GDYfqgy9q1p_"
   },
   "outputs": [],
   "source": [
    "import pandas as pd \n",
    "import numpy as np \n",
    "import seaborn as sns\n",
    "import matplotlib.pyplot as plt\n",
    "import time, os, sys, itertools, re \n",
    "from PIL import Image\n",
    "import warnings, pickle, string\n",
    "from dateutil import parser\n",
    "%matplotlib inline\n",
    "\n",
    "# Data Visualization\n",
    "import cufflinks as cf\n",
    "import plotly as py\n",
    "import plotly.graph_objs as go\n",
    "from plotly.offline import download_plotlyjs,init_notebook_mode,plot,iplot\n",
    "\n",
    "from ftfy import fix_text, badness\n",
    "\n",
    "# Traditional Modeling\n",
    "from sklearn.linear_model import LogisticRegression\n",
    "from sklearn.naive_bayes import MultinomialNB\n",
    "from sklearn.neighbors import KNeighborsClassifier\n",
    "from sklearn.pipeline import Pipeline\n",
    "from sklearn.feature_extraction.text import CountVectorizer, TfidfVectorizer, TfidfTransformer\n",
    "from sklearn.svm import SVC, LinearSVC\n",
    "from sklearn.tree import DecisionTreeClassifier\n",
    "from sklearn.ensemble import RandomForestClassifier\n",
    "\n",
    "'''# Sequential Modeling\n",
    "import keras.backend as K\n",
    "from keras.models import Sequential, Model\n",
    "from keras.layers.merge import Concatenate\n",
    "from keras.layers import Input, Dropout, Flatten, Dense, Embedding, LSTM, GRU\n",
    "from keras.layers import BatchNormalization, TimeDistributed, Conv1D, MaxPooling1D\n",
    "from keras.constraints import max_norm, unit_norm\n",
    "from keras.preprocessing.text import Tokenizer, text_to_word_sequence\n",
    "from keras.preprocessing.sequence import pad_sequences\n",
    "from keras.callbacks import EarlyStopping, ModelCheckpoint'''\n",
    "\n",
    "# Sequential Modeling\n",
    "from sklearn import metrics\n",
    "import tensorflow as tf\n",
    "import keras.backend as K\n",
    "from tensorflow.keras.models import Sequential, Model\n",
    "from tensorflow.keras.layers import Concatenate\n",
    "from tensorflow.keras.layers import Input, Dropout, Flatten, Dense, Embedding, LSTM, GRU, Bidirectional, multiply, Permute, merge\n",
    "from tensorflow.keras.layers import BatchNormalization, TimeDistributed, Conv1D, MaxPooling1D, Activation, Embedding\n",
    "from tensorflow.keras.constraints import max_norm, unit_norm\n",
    "from tensorflow.keras.preprocessing.text import Tokenizer, text_to_word_sequence\n",
    "from tensorflow.keras.preprocessing.sequence import pad_sequences\n",
    "from tensorflow.keras.callbacks import EarlyStopping, ModelCheckpoint, ReduceLROnPlateau\n",
    "\n",
    "\n",
    "# Tools & Evaluation metrics\n",
    "from sklearn.metrics import confusion_matrix, classification_report, auc\n",
    "from sklearn.metrics import roc_curve, accuracy_score, precision_recall_curve\n",
    "from sklearn.feature_extraction.text import CountVectorizer\n",
    "from sklearn.model_selection import train_test_split"
   ]
  },
  {
   "cell_type": "markdown",
   "metadata": {
    "id": "qjfS1VF6teuM"
   },
   "source": [
    "Reading the data from excel "
   ]
  },
  {
   "cell_type": "markdown",
   "metadata": {
    "id": "zBwzB1oFYRiQ"
   },
   "source": [
    "## Language Translation"
   ]
  },
  {
   "cell_type": "markdown",
   "metadata": {
    "id": "n795kT7hYjSo"
   },
   "source": [
    "#### Load the consolidated final translated pickle file which contains the language translations. The Process used for language translation is through google translate function in Google spreadsheets"
   ]
  },
  {
   "cell_type": "code",
   "execution_count": null,
   "metadata": {
    "id": "LV6wyT6iXXHR"
   },
   "outputs": [],
   "source": [
    "# Load the consolidated final translated pickle file \n",
    "#with open('/content/drive/MyDrive/Capstone/Final_Translated_combined.pkl','rb') as f:\n",
    "with open('/content/drive/MyDrive/Capstone/final_translated.pkl','rb') as f:\n",
    "    clean_data = pickle.load(f)"
   ]
  },
  {
   "cell_type": "code",
   "execution_count": null,
   "metadata": {
    "id": "RNYuIWcuhqrR"
   },
   "outputs": [],
   "source": [
    "clean_data.tail()"
   ]
  },
  {
   "cell_type": "code",
   "execution_count": null,
   "metadata": {
    "id": "HpDjY6fmrFaW"
   },
   "outputs": [],
   "source": [
    "assignment_group_cnt=clean_data['Assignment group'].value_counts()\n",
    "assignment_group_cnt.describe()"
   ]
  },
  {
   "cell_type": "code",
   "execution_count": null,
   "metadata": {
    "id": "ylx7gPuAXXHS"
   },
   "outputs": [],
   "source": [
    "assignment_group_cnt.tail(50)"
   ]
  },
  {
   "cell_type": "code",
   "execution_count": null,
   "metadata": {
    "id": "Mx66akCuXXHS"
   },
   "outputs": [],
   "source": [
    "#Removing groups with 4 or less records as those groups have been already added to rule matrix and these records are left overs\n",
    "\n",
    "clean_data = clean_data[(clean_data[\"Assignment group\"] != 'GRP_55') & (clean_data[\"Assignment group\"] != 'GRP_66') & (clean_data[\"Assignment group\"] != 'GRP_68') & (clean_data[\"Assignment group\"] != 'GRP_72') & (clean_data[\"Assignment group\"] != 'GRP_57') & (clean_data[\"Assignment group\"] != 'GRP_56') & (clean_data[\"Assignment group\"] != 'GRP_32')]"
   ]
  },
  {
   "cell_type": "markdown",
   "metadata": {
    "id": "WTZyoprphuPp"
   },
   "source": [
    "## Data Augmentation"
   ]
  },
  {
   "cell_type": "code",
   "execution_count": null,
   "metadata": {
    "id": "t0otMnQVXXHS"
   },
   "outputs": [],
   "source": [
    "#Install NLPAug Package\n",
    "!pip install nlpaug"
   ]
  },
  {
   "cell_type": "code",
   "execution_count": null,
   "metadata": {
    "id": "AxWgb3dVXXHT"
   },
   "outputs": [],
   "source": [
    "#Install dependencies for nlpaug\n",
    "!pip install torch>=1.6.0 transformers>=4.0.0\n",
    "!pip install nltk>=3.4.5"
   ]
  },
  {
   "cell_type": "code",
   "execution_count": null,
   "metadata": {
    "id": "O6rBnRM6XXHT"
   },
   "outputs": [],
   "source": [
    "#We will use Word Augmentation methods. nlpaug supports character, word and sentence level augmentation methods\n",
    "import nlpaug.augmenter.word as naw"
   ]
  },
  {
   "cell_type": "code",
   "execution_count": null,
   "metadata": {
    "id": "7jwQU3x-XXHT"
   },
   "outputs": [],
   "source": [
    "#Word embedding augmentation method\n",
    "aug1 = naw.WordEmbsAug(model_type='glove', model_path='glove.6B/glove.6B.50d.txt', action=\"substitute\")\n"
   ]
  },
  {
   "cell_type": "code",
   "execution_count": null,
   "metadata": {
    "id": "d3x_3u5xXXHT"
   },
   "outputs": [],
   "source": [
    "aug2 = naw.WordEmbsAug(model_type='glove', model_path='glove.6B/glove.6B.50d.txt', action=\"insert\")\n"
   ]
  },
  {
   "cell_type": "code",
   "execution_count": null,
   "metadata": {
    "id": "0XuO6nsrXXHT"
   },
   "outputs": [],
   "source": [
    "#Contextual Word augmentation method\n",
    "aug3 = naw.ContextualWordEmbsAug(model_path='bert-base-uncased', action=\"substitute\")\n"
   ]
  },
  {
   "cell_type": "code",
   "execution_count": null,
   "metadata": {
    "id": "vwQ_QF6xXXHU"
   },
   "outputs": [],
   "source": [
    "aug4 = naw.ContextualWordEmbsAug(model_path='roberta-base', action=\"substitute\")\n"
   ]
  },
  {
   "cell_type": "code",
   "execution_count": null,
   "metadata": {
    "id": "8BCItTbhXXHU"
   },
   "outputs": [],
   "source": [
    "#Synonym Augmentation method using PPDB models downloaded from http://paraphrase.org/#/download\n",
    "aug5 = naw.SynonymAug(aug_src='ppdb', model_path='ppdb-2.0-s-all')\n"
   ]
  },
  {
   "cell_type": "code",
   "execution_count": null,
   "metadata": {
    "id": "n_qdWy1yBsjO"
   },
   "outputs": [],
   "source": [
    "#!pip3 install nltk\n",
    "import nltk \n",
    "nltk.download('wordnet')\n",
    "nltk.download('punkt')\n",
    "nltk.download('averaged_perceptron_tagger')\n",
    "from nltk.corpus import wordnet"
   ]
  },
  {
   "cell_type": "code",
   "execution_count": null,
   "metadata": {
    "id": "Erip7CBw7P_P"
   },
   "outputs": [],
   "source": [
    "#Create a new dataframe with records not in GRP_0\n",
    "zero_dataframe = clean_data[clean_data[\"Assignment group\"] == 'GRP_0']\n",
    "new_dataframe = clean_data[clean_data[\"Assignment group\"] != 'GRP_0']\n",
    "zero_dataframe.head()\n"
   ]
  },
  {
   "cell_type": "code",
   "execution_count": null,
   "metadata": {
    "id": "Z0T0xGDHXXHV"
   },
   "outputs": [],
   "source": [
    "#Create dataframe copies for different augmentation methods\n",
    "new_dataframe2 = new_dataframe.copy()\n",
    "new_dataframe3 = new_dataframe.copy()\n",
    "new_dataframe4 = new_dataframe.copy()\n",
    "new_dataframe5 = new_dataframe.copy()"
   ]
  },
  {
   "cell_type": "code",
   "execution_count": null,
   "metadata": {
    "id": "YB8ELEaPRyuQ"
   },
   "outputs": [],
   "source": [
    "new_dataframe.shape, zero_dataframe.shape, new_dataframe2.shape, new_dataframe3.shape, new_dataframe4.shape, new_dataframe5.shape"
   ]
  },
  {
   "cell_type": "code",
   "execution_count": null,
   "metadata": {
    "id": "sejv9y4eXXHV"
   },
   "outputs": [],
   "source": [
    "new_dataframe[\"Augmented_data\"] = new_dataframe.apply(lambda x: aug1.augment(x['Translated_Text']),axis=1)\n",
    "new_dataframe"
   ]
  },
  {
   "cell_type": "code",
   "execution_count": null,
   "metadata": {
    "id": "ThnwxmfATCun"
   },
   "outputs": [],
   "source": [
    "s = new_dataframe.apply(lambda x: pd.Series(x['Augmented_data']), axis=1).stack().reset_index(level=1, drop=True)\n",
    "s.name = 'Final_Text'\n",
    "new_dataframe_aug = new_dataframe.drop(['New Description','Augmented_data', 'Clean_Description', 'Translated_Text'],axis=1).join(s)\n",
    "new_dataframe_aug"
   ]
  },
  {
   "cell_type": "code",
   "execution_count": null,
   "metadata": {
    "id": "tx85XamZXXHW"
   },
   "outputs": [],
   "source": [
    "new_dataframe2[\"Augmented_data\"] = new_dataframe2.apply(lambda x: aug2.augment(x['Translated_Text']),axis=1)\n",
    "new_dataframe2"
   ]
  },
  {
   "cell_type": "code",
   "execution_count": null,
   "metadata": {
    "id": "OLgWdXXVXXHW"
   },
   "outputs": [],
   "source": [
    "s = new_dataframe2.apply(lambda x: pd.Series(x['Augmented_data']), axis=1).stack().reset_index(level=1, drop=True)\n",
    "s.name = 'Final_Text'\n",
    "new_dataframe_aug2 = new_dataframe2.drop(['New Description','Augmented_data', 'Clean_Description', 'Translated_Text'],axis=1).join(s)\n",
    "new_dataframe_aug2"
   ]
  },
  {
   "cell_type": "code",
   "execution_count": null,
   "metadata": {
    "id": "MAE3oGEfXXHW"
   },
   "outputs": [],
   "source": [
    "new_dataframe3[\"Augmented_data\"] = new_dataframe3.apply(lambda x: aug3.augment(x['Translated_Text']),axis=1)\n",
    "new_dataframe3"
   ]
  },
  {
   "cell_type": "code",
   "execution_count": null,
   "metadata": {
    "id": "4--py3LmXXHX"
   },
   "outputs": [],
   "source": [
    "s = new_dataframe3.apply(lambda x: pd.Series(x['Augmented_data']), axis=1).stack().reset_index(level=1, drop=True)\n",
    "s.name = 'Final_Text'\n",
    "new_dataframe_aug3 = new_dataframe3.drop(['New Description','Augmented_data', 'Clean_Description', 'Translated_Text'],axis=1).join(s)\n",
    "new_dataframe_aug3"
   ]
  },
  {
   "cell_type": "code",
   "execution_count": null,
   "metadata": {
    "id": "xDyITkYgXXHX"
   },
   "outputs": [],
   "source": [
    "new_dataframe4[\"Augmented_data\"] = new_dataframe4.apply(lambda x: aug4.augment(x['Translated_Text']),axis=1)\n",
    "new_dataframe4"
   ]
  },
  {
   "cell_type": "code",
   "execution_count": null,
   "metadata": {
    "id": "hXl02NcsXXHX"
   },
   "outputs": [],
   "source": [
    "s = new_dataframe4.apply(lambda x: pd.Series(x['Augmented_data']), axis=1).stack().reset_index(level=1, drop=True)\n",
    "s.name = 'Final_Text'\n",
    "new_dataframe_aug4 = new_dataframe4.drop(['New Description','Augmented_data', 'Clean_Description', 'Translated_Text'],axis=1).join(s)\n",
    "new_dataframe_aug4"
   ]
  },
  {
   "cell_type": "code",
   "execution_count": null,
   "metadata": {
    "id": "BUpmrNswXXHX"
   },
   "outputs": [],
   "source": [
    "new_dataframe5[\"Augmented_data\"] = new_dataframe5.apply(lambda x: aug5.augment(x['Translated_Text']),axis=1)\n",
    "new_dataframe5"
   ]
  },
  {
   "cell_type": "code",
   "execution_count": null,
   "metadata": {
    "id": "YUYBFgeNXXHX"
   },
   "outputs": [],
   "source": [
    "s = new_dataframe5.apply(lambda x: pd.Series(x['Augmented_data']), axis=1).stack().reset_index(level=1, drop=True)\n",
    "s.name = 'Final_Text'\n",
    "new_dataframe_aug5 = new_dataframe5.drop(['New Description','Augmented_data', 'Clean_Description', 'Translated_Text'],axis=1).join(s)\n",
    "new_dataframe_aug5"
   ]
  },
  {
   "cell_type": "code",
   "execution_count": null,
   "metadata": {
    "id": "zcQ3e0XSBsjT"
   },
   "outputs": [],
   "source": [
    "zero_dataframe = zero_dataframe.rename(columns={\"Translated_Text\": \"Final_Text\"})\n",
    "zero_dataframe = zero_dataframe.drop(['New Description', 'Clean_Description'], axis = 1)\n"
   ]
  },
  {
   "cell_type": "code",
   "execution_count": null,
   "metadata": {
    "id": "ad3_dUcRXXHY"
   },
   "outputs": [],
   "source": [
    "zero_dataframe"
   ]
  },
  {
   "cell_type": "code",
   "execution_count": null,
   "metadata": {
    "id": "JDvBTh_3XXHY"
   },
   "outputs": [],
   "source": [
    "#Adding Original data (without Augmentation)\n",
    "new_dataframe6 = clean_data[clean_data[\"Assignment group\"] != 'GRP_0']\n",
    "new_dataframe6 = new_dataframe6.rename(columns={\"Translated_Text\": \"Final_Text\"})\n",
    "new_dataframe6 = new_dataframe6.drop(['New Description', 'Clean_Description'], axis = 1)\n",
    "new_dataframe6"
   ]
  },
  {
   "cell_type": "code",
   "execution_count": null,
   "metadata": {
    "id": "VKAQ_5z9XXHY"
   },
   "outputs": [],
   "source": [
    "dataframes=[new_dataframe_aug, new_dataframe_aug2, new_dataframe_aug3, new_dataframe_aug4, new_dataframe_aug5, zero_dataframe, new_dataframe6]\n",
    "clean_data_result= pd.concat(dataframes)\n",
    "clean_data_result"
   ]
  },
  {
   "cell_type": "code",
   "execution_count": null,
   "metadata": {
    "id": "pyVF75jXXXHZ"
   },
   "outputs": [],
   "source": [
    "#Remove duplicate rows after augmentation\n",
    "clean_data_result = clean_data_result.drop_duplicates(subset='Final_Text', keep=\"first\")"
   ]
  },
  {
   "cell_type": "code",
   "execution_count": null,
   "metadata": {
    "id": "jFKf35cRQWq9"
   },
   "outputs": [],
   "source": [
    "# Serialize the Augmented dataset for later use\n",
    "clean_data_result.to_csv('Interim_data.csv', index=False, encoding='utf_8_sig')\n",
    "#with open('/content/Interim_data.pkl','wb') as f:\n",
    "with open('/content/drive/MyDrive/Capstone/Interim_data.pkl','wb') as f:\n",
    "    pickle.dump(clean_data_result, f, pickle.HIGHEST_PROTOCOL)"
   ]
  },
  {
   "cell_type": "code",
   "execution_count": null,
   "metadata": {
    "id": "-l1WsyBqXXHa"
   },
   "outputs": [],
   "source": [
    "# Load the consolidated final translated pickle file \n",
    "#with open('/content/drive/MyDrive/Capstone/Interim_data.pkl','rb') as f:\n",
    "with open('/content/drive/MyDrive/Capstone/Interim_data.pkl','rb') as f:\n",
    "    clean_data_result = pickle.load(f)"
   ]
  },
  {
   "cell_type": "code",
   "execution_count": null,
   "metadata": {
    "id": "LcVQhHCPXXHa"
   },
   "outputs": [],
   "source": [
    "clean_data_result"
   ]
  },
  {
   "cell_type": "markdown",
   "metadata": {
    "id": "UzxDdWyMBsjT"
   },
   "source": [
    "## Stop words removal and Lemmatise text"
   ]
  },
  {
   "cell_type": "code",
   "execution_count": null,
   "metadata": {
    "id": "vSfE-xBvrFaY"
   },
   "outputs": [],
   "source": [
    "clean_data_result.isnull().sum()"
   ]
  },
  {
   "cell_type": "code",
   "execution_count": null,
   "metadata": {
    "id": "45rNIDGvBsjU"
   },
   "outputs": [],
   "source": [
    "import re\n",
    "import string\n",
    "nltk.download('stopwords')\n",
    "from nltk.tokenize import word_tokenize\n",
    "from nltk.corpus import stopwords\n",
    "from nltk.stem import WordNetLemmatizer\n",
    "\n",
    "stop_words = set(stopwords.words('english')) \n",
    "\n",
    "processed_all_documents = list()\n",
    "\n",
    "for desc in clean_data_result['Final_Text']:\n",
    "    word_tokens = word_tokenize(desc) \n",
    "    \n",
    "    filtered_sentence = [] \n",
    "\n",
    "    # Removing Stopwords\n",
    "    for w in word_tokens: \n",
    "        if w not in stop_words: \n",
    "            filtered_sentence.append(w) \n",
    "\n",
    "    words = ' '.join(filtered_sentence)\n",
    "    processed_all_documents.append(words)  "
   ]
  },
  {
   "cell_type": "code",
   "execution_count": null,
   "metadata": {
    "id": "9Dh0hMMrrFaZ"
   },
   "outputs": [],
   "source": [
    "clean_data_result['Final_Text'] = processed_all_documents"
   ]
  },
  {
   "cell_type": "code",
   "execution_count": null,
   "metadata": {
    "id": "xn4waA6MBsjU"
   },
   "outputs": [],
   "source": [
    "clean_data_result.head(50)"
   ]
  },
  {
   "cell_type": "code",
   "execution_count": null,
   "metadata": {
    "id": "UZ7s9d10EWG8"
   },
   "outputs": [],
   "source": [
    "clean_data_result.dropna()"
   ]
  },
  {
   "cell_type": "code",
   "execution_count": null,
   "metadata": {
    "id": "T8YU9JQqEWG8"
   },
   "outputs": [],
   "source": [
    "clean_data_result.isnull().sum()"
   ]
  },
  {
   "cell_type": "code",
   "execution_count": null,
   "metadata": {
    "id": "EWJN-ekLBsjU",
    "scrolled": true
   },
   "outputs": [],
   "source": [
    "#Lemmatisation using spacy library\n",
    "!pip install spacy"
   ]
  },
  {
   "cell_type": "code",
   "execution_count": null,
   "metadata": {
    "id": "WeoMfBEBBsjU"
   },
   "outputs": [],
   "source": [
    "!pip install https://github.com/explosion/spacy-models/releases/download/en_core_web_sm-2.3.1/en_core_web_sm-2.3.1.tar.gz"
   ]
  },
  {
   "cell_type": "code",
   "execution_count": null,
   "metadata": {
    "id": "7HWRcbMrrOgn"
   },
   "outputs": [],
   "source": [
    "!pip3 install spacy"
   ]
  },
  {
   "cell_type": "code",
   "execution_count": null,
   "metadata": {
    "id": "UAGj1FplBsjV"
   },
   "outputs": [],
   "source": [
    "# Need to run \"python -m spacy download en\" in anaconda prompt to avoid 'en' not found issue."
   ]
  },
  {
   "cell_type": "code",
   "execution_count": null,
   "metadata": {
    "id": "5Pxl8SyyBsjV"
   },
   "outputs": [],
   "source": [
    "import spacy\n",
    "\n",
    "nlp = spacy.load('en_core_web_sm', disable=['parser', 'ner'])\n",
    "allowed_postags=['NOUN', 'ADJ', 'VERB', 'ADV']\n",
    "def lemmatize_text(text):\n",
    "    doc = nlp(text)\n",
    "    return ' '.join([token.lemma_ for token in doc])\n",
    "\n",
    "clean_data_result['Final_Text'] = clean_data_result['Final_Text'].apply(lemmatize_text)"
   ]
  },
  {
   "cell_type": "code",
   "execution_count": null,
   "metadata": {
    "id": "P0YLyD-iBsjV"
   },
   "outputs": [],
   "source": [
    "clean_data_result"
   ]
  },
  {
   "cell_type": "code",
   "execution_count": null,
   "metadata": {
    "id": "uW7ME5zaXXHd"
   },
   "outputs": [],
   "source": [
    "clean_data_result1 = clean_data_result[clean_data_result['Final_Text'] != '']"
   ]
  },
  {
   "cell_type": "code",
   "execution_count": null,
   "metadata": {
    "id": "pII3nsHPXXHd"
   },
   "outputs": [],
   "source": [
    "clean_data_result1"
   ]
  },
  {
   "cell_type": "code",
   "execution_count": null,
   "metadata": {
    "id": "eOUtnN-lXXHd"
   },
   "outputs": [],
   "source": [
    "assignment_group_cnt=clean_data_result1['Assignment group'].value_counts()\n",
    "assignment_group_cnt.describe()"
   ]
  },
  {
   "cell_type": "code",
   "execution_count": null,
   "metadata": {
    "id": "vsQYhBTIXXHe"
   },
   "outputs": [],
   "source": [
    "assignment_group_cnt.tail(24)"
   ]
  },
  {
   "cell_type": "code",
   "execution_count": null,
   "metadata": {
    "id": "3yJf4QCZaoah"
   },
   "outputs": [],
   "source": [
    "# Final data pkl file after augmentation, stopwords removal and lemmatisation\n",
    "clean_data_result1.to_csv('Final_data.csv', index=False, encoding='utf_8_sig')\n",
    "#with open('/content/Final_data.pkl','wb') as f:\n",
    "with open('/content/drive/MyDrive/Capstone/Final_data.pkl','wb') as f:\n",
    "    pickle.dump(clean_data_result1, f, pickle.HIGHEST_PROTOCOL)"
   ]
  },
  {
   "cell_type": "code",
   "execution_count": null,
   "metadata": {
    "id": "e-zXZRYDaoah"
   },
   "outputs": [],
   "source": [
    "# Load the translated pickle file \n",
    "with open('/content/drive/MyDrive/Capstone/Final_data.pkl','rb') as f:\n",
    "#with open('/content/drive/MyDrive/Capstone/Final_data.pkl','rb') as f:\n",
    "    clean_data = pickle.load(f)"
   ]
  },
  {
   "cell_type": "code",
   "execution_count": null,
   "metadata": {
    "id": "OGOLdr4KbRq-"
   },
   "outputs": [],
   "source": [
    "clean_data"
   ]
  },
  {
   "cell_type": "markdown",
   "metadata": {
    "id": "DFFmdwYobRq-"
   },
   "source": [
    "## Manual inspection showed that groups having Monitoring tool emails and Job scheduler errors are dropping the accuracy as they cant be used for machine learning as no patterns. Moving them into 1 group."
   ]
  },
  {
   "cell_type": "code",
   "execution_count": null,
   "metadata": {
    "id": "dWMWMtCCbRq-"
   },
   "outputs": [],
   "source": [
    "#Moving all the records coming from monitoring tool/job scheduler to one group\n",
    "\n",
    "clean_data.loc[(clean_data['Final_Text'].astype(str).str.contains('scheduler')), 'Assignment group'] = \"GRP_MonitoringTool\"\n"
   ]
  },
  {
   "cell_type": "code",
   "execution_count": null,
   "metadata": {
    "id": "GYbCP36obRq_"
   },
   "outputs": [],
   "source": [
    "assignment_group_cnt=clean_data['Assignment group'].value_counts()\n",
    "assignment_group_cnt.describe()"
   ]
  },
  {
   "cell_type": "code",
   "execution_count": null,
   "metadata": {
    "id": "ROYXT6-abRq_"
   },
   "outputs": [],
   "source": [
    "assignment_group_cnt = clean_data['Assignment group'].value_counts().rename_axis('Grp_name').reset_index(name='counts')"
   ]
  },
  {
   "cell_type": "code",
   "execution_count": null,
   "metadata": {
    "id": "u1VrxHr1bRq_"
   },
   "outputs": [],
   "source": [
    "assignment_group_cnt "
   ]
  },
  {
   "cell_type": "code",
   "execution_count": null,
   "metadata": {
    "id": "hvD4fjkbbRq_"
   },
   "outputs": [],
   "source": [
    "# Saving pkl file after creating new target group for job_scheduler emails\n",
    "clean_data.to_csv('Final_data1.csv', index=False, encoding='utf_8_sig')\n",
    "#with open('/content/Final_data.pkl','wb') as f:\n",
    "with open('/content/drive/MyDrive/Capstone/Final_data1.pkl','wb') as f:\n",
    "    pickle.dump(clean_data, f, pickle.HIGHEST_PROTOCOL)"
   ]
  },
  {
   "cell_type": "markdown",
   "metadata": {
    "id": "zGabVgP0bRq_"
   },
   "source": [
    "## Resampling the groups having less than 500 records"
   ]
  },
  {
   "cell_type": "code",
   "execution_count": null,
   "metadata": {
    "id": "31QJOD8abRq_"
   },
   "outputs": [],
   "source": [
    "#Sory for the messy code, didnt have patience to write a lambda function. Splitting dataframes with < 500 records for resampling\n",
    "temp_dataframe = clean_data[(clean_data[\"Assignment group\"] == 'GRP_43') | (clean_data[\"Assignment group\"] == 'GRP_46') | (clean_data[\"Assignment group\"] == 'GRP_59') | (clean_data[\"Assignment group\"] == 'GRP_49') | (clean_data[\"Assignment group\"] == 'GRP_60') | (clean_data[\"Assignment group\"] == 'GRP_51') | (clean_data[\"Assignment group\"] == 'GRP_52') | (clean_data[\"Assignment group\"] == 'GRP_65') | (clean_data[\"Assignment group\"] == 'GRP_53') | (clean_data[\"Assignment group\"] == 'GRP_39') | (clean_data[\"Assignment group\"] == 'GRP_36') | (clean_data[\"Assignment group\"] == 'GRP_50') | (clean_data[\"Assignment group\"] == 'GRP_44') | (clean_data[\"Assignment group\"] == 'GRP_47') | (clean_data[\"Assignment group\"] == 'GRP_37') | (clean_data[\"Assignment group\"] == 'GRP_27') | (clean_data[\"Assignment group\"] == 'GRP_5') | (clean_data[\"Assignment group\"] == 'GRP_1') | (clean_data[\"Assignment group\"] == 'GRP_62') | (clean_data[\"Assignment group\"] == 'GRP_23') | (clean_data[\"Assignment group\"] == 'GRP_17') | (clean_data[\"Assignment group\"] == 'GRP_48') | (clean_data[\"Assignment group\"] == 'GRP_45') | (clean_data[\"Assignment group\"] == 'GRP_21') | (clean_data[\"Assignment group\"] == 'GRP_11') | (clean_data[\"Assignment group\"] == 'GRP_22') | (clean_data[\"Assignment group\"] == 'GRP_20') | (clean_data[\"Assignment group\"] == 'GRP_42') | (clean_data[\"Assignment group\"] == 'GRP_30') | (clean_data[\"Assignment group\"] == 'GRP_15') | (clean_data[\"Assignment group\"] == 'GRP_41') | (clean_data[\"Assignment group\"] == 'GRP_28') | (clean_data[\"Assignment group\"] == 'GRP_40') | (clean_data[\"Assignment group\"] == 'GRP_26') | (clean_data[\"Assignment group\"] == 'GRP_34') | (clean_data[\"Assignment group\"] == 'GRP_6') | (clean_data[\"Assignment group\"] == 'GRP_7') | (clean_data[\"Assignment group\"] == 'GRP_31') | (clean_data[\"Assignment group\"] == 'GRP_9') | (clean_data[\"Assignment group\"] == 'GRP_10')]\n",
    "temp_dataframe2 = clean_data[(clean_data[\"Assignment group\"] != 'GRP_43') & (clean_data[\"Assignment group\"] != 'GRP_46') & (clean_data[\"Assignment group\"] != 'GRP_59') & (clean_data[\"Assignment group\"] != 'GRP_49') & (clean_data[\"Assignment group\"] != 'GRP_60') & (clean_data[\"Assignment group\"] != 'GRP_51') & (clean_data[\"Assignment group\"] != 'GRP_52') & (clean_data[\"Assignment group\"] != 'GRP_65') & (clean_data[\"Assignment group\"] != 'GRP_53') & (clean_data[\"Assignment group\"] != 'GRP_39') & (clean_data[\"Assignment group\"] != 'GRP_36') & (clean_data[\"Assignment group\"] != 'GRP_50') & (clean_data[\"Assignment group\"] != 'GRP_44') & (clean_data[\"Assignment group\"] != 'GRP_47') & (clean_data[\"Assignment group\"] != 'GRP_37') & (clean_data[\"Assignment group\"] != 'GRP_27') & (clean_data[\"Assignment group\"] != 'GRP_5') & (clean_data[\"Assignment group\"] != 'GRP_1') & (clean_data[\"Assignment group\"] != 'GRP_62') & (clean_data[\"Assignment group\"] != 'GRP_23') & (clean_data[\"Assignment group\"] != 'GRP_17') & (clean_data[\"Assignment group\"] != 'GRP_48') & (clean_data[\"Assignment group\"] != 'GRP_45') & (clean_data[\"Assignment group\"] != 'GRP_21') & (clean_data[\"Assignment group\"] != 'GRP_11') & (clean_data[\"Assignment group\"] != 'GRP_22') & (clean_data[\"Assignment group\"] != 'GRP_20') & (clean_data[\"Assignment group\"] != 'GRP_42') & (clean_data[\"Assignment group\"] != 'GRP_30') & (clean_data[\"Assignment group\"] != 'GRP_15') & (clean_data[\"Assignment group\"] != 'GRP_41') & (clean_data[\"Assignment group\"] != 'GRP_28') & (clean_data[\"Assignment group\"] != 'GRP_40') & (clean_data[\"Assignment group\"] != 'GRP_26') & (clean_data[\"Assignment group\"] != 'GRP_34') & (clean_data[\"Assignment group\"] != 'GRP_6') & (clean_data[\"Assignment group\"] != 'GRP_7') & (clean_data[\"Assignment group\"] != 'GRP_31') & (clean_data[\"Assignment group\"] != 'GRP_9') & (clean_data[\"Assignment group\"] != 'GRP_10')]\n",
    "temp_dataframe2"
   ]
  },
  {
   "cell_type": "code",
   "execution_count": null,
   "metadata": {
    "id": "uNRUtUf_bRrA"
   },
   "outputs": [],
   "source": [
    "assignment_group_cnt2 = temp_dataframe2['Assignment group'].value_counts().rename_axis('Grp_name').reset_index(name='counts')"
   ]
  },
  {
   "cell_type": "code",
   "execution_count": null,
   "metadata": {
    "id": "cRGqPDTjbRrA"
   },
   "outputs": [],
   "source": [
    "assignment_group_cnt2"
   ]
  },
  {
   "cell_type": "code",
   "execution_count": null,
   "metadata": {
    "id": "b-ca0C6_bRrA"
   },
   "outputs": [],
   "source": [
    "#resampling all groups having less than 500 records\n",
    "from sklearn.utils import resample\n",
    "clean_data_resampled = temp_dataframe[0:0]\n",
    "for grp in temp_dataframe['Assignment group'].unique():\n",
    "    temp_dataframe1 = temp_dataframe.apply(lambda x : True\n",
    "            if str(temp_dataframe['Assignment group']) == grp else False, axis = 1)\n",
    "    num_rows = len(temp_dataframe1[temp_dataframe1 == True].index) \n",
    "    if(num_rows < 500):\n",
    "            temp_dataframeGrpDF = temp_dataframe[temp_dataframe['Assignment group'] == grp]\n",
    "            resampled = resample(temp_dataframeGrpDF, replace=True, n_samples=500, random_state=123)\n",
    "            clean_data_resampled = clean_data_resampled.append(resampled)"
   ]
  },
  {
   "cell_type": "code",
   "execution_count": null,
   "metadata": {
    "id": "1XKL4wdTbRrA"
   },
   "outputs": [],
   "source": [
    "clean_data_resampled"
   ]
  },
  {
   "cell_type": "code",
   "execution_count": null,
   "metadata": {
    "id": "MNHqoj89bRrA"
   },
   "outputs": [],
   "source": [
    "#Concat dataframes post resampling\n",
    "dataframes=[clean_data_resampled, temp_dataframe2]\n",
    "clean_data_resampled= pd.concat(dataframes)\n",
    "clean_data_resampled"
   ]
  },
  {
   "cell_type": "code",
   "execution_count": null,
   "metadata": {
    "id": "2RIIM4lBbRrA"
   },
   "outputs": [],
   "source": [
    "assignment_group_cnt3 = clean_data_resampled['Assignment group'].value_counts().rename_axis('Grp_name').reset_index(name='counts')\n",
    "assignment_group_cnt3"
   ]
  },
  {
   "cell_type": "code",
   "execution_count": null,
   "metadata": {
    "id": "XnGIPaLmbRrB"
   },
   "outputs": [],
   "source": [
    "# Saving pkl file after resampling\n",
    "clean_data_resampled.to_csv('Final_data_resampled.csv', index=False, encoding='utf_8_sig')\n",
    "#with open('/content/Final_data.pkl','wb') as f:\n",
    "with open('Final_data_resampled.pkl','wb') as f:\n",
    "    pickle.dump(clean_data_resampled, f, pickle.HIGHEST_PROTOCOL)"
   ]
  },
  {
   "cell_type": "markdown",
   "metadata": {},
   "source": [
    "# Load from here to save time. "
   ]
  },
  {
   "cell_type": "code",
   "execution_count": null,
   "metadata": {},
   "outputs": [],
   "source": [
    "# Load the translated pickle file. Load from here to save time. \n",
    "with open('/content/drive/MyDrive/Capstone/Final_data_resampled.pkl','rb') as f:\n",
    "#with open('/content/drive/MyDrive/Capstone/Final_data.pkl','rb') as f:\n",
    "    clean_data = pickle.load(f)"
   ]
  },
  {
   "cell_type": "markdown",
   "metadata": {
    "id": "QhCUgD6_Bsjn"
   },
   "source": [
    "## Prepping Dataframe for Model Building"
   ]
  },
  {
   "cell_type": "code",
   "execution_count": null,
   "metadata": {
    "id": "9ijBA6KgW13C"
   },
   "outputs": [],
   "source": [
    "clean_data"
   ]
  },
  {
   "cell_type": "code",
   "execution_count": null,
   "metadata": {
    "id": "FRguKfOkEWHJ"
   },
   "outputs": [],
   "source": [
    "'''# Import label encoder \n",
    "from sklearn import preprocessing\n",
    "from sklearn.preprocessing import LabelEncoder\n",
    "from sklearn.preprocessing import OneHotEncoder\n",
    "  \n",
    "# label_encoder object knows how to understand word labels. \n",
    "label_encoder = preprocessing.LabelEncoder() \n",
    "  \n",
    "# Encode labels in column 'species'. \n",
    "clean_data['Assignment group LabelEncoded']= label_encoder.fit_transform(clean_data['Assignment group']) \n",
    "  \n",
    "\n",
    "\n",
    "onehot_encoder = OneHotEncoder()\n",
    "clean_data['Assignment group LabelEncoded'] = clean_data['Assignment group LabelEncoded'].values.reshape(len(clean_data['Assignment group LabelEncoded']), 1)\n",
    "clean_data['Assignment group OneHotEncoded'] = onehot_encoder.fit_transform(clean_data[['Assignment group LabelEncoded']])\n",
    "clean_data['Assignment group OneHotEncoded']'''"
   ]
  },
  {
   "cell_type": "code",
   "execution_count": null,
   "metadata": {
    "id": "wH6wh6DfXXHf"
   },
   "outputs": [],
   "source": [
    "# Import label encoder \n",
    "from sklearn import preprocessing\n",
    "from sklearn.preprocessing import LabelEncoder\n",
    "  \n",
    "# label_encoder object knows how to understand word labels. \n",
    "label_encoder = preprocessing.LabelEncoder() \n",
    "  \n",
    "# Encode labels in column 'species'. \n",
    "clean_data['Assignment group LabelEncoded']= label_encoder.fit_transform(clean_data['Assignment group']) \n",
    "\n",
    "target_strings = label_encoder.inverse_transform(clean_data['Assignment group LabelEncoded'])\n",
    "target_strings_list = np.unique(target_strings).tolist()\n",
    "clean_data['Assignment group LabelEncoded']"
   ]
  },
  {
   "cell_type": "code",
   "execution_count": null,
   "metadata": {
    "id": "YnxKQFCyXXHg"
   },
   "outputs": [],
   "source": [
    "'''# Create a target categorical column\n",
    "clean_data['Assignment group LabelEncoded'] = clean_data['Assignment group'].astype('category').cat.codes\n",
    "clean_data.info()'''"
   ]
  },
  {
   "cell_type": "code",
   "execution_count": null,
   "metadata": {
    "id": "jv0szmBMXXHg"
   },
   "outputs": [],
   "source": [
    "clean_data"
   ]
  },
  {
   "cell_type": "code",
   "execution_count": null,
   "metadata": {
    "id": "UXk7kd5KXXHg"
   },
   "outputs": [],
   "source": [
    "clean_data.isnull().sum()"
   ]
  },
  {
   "cell_type": "code",
   "execution_count": null,
   "metadata": {
    "id": "6jsBDjGIBsjn"
   },
   "outputs": [],
   "source": [
    "label_encoded_dict = dict(zip(clean_data['Assignment group'].unique(), clean_data['Assignment group LabelEncoded'].unique()))\n",
    "label_encoded_dict"
   ]
  },
  {
   "cell_type": "code",
   "execution_count": null,
   "metadata": {
    "id": "UaaV3zyqBsjo"
   },
   "outputs": [],
   "source": [
    "# Splitting Train Test \n",
    "from sklearn.model_selection import train_test_split\n",
    "#Y = np.array(clean_data['Assignment group OneHotEncoded'])\n",
    "\n",
    "X_train, X_test, y_train1, y_test1 = train_test_split(clean_data['Final_Text'], clean_data['Assignment group LabelEncoded'], test_size=0.3, random_state = 0, stratify=clean_data['Assignment group LabelEncoded'])\n",
    "print('\\033[1mShape of the training set:\\033[0m', X_train.shape, X_test.shape)\n",
    "print('\\033[1mShape of the test set:\\033[0m', y_train1.shape, y_test1.shape)"
   ]
  },
  {
   "cell_type": "code",
   "execution_count": null,
   "metadata": {
    "id": "OdB5_mvzQWrN"
   },
   "outputs": [],
   "source": [
    "#Using first method of TFIDF vectors feature extraction\n",
    "Tfidf_vect = TfidfVectorizer(max_features=2500)\n",
    "Tfidf_vect.fit(clean_data.Final_Text.astype(str))\n",
    "X_train_tfidf = Tfidf_vect.transform(X_train)\n",
    "X_test_tfidf = Tfidf_vect.transform(X_test)"
   ]
  },
  {
   "cell_type": "code",
   "execution_count": null,
   "metadata": {
    "id": "n3UGzor_Bsjo"
   },
   "outputs": [],
   "source": [
    "#using second method of count vectorizer for features extraction\n",
    "from sklearn.feature_extraction.text import CountVectorizer\n",
    "\n",
    "CV = CountVectorizer(max_features=2500)\n",
    "\n",
    "X_BoW = CV.fit_transform(clean_data['Final_Text']).toarray()\n",
    "y = clean_data['Assignment group LabelEncoded']\n",
    "\n",
    "print(\"Shape of Input Feature :\",np.shape(X_BoW))\n",
    "print(\"Shape of Target Feature :\",np.shape(y))"
   ]
  },
  {
   "cell_type": "code",
   "execution_count": null,
   "metadata": {
    "id": "aJ7KxHUoXXHh"
   },
   "outputs": [],
   "source": [
    "# Splitting Train Test \n",
    "from sklearn.model_selection import train_test_split\n",
    "\n",
    "X_train, X_test, y_train, y_test = train_test_split(X_BoW, y, test_size=0.3, random_state = 0, stratify=y)\n",
    "print('\\033[1mShape of the training set:\\033[0m', X_train.shape, X_test.shape)\n",
    "print('\\033[1mShape of the test set:\\033[0m', y_train.shape, y_test.shape)"
   ]
  },
  {
   "cell_type": "code",
   "execution_count": 53,
   "metadata": {
    "id": "EIni9BjpBsjo"
   },
   "outputs": [],
   "source": [
    "def run_classification(estimator, X_train, X_test, y_train, y_test, arch_name=None, pipelineRequired=True, isDeepModel=False):\n",
    "    # train the model\n",
    "    clf = estimator\n",
    "\n",
    "    if pipelineRequired :\n",
    "        clf = Pipeline([('tfidf', TfidfTransformer()),\n",
    "                     ('clf', estimator),\n",
    "                     ])\n",
    "      \n",
    "    if isDeepModel :\n",
    "        model_history = clf.fit(X_train, y_train, validation_data=(X_test, y_test),epochs=25, batch_size=128,verbose=1,callbacks=call_backs(arch_name))\n",
    "        # predict from the clasiffier\n",
    "        y_pred = clf.predict(X_test)\n",
    "        y_pred = np.argmax(y_pred, axis=1)\n",
    "        y_train_pred = clf.predict(X_train)\n",
    "        y_train_pred = np.argmax(y_train_pred, axis=1)\n",
    "    else :\n",
    "        clf.fit(X_train, y_train)\n",
    "        # predict from the clasiffier\n",
    "        y_pred = clf.predict(X_test)\n",
    "        y_train_pred = clf.predict(X_train)\n",
    "    \n",
    "    print('Estimator:', clf)\n",
    "    print('='*80)\n",
    "    print('Training accuracy: %.2f%%' % (accuracy_score(y_train,y_train_pred) * 100))\n",
    "    print('Testing accuracy: %.2f%%' % (accuracy_score(y_test, y_pred) * 100))\n",
    "    print('='*80)\n",
    "    print('Confusion matrix:\\n %s' % (confusion_matrix(y_test, y_pred)))\n",
    "    print('='*80)\n",
    "    print('Classification report:\\n %s' % (classification_report(y_test, y_pred, target_names=target_strings_list)))\n",
    "\n",
    "    \n",
    "    if isDeepModel :\n",
    "      plt.plot(model_history.history['acc'])\n",
    "      plt.plot(model_history.history['val_acc'])\n",
    "      plt.title(arch_name+' model accuracy')\n",
    "      plt.ylabel('accuracy')\n",
    "      plt.xlabel('epoch')\n",
    "      plt.legend(['train','test'], loc='upper left')\n",
    "      plt.show()\n",
    "\n",
    "      plt.plot(model_history.history['loss'])\n",
    "      plt.plot(model_history.history['val_loss'])\n",
    "      plt.title(arch_name+' model loss')\n",
    "      plt.ylabel('loss')\n",
    "      plt.xlabel('epoch')\n",
    "      plt.legend(['train','test'], loc='upper left')\n",
    "      plt.show()\n",
    "    "
   ]
  },
  {
   "cell_type": "markdown",
   "metadata": {
    "id": "uxlH4wqyBsjo"
   },
   "source": [
    "## Logistic Regression"
   ]
  },
  {
   "cell_type": "code",
   "execution_count": null,
   "metadata": {
    "id": "l_RXTWZfBsjp"
   },
   "outputs": [],
   "source": [
    "run_classification(LogisticRegression(C=5, penalty='l2', solver='liblinear'), X_train_tfidf, X_test_tfidf, y_train1, y_test1)"
   ]
  },
  {
   "cell_type": "code",
   "execution_count": null,
   "metadata": {
    "id": "4qOlfdxAXXHi"
   },
   "outputs": [],
   "source": [
    "run_classification(LogisticRegression(C=5, penalty='l2', solver='liblinear'), X_train, X_test, y_train, y_test)"
   ]
  },
  {
   "cell_type": "markdown",
   "metadata": {
    "id": "S7r6p2SGBsjp"
   },
   "source": [
    "## Naive Bayes Classifier"
   ]
  },
  {
   "cell_type": "code",
   "execution_count": null,
   "metadata": {
    "id": "6hlgbYXyBsjp"
   },
   "outputs": [],
   "source": [
    "run_classification(MultinomialNB(alpha=0, class_prior=None, fit_prior='True'), X_train_tfidf, X_test_tfidf, y_train1, y_test1)"
   ]
  },
  {
   "cell_type": "code",
   "execution_count": null,
   "metadata": {
    "id": "-paAhElBXXHj"
   },
   "outputs": [],
   "source": [
    "run_classification(MultinomialNB(alpha=0, class_prior=None, fit_prior='True'), X_train, X_test, y_train, y_test)"
   ]
  },
  {
   "cell_type": "markdown",
   "metadata": {
    "id": "gs5ztA2kBsjp"
   },
   "source": [
    "## K-nearest Neighbor"
   ]
  },
  {
   "cell_type": "code",
   "execution_count": null,
   "metadata": {
    "id": "A4qwMKt7Bsjq"
   },
   "outputs": [],
   "source": [
    "run_classification(KNeighborsClassifier(algorithm='auto', leaf_size=30, metric='euclidean',\n",
    "                     metric_params=None, n_jobs=None, n_neighbors=2, p=2,\n",
    "                     weights='distance'), X_train_tfidf, X_test_tfidf, y_train1, y_test1)"
   ]
  },
  {
   "cell_type": "code",
   "execution_count": null,
   "metadata": {
    "id": "LWZj6E-_XXHj"
   },
   "outputs": [],
   "source": [
    "run_classification(KNeighborsClassifier(algorithm='auto', leaf_size=30, metric='euclidean',\n",
    "                     metric_params=None, n_jobs=None, n_neighbors=2, p=2,\n",
    "                     weights='distance'), X_train, X_test, y_train, y_test)"
   ]
  },
  {
   "cell_type": "markdown",
   "metadata": {
    "id": "BDMha2lxBsjq"
   },
   "source": [
    "## Support Vector Machine (SVM)"
   ]
  },
  {
   "cell_type": "code",
   "execution_count": null,
   "metadata": {
    "id": "jBc7yY11Bsjq"
   },
   "outputs": [],
   "source": [
    "run_classification(LinearSVC(C=1), X_train_tfidf, X_test_tfidf, y_train1, y_test1)"
   ]
  },
  {
   "cell_type": "code",
   "execution_count": null,
   "metadata": {
    "id": "NxnImzbCXXHk"
   },
   "outputs": [],
   "source": [
    "run_classification(LinearSVC(C=1), X_train, X_test, y_train, y_test)"
   ]
  },
  {
   "cell_type": "markdown",
   "metadata": {
    "id": "mDPisp5SBsjq"
   },
   "source": [
    "## Decision Tree"
   ]
  },
  {
   "cell_type": "code",
   "execution_count": null,
   "metadata": {
    "id": "oyvv2qn5Bsjq"
   },
   "outputs": [],
   "source": [
    "run_classification(DecisionTreeClassifier(criterion='gini', min_samples_leaf=2), X_train, X_test, y_train, y_test)"
   ]
  },
  {
   "cell_type": "code",
   "execution_count": null,
   "metadata": {
    "id": "CPVTeCZhXXHk"
   },
   "outputs": [],
   "source": [
    "run_classification(DecisionTreeClassifier(criterion='gini', min_samples_leaf=2), X_train_tfidf, X_test_tfidf, y_train1, y_test1)"
   ]
  },
  {
   "cell_type": "markdown",
   "metadata": {
    "id": "qpJIipnsBsjr"
   },
   "source": [
    "## Random Forest"
   ]
  },
  {
   "cell_type": "code",
   "execution_count": null,
   "metadata": {
    "id": "8b28KjuoBsjr"
   },
   "outputs": [],
   "source": [
    "run_classification(RandomForestClassifier(criterion= 'entropy', n_estimators=100, random_state=0), X_train_tfidf, X_test_tfidf, y_train1, y_test1)"
   ]
  },
  {
   "cell_type": "code",
   "execution_count": null,
   "metadata": {
    "id": "Abe6g29eXXHl"
   },
   "outputs": [],
   "source": [
    "run_classification(RandomForestClassifier(criterion= 'entropy', n_estimators=100, random_state=0), X_train, X_test, y_train, y_test)"
   ]
  },
  {
   "cell_type": "markdown",
   "metadata": {
    "id": "AOuKESHfrFai"
   },
   "source": [
    "## GradientBoosting"
   ]
  },
  {
   "cell_type": "code",
   "execution_count": null,
   "metadata": {
    "id": "RJr4CJMBBsjr"
   },
   "outputs": [],
   "source": [
    "from sklearn.ensemble import GradientBoostingClassifier\n",
    "run_classification(GradientBoostingClassifier(max_depth=15, n_estimators=50, random_state=42), X_train_tfidf, X_test_tfidf, y_train1, y_test1)"
   ]
  },
  {
   "cell_type": "code",
   "execution_count": null,
   "metadata": {
    "id": "z_RaL_roXXHm"
   },
   "outputs": [],
   "source": [
    "from sklearn.ensemble import GradientBoostingClassifier\n",
    "run_classification(GradientBoostingClassifier(max_depth=15, n_estimators=50, random_state=42), X_train, X_test, y_train, y_test)"
   ]
  },
  {
   "cell_type": "markdown",
   "metadata": {
    "id": "j-lWxfbVrFai"
   },
   "source": [
    "## XGBoosting"
   ]
  },
  {
   "cell_type": "code",
   "execution_count": null,
   "metadata": {
    "id": "wIYQ2WZJrFai"
   },
   "outputs": [],
   "source": [
    "!pip install xgboost"
   ]
  },
  {
   "cell_type": "code",
   "execution_count": null,
   "metadata": {
    "id": "8q7-fcTurFai"
   },
   "outputs": [],
   "source": [
    "from xgboost import XGBClassifier\n",
    "run_classification(XGBClassifier(n_estimators=50, max_depth=15), X_train_tfidf, X_test_tfidf, y_train1, y_test1)"
   ]
  },
  {
   "cell_type": "code",
   "execution_count": null,
   "metadata": {
    "id": "8q7-fcTurFai"
   },
   "outputs": [],
   "source": [
    "from xgboost import XGBClassifier\n",
    "run_classification(XGBClassifier(n_estimators=50, max_depth=15), X_train, X_test, y_train, y_test)"
   ]
  },
  {
   "cell_type": "markdown",
   "metadata": {
    "id": "1MizYVnZrFai"
   },
   "source": [
    "## Bagging"
   ]
  },
  {
   "cell_type": "code",
   "execution_count": null,
   "metadata": {
    "id": "KPuCWrZGrFai"
   },
   "outputs": [],
   "source": [
    "from sklearn.ensemble import BaggingClassifier\n",
    "run_classification(BaggingClassifier(n_estimators=100, random_state=10), X_train_tfidf, X_test_tfidf, y_train1, y_test1)"
   ]
  },
  {
   "cell_type": "code",
   "execution_count": null,
   "metadata": {
    "id": "KPuCWrZGrFai"
   },
   "outputs": [],
   "source": [
    "from sklearn.ensemble import BaggingClassifier\n",
    "run_classification(BaggingClassifier(n_estimators=100, random_state=10), X_train, X_test, y_train, y_test)"
   ]
  },
  {
   "cell_type": "markdown",
   "metadata": {
    "id": "nd3PAGHmrFaj"
   },
   "source": [
    "## Stacking"
   ]
  },
  {
   "cell_type": "code",
   "execution_count": null,
   "metadata": {
    "id": "mfLNzU90rFaj"
   },
   "outputs": [],
   "source": [
    "from sklearn.preprocessing import StandardScaler\n",
    "from sklearn.pipeline import make_pipeline\n",
    "from sklearn.ensemble import StackingClassifier\n",
    "\n",
    "estimators = [('rf', RandomForestClassifier(n_estimators=100, random_state=42)), ('svr', make_pipeline(StandardScaler(with_mean=False), LinearSVC(random_state=42)))]\n",
    "\n",
    "run_classification(StackingClassifier(estimators=estimators, final_estimator=DecisionTreeClassifier()), X_train_tfidf, X_test_tfidf, y_train1, y_test1)"
   ]
  },
  {
   "cell_type": "code",
   "execution_count": null,
   "metadata": {
    "id": "mfLNzU90rFaj"
   },
   "outputs": [],
   "source": [
    "from sklearn.preprocessing import StandardScaler\n",
    "from sklearn.pipeline import make_pipeline\n",
    "from sklearn.ensemble import StackingClassifier\n",
    "\n",
    "estimators = [('rf', RandomForestClassifier(n_estimators=100, random_state=42)), ('svr', make_pipeline(StandardScaler(with_mean=False), LinearSVC(random_state=42)))]\n",
    "\n",
    "run_classification(StackingClassifier(estimators=estimators, final_estimator=DecisionTreeClassifier()), X_train, X_test, y_train, y_test)"
   ]
  },
  {
   "cell_type": "markdown",
   "metadata": {
    "id": "XCl8T1jNrFaj"
   },
   "source": [
    "## Voting"
   ]
  },
  {
   "cell_type": "code",
   "execution_count": null,
   "metadata": {
    "id": "1Q_lE-UerFaj"
   },
   "outputs": [],
   "source": [
    "from sklearn.ensemble import VotingClassifier\n",
    "\n",
    "\n",
    "estimators = [('rf', RandomForestClassifier(criterion= 'entropy', n_estimators=100, random_state=42)), ('knn', KNeighborsClassifier(algorithm='auto', leaf_size=30, metric='euclidean',\n",
    "                     metric_params=None, n_jobs=None, n_neighbors=2, p=2,\n",
    "                     weights='distance')), ('bg', BaggingClassifier(n_estimators=100, random_state=42)), ('lsvc', LinearSVC(C=1, random_state=42))]\n",
    "\n",
    "run_classification(VotingClassifier(estimators=estimators, voting='hard'), X_train_tfidf, X_test_tfidf, y_train1, y_test1)"
   ]
  },
  {
   "cell_type": "code",
   "execution_count": null,
   "metadata": {
    "id": "1Q_lE-UerFaj"
   },
   "outputs": [],
   "source": [
    "from sklearn.ensemble import VotingClassifier\n",
    "\n",
    "\n",
    "estimators = [('rf', RandomForestClassifier(criterion= 'entropy', n_estimators=100, random_state=42)), ('knn', KNeighborsClassifier(algorithm='auto', leaf_size=30, metric='euclidean',\n",
    "                     metric_params=None, n_jobs=None, n_neighbors=2, p=2,\n",
    "                     weights='distance')), ('bg', BaggingClassifier(n_estimators=100, random_state=42)), ('lsvc', LinearSVC(C=1, random_state=42))]\n",
    "\n",
    "run_classification(VotingClassifier(estimators=estimators, voting='hard'), X_train, X_test, y_train, y_test)"
   ]
  },
  {
   "cell_type": "markdown",
   "metadata": {
    "id": "gVNcUZ1BQWrL"
   },
   "source": [
    "## Deep Neural Networks"
   ]
  },
  {
   "cell_type": "code",
   "execution_count": 42,
   "metadata": {
    "id": "4RelfajlQWrL"
   },
   "outputs": [],
   "source": [
    "# Load the augmented data from pickle file \n",
    "with open('/content/drive/MyDrive/Capstone/Interim_data.pkl','rb') as f:\n",
    "#with open('Interim_data.pkl','rb') as f:\n",
    "    clean_data_DL = pickle.load(f)"
   ]
  },
  {
   "cell_type": "code",
   "execution_count": 6,
   "metadata": {
    "id": "IVDsnNX4bRrI"
   },
   "outputs": [],
   "source": [
    "clean_data_DL.loc[(clean_data_DL['Final_Text'].astype(str).str.contains('scheduler')), 'Assignment group'] = \"GRP_MonitoringTool\"\n"
   ]
  },
  {
   "cell_type": "code",
   "execution_count": 7,
   "metadata": {
    "colab": {
     "base_uri": "https://localhost:8080/",
     "height": 419
    },
    "id": "RY0ZXOB4bRrI",
    "outputId": "387498b7-080e-49f9-bffd-b435488a28b4"
   },
   "outputs": [
    {
     "data": {
      "text/html": [
       "<div>\n",
       "<style scoped>\n",
       "    .dataframe tbody tr th:only-of-type {\n",
       "        vertical-align: middle;\n",
       "    }\n",
       "\n",
       "    .dataframe tbody tr th {\n",
       "        vertical-align: top;\n",
       "    }\n",
       "\n",
       "    .dataframe thead th {\n",
       "        text-align: right;\n",
       "    }\n",
       "</style>\n",
       "<table border=\"1\" class=\"dataframe\">\n",
       "  <thead>\n",
       "    <tr style=\"text-align: right;\">\n",
       "      <th></th>\n",
       "      <th>Caller</th>\n",
       "      <th>Assignment group</th>\n",
       "      <th>language</th>\n",
       "      <th>Final_Text</th>\n",
       "    </tr>\n",
       "  </thead>\n",
       "  <tbody>\n",
       "    <tr>\n",
       "      <th>17</th>\n",
       "      <td>sigfdwcj reofwzlm</td>\n",
       "      <td>GRP_3</td>\n",
       "      <td>en</td>\n",
       "      <td>though undocking interface, screen will not sa...</td>\n",
       "    </tr>\n",
       "    <tr>\n",
       "      <th>31</th>\n",
       "      <td>kxsceyzo naokumlb</td>\n",
       "      <td>GRP_4</td>\n",
       "      <td>en</td>\n",
       "      <td>gentles, have two devices that are trying to s...</td>\n",
       "    </tr>\n",
       "    <tr>\n",
       "      <th>46</th>\n",
       "      <td>bpctwhsn kzqsbmtp</td>\n",
       "      <td>GRP_MonitoringTool</td>\n",
       "      <td>en</td>\n",
       "      <td>job Job_ had in job_scheduler last: needs Job_...</td>\n",
       "    </tr>\n",
       "    <tr>\n",
       "      <th>49</th>\n",
       "      <td>bpctwhsn kzqsbmtp</td>\n",
       "      <td>GRP_MonitoringTool</td>\n",
       "      <td>en</td>\n",
       "      <td>getting mm_zscr_dly_merktc failed in job_sched...</td>\n",
       "    </tr>\n",
       "    <tr>\n",
       "      <th>58</th>\n",
       "      <td>bpctwhsn kzqsbmtp</td>\n",
       "      <td>GRP_MonitoringTool</td>\n",
       "      <td>en</td>\n",
       "      <td>job mm_zscr_dly_merktc when and job_scheduler ...</td>\n",
       "    </tr>\n",
       "    <tr>\n",
       "      <th>...</th>\n",
       "      <td>...</td>\n",
       "      <td>...</td>\n",
       "      <td>...</td>\n",
       "      <td>...</td>\n",
       "    </tr>\n",
       "    <tr>\n",
       "      <th>8183</th>\n",
       "      <td>hugcadrn ixhlwdgt</td>\n",
       "      <td>GRP_2</td>\n",
       "      <td>en</td>\n",
       "      <td>please remove user hugcadrn ixhlwdgt (ralfteim...</td>\n",
       "    </tr>\n",
       "    <tr>\n",
       "      <th>8186</th>\n",
       "      <td>pvbomqht smfkuhwi</td>\n",
       "      <td>GRP_3</td>\n",
       "      <td>en</td>\n",
       "      <td>pc received multiple windows security updates ...</td>\n",
       "    </tr>\n",
       "    <tr>\n",
       "      <th>8189</th>\n",
       "      <td>mpihysnw wrctgoan</td>\n",
       "      <td>GRP_29</td>\n",
       "      <td>en</td>\n",
       "      <td>please contact ed pasgryowski (pasgryo) about ...</td>\n",
       "    </tr>\n",
       "    <tr>\n",
       "      <th>8193</th>\n",
       "      <td>cpmaidhj elbaqmtp</td>\n",
       "      <td>GRP_3</td>\n",
       "      <td>en</td>\n",
       "      <td>tablet needs reimaged due to multiple issues w...</td>\n",
       "    </tr>\n",
       "    <tr>\n",
       "      <th>8194</th>\n",
       "      <td>avglmrts vhqmtiua</td>\n",
       "      <td>GRP_29</td>\n",
       "      <td>en</td>\n",
       "      <td>good afternoon, am not receiving the emails th...</td>\n",
       "    </tr>\n",
       "  </tbody>\n",
       "</table>\n",
       "<p>21252 rows × 4 columns</p>\n",
       "</div>"
      ],
      "text/plain": [
       "                 Caller  ...                                         Final_Text\n",
       "17    sigfdwcj reofwzlm  ...  though undocking interface, screen will not sa...\n",
       "31    kxsceyzo naokumlb  ...  gentles, have two devices that are trying to s...\n",
       "46    bpctwhsn kzqsbmtp  ...  job Job_ had in job_scheduler last: needs Job_...\n",
       "49    bpctwhsn kzqsbmtp  ...  getting mm_zscr_dly_merktc failed in job_sched...\n",
       "58    bpctwhsn kzqsbmtp  ...  job mm_zscr_dly_merktc when and job_scheduler ...\n",
       "...                 ...  ...                                                ...\n",
       "8183  hugcadrn ixhlwdgt  ...  please remove user hugcadrn ixhlwdgt (ralfteim...\n",
       "8186  pvbomqht smfkuhwi  ...  pc received multiple windows security updates ...\n",
       "8189  mpihysnw wrctgoan  ...  please contact ed pasgryowski (pasgryo) about ...\n",
       "8193  cpmaidhj elbaqmtp  ...  tablet needs reimaged due to multiple issues w...\n",
       "8194  avglmrts vhqmtiua  ...  good afternoon, am not receiving the emails th...\n",
       "\n",
       "[21252 rows x 4 columns]"
      ]
     },
     "execution_count": 7,
     "metadata": {
      "tags": []
     },
     "output_type": "execute_result"
    }
   ],
   "source": [
    "temp_dataframe3 = clean_data_DL[(clean_data_DL[\"Assignment group\"] == 'GRP_43') | (clean_data_DL[\"Assignment group\"] == 'GRP_46') | (clean_data_DL[\"Assignment group\"] == 'GRP_59') | (clean_data_DL[\"Assignment group\"] == 'GRP_49') | (clean_data_DL[\"Assignment group\"] == 'GRP_60') | (clean_data_DL[\"Assignment group\"] == 'GRP_51') | (clean_data_DL[\"Assignment group\"] == 'GRP_52') | (clean_data_DL[\"Assignment group\"] == 'GRP_65') | (clean_data_DL[\"Assignment group\"] == 'GRP_53') | (clean_data_DL[\"Assignment group\"] == 'GRP_39') | (clean_data_DL[\"Assignment group\"] == 'GRP_36') | (clean_data_DL[\"Assignment group\"] == 'GRP_50') | (clean_data_DL[\"Assignment group\"] == 'GRP_44') | (clean_data_DL[\"Assignment group\"] == 'GRP_47') | (clean_data_DL[\"Assignment group\"] == 'GRP_37') | (clean_data_DL[\"Assignment group\"] == 'GRP_27') | (clean_data_DL[\"Assignment group\"] == 'GRP_5') | (clean_data_DL[\"Assignment group\"] == 'GRP_1') | (clean_data_DL[\"Assignment group\"] == 'GRP_62') | (clean_data_DL[\"Assignment group\"] == 'GRP_23') | (clean_data_DL[\"Assignment group\"] == 'GRP_17') | (clean_data_DL[\"Assignment group\"] == 'GRP_48') | (clean_data_DL[\"Assignment group\"] == 'GRP_45') | (clean_data_DL[\"Assignment group\"] == 'GRP_21') | (clean_data_DL[\"Assignment group\"] == 'GRP_11') | (clean_data_DL[\"Assignment group\"] == 'GRP_22') | (clean_data_DL[\"Assignment group\"] == 'GRP_20') | (clean_data_DL[\"Assignment group\"] == 'GRP_42') | (clean_data_DL[\"Assignment group\"] == 'GRP_30') | (clean_data_DL[\"Assignment group\"] == 'GRP_15') | (clean_data_DL[\"Assignment group\"] == 'GRP_41') | (clean_data_DL[\"Assignment group\"] == 'GRP_28') | (clean_data_DL[\"Assignment group\"] == 'GRP_40') | (clean_data_DL[\"Assignment group\"] == 'GRP_26') | (clean_data_DL[\"Assignment group\"] == 'GRP_34') | (clean_data_DL[\"Assignment group\"] == 'GRP_6') | (clean_data_DL[\"Assignment group\"] == 'GRP_7') | (clean_data_DL[\"Assignment group\"] == 'GRP_31') | (clean_data_DL[\"Assignment group\"] == 'GRP_9') | (clean_data_DL[\"Assignment group\"] == 'GRP_10')]\n",
    "temp_dataframe4 = clean_data_DL[(clean_data_DL[\"Assignment group\"] != 'GRP_43') & (clean_data_DL[\"Assignment group\"] != 'GRP_46') & (clean_data_DL[\"Assignment group\"] != 'GRP_59') & (clean_data_DL[\"Assignment group\"] != 'GRP_49') & (clean_data_DL[\"Assignment group\"] != 'GRP_60') & (clean_data_DL[\"Assignment group\"] != 'GRP_51') & (clean_data_DL[\"Assignment group\"] != 'GRP_52') & (clean_data_DL[\"Assignment group\"] != 'GRP_65') & (clean_data_DL[\"Assignment group\"] != 'GRP_53') & (clean_data_DL[\"Assignment group\"] != 'GRP_39') & (clean_data_DL[\"Assignment group\"] != 'GRP_36') & (clean_data_DL[\"Assignment group\"] != 'GRP_50') & (clean_data_DL[\"Assignment group\"] != 'GRP_44') & (clean_data_DL[\"Assignment group\"] != 'GRP_47') & (clean_data_DL[\"Assignment group\"] != 'GRP_37') & (clean_data_DL[\"Assignment group\"] != 'GRP_27') & (clean_data_DL[\"Assignment group\"] != 'GRP_5') & (clean_data_DL[\"Assignment group\"] != 'GRP_1') & (clean_data_DL[\"Assignment group\"] != 'GRP_62') & (clean_data_DL[\"Assignment group\"] != 'GRP_23') & (clean_data_DL[\"Assignment group\"] != 'GRP_17') & (clean_data_DL[\"Assignment group\"] != 'GRP_48') & (clean_data_DL[\"Assignment group\"] != 'GRP_45') & (clean_data_DL[\"Assignment group\"] != 'GRP_21') & (clean_data_DL[\"Assignment group\"] != 'GRP_11') & (clean_data_DL[\"Assignment group\"] != 'GRP_22') & (clean_data_DL[\"Assignment group\"] != 'GRP_20') & (clean_data_DL[\"Assignment group\"] != 'GRP_42') & (clean_data_DL[\"Assignment group\"] != 'GRP_30') & (clean_data_DL[\"Assignment group\"] != 'GRP_15') & (clean_data_DL[\"Assignment group\"] != 'GRP_41') & (clean_data_DL[\"Assignment group\"] != 'GRP_28') & (clean_data_DL[\"Assignment group\"] != 'GRP_40') & (clean_data_DL[\"Assignment group\"] != 'GRP_26') & (clean_data_DL[\"Assignment group\"] != 'GRP_34') & (clean_data_DL[\"Assignment group\"] != 'GRP_6') & (clean_data_DL[\"Assignment group\"] != 'GRP_7') & (clean_data_DL[\"Assignment group\"] != 'GRP_31') & (clean_data_DL[\"Assignment group\"] != 'GRP_9') & (clean_data_DL[\"Assignment group\"] != 'GRP_10')]\n",
    "temp_dataframe4"
   ]
  },
  {
   "cell_type": "code",
   "execution_count": 8,
   "metadata": {
    "id": "pDAkIgcubRrJ"
   },
   "outputs": [],
   "source": [
    "from sklearn.utils import resample\n",
    "clean_data_resampled2 = temp_dataframe3[0:0]\n",
    "for grp in temp_dataframe3['Assignment group'].unique():\n",
    "    temp_dataframe5 = temp_dataframe3.apply(lambda x : True\n",
    "            if str(temp_dataframe3['Assignment group']) == grp else False, axis = 1)\n",
    "    num_rows2 = len(temp_dataframe5[temp_dataframe5 == True].index) \n",
    "    if(num_rows2 < 500):\n",
    "            temp_dataframeGrpDF1 = temp_dataframe3[temp_dataframe3['Assignment group'] == grp]\n",
    "            resampled2 = resample(temp_dataframeGrpDF1, replace=True, n_samples=500, random_state=123)\n",
    "            clean_data_resampled2 = clean_data_resampled2.append(resampled2)"
   ]
  },
  {
   "cell_type": "code",
   "execution_count": 9,
   "metadata": {
    "colab": {
     "base_uri": "https://localhost:8080/",
     "height": 419
    },
    "id": "t2-AI57dbRrJ",
    "outputId": "44f4fa61-150c-4184-ffd9-6ce6fe0ea7de"
   },
   "outputs": [
    {
     "data": {
      "text/html": [
       "<div>\n",
       "<style scoped>\n",
       "    .dataframe tbody tr th:only-of-type {\n",
       "        vertical-align: middle;\n",
       "    }\n",
       "\n",
       "    .dataframe tbody tr th {\n",
       "        vertical-align: top;\n",
       "    }\n",
       "\n",
       "    .dataframe thead th {\n",
       "        text-align: right;\n",
       "    }\n",
       "</style>\n",
       "<table border=\"1\" class=\"dataframe\">\n",
       "  <thead>\n",
       "    <tr style=\"text-align: right;\">\n",
       "      <th></th>\n",
       "      <th>Caller</th>\n",
       "      <th>Assignment group</th>\n",
       "      <th>language</th>\n",
       "      <th>Final_Text</th>\n",
       "    </tr>\n",
       "  </thead>\n",
       "  <tbody>\n",
       "    <tr>\n",
       "      <th>3574</th>\n",
       "      <td>spxqmiry zpwgoqju</td>\n",
       "      <td>GRP_1</td>\n",
       "      <td>en</td>\n",
       "      <td>HostName_: volume: / dev / ora_data encourages...</td>\n",
       "    </tr>\n",
       "    <tr>\n",
       "      <th>1590</th>\n",
       "      <td>jyoqwxhz clhxsoqy</td>\n",
       "      <td>GRP_1</td>\n",
       "      <td>en</td>\n",
       "      <td>HostName_: volume: /dev/SID_ora on server: Hos...</td>\n",
       "    </tr>\n",
       "    <tr>\n",
       "      <th>4783</th>\n",
       "      <td>pvlxjizg xzvlwqjc</td>\n",
       "      <td>GRP_1</td>\n",
       "      <td>en</td>\n",
       "      <td>hostname _ and hostname _ in listener is not a...</td>\n",
       "    </tr>\n",
       "    <tr>\n",
       "      <th>541</th>\n",
       "      <td>kbnfxpsy gehxzayq</td>\n",
       "      <td>GRP_1</td>\n",
       "      <td>en</td>\n",
       "      <td>considering ticket_no which corresponded fixed...</td>\n",
       "    </tr>\n",
       "    <tr>\n",
       "      <th>4454</th>\n",
       "      <td>mnlazfsr mtqrkhnx</td>\n",
       "      <td>GRP_1</td>\n",
       "      <td>en</td>\n",
       "      <td>'s shop_floor_app is intelligence: inaccessibl...</td>\n",
       "    </tr>\n",
       "    <tr>\n",
       "      <th>...</th>\n",
       "      <td>...</td>\n",
       "      <td>...</td>\n",
       "      <td>...</td>\n",
       "      <td>...</td>\n",
       "    </tr>\n",
       "    <tr>\n",
       "      <th>8183</th>\n",
       "      <td>hugcadrn ixhlwdgt</td>\n",
       "      <td>GRP_2</td>\n",
       "      <td>en</td>\n",
       "      <td>please remove user hugcadrn ixhlwdgt (ralfteim...</td>\n",
       "    </tr>\n",
       "    <tr>\n",
       "      <th>8186</th>\n",
       "      <td>pvbomqht smfkuhwi</td>\n",
       "      <td>GRP_3</td>\n",
       "      <td>en</td>\n",
       "      <td>pc received multiple windows security updates ...</td>\n",
       "    </tr>\n",
       "    <tr>\n",
       "      <th>8189</th>\n",
       "      <td>mpihysnw wrctgoan</td>\n",
       "      <td>GRP_29</td>\n",
       "      <td>en</td>\n",
       "      <td>please contact ed pasgryowski (pasgryo) about ...</td>\n",
       "    </tr>\n",
       "    <tr>\n",
       "      <th>8193</th>\n",
       "      <td>cpmaidhj elbaqmtp</td>\n",
       "      <td>GRP_3</td>\n",
       "      <td>en</td>\n",
       "      <td>tablet needs reimaged due to multiple issues w...</td>\n",
       "    </tr>\n",
       "    <tr>\n",
       "      <th>8194</th>\n",
       "      <td>avglmrts vhqmtiua</td>\n",
       "      <td>GRP_29</td>\n",
       "      <td>en</td>\n",
       "      <td>good afternoon, am not receiving the emails th...</td>\n",
       "    </tr>\n",
       "  </tbody>\n",
       "</table>\n",
       "<p>41252 rows × 4 columns</p>\n",
       "</div>"
      ],
      "text/plain": [
       "                 Caller  ...                                         Final_Text\n",
       "3574  spxqmiry zpwgoqju  ...  HostName_: volume: / dev / ora_data encourages...\n",
       "1590  jyoqwxhz clhxsoqy  ...  HostName_: volume: /dev/SID_ora on server: Hos...\n",
       "4783  pvlxjizg xzvlwqjc  ...  hostname _ and hostname _ in listener is not a...\n",
       "541   kbnfxpsy gehxzayq  ...  considering ticket_no which corresponded fixed...\n",
       "4454  mnlazfsr mtqrkhnx  ...  's shop_floor_app is intelligence: inaccessibl...\n",
       "...                 ...  ...                                                ...\n",
       "8183  hugcadrn ixhlwdgt  ...  please remove user hugcadrn ixhlwdgt (ralfteim...\n",
       "8186  pvbomqht smfkuhwi  ...  pc received multiple windows security updates ...\n",
       "8189  mpihysnw wrctgoan  ...  please contact ed pasgryowski (pasgryo) about ...\n",
       "8193  cpmaidhj elbaqmtp  ...  tablet needs reimaged due to multiple issues w...\n",
       "8194  avglmrts vhqmtiua  ...  good afternoon, am not receiving the emails th...\n",
       "\n",
       "[41252 rows x 4 columns]"
      ]
     },
     "execution_count": 9,
     "metadata": {
      "tags": []
     },
     "output_type": "execute_result"
    }
   ],
   "source": [
    "dataframes=[clean_data_resampled2, temp_dataframe4]\n",
    "clean_data_DL = pd.concat(dataframes)\n",
    "clean_data_DL"
   ]
  },
  {
   "cell_type": "code",
   "execution_count": 10,
   "metadata": {
    "id": "bX4pcTxbBhDE"
   },
   "outputs": [],
   "source": [
    "clean_data_DL.to_csv('Interim_data_resampled.csv', index=False, encoding='utf_8_sig')\n",
    "#with open('/content/Final_data.pkl','wb') as f:\n",
    "with open('/content/drive/MyDrive/Capstone/Interim_data_resampled.pkl','wb') as f:\n",
    "    pickle.dump(clean_data_DL, f, pickle.HIGHEST_PROTOCOL)"
   ]
  },
  {
   "cell_type": "markdown",
   "metadata": {},
   "source": [
    "# Start from here to save time"
   ]
  },
  {
   "cell_type": "code",
   "execution_count": null,
   "metadata": {},
   "outputs": [],
   "source": [
    "# Load the augmented data from pickle file \n",
    "with open('/content/drive/MyDrive/Capstone/Interim_data_resampled.pkl','rb') as f:\n",
    "#with open('Interim_data.pkl','rb') as f:\n",
    "    clean_data_DL = pickle.load(f)"
   ]
  },
  {
   "cell_type": "code",
   "execution_count": 43,
   "metadata": {
    "colab": {
     "base_uri": "https://localhost:8080/"
    },
    "id": "15XBDLMRQWrL",
    "outputId": "052d175e-6fa6-420e-eefc-f408b4b735be"
   },
   "outputs": [
    {
     "data": {
      "text/plain": [
       "Caller              0\n",
       "Assignment group    0\n",
       "language            0\n",
       "Final_Text          0\n",
       "dtype: int64"
      ]
     },
     "execution_count": 43,
     "metadata": {
      "tags": []
     },
     "output_type": "execute_result"
    }
   ],
   "source": [
    "clean_data_DL.isnull().sum()"
   ]
  },
  {
   "cell_type": "code",
   "execution_count": 44,
   "metadata": {
    "id": "FxgUQxvhQWrL"
   },
   "outputs": [],
   "source": [
    "clean_data_DL['Final_Text'] = clean_data_DL['Final_Text'].replace(np.nan, '', regex=True)"
   ]
  },
  {
   "cell_type": "code",
   "execution_count": 45,
   "metadata": {
    "colab": {
     "base_uri": "https://localhost:8080/"
    },
    "id": "HzJ4VnECQWrM",
    "outputId": "6c8f4b48-6480-4107-af8d-478c96ae6bbf"
   },
   "outputs": [
    {
     "name": "stdout",
     "output_type": "stream",
     "text": [
      "<class 'pandas.core.frame.DataFrame'>\n",
      "Int64Index: 41252 entries, 3574 to 8194\n",
      "Data columns (total 4 columns):\n",
      " #   Column            Non-Null Count  Dtype \n",
      "---  ------            --------------  ----- \n",
      " 0   Caller            41252 non-null  object\n",
      " 1   Assignment group  41252 non-null  object\n",
      " 2   language          41252 non-null  object\n",
      " 3   Final_Text        41252 non-null  object\n",
      "dtypes: object(4)\n",
      "memory usage: 1.6+ MB\n"
     ]
    }
   ],
   "source": [
    "clean_data_DL.info()"
   ]
  },
  {
   "cell_type": "code",
   "execution_count": 46,
   "metadata": {
    "colab": {
     "base_uri": "https://localhost:8080/"
    },
    "id": "oTiSKPsIr7RX",
    "outputId": "a4cdc8b0-eb26-47f8-9c73-624461d76786"
   },
   "outputs": [
    {
     "data": {
      "text/plain": [
       "array([ 1, 42, 52, 48,  3,  7,  9, 13, 14, 15, 16, 19, 20, 21, 54, 24, 25,\n",
       "        2, 27, 28, 29, 30, 32, 33, 34, 35, 36, 37, 38, 39, 40, 41, 43, 44,\n",
       "       45, 46, 47, 49, 50, 51, 23, 31, 55, 53,  4,  6,  8, 10, 11, 12, 17,\n",
       "        5, 22, 18, 26,  0])"
      ]
     },
     "execution_count": 46,
     "metadata": {
      "tags": []
     },
     "output_type": "execute_result"
    }
   ],
   "source": [
    "# Import label encoder \n",
    "from sklearn import preprocessing \n",
    "  \n",
    "# label_encoder object knows how to understand word labels. \n",
    "label_encoder = preprocessing.LabelEncoder() \n",
    "  \n",
    "# Encode labels in column 'species'. \n",
    "clean_data_DL['Assignment group LabelEncoded']= label_encoder.fit_transform(clean_data_DL['Assignment group']) \n",
    "\n",
    "target_strings = label_encoder.inverse_transform(clean_data_DL['Assignment group LabelEncoded'])\n",
    "target_strings_list = np.unique(target_strings).tolist()\n",
    "\n",
    "clean_data_DL['Assignment group LabelEncoded'].unique()"
   ]
  },
  {
   "cell_type": "code",
   "execution_count": 47,
   "metadata": {
    "colab": {
     "base_uri": "https://localhost:8080/"
    },
    "id": "hwiIGk4ar7gA",
    "outputId": "07c0bf11-1bf3-42e0-eb9e-e6801b99c388"
   },
   "outputs": [
    {
     "data": {
      "text/plain": [
       "56"
      ]
     },
     "execution_count": 47,
     "metadata": {
      "tags": []
     },
     "output_type": "execute_result"
    }
   ],
   "source": [
    "label_encoded_dict = dict(zip(clean_data_DL['Assignment group'].unique(), clean_data_DL['Assignment group LabelEncoded'].unique()))\n",
    "len(label_encoded_dict)"
   ]
  },
  {
   "cell_type": "code",
   "execution_count": 48,
   "metadata": {
    "colab": {
     "base_uri": "https://localhost:8080/"
    },
    "id": "ibiTTlGLQWrM",
    "outputId": "f756f021-5508-4255-9014-7f700ec7225b"
   },
   "outputs": [
    {
     "name": "stdout",
     "output_type": "stream",
     "text": [
      "\u001b[1mShape of the training set:\u001b[0m (28876,) (12376,)\n",
      "\u001b[1mShape of the test set:\u001b[0m (28876,) (12376,)\n"
     ]
    }
   ],
   "source": [
    "# Splitting Train Test \n",
    "from sklearn.model_selection import train_test_split\n",
    "\n",
    "X_train, X_test, y_train, y_test = train_test_split(clean_data_DL['Final_Text'], clean_data_DL['Assignment group LabelEncoded'], test_size=0.3, random_state = 0, stratify=clean_data_DL['Assignment group LabelEncoded'])\n",
    "print('\\033[1mShape of the training set:\\033[0m', X_train.shape, X_test.shape)\n",
    "print('\\033[1mShape of the test set:\\033[0m', y_train.shape, y_test.shape)"
   ]
  },
  {
   "cell_type": "markdown",
   "metadata": {
    "id": "2GOVYYV9QWrM"
   },
   "source": [
    "### Create checkpoints function"
   ]
  },
  {
   "cell_type": "code",
   "execution_count": 49,
   "metadata": {
    "colab": {
     "base_uri": "https://localhost:8080/"
    },
    "id": "3RG6wVQXQWrN",
    "outputId": "048405b8-7d46-406c-e652-9a71a5bf1149"
   },
   "outputs": [
    {
     "name": "stdout",
     "output_type": "stream",
     "text": [
      "mkdir: cannot create directory ‘Weights’: File exists\n"
     ]
    }
   ],
   "source": [
    "#Path where you want to save the weights, model and checkpoints\n",
    "model_path = \"Weights/\"\n",
    "%mkdir Weights\n",
    "\n",
    "# Define model callbacks\n",
    "def call_backs(name):\n",
    "    early_stopping = EarlyStopping(monitor='val_loss', mode='min', min_delta=0.01, patience=3)\n",
    "    model_checkpoint =  ModelCheckpoint(model_path + name + '_epoch{epoch:02d}_loss{val_loss:.4f}.h5',\n",
    "                                                               monitor='val_loss',\n",
    "                                                               verbose=1,\n",
    "                                                               save_best_only=True,\n",
    "                                                               save_weights_only=False,\n",
    "                                                               mode='min',\n",
    "                                                               period=1)\n",
    "    return [model_checkpoint, early_stopping]"
   ]
  },
  {
   "cell_type": "markdown",
   "metadata": {},
   "source": [
    "## Deep Neural Networks (DNN)"
   ]
  },
  {
   "cell_type": "code",
   "execution_count": 17,
   "metadata": {
    "id": "lAC5r5UcQWrN"
   },
   "outputs": [],
   "source": [
    "# Function to build Neural Network\n",
    "def Build_Model_DNN_Text(shape, nClasses, dropout=0.3):\n",
    "    \"\"\"\n",
    "    buildModel_DNN_Tex(shape, nClasses,dropout)\n",
    "    Build Deep neural networks Model for text classification\n",
    "    Shape is input feature space\n",
    "    nClasses is number of classes\n",
    "    \"\"\"\n",
    "    model = Sequential()\n",
    "    node = 512 # number of nodes\n",
    "    nLayers = 4 # number of  hidden layer\n",
    "    model.add(Dense(node,input_dim=shape,activation='relu'))\n",
    "    model.add(Dropout(dropout))\n",
    "    for i in range(0,nLayers):\n",
    "        model.add(Dense(node,input_dim=node,activation='relu'))\n",
    "        model.add(Dropout(dropout))\n",
    "        model.add(BatchNormalization())\n",
    "    model.add(Dense(nClasses, activation='softmax'))\n",
    "    model.compile(loss='sparse_categorical_crossentropy',\n",
    "                  optimizer='adam',\n",
    "                  metrics=['accuracy'])\n",
    "    print(model.summary())\n",
    "    return model"
   ]
  },
  {
   "cell_type": "code",
   "execution_count": 18,
   "metadata": {
    "colab": {
     "base_uri": "https://localhost:8080/"
    },
    "id": "PpSSx0X4XXHq",
    "outputId": "e5f427e8-ee2f-4b63-b58f-d6d9b1e02d39"
   },
   "outputs": [
    {
     "name": "stdout",
     "output_type": "stream",
     "text": [
      "WARNING:tensorflow:From /tensorflow-1.15.2/python3.6/tensorflow_core/python/ops/resource_variable_ops.py:1630: calling BaseResourceVariable.__init__ (from tensorflow.python.ops.resource_variable_ops) with constraint is deprecated and will be removed in a future version.\n",
      "Instructions for updating:\n",
      "If using Keras pass *_constraint arguments to layers.\n",
      "Model: \"sequential_1\"\n",
      "_________________________________________________________________\n",
      "Layer (type)                 Output Shape              Param #   \n",
      "=================================================================\n",
      "dense_1 (Dense)              (None, 512)               1280512   \n",
      "_________________________________________________________________\n",
      "dropout_1 (Dropout)          (None, 512)               0         \n",
      "_________________________________________________________________\n",
      "dense_2 (Dense)              (None, 512)               262656    \n",
      "_________________________________________________________________\n",
      "dropout_2 (Dropout)          (None, 512)               0         \n",
      "_________________________________________________________________\n",
      "batch_normalization_1 (Batch (None, 512)               2048      \n",
      "_________________________________________________________________\n",
      "dense_3 (Dense)              (None, 512)               262656    \n",
      "_________________________________________________________________\n",
      "dropout_3 (Dropout)          (None, 512)               0         \n",
      "_________________________________________________________________\n",
      "batch_normalization_2 (Batch (None, 512)               2048      \n",
      "_________________________________________________________________\n",
      "dense_4 (Dense)              (None, 512)               262656    \n",
      "_________________________________________________________________\n",
      "dropout_4 (Dropout)          (None, 512)               0         \n",
      "_________________________________________________________________\n",
      "batch_normalization_3 (Batch (None, 512)               2048      \n",
      "_________________________________________________________________\n",
      "dense_5 (Dense)              (None, 512)               262656    \n",
      "_________________________________________________________________\n",
      "dropout_5 (Dropout)          (None, 512)               0         \n",
      "_________________________________________________________________\n",
      "batch_normalization_4 (Batch (None, 512)               2048      \n",
      "_________________________________________________________________\n",
      "dense_6 (Dense)              (None, 56)                28728     \n",
      "=================================================================\n",
      "Total params: 2,368,056\n",
      "Trainable params: 2,363,960\n",
      "Non-trainable params: 4,096\n",
      "_________________________________________________________________\n",
      "None\n"
     ]
    }
   ],
   "source": [
    "Tfidf_vect = TfidfVectorizer(max_features=2500)\n",
    "Tfidf_vect.fit(clean_data_DL.Final_Text.astype(str))\n",
    "X_train_tfidf = Tfidf_vect.transform(X_train)\n",
    "X_test_tfidf = Tfidf_vect.transform(X_test)\n",
    "\n",
    "# Instantiate the network\n",
    "model_DNN = Build_Model_DNN_Text(X_train_tfidf.shape[1], 56)"
   ]
  },
  {
   "cell_type": "code",
   "execution_count": 20,
   "metadata": {
    "colab": {
     "base_uri": "https://localhost:8080/",
     "height": 1000
    },
    "id": "a6aC4UqOQWrN",
    "outputId": "c3089176-ae61-405e-89ac-7296cb09511a"
   },
   "outputs": [
    {
     "name": "stdout",
     "output_type": "stream",
     "text": [
      "WARNING:tensorflow:From /tensorflow-1.15.2/python3.6/keras/backend/tensorflow_backend.py:422: The name tf.global_variables is deprecated. Please use tf.compat.v1.global_variables instead.\n",
      "\n",
      "Train on 28876 samples, validate on 12376 samples\n",
      "Epoch 1/25\n",
      "28876/28876 [==============================] - 5s 169us/step - loss: 2.5223 - accuracy: 0.3905 - val_loss: 3.8746 - val_accuracy: 0.1097\n",
      "\n",
      "Epoch 00001: val_loss improved from inf to 3.87463, saving model to Weights/DNN_epoch01_loss3.8746.h5\n",
      "Epoch 2/25\n",
      "28876/28876 [==============================] - 3s 91us/step - loss: 0.9240 - accuracy: 0.7376 - val_loss: 1.3673 - val_accuracy: 0.6116\n",
      "\n",
      "Epoch 00002: val_loss improved from 3.87463 to 1.36734, saving model to Weights/DNN_epoch02_loss1.3673.h5\n",
      "Epoch 3/25\n",
      "28876/28876 [==============================] - 3s 92us/step - loss: 0.4619 - accuracy: 0.8665 - val_loss: 0.3718 - val_accuracy: 0.8921\n",
      "\n",
      "Epoch 00003: val_loss improved from 1.36734 to 0.37175, saving model to Weights/DNN_epoch03_loss0.3718.h5\n",
      "Epoch 4/25\n",
      "28876/28876 [==============================] - 3s 94us/step - loss: 0.2826 - accuracy: 0.9172 - val_loss: 0.3012 - val_accuracy: 0.9205\n",
      "\n",
      "Epoch 00004: val_loss improved from 0.37175 to 0.30117, saving model to Weights/DNN_epoch04_loss0.3012.h5\n",
      "Epoch 5/25\n",
      "28876/28876 [==============================] - 3s 93us/step - loss: 0.2019 - accuracy: 0.9423 - val_loss: 0.3106 - val_accuracy: 0.9233\n",
      "\n",
      "Epoch 00005: val_loss did not improve from 0.30117\n",
      "Epoch 6/25\n",
      "28876/28876 [==============================] - 3s 94us/step - loss: 0.1516 - accuracy: 0.9547 - val_loss: 0.3102 - val_accuracy: 0.9253\n",
      "\n",
      "Epoch 00006: val_loss did not improve from 0.30117\n",
      "Epoch 7/25\n",
      "28876/28876 [==============================] - 3s 93us/step - loss: 0.1290 - accuracy: 0.9623 - val_loss: 0.2891 - val_accuracy: 0.9308\n",
      "\n",
      "Epoch 00007: val_loss improved from 0.30117 to 0.28912, saving model to Weights/DNN_epoch07_loss0.2891.h5\n",
      "Epoch 8/25\n",
      "28876/28876 [==============================] - 3s 94us/step - loss: 0.1146 - accuracy: 0.9667 - val_loss: 0.2954 - val_accuracy: 0.9318\n",
      "\n",
      "Epoch 00008: val_loss did not improve from 0.28912\n",
      "Epoch 9/25\n",
      "28876/28876 [==============================] - 3s 92us/step - loss: 0.0974 - accuracy: 0.9716 - val_loss: 0.3070 - val_accuracy: 0.9327\n",
      "\n",
      "Epoch 00009: val_loss did not improve from 0.28912\n",
      "Epoch 10/25\n",
      "28876/28876 [==============================] - 3s 92us/step - loss: 0.0957 - accuracy: 0.9723 - val_loss: 0.2998 - val_accuracy: 0.9351\n",
      "\n",
      "Epoch 00010: val_loss did not improve from 0.28912\n",
      "Estimator: <keras.engine.sequential.Sequential object at 0x7f2c2e909400>\n",
      "================================================================================\n",
      "Training accuracy: 99.30%\n",
      "Testing accuracy: 93.51%\n",
      "================================================================================\n",
      "Confusion matrix:\n",
      " [[ 703    0    2 ...    2    2    0]\n",
      " [   0  148    0 ...    0    0    0]\n",
      " [   9    0  135 ...    0    0    0]\n",
      " ...\n",
      " [   0    2    0 ...  420    3    6]\n",
      " [   1    0    0 ...    3  143    1]\n",
      " [   0    0    0 ...    4    2 1418]]\n",
      "================================================================================\n",
      "Classification report:\n",
      "                     precision    recall  f1-score   support\n",
      "\n",
      "             GRP_0       0.87      0.73      0.80       957\n",
      "             GRP_1       0.95      0.99      0.97       150\n",
      "            GRP_10       0.92      0.90      0.91       150\n",
      "            GRP_11       0.99      0.99      0.99       150\n",
      "            GRP_12       0.90      0.88      0.89       426\n",
      "            GRP_13       0.95      0.96      0.95       254\n",
      "            GRP_14       0.82      0.89      0.85       206\n",
      "            GRP_15       0.97      0.99      0.98       150\n",
      "            GRP_16       0.89      0.92      0.90       153\n",
      "            GRP_17       0.94      0.99      0.97       150\n",
      "            GRP_18       0.94      0.91      0.92       153\n",
      "            GRP_19       0.88      0.87      0.88       384\n",
      "             GRP_2       0.84      0.85      0.85       357\n",
      "            GRP_20       0.96      1.00      0.98       150\n",
      "            GRP_21       1.00      1.00      1.00       150\n",
      "            GRP_22       0.96      0.97      0.97       150\n",
      "            GRP_23       0.98      0.99      0.99       150\n",
      "            GRP_24       0.91      0.92      0.92       504\n",
      "            GRP_25       0.87      0.95      0.90       201\n",
      "            GRP_26       0.88      0.97      0.92       150\n",
      "            GRP_27       0.98      1.00      0.99       150\n",
      "            GRP_28       0.92      0.96      0.94       150\n",
      "            GRP_29       0.93      0.88      0.91       170\n",
      "             GRP_3       0.85      0.87      0.86       359\n",
      "            GRP_30       0.97      0.97      0.97       150\n",
      "            GRP_31       0.93      0.95      0.94       150\n",
      "            GRP_33       0.91      0.82      0.86       192\n",
      "            GRP_34       0.89      0.91      0.90       150\n",
      "            GRP_36       0.93      1.00      0.96       150\n",
      "            GRP_37       0.99      0.99      0.99       150\n",
      "            GRP_39       0.90      1.00      0.95       150\n",
      "             GRP_4       0.86      0.83      0.84       178\n",
      "            GRP_40       0.98      0.94      0.96       150\n",
      "            GRP_41       0.99      1.00      1.00       150\n",
      "            GRP_42       0.93      0.95      0.94       150\n",
      "            GRP_43       1.00      1.00      1.00       150\n",
      "            GRP_44       1.00      1.00      1.00       150\n",
      "            GRP_45       0.98      1.00      0.99       150\n",
      "            GRP_46       1.00      1.00      1.00       150\n",
      "            GRP_47       0.98      1.00      0.99       150\n",
      "            GRP_48       0.99      0.99      0.99       150\n",
      "            GRP_49       0.99      1.00      1.00       150\n",
      "             GRP_5       0.99      0.99      0.99       150\n",
      "            GRP_50       0.99      0.97      0.98       150\n",
      "            GRP_51       1.00      1.00      1.00       150\n",
      "            GRP_52       1.00      1.00      1.00       150\n",
      "            GRP_53       0.96      1.00      0.98       150\n",
      "            GRP_59       1.00      1.00      1.00       150\n",
      "             GRP_6       0.93      0.95      0.94       150\n",
      "            GRP_60       0.96      1.00      0.98       150\n",
      "            GRP_62       0.98      0.99      0.98       150\n",
      "            GRP_65       0.99      1.00      1.00       150\n",
      "             GRP_7       0.90      0.98      0.94       150\n",
      "             GRP_8       0.90      0.92      0.91       455\n",
      "             GRP_9       0.92      0.95      0.94       150\n",
      "GRP_MonitoringTool       0.99      0.99      0.99      1427\n",
      "\n",
      "          accuracy                           0.94     12376\n",
      "         macro avg       0.94      0.95      0.95     12376\n",
      "      weighted avg       0.93      0.94      0.93     12376\n",
      "\n"
     ]
    },
    {
     "data": {
      "application/vnd.google.colaboratory.intrinsic+json": {
       "type": "string"
      },
      "text/plain": [
       "'model_DNN.fit(X_train_tfidf, y_train,\\n                              validation_data=(X_test_tfidf, y_test),\\n                              callbacks=call_backs(\"NN\"),\\n                              epochs=10,\\n                              batch_size=128,\\n                              verbose=2)\\npredicted = model_DNN.predict(X_test_tfidf)'"
      ]
     },
     "execution_count": 20,
     "metadata": {
      "tags": []
     },
     "output_type": "execute_result"
    }
   ],
   "source": [
    "run_classification(model_DNN, X_train_tfidf, X_test_tfidf, y_train, y_test,pipelineRequired = False,isDeepModel=True, arch_name='DNN')\n"
   ]
  },
  {
   "cell_type": "markdown",
   "metadata": {
    "id": "LaCQnFBRQWrO"
   },
   "source": [
    "### Extract Glove Embeddings"
   ]
  },
  {
   "cell_type": "code",
   "execution_count": 50,
   "metadata": {
    "colab": {
     "base_uri": "https://localhost:8080/"
    },
    "id": "hMA3MFYUQWrO",
    "outputId": "1754fbd0-c2de-4877-876d-f4b9431f297c"
   },
   "outputs": [
    {
     "data": {
      "text/plain": [
       "['glove.6B.300d.txt',\n",
       " 'glove.6B.200d.txt',\n",
       " 'glove.6B.50d.txt',\n",
       " 'glove.6B.100d.txt']"
      ]
     },
     "execution_count": 50,
     "metadata": {
      "tags": []
     },
     "output_type": "execute_result"
    }
   ],
   "source": [
    "#download the glove embedding zip file from http://nlp.stanford.edu/data/wordvecs/glove.6B.zip\n",
    "from zipfile import ZipFile\n",
    "# Check if it is already extracted else Open the zipped file as readonly\n",
    "if not os.path.isfile('glove.6B/glove.6B.200d.txt'):\n",
    "    #glove_embeddings = 'glove.6B.zip'\n",
    "    glove_embeddings = '/content/drive/MyDrive/Capstone/glove.6B.zip'\n",
    "    with ZipFile(glove_embeddings, 'r') as archive:\n",
    "        archive.extractall('glove.6B')\n",
    "\n",
    "# List the files under extracted folder\n",
    "os.listdir('glove.6B')"
   ]
  },
  {
   "cell_type": "markdown",
   "metadata": {
    "id": "r2Xtecr3QWrO"
   },
   "source": [
    "## Convolutional Neural Networks (CNN)"
   ]
  },
  {
   "cell_type": "code",
   "execution_count": 51,
   "metadata": {
    "id": "ghIAygEfQWrO"
   },
   "outputs": [],
   "source": [
    "#gloveFileName = 'glove.6B/glove.6B.200d.txt'\n",
    "gloveFileName = '/content/glove.6B/glove.6B.200d.txt'\n",
    "MAX_SEQUENCE_LENGTH = 500\n",
    "EMBEDDING_DIM=200\n",
    "MAX_NB_WORDS=75000\n",
    "\n",
    "# Function to generate Embedding\n",
    "def loadData_Tokenizer(X_train, X_test,filename):\n",
    "    np.random.seed(7)\n",
    "    text = np.concatenate((X_train, X_test), axis=0)\n",
    "    text = np.array(text)\n",
    "    tokenizer = Tokenizer(num_words=MAX_NB_WORDS)\n",
    "    tokenizer.fit_on_texts(text)\n",
    "    sequences = tokenizer.texts_to_sequences(text)\n",
    "    word_index = tokenizer.word_index\n",
    "    text = pad_sequences(sequences, maxlen=MAX_SEQUENCE_LENGTH)\n",
    "    print('Found %s unique tokens.' % len(word_index))\n",
    "    indices = np.arange(text.shape[0])\n",
    "    # np.random.shuffle(indices)\n",
    "    text = text[indices]\n",
    "    print(text.shape)\n",
    "    X_train = text[0:len(X_train), ]\n",
    "    X_test = text[len(X_train):, ]\n",
    "    embeddings_index = {}\n",
    "    f = open(filename, encoding=\"utf8\")\n",
    "    for line in f:\n",
    "        values = line.split()\n",
    "        word = values[0]\n",
    "        try:\n",
    "            coefs = np.asarray(values[1:], dtype='float32')\n",
    "        except:\n",
    "            pass\n",
    "        embeddings_index[word] = coefs\n",
    "    f.close()\n",
    "    print('Total %s word vectors.' % len(embeddings_index))\n",
    "    return (X_train, X_test, word_index,embeddings_index)\n",
    "\n",
    "\n",
    "embedding_matrix = []\n",
    "\n",
    "def buildEmbed_matrices(word_index,embedding_dim):\n",
    "    embedding_matrix = np.random.random((len(word_index) + 1, embedding_dim))\n",
    "    for word, i in word_index.items():\n",
    "        embedding_vector = embeddings_index.get(word)\n",
    "        if embedding_vector is not None:\n",
    "            # words not found in embedding index will be all-zeros.\n",
    "            if len(embedding_matrix[i]) !=len(embedding_vector):\n",
    "                print(\"could not broadcast input array from shape\",str(len(embedding_matrix[i])), \"into shape\",str(len(embedding_vector)),\n",
    "                      \" Please make sure your\"\" EMBEDDING_DIM is equal to embedding_vector file ,GloVe,\")\n",
    "                exit(1)\n",
    "            embedding_matrix[i] = embedding_vector\n",
    "    return embedding_matrix"
   ]
  },
  {
   "cell_type": "code",
   "execution_count": 52,
   "metadata": {
    "colab": {
     "base_uri": "https://localhost:8080/"
    },
    "id": "DljFFfKxQWrO",
    "outputId": "a2d84dc1-1d1f-450c-c44b-ae39d96a53b5"
   },
   "outputs": [
    {
     "name": "stdout",
     "output_type": "stream",
     "text": [
      "Found 44936 unique tokens.\n",
      "(41252, 500)\n",
      "Total 400001 word vectors.\n"
     ]
    }
   ],
   "source": [
    "# Generate Glove embedded datasets\n",
    "X_train_Glove, X_test_Glove, word_index, embeddings_index = loadData_Tokenizer(X_train,X_test,gloveFileName)\n",
    "embedding_matrix = buildEmbed_matrices(word_index,EMBEDDING_DIM)"
   ]
  },
  {
   "cell_type": "code",
   "execution_count": 54,
   "metadata": {
    "id": "j1Jz0dfgcZyl"
   },
   "outputs": [],
   "source": [
    "def Build_Model_LSTM_Text(word_index, embeddings_matrix, nclasses,dropout=0.3):\n",
    "    sequence_input = Input(shape=(MAX_SEQUENCE_LENGTH,), dtype='int64')\n",
    "    embedding_layer = Embedding(len(word_index) + 1,\n",
    "                                EMBEDDING_DIM,\n",
    "                                weights=[embeddings_matrix],\n",
    "                                input_length=MAX_SEQUENCE_LENGTH,\n",
    "                                trainable=True)\n",
    "    embedded_sequences = embedding_layer(sequence_input)\n",
    "    lstm = Bidirectional(LSTM(128))(embedded_sequences)\n",
    "    drop = Dropout(0.3)(lstm)\n",
    "    dense = Dense(100,activation='relu')(drop)\n",
    "    preds = Dense(nclasses, activation='softmax')(dense)\n",
    "    model = Model(sequence_input, preds)\n",
    "    model.compile(loss='sparse_categorical_crossentropy',\n",
    "                  optimizer='adam',\n",
    "                  metrics=['accuracy'])\n",
    "    \n",
    "    print(model.summary())\n",
    "    return model"
   ]
  },
  {
   "cell_type": "code",
   "execution_count": null,
   "metadata": {
    "colab": {
     "base_uri": "https://localhost:8080/"
    },
    "id": "KOvf1ZbOf_Oc",
    "outputId": "9a4dda21-f4e3-4af3-eb97-ecec1ce48ca9"
   },
   "outputs": [
    {
     "name": "stdout",
     "output_type": "stream",
     "text": [
      "Model: \"model\"\n",
      "_________________________________________________________________\n",
      "Layer (type)                 Output Shape              Param #   \n",
      "=================================================================\n",
      "input_7 (InputLayer)         [(None, 500)]             0         \n",
      "_________________________________________________________________\n",
      "embedding_5 (Embedding)      (None, 500, 200)          8987400   \n",
      "_________________________________________________________________\n",
      "bidirectional_4 (Bidirection (None, 256)               336896    \n",
      "_________________________________________________________________\n",
      "dropout_9 (Dropout)          (None, 256)               0         \n",
      "_________________________________________________________________\n",
      "dense_10 (Dense)             (None, 100)               25700     \n",
      "_________________________________________________________________\n",
      "dense_11 (Dense)             (None, 56)                5656      \n",
      "=================================================================\n",
      "Total params: 9,355,652\n",
      "Trainable params: 9,355,652\n",
      "Non-trainable params: 0\n",
      "_________________________________________________________________\n",
      "None\n",
      "WARNING:tensorflow:`period` argument is deprecated. Please use `save_freq` to specify the frequency in number of samples seen.\n",
      "Train on 28876 samples, validate on 12376 samples\n",
      "Epoch 1/25\n",
      " 4224/28876 [===>..........................] - ETA: 5:30 - loss: 3.5884 - acc: 0.1813"
     ]
    }
   ],
   "source": [
    "model_CNN_LSTM = Build_Model_LSTM_Text(word_index,embedding_matrix, 56)\n",
    "run_classification(model_CNN_LSTM, X_train_Glove, X_test_Glove, y_train, y_test,pipelineRequired = False,isDeepModel=True, arch_name='CNN_LSTM')"
   ]
  },
  {
   "cell_type": "code",
   "execution_count": 25,
   "metadata": {
    "id": "URiIMsVEQWrO"
   },
   "outputs": [],
   "source": [
    "def Build_Model_CNN_Text(word_index, embeddings_matrix, nclasses,dropout=0.3):\n",
    "    model = Sequential()\n",
    "    embedding_layer = Embedding(len(word_index) + 1,\n",
    "                                EMBEDDING_DIM,\n",
    "                                weights=[embeddings_matrix],\n",
    "                                input_length=MAX_SEQUENCE_LENGTH,\n",
    "                                trainable=True)\n",
    "    # applying a more complex convolutional approach\n",
    "    convs = []\n",
    "    filter_sizes = []\n",
    "    layer = 5\n",
    "    print(\"Filter  \",layer)\n",
    "    for fl in range(0,layer):\n",
    "        filter_sizes.append((fl+2))\n",
    "    node = 128\n",
    "    sequence_input = Input(shape=(MAX_SEQUENCE_LENGTH,), dtype='int32')\n",
    "    embedded_sequences = embedding_layer(sequence_input)\n",
    "    for fsz in filter_sizes:\n",
    "        l_conv = Conv1D(node, kernel_size=fsz, activation='relu')(embedded_sequences)\n",
    "        l_pool = MaxPooling1D(5)(l_conv)\n",
    "        convs.append(l_pool)\n",
    "    l_merge = Concatenate(axis=1)(convs)\n",
    "    l_cov1 = Conv1D(node, 5, activation='relu')(l_merge)\n",
    "    l_cov1 = Dropout(dropout)(l_cov1)\n",
    "    l_batch1 = BatchNormalization()(l_cov1)\n",
    "    l_pool1 = MaxPooling1D(5)(l_batch1)\n",
    "    l_cov2 = Conv1D(node, 5, activation='relu')(l_pool1)\n",
    "    l_cov2 = Dropout(dropout)(l_cov2)\n",
    "    l_batch2 = BatchNormalization()(l_cov2)\n",
    "    l_pool2 = MaxPooling1D(30)(l_batch2)\n",
    "    l_flat = Flatten()(l_pool2)\n",
    "    l_dense = Dense(1024, activation='relu')(l_flat)\n",
    "    l_dense = Dropout(dropout)(l_dense)\n",
    "    l_dense = Dense(512, activation='relu')(l_dense)\n",
    "    l_dense = Dropout(dropout)(l_dense)\n",
    "    preds = Dense(nclasses, activation='softmax')(l_dense)\n",
    "    model = Model(sequence_input, preds)\n",
    "    model.compile(loss='sparse_categorical_crossentropy',\n",
    "                  optimizer='adam',\n",
    "                  metrics=['accuracy'])\n",
    "    \n",
    "    print(model.summary())\n",
    "    return model"
   ]
  },
  {
   "cell_type": "code",
   "execution_count": 26,
   "metadata": {
    "colab": {
     "base_uri": "https://localhost:8080/"
    },
    "id": "fxdeJLw9QWrP",
    "outputId": "0abc80b6-da2d-448b-f096-8ca1c0d8a18a"
   },
   "outputs": [
    {
     "name": "stdout",
     "output_type": "stream",
     "text": [
      "Filter   5\n",
      "WARNING:tensorflow:From /tensorflow-1.15.2/python3.6/keras/backend/tensorflow_backend.py:4070: The name tf.nn.max_pool is deprecated. Please use tf.nn.max_pool2d instead.\n",
      "\n",
      "Model: \"model_1\"\n",
      "__________________________________________________________________________________________________\n",
      "Layer (type)                    Output Shape         Param #     Connected to                     \n",
      "==================================================================================================\n",
      "input_1 (InputLayer)            (None, 500)          0                                            \n",
      "__________________________________________________________________________________________________\n",
      "embedding_1 (Embedding)         (None, 500, 200)     8987400     input_1[0][0]                    \n",
      "__________________________________________________________________________________________________\n",
      "conv1d_1 (Conv1D)               (None, 499, 128)     51328       embedding_1[0][0]                \n",
      "__________________________________________________________________________________________________\n",
      "conv1d_2 (Conv1D)               (None, 498, 128)     76928       embedding_1[0][0]                \n",
      "__________________________________________________________________________________________________\n",
      "conv1d_3 (Conv1D)               (None, 497, 128)     102528      embedding_1[0][0]                \n",
      "__________________________________________________________________________________________________\n",
      "conv1d_4 (Conv1D)               (None, 496, 128)     128128      embedding_1[0][0]                \n",
      "__________________________________________________________________________________________________\n",
      "conv1d_5 (Conv1D)               (None, 495, 128)     153728      embedding_1[0][0]                \n",
      "__________________________________________________________________________________________________\n",
      "max_pooling1d_1 (MaxPooling1D)  (None, 99, 128)      0           conv1d_1[0][0]                   \n",
      "__________________________________________________________________________________________________\n",
      "max_pooling1d_2 (MaxPooling1D)  (None, 99, 128)      0           conv1d_2[0][0]                   \n",
      "__________________________________________________________________________________________________\n",
      "max_pooling1d_3 (MaxPooling1D)  (None, 99, 128)      0           conv1d_3[0][0]                   \n",
      "__________________________________________________________________________________________________\n",
      "max_pooling1d_4 (MaxPooling1D)  (None, 99, 128)      0           conv1d_4[0][0]                   \n",
      "__________________________________________________________________________________________________\n",
      "max_pooling1d_5 (MaxPooling1D)  (None, 99, 128)      0           conv1d_5[0][0]                   \n",
      "__________________________________________________________________________________________________\n",
      "concatenate_1 (Concatenate)     (None, 495, 128)     0           max_pooling1d_1[0][0]            \n",
      "                                                                 max_pooling1d_2[0][0]            \n",
      "                                                                 max_pooling1d_3[0][0]            \n",
      "                                                                 max_pooling1d_4[0][0]            \n",
      "                                                                 max_pooling1d_5[0][0]            \n",
      "__________________________________________________________________________________________________\n",
      "conv1d_6 (Conv1D)               (None, 491, 128)     82048       concatenate_1[0][0]              \n",
      "__________________________________________________________________________________________________\n",
      "dropout_6 (Dropout)             (None, 491, 128)     0           conv1d_6[0][0]                   \n",
      "__________________________________________________________________________________________________\n",
      "batch_normalization_5 (BatchNor (None, 491, 128)     512         dropout_6[0][0]                  \n",
      "__________________________________________________________________________________________________\n",
      "max_pooling1d_6 (MaxPooling1D)  (None, 98, 128)      0           batch_normalization_5[0][0]      \n",
      "__________________________________________________________________________________________________\n",
      "conv1d_7 (Conv1D)               (None, 94, 128)      82048       max_pooling1d_6[0][0]            \n",
      "__________________________________________________________________________________________________\n",
      "dropout_7 (Dropout)             (None, 94, 128)      0           conv1d_7[0][0]                   \n",
      "__________________________________________________________________________________________________\n",
      "batch_normalization_6 (BatchNor (None, 94, 128)      512         dropout_7[0][0]                  \n",
      "__________________________________________________________________________________________________\n",
      "max_pooling1d_7 (MaxPooling1D)  (None, 3, 128)       0           batch_normalization_6[0][0]      \n",
      "__________________________________________________________________________________________________\n",
      "flatten_1 (Flatten)             (None, 384)          0           max_pooling1d_7[0][0]            \n",
      "__________________________________________________________________________________________________\n",
      "dense_7 (Dense)                 (None, 1024)         394240      flatten_1[0][0]                  \n",
      "__________________________________________________________________________________________________\n",
      "dropout_8 (Dropout)             (None, 1024)         0           dense_7[0][0]                    \n",
      "__________________________________________________________________________________________________\n",
      "dense_8 (Dense)                 (None, 512)          524800      dropout_8[0][0]                  \n",
      "__________________________________________________________________________________________________\n",
      "dropout_9 (Dropout)             (None, 512)          0           dense_8[0][0]                    \n",
      "__________________________________________________________________________________________________\n",
      "dense_9 (Dense)                 (None, 56)           28728       dropout_9[0][0]                  \n",
      "==================================================================================================\n",
      "Total params: 10,612,928\n",
      "Trainable params: 10,612,416\n",
      "Non-trainable params: 512\n",
      "__________________________________________________________________________________________________\n",
      "None\n",
      "Train on 28876 samples, validate on 12376 samples\n",
      "Epoch 1/25\n",
      "28876/28876 [==============================] - 34s 1ms/step - loss: 3.7319 - accuracy: 0.1342 - val_loss: 3.6387 - val_accuracy: 0.2122\n",
      "\n",
      "Epoch 00001: val_loss improved from inf to 3.63869, saving model to Weights/CNN_epoch01_loss3.6387.h5\n",
      "Epoch 2/25\n",
      "28876/28876 [==============================] - 26s 912us/step - loss: 3.2144 - accuracy: 0.2167 - val_loss: 3.2941 - val_accuracy: 0.1839\n",
      "\n",
      "Epoch 00002: val_loss improved from 3.63869 to 3.29412, saving model to Weights/CNN_epoch02_loss3.2941.h5\n",
      "Epoch 3/25\n",
      "28876/28876 [==============================] - 27s 918us/step - loss: 2.8881 - accuracy: 0.2462 - val_loss: 3.1702 - val_accuracy: 0.2123\n",
      "\n",
      "Epoch 00003: val_loss improved from 3.29412 to 3.17024, saving model to Weights/CNN_epoch03_loss3.1702.h5\n",
      "Epoch 4/25\n",
      "28876/28876 [==============================] - 26s 915us/step - loss: 2.5770 - accuracy: 0.2845 - val_loss: 2.6752 - val_accuracy: 0.3123\n",
      "\n",
      "Epoch 00004: val_loss improved from 3.17024 to 2.67523, saving model to Weights/CNN_epoch04_loss2.6752.h5\n",
      "Epoch 5/25\n",
      "28876/28876 [==============================] - 26s 915us/step - loss: 2.2125 - accuracy: 0.3438 - val_loss: 2.2126 - val_accuracy: 0.3708\n",
      "\n",
      "Epoch 00005: val_loss improved from 2.67523 to 2.21263, saving model to Weights/CNN_epoch05_loss2.2126.h5\n",
      "Epoch 6/25\n",
      "28876/28876 [==============================] - 26s 912us/step - loss: 1.8079 - accuracy: 0.4302 - val_loss: 1.9153 - val_accuracy: 0.4136\n",
      "\n",
      "Epoch 00006: val_loss improved from 2.21263 to 1.91527, saving model to Weights/CNN_epoch06_loss1.9153.h5\n",
      "Epoch 7/25\n",
      "28876/28876 [==============================] - 26s 908us/step - loss: 1.4401 - accuracy: 0.5281 - val_loss: 1.5208 - val_accuracy: 0.5534\n",
      "\n",
      "Epoch 00007: val_loss improved from 1.91527 to 1.52080, saving model to Weights/CNN_epoch07_loss1.5208.h5\n",
      "Epoch 8/25\n",
      "28876/28876 [==============================] - 26s 908us/step - loss: 1.1150 - accuracy: 0.6285 - val_loss: 1.2920 - val_accuracy: 0.6252\n",
      "\n",
      "Epoch 00008: val_loss improved from 1.52080 to 1.29203, saving model to Weights/CNN_epoch08_loss1.2920.h5\n",
      "Epoch 9/25\n",
      "28876/28876 [==============================] - 26s 908us/step - loss: 0.8771 - accuracy: 0.7101 - val_loss: 1.0384 - val_accuracy: 0.7128\n",
      "\n",
      "Epoch 00009: val_loss improved from 1.29203 to 1.03836, saving model to Weights/CNN_epoch09_loss1.0384.h5\n",
      "Epoch 10/25\n",
      "28876/28876 [==============================] - 26s 906us/step - loss: 0.6888 - accuracy: 0.7715 - val_loss: 0.9697 - val_accuracy: 0.7202\n",
      "\n",
      "Epoch 00010: val_loss improved from 1.03836 to 0.96966, saving model to Weights/CNN_epoch10_loss0.9697.h5\n",
      "Epoch 11/25\n",
      "28876/28876 [==============================] - 26s 909us/step - loss: 0.5274 - accuracy: 0.8316 - val_loss: 0.8354 - val_accuracy: 0.7608\n",
      "\n",
      "Epoch 00011: val_loss improved from 0.96966 to 0.83535, saving model to Weights/CNN_epoch11_loss0.8354.h5\n",
      "Epoch 12/25\n",
      "28876/28876 [==============================] - 26s 910us/step - loss: 0.3940 - accuracy: 0.8751 - val_loss: 0.7964 - val_accuracy: 0.7724\n",
      "\n",
      "Epoch 00012: val_loss improved from 0.83535 to 0.79642, saving model to Weights/CNN_epoch12_loss0.7964.h5\n",
      "Epoch 13/25\n",
      "28876/28876 [==============================] - 26s 906us/step - loss: 0.3180 - accuracy: 0.9007 - val_loss: 0.7578 - val_accuracy: 0.7758\n",
      "\n",
      "Epoch 00013: val_loss improved from 0.79642 to 0.75776, saving model to Weights/CNN_epoch13_loss0.7578.h5\n",
      "Epoch 14/25\n",
      "28876/28876 [==============================] - 26s 908us/step - loss: 0.2621 - accuracy: 0.9201 - val_loss: 0.6374 - val_accuracy: 0.8171\n",
      "\n",
      "Epoch 00014: val_loss improved from 0.75776 to 0.63736, saving model to Weights/CNN_epoch14_loss0.6374.h5\n",
      "Epoch 15/25\n",
      "28876/28876 [==============================] - 26s 906us/step - loss: 0.2127 - accuracy: 0.9351 - val_loss: 0.6567 - val_accuracy: 0.8167\n",
      "\n",
      "Epoch 00015: val_loss did not improve from 0.63736\n",
      "Epoch 16/25\n",
      "28876/28876 [==============================] - 26s 908us/step - loss: 0.1899 - accuracy: 0.9434 - val_loss: 0.6772 - val_accuracy: 0.8112\n",
      "\n",
      "Epoch 00016: val_loss did not improve from 0.63736\n",
      "Epoch 17/25\n",
      "28876/28876 [==============================] - 26s 905us/step - loss: 0.1663 - accuracy: 0.9499 - val_loss: 0.6807 - val_accuracy: 0.8147\n",
      "\n",
      "Epoch 00017: val_loss did not improve from 0.63736\n",
      "Estimator: <keras.engine.training.Model object at 0x7f2ba9134ef0>\n",
      "================================================================================\n",
      "Training accuracy: 91.89%\n",
      "Testing accuracy: 81.47%\n",
      "================================================================================\n",
      "Confusion matrix:\n",
      " [[ 521    1   11 ...    1    2    0]\n",
      " [   0  150    0 ...    0    0    0]\n",
      " [   0    0  105 ...    0    0    0]\n",
      " ...\n",
      " [   0    2    0 ...  397    0    0]\n",
      " [   6    0   10 ...    1   36    0]\n",
      " [   0    0    0 ...    0    0 1427]]\n",
      "================================================================================\n",
      "Classification report:\n",
      "                     precision    recall  f1-score   support\n",
      "\n",
      "             GRP_0       0.78      0.54      0.64       957\n",
      "             GRP_1       0.84      1.00      0.91       150\n",
      "            GRP_10       0.66      0.70      0.68       150\n",
      "            GRP_11       0.70      0.98      0.82       150\n",
      "            GRP_12       0.94      0.67      0.78       426\n",
      "            GRP_13       0.86      0.72      0.79       254\n",
      "            GRP_14       0.64      0.69      0.66       206\n",
      "            GRP_15       0.79      0.99      0.88       150\n",
      "            GRP_16       0.87      0.47      0.61       153\n",
      "            GRP_17       0.55      1.00      0.71       150\n",
      "            GRP_18       0.82      0.74      0.78       153\n",
      "            GRP_19       0.77      0.50      0.61       384\n",
      "             GRP_2       0.88      0.45      0.60       357\n",
      "            GRP_20       0.96      0.97      0.97       150\n",
      "            GRP_21       0.60      0.98      0.75       150\n",
      "            GRP_22       0.85      0.95      0.89       150\n",
      "            GRP_23       0.97      0.98      0.97       150\n",
      "            GRP_24       0.92      0.90      0.91       504\n",
      "            GRP_25       0.87      0.71      0.78       201\n",
      "            GRP_26       0.79      0.85      0.82       150\n",
      "            GRP_27       0.62      0.93      0.75       150\n",
      "            GRP_28       0.68      0.75      0.71       150\n",
      "            GRP_29       0.59      0.79      0.68       170\n",
      "             GRP_3       0.68      0.53      0.59       359\n",
      "            GRP_30       0.64      0.95      0.76       150\n",
      "            GRP_31       0.47      0.75      0.58       150\n",
      "            GRP_33       0.55      0.42      0.48       192\n",
      "            GRP_34       0.59      0.60      0.60       150\n",
      "            GRP_36       0.76      0.93      0.83       150\n",
      "            GRP_37       0.86      0.86      0.86       150\n",
      "            GRP_39       0.90      1.00      0.95       150\n",
      "             GRP_4       0.91      0.65      0.76       178\n",
      "            GRP_40       0.97      0.81      0.88       150\n",
      "            GRP_41       0.61      0.97      0.75       150\n",
      "            GRP_42       0.52      0.98      0.68       150\n",
      "            GRP_43       0.99      1.00      1.00       150\n",
      "            GRP_44       0.93      1.00      0.96       150\n",
      "            GRP_45       0.82      0.97      0.89       150\n",
      "            GRP_46       0.90      1.00      0.95       150\n",
      "            GRP_47       0.82      1.00      0.90       150\n",
      "            GRP_48       0.80      0.94      0.87       150\n",
      "            GRP_49       0.97      1.00      0.99       150\n",
      "             GRP_5       0.91      0.83      0.87       150\n",
      "            GRP_50       0.99      0.99      0.99       150\n",
      "            GRP_51       0.99      1.00      1.00       150\n",
      "            GRP_52       0.99      1.00      0.99       150\n",
      "            GRP_53       0.80      1.00      0.89       150\n",
      "            GRP_59       0.95      1.00      0.97       150\n",
      "             GRP_6       0.90      0.84      0.87       150\n",
      "            GRP_60       0.84      1.00      0.91       150\n",
      "            GRP_62       0.79      0.78      0.78       150\n",
      "            GRP_65       0.98      0.98      0.98       150\n",
      "             GRP_7       0.65      0.99      0.78       150\n",
      "             GRP_8       0.93      0.87      0.90       455\n",
      "             GRP_9       0.95      0.24      0.38       150\n",
      "GRP_MonitoringTool       1.00      1.00      1.00      1427\n",
      "\n",
      "          accuracy                           0.81     12376\n",
      "         macro avg       0.81      0.84      0.81     12376\n",
      "      weighted avg       0.83      0.81      0.81     12376\n",
      "\n"
     ]
    }
   ],
   "source": [
    "# Train the network and run classification\n",
    "model_CNN = Build_Model_CNN_Text(word_index,embedding_matrix, 56)\n",
    "run_classification(model_CNN, X_train_Glove, X_test_Glove, y_train, y_test,pipelineRequired = False,isDeepModel=True, arch_name='CNN')"
   ]
  },
  {
   "cell_type": "markdown",
   "metadata": {
    "id": "sMu2ONzLQWrP"
   },
   "source": [
    "## Recurrent Neural Networks (RNN) --> Gated Recurrent Unit (GRU)"
   ]
  },
  {
   "cell_type": "code",
   "execution_count": 36,
   "metadata": {
    "id": "grFaHdizQWrP"
   },
   "outputs": [],
   "source": [
    "def Build_Model_RNN_Text(word_index, embeddings_matrix, nclasses,dropout=0.5):\n",
    "    model = Sequential()\n",
    "    hidden_layer = 3\n",
    "    gru_node = 128\n",
    "    model.add(Input(shape=(MAX_SEQUENCE_LENGTH,),dtype='int64'))\n",
    "    model.add(Embedding(len(word_index) + 1,\n",
    "                                EMBEDDING_DIM,\n",
    "                                weights=[embeddings_matrix],\n",
    "                                input_length=MAX_SEQUENCE_LENGTH,\n",
    "                                trainable=True))\n",
    "    #print(gru_node)\n",
    "    '''for i in range(0,hidden_layer):\n",
    "        model.add(GRU(gru_node,return_sequences=True, recurrent_dropout=0.2))\n",
    "        model.add(Dropout(dropout))\n",
    "        model.add(BatchNormalization())'''\n",
    "    model.add(GRU(gru_node))\n",
    "    model.add(Dropout(0.3))\n",
    "    #model.add(BatchNormalization())\n",
    "    model.add(Dense(100, activation='relu'))\n",
    "    #model.add(BatchNormalization())\n",
    "    model.add(Dense(nclasses, activation='softmax'))\n",
    "    model.compile(loss='sparse_categorical_crossentropy',\n",
    "                      optimizer='adam',\n",
    "                      metrics=['accuracy'])\n",
    "    \n",
    "    print(model.summary())\n",
    "    return model"
   ]
  },
  {
   "cell_type": "code",
   "execution_count": 37,
   "metadata": {
    "colab": {
     "base_uri": "https://localhost:8080/",
     "height": 1000
    },
    "id": "GlNeKO-3QWrP",
    "outputId": "ce50c770-6109-4da9-8be2-62ff1f87ea07"
   },
   "outputs": [
    {
     "name": "stdout",
     "output_type": "stream",
     "text": [
      "Model: \"sequential_4\"\n",
      "_________________________________________________________________\n",
      "Layer (type)                 Output Shape              Param #   \n",
      "=================================================================\n",
      "embedding_4 (Embedding)      (None, 500, 200)          8987400   \n",
      "_________________________________________________________________\n",
      "gru (GRU)                    (None, 128)               126336    \n",
      "_________________________________________________________________\n",
      "dropout_8 (Dropout)          (None, 128)               0         \n",
      "_________________________________________________________________\n",
      "dense_8 (Dense)              (None, 100)               12900     \n",
      "_________________________________________________________________\n",
      "dense_9 (Dense)              (None, 56)                5656      \n",
      "=================================================================\n",
      "Total params: 9,132,292\n",
      "Trainable params: 9,132,292\n",
      "Non-trainable params: 0\n",
      "_________________________________________________________________\n",
      "None\n",
      "WARNING:tensorflow:`period` argument is deprecated. Please use `save_freq` to specify the frequency in number of samples seen.\n",
      "Train on 28876 samples, validate on 12376 samples\n",
      "Epoch 1/25\n",
      "28800/28876 [============================>.] - ETA: 0s - loss: 2.5796 - acc: 0.3651\n",
      "Epoch 00001: val_loss improved from inf to 1.45658, saving model to Weights/RNN_epoch01_loss1.4566.h5\n",
      "28876/28876 [==============================] - 151s 5ms/sample - loss: 2.5765 - acc: 0.3659 - val_loss: 1.4566 - val_acc: 0.6045\n",
      "Epoch 2/25\n",
      "28800/28876 [============================>.] - ETA: 0s - loss: 1.0227 - acc: 0.7143\n",
      "Epoch 00002: val_loss improved from 1.45658 to 0.69656, saving model to Weights/RNN_epoch02_loss0.6966.h5\n",
      "28876/28876 [==============================] - 153s 5ms/sample - loss: 1.0214 - acc: 0.7147 - val_loss: 0.6966 - val_acc: 0.8021\n",
      "Epoch 3/25\n",
      "28800/28876 [============================>.] - ETA: 0s - loss: 0.4614 - acc: 0.8705\n",
      "Epoch 00003: val_loss improved from 0.69656 to 0.44992, saving model to Weights/RNN_epoch03_loss0.4499.h5\n",
      "28876/28876 [==============================] - 150s 5ms/sample - loss: 0.4616 - acc: 0.8704 - val_loss: 0.4499 - val_acc: 0.8707\n",
      "Epoch 4/25\n",
      "28800/28876 [============================>.] - ETA: 0s - loss: 0.2292 - acc: 0.9359\n",
      "Epoch 00004: val_loss improved from 0.44992 to 0.36084, saving model to Weights/RNN_epoch04_loss0.3608.h5\n",
      "28876/28876 [==============================] - 148s 5ms/sample - loss: 0.2291 - acc: 0.9360 - val_loss: 0.3608 - val_acc: 0.9034\n",
      "Epoch 5/25\n",
      "28800/28876 [============================>.] - ETA: 0s - loss: 0.1282 - acc: 0.9654\n",
      "Epoch 00005: val_loss improved from 0.36084 to 0.31245, saving model to Weights/RNN_epoch05_loss0.3125.h5\n",
      "28876/28876 [==============================] - 147s 5ms/sample - loss: 0.1282 - acc: 0.9654 - val_loss: 0.3125 - val_acc: 0.9172\n",
      "Epoch 6/25\n",
      "28800/28876 [============================>.] - ETA: 0s - loss: 0.0782 - acc: 0.9800\n",
      "Epoch 00006: val_loss improved from 0.31245 to 0.29905, saving model to Weights/RNN_epoch06_loss0.2991.h5\n",
      "28876/28876 [==============================] - 146s 5ms/sample - loss: 0.0782 - acc: 0.9799 - val_loss: 0.2991 - val_acc: 0.9235\n",
      "Epoch 7/25\n",
      "28800/28876 [============================>.] - ETA: 0s - loss: 0.0538 - acc: 0.9871\n",
      "Epoch 00007: val_loss did not improve from 0.29905\n",
      "28876/28876 [==============================] - 148s 5ms/sample - loss: 0.0537 - acc: 0.9871 - val_loss: 0.3023 - val_acc: 0.9257\n",
      "Epoch 8/25\n",
      "28800/28876 [============================>.] - ETA: 0s - loss: 0.0401 - acc: 0.9898\n",
      "Epoch 00008: val_loss did not improve from 0.29905\n",
      "28876/28876 [==============================] - 145s 5ms/sample - loss: 0.0401 - acc: 0.9899 - val_loss: 0.3064 - val_acc: 0.9262\n",
      "Epoch 9/25\n",
      "28800/28876 [============================>.] - ETA: 0s - loss: 0.0326 - acc: 0.9921\n",
      "Epoch 00009: val_loss did not improve from 0.29905\n",
      "28876/28876 [==============================] - 149s 5ms/sample - loss: 0.0325 - acc: 0.9921 - val_loss: 0.3236 - val_acc: 0.9263\n",
      "Estimator: <tensorflow.python.keras.engine.sequential.Sequential object at 0x7f3b3ed4b390>\n",
      "================================================================================\n",
      "Training accuracy: 99.58%\n",
      "Testing accuracy: 92.63%\n",
      "================================================================================\n",
      "Confusion matrix:\n",
      " [[ 711    0    5 ...    1    2    0]\n",
      " [   0  150    0 ...    0    0    0]\n",
      " [   0    0  144 ...    0    0    0]\n",
      " ...\n",
      " [   0    5    0 ...  424    3    0]\n",
      " [   3    0    0 ...    6  134    0]\n",
      " [   0    0    0 ...    0    0 1427]]\n",
      "================================================================================\n",
      "Classification report:\n",
      "                     precision    recall  f1-score   support\n",
      "\n",
      "             GRP_0       0.82      0.74      0.78       957\n",
      "             GRP_1       0.94      1.00      0.97       150\n",
      "            GRP_10       0.93      0.96      0.94       150\n",
      "            GRP_11       0.97      0.97      0.97       150\n",
      "            GRP_12       0.94      0.88      0.91       426\n",
      "            GRP_13       0.95      0.90      0.93       254\n",
      "            GRP_14       0.72      0.88      0.79       206\n",
      "            GRP_15       0.95      0.98      0.96       150\n",
      "            GRP_16       0.92      0.84      0.88       153\n",
      "            GRP_17       1.00      1.00      1.00       150\n",
      "            GRP_18       0.83      0.93      0.88       153\n",
      "            GRP_19       0.81      0.82      0.81       384\n",
      "             GRP_2       0.75      0.90      0.82       357\n",
      "            GRP_20       0.97      0.97      0.97       150\n",
      "            GRP_21       0.97      0.97      0.97       150\n",
      "            GRP_22       0.95      0.97      0.96       150\n",
      "            GRP_23       0.97      0.99      0.98       150\n",
      "            GRP_24       0.94      0.93      0.93       504\n",
      "            GRP_25       0.93      0.89      0.91       201\n",
      "            GRP_26       0.96      0.96      0.96       150\n",
      "            GRP_27       0.98      0.98      0.98       150\n",
      "            GRP_28       0.89      0.93      0.91       150\n",
      "            GRP_29       0.90      0.88      0.89       170\n",
      "             GRP_3       0.86      0.79      0.82       359\n",
      "            GRP_30       0.91      0.95      0.93       150\n",
      "            GRP_31       0.94      0.86      0.90       150\n",
      "            GRP_33       0.86      0.87      0.86       192\n",
      "            GRP_34       0.95      0.85      0.90       150\n",
      "            GRP_36       0.96      1.00      0.98       150\n",
      "            GRP_37       0.97      0.99      0.98       150\n",
      "            GRP_39       0.96      1.00      0.98       150\n",
      "             GRP_4       0.92      0.79      0.85       178\n",
      "            GRP_40       0.97      0.96      0.97       150\n",
      "            GRP_41       0.93      0.99      0.96       150\n",
      "            GRP_42       0.91      0.93      0.92       150\n",
      "            GRP_43       0.99      1.00      1.00       150\n",
      "            GRP_44       0.97      1.00      0.99       150\n",
      "            GRP_45       0.91      0.99      0.95       150\n",
      "            GRP_46       0.99      1.00      1.00       150\n",
      "            GRP_47       0.97      1.00      0.99       150\n",
      "            GRP_48       0.97      0.98      0.98       150\n",
      "            GRP_49       1.00      1.00      1.00       150\n",
      "             GRP_5       0.97      0.97      0.97       150\n",
      "            GRP_50       0.95      1.00      0.97       150\n",
      "            GRP_51       1.00      1.00      1.00       150\n",
      "            GRP_52       1.00      1.00      1.00       150\n",
      "            GRP_53       0.98      1.00      0.99       150\n",
      "            GRP_59       1.00      1.00      1.00       150\n",
      "             GRP_6       0.93      0.91      0.92       150\n",
      "            GRP_60       1.00      1.00      1.00       150\n",
      "            GRP_62       0.99      0.92      0.95       150\n",
      "            GRP_65       0.99      1.00      0.99       150\n",
      "             GRP_7       0.95      0.94      0.94       150\n",
      "             GRP_8       0.91      0.93      0.92       455\n",
      "             GRP_9       0.89      0.89      0.89       150\n",
      "GRP_MonitoringTool       1.00      1.00      1.00      1427\n",
      "\n",
      "          accuracy                           0.93     12376\n",
      "         macro avg       0.94      0.94      0.94     12376\n",
      "      weighted avg       0.93      0.93      0.93     12376\n",
      "\n"
     ]
    },
    {
     "data": {
      "image/png": "[encoded data removed]",
      "text/plain": [
       "<Figure size 432x288 with 1 Axes>"
      ]
     },
     "metadata": {
      "needs_background": "light",
      "tags": []
     },
     "output_type": "display_data"
    },
    {
     "data": {
      "image/png": "[encoded data removed]",
      "text/plain": [
       "<Figure size 432x288 with 1 Axes>"
      ]
     },
     "metadata": {
      "needs_background": "light",
      "tags": []
     },
     "output_type": "display_data"
    }
   ],
   "source": [
    "# Train the network and run classification\n",
    "model_RNN = Build_Model_RNN_Text(word_index,embedding_matrix, 56)\n",
    "run_classification(model_RNN, X_train_Glove, X_test_Glove, y_train, y_test,pipelineRequired = False,isDeepModel=True, arch_name='RNN')"
   ]
  },
  {
   "cell_type": "markdown",
   "metadata": {
    "id": "MVAZo1u8QWrP"
   },
   "source": [
    "## RNN with Bidirectional LSTM network"
   ]
  },
  {
   "cell_type": "code",
   "execution_count": 34,
   "metadata": {
    "id": "gtFjAJ4oQWrQ"
   },
   "outputs": [],
   "source": [
    "EMBEDDING_DIM = 200\n",
    "#gloveFileName = 'glove.6B/glove.6B.100d.txt'\n",
    "gloveFileName = '/content/glove.6B/glove.6B.200d.txt'\n",
    "\n",
    "def Build_Model_LTSM_Text(word_index, embeddings_matrix, nclasses):\n",
    "    kernel_size = 10\n",
    "    filters = 100\n",
    "    pool_size = 2\n",
    "    gru_node = 128\n",
    "    \n",
    "    model = Sequential()\n",
    "    model.add(Input(shape=(MAX_SEQUENCE_LENGTH,),dtype='int64'))\n",
    "    model.add(Embedding(len(word_index) + 1,\n",
    "                                EMBEDDING_DIM,\n",
    "                                weights=[embeddings_matrix],\n",
    "                                input_length=MAX_SEQUENCE_LENGTH,\n",
    "                                trainable=True))\n",
    "    #model.add(Dropout(0.25))\n",
    "    model.add(Conv1D(filters, kernel_size, activation='relu'))\n",
    "    model.add(MaxPooling1D(pool_size=pool_size))\n",
    "    model.add(Dropout(0.3))\n",
    "    model.add(Conv1D(filters, kernel_size, activation='relu'))\n",
    "    model.add(MaxPooling1D(pool_size=pool_size))\n",
    "    #model.add(Conv1D(filters, kernel_size, activation='relu'))\n",
    "    #model.add(MaxPooling1D(pool_size=pool_size))\n",
    "    #model.add(Conv1D(filters, kernel_size, activation='relu'))\n",
    "    #model.add(MaxPooling1D(pool_size=pool_size))\n",
    "    model.add(Bidirectional(LSTM(gru_node)))\n",
    "    #model.add(Bidirectional(LSTM(gru_node, return_sequences=True, recurrent_dropout=0.2)))\n",
    "    #model.add(Bidirectional(LSTM(gru_node, return_sequences=True, recurrent_dropout=0.2)))\n",
    "    #model.add(Bidirectional(LSTM(gru_node, recurrent_dropout=0.2)))\n",
    "    model.add(Dropout(0.3))\n",
    "    model.add(Dense(100,activation='relu'))\n",
    "    model.add(Dense(nclasses,activation='softmax'))\n",
    "    #model.add(Activation('softmax'))\n",
    "    model.compile(loss='sparse_categorical_crossentropy',\n",
    "                  optimizer='adam',\n",
    "                  metrics=['accuracy'])\n",
    "    \n",
    "    print(model.summary())\n",
    "    return model"
   ]
  },
  {
   "cell_type": "code",
   "execution_count": 35,
   "metadata": {
    "colab": {
     "base_uri": "https://localhost:8080/",
     "height": 1000
    },
    "id": "u0973kvsQWrQ",
    "outputId": "e3554964-6d6f-4cd1-eee9-18817e539275"
   },
   "outputs": [
    {
     "name": "stdout",
     "output_type": "stream",
     "text": [
      "Found 44936 unique tokens.\n",
      "(41252, 500)\n",
      "Total 400001 word vectors.\n",
      "Model: \"sequential_3\"\n",
      "_________________________________________________________________\n",
      "Layer (type)                 Output Shape              Param #   \n",
      "=================================================================\n",
      "embedding_3 (Embedding)      (None, 500, 200)          8987400   \n",
      "_________________________________________________________________\n",
      "conv1d_6 (Conv1D)            (None, 491, 100)          200100    \n",
      "_________________________________________________________________\n",
      "max_pooling1d_6 (MaxPooling1 (None, 245, 100)          0         \n",
      "_________________________________________________________________\n",
      "dropout_6 (Dropout)          (None, 245, 100)          0         \n",
      "_________________________________________________________________\n",
      "conv1d_7 (Conv1D)            (None, 236, 100)          100100    \n",
      "_________________________________________________________________\n",
      "max_pooling1d_7 (MaxPooling1 (None, 118, 100)          0         \n",
      "_________________________________________________________________\n",
      "bidirectional_3 (Bidirection (None, 256)               234496    \n",
      "_________________________________________________________________\n",
      "dropout_7 (Dropout)          (None, 256)               0         \n",
      "_________________________________________________________________\n",
      "dense_6 (Dense)              (None, 100)               25700     \n",
      "_________________________________________________________________\n",
      "dense_7 (Dense)              (None, 56)                5656      \n",
      "=================================================================\n",
      "Total params: 9,553,452\n",
      "Trainable params: 9,553,452\n",
      "Non-trainable params: 0\n",
      "_________________________________________________________________\n",
      "None\n",
      "WARNING:tensorflow:`period` argument is deprecated. Please use `save_freq` to specify the frequency in number of samples seen.\n",
      "WARNING:tensorflow:From /tensorflow-1.15.2/python3.6/tensorflow_core/python/ops/math_grad.py:1424: where (from tensorflow.python.ops.array_ops) is deprecated and will be removed in a future version.\n",
      "Instructions for updating:\n",
      "Use tf.where in 2.0, which has the same broadcast rule as np.where\n",
      "Train on 28876 samples, validate on 12376 samples\n",
      "Epoch 1/25\n",
      "28800/28876 [============================>.] - ETA: 0s - loss: 3.0725 - acc: 0.2474\n",
      "Epoch 00001: val_loss improved from inf to 2.28253, saving model to Weights/LSTM_epoch01_loss2.2825.h5\n",
      "28876/28876 [==============================] - 99s 3ms/sample - loss: 3.0717 - acc: 0.2475 - val_loss: 2.2825 - val_acc: 0.3963\n",
      "Epoch 2/25\n",
      "28800/28876 [============================>.] - ETA: 0s - loss: 1.8524 - acc: 0.4787\n",
      "Epoch 00002: val_loss improved from 2.28253 to 1.40407, saving model to Weights/LSTM_epoch02_loss1.4041.h5\n",
      "28876/28876 [==============================] - 90s 3ms/sample - loss: 1.8516 - acc: 0.4789 - val_loss: 1.4041 - val_acc: 0.5814\n",
      "Epoch 3/25\n",
      "28800/28876 [============================>.] - ETA: 0s - loss: 1.0685 - acc: 0.6768\n",
      "Epoch 00003: val_loss improved from 1.40407 to 0.88023, saving model to Weights/LSTM_epoch03_loss0.8802.h5\n",
      "28876/28876 [==============================] - 89s 3ms/sample - loss: 1.0690 - acc: 0.6767 - val_loss: 0.8802 - val_acc: 0.7485\n",
      "Epoch 4/25\n",
      "28800/28876 [============================>.] - ETA: 0s - loss: 0.6506 - acc: 0.8038\n",
      "Epoch 00004: val_loss improved from 0.88023 to 0.68736, saving model to Weights/LSTM_epoch04_loss0.6874.h5\n",
      "28876/28876 [==============================] - 89s 3ms/sample - loss: 0.6502 - acc: 0.8040 - val_loss: 0.6874 - val_acc: 0.8001\n",
      "Epoch 5/25\n",
      "28800/28876 [============================>.] - ETA: 0s - loss: 0.4216 - acc: 0.8718\n",
      "Epoch 00005: val_loss improved from 0.68736 to 0.52800, saving model to Weights/LSTM_epoch05_loss0.5280.h5\n",
      "28876/28876 [==============================] - 88s 3ms/sample - loss: 0.4211 - acc: 0.8720 - val_loss: 0.5280 - val_acc: 0.8493\n",
      "Epoch 6/25\n",
      "28800/28876 [============================>.] - ETA: 0s - loss: 0.2893 - acc: 0.9125\n",
      "Epoch 00006: val_loss improved from 0.52800 to 0.47835, saving model to Weights/LSTM_epoch06_loss0.4783.h5\n",
      "28876/28876 [==============================] - 91s 3ms/sample - loss: 0.2891 - acc: 0.9126 - val_loss: 0.4783 - val_acc: 0.8690\n",
      "Epoch 7/25\n",
      "28800/28876 [============================>.] - ETA: 0s - loss: 0.1992 - acc: 0.9413\n",
      "Epoch 00007: val_loss improved from 0.47835 to 0.46341, saving model to Weights/LSTM_epoch07_loss0.4634.h5\n",
      "28876/28876 [==============================] - 87s 3ms/sample - loss: 0.1995 - acc: 0.9412 - val_loss: 0.4634 - val_acc: 0.8795\n",
      "Epoch 8/25\n",
      "28800/28876 [============================>.] - ETA: 0s - loss: 0.1599 - acc: 0.9511\n",
      "Epoch 00008: val_loss did not improve from 0.46341\n",
      "28876/28876 [==============================] - 87s 3ms/sample - loss: 0.1600 - acc: 0.9511 - val_loss: 0.4844 - val_acc: 0.8772\n",
      "Epoch 9/25\n",
      "28800/28876 [============================>.] - ETA: 0s - loss: 0.1262 - acc: 0.9615\n",
      "Epoch 00009: val_loss improved from 0.46341 to 0.44831, saving model to Weights/LSTM_epoch09_loss0.4483.h5\n",
      "28876/28876 [==============================] - 89s 3ms/sample - loss: 0.1265 - acc: 0.9614 - val_loss: 0.4483 - val_acc: 0.8912\n",
      "Epoch 10/25\n",
      "28800/28876 [============================>.] - ETA: 0s - loss: 0.1178 - acc: 0.9645\n",
      "Epoch 00010: val_loss improved from 0.44831 to 0.43892, saving model to Weights/LSTM_epoch10_loss0.4389.h5\n",
      "28876/28876 [==============================] - 87s 3ms/sample - loss: 0.1176 - acc: 0.9646 - val_loss: 0.4389 - val_acc: 0.8969\n",
      "Epoch 11/25\n",
      "28800/28876 [============================>.] - ETA: 0s - loss: 0.0970 - acc: 0.9703\n",
      "Epoch 00011: val_loss did not improve from 0.43892\n",
      "28876/28876 [==============================] - 89s 3ms/sample - loss: 0.0969 - acc: 0.9704 - val_loss: 0.4695 - val_acc: 0.8944\n",
      "Epoch 12/25\n",
      "28800/28876 [============================>.] - ETA: 0s - loss: 0.0907 - acc: 0.9729\n",
      "Epoch 00012: val_loss did not improve from 0.43892\n",
      "28876/28876 [==============================] - 87s 3ms/sample - loss: 0.0906 - acc: 0.9730 - val_loss: 0.4645 - val_acc: 0.8975\n",
      "Estimator: <tensorflow.python.keras.engine.sequential.Sequential object at 0x7f3abeda8cf8>\n",
      "================================================================================\n",
      "Training accuracy: 99.05%\n",
      "Testing accuracy: 89.75%\n",
      "================================================================================\n",
      "Confusion matrix:\n",
      " [[ 690    0    1 ...    1    6    0]\n",
      " [   0  147    0 ...    0    0    0]\n",
      " [   0    0  134 ...    0    0    0]\n",
      " ...\n",
      " [   0    1    0 ...  412    0    0]\n",
      " [   7    0    1 ...    4  122    0]\n",
      " [   1    0    0 ...    0    0 1421]]\n",
      "================================================================================\n",
      "Classification report:\n",
      "                     precision    recall  f1-score   support\n",
      "\n",
      "             GRP_0       0.81      0.72      0.76       957\n",
      "             GRP_1       0.98      0.98      0.98       150\n",
      "            GRP_10       0.84      0.89      0.86       150\n",
      "            GRP_11       0.91      0.98      0.94       150\n",
      "            GRP_12       0.93      0.79      0.85       426\n",
      "            GRP_13       0.85      0.87      0.86       254\n",
      "            GRP_14       0.78      0.76      0.77       206\n",
      "            GRP_15       0.97      0.94      0.96       150\n",
      "            GRP_16       0.65      0.83      0.73       153\n",
      "            GRP_17       0.96      0.99      0.98       150\n",
      "            GRP_18       0.88      0.75      0.81       153\n",
      "            GRP_19       0.70      0.76      0.73       384\n",
      "             GRP_2       0.76      0.80      0.78       357\n",
      "            GRP_20       0.91      0.98      0.95       150\n",
      "            GRP_21       0.93      0.95      0.94       150\n",
      "            GRP_22       0.99      0.91      0.95       150\n",
      "            GRP_23       0.96      0.96      0.96       150\n",
      "            GRP_24       0.97      0.87      0.92       504\n",
      "            GRP_25       0.80      0.89      0.84       201\n",
      "            GRP_26       0.94      0.89      0.91       150\n",
      "            GRP_27       0.97      0.99      0.98       150\n",
      "            GRP_28       0.77      0.87      0.82       150\n",
      "            GRP_29       0.70      0.81      0.75       170\n",
      "             GRP_3       0.70      0.82      0.76       359\n",
      "            GRP_30       0.99      0.86      0.92       150\n",
      "            GRP_31       0.92      0.80      0.86       150\n",
      "            GRP_33       0.77      0.80      0.78       192\n",
      "            GRP_34       0.80      0.82      0.81       150\n",
      "            GRP_36       0.95      0.99      0.97       150\n",
      "            GRP_37       0.98      1.00      0.99       150\n",
      "            GRP_39       0.97      1.00      0.98       150\n",
      "             GRP_4       0.84      0.77      0.80       178\n",
      "            GRP_40       0.94      0.92      0.93       150\n",
      "            GRP_41       0.92      0.96      0.94       150\n",
      "            GRP_42       0.92      0.91      0.92       150\n",
      "            GRP_43       1.00      1.00      1.00       150\n",
      "            GRP_44       0.99      1.00      1.00       150\n",
      "            GRP_45       0.97      0.99      0.98       150\n",
      "            GRP_46       1.00      1.00      1.00       150\n",
      "            GRP_47       0.98      1.00      0.99       150\n",
      "            GRP_48       0.99      0.97      0.98       150\n",
      "            GRP_49       0.99      1.00      1.00       150\n",
      "             GRP_5       0.97      0.99      0.98       150\n",
      "            GRP_50       1.00      1.00      1.00       150\n",
      "            GRP_51       0.98      1.00      0.99       150\n",
      "            GRP_52       1.00      1.00      1.00       150\n",
      "            GRP_53       0.99      1.00      1.00       150\n",
      "            GRP_59       0.99      1.00      0.99       150\n",
      "             GRP_6       0.91      0.84      0.87       150\n",
      "            GRP_60       0.98      1.00      0.99       150\n",
      "            GRP_62       0.80      0.96      0.87       150\n",
      "            GRP_65       0.96      1.00      0.98       150\n",
      "             GRP_7       0.91      0.91      0.91       150\n",
      "             GRP_8       0.94      0.91      0.92       455\n",
      "             GRP_9       0.81      0.81      0.81       150\n",
      "GRP_MonitoringTool       1.00      1.00      1.00      1427\n",
      "\n",
      "          accuracy                           0.90     12376\n",
      "         macro avg       0.91      0.91      0.91     12376\n",
      "      weighted avg       0.90      0.90      0.90     12376\n",
      "\n"
     ]
    },
    {
     "data": {
      "image/png": "[encoded data removed]",
      "text/plain": [
       "<Figure size 432x288 with 1 Axes>"
      ]
     },
     "metadata": {
      "needs_background": "light",
      "tags": []
     },
     "output_type": "display_data"
    },
    {
     "data": {
      "image/png": "[encoded data removed]",
      "text/plain": [
       "<Figure size 432x288 with 1 Axes>"
      ]
     },
     "metadata": {
      "needs_background": "light",
      "tags": []
     },
     "output_type": "display_data"
    }
   ],
   "source": [
    "X_train_Glove,X_test_Glove, word_index,embeddings_index = loadData_Tokenizer(X_train,X_test,gloveFileName)\n",
    "embedding_matrix = buildEmbed_matrices(word_index,EMBEDDING_DIM)\n",
    "\n",
    "model_LTSM = Build_Model_LTSM_Text(word_index,embedding_matrix, 56                                                                                                                                                                        )\n",
    "run_classification(model_LTSM, X_train_Glove, X_test_Glove, y_train, y_test,pipelineRequired = False,isDeepModel=True, arch_name='LSTM')"
   ]
  }
 ],
 "metadata": {
  "accelerator": "GPU",
  "colab": {
   "collapsed_sections": [],
   "name": "3rdJan2021_updated.ipynb",
   "provenance": []
  },
  "kernelspec": {
   "display_name": "Python 3",
   "language": "python",
   "name": "python3"
  },
  "language_info": {
   "codemirror_mode": {
    "name": "ipython",
    "version": 3
   },
   "file_extension": ".py",
   "mimetype": "text/x-python",
   "name": "python",
   "nbconvert_exporter": "python",
   "pygments_lexer": "ipython3",
   "version": "3.6.10"
  }
 },
 "nbformat": 4,
 "nbformat_minor": 1
}
